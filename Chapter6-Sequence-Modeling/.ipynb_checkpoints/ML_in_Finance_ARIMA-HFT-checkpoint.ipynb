{
 "cells": [
  {
   "cell_type": "code",
   "execution_count": null,
   "metadata": {},
   "outputs": [],
   "source": [
    "# ML_in_Finance_ARIMA-HFT\n",
    "# Author: Matthew Dixon\n",
    "# Version: 1.0 (24.7.2019)\n",
    "# License: MIT\n",
    "# Email: matthew.dixon@iit.edu\n",
    "# Notes: tested on Mac OS X with Python 3.6 and Tensorflow 1.3.0\n",
    "# Citation: Please cite the following reference if this notebook is used for research purposes:\n",
    "# Dixon M.F., I. Halperin and P. Bilokon, Machine Learning in Finance: From Theory to Practice, Springer Graduate textbook Series, 2020. "
   ]
  },
  {
   "cell_type": "markdown",
   "metadata": {},
   "source": [
    "# Overview\n",
    "The purpose of this notebook is to demonstrate the application of ARIMA time series modeling to high frequency data. The model predicts changes in the VWAP (volume weighted average prices) based on historical observations of the VWMAP and an exogenous variable, the current Order Flow Imbalance (OFI). See https://arxiv.org/abs/1011.6402 for more details on OFI.\n",
    "\n",
    "The notebook describes many of the steps in Chapter 6 on applying the Dickey-Fuller test to establish stationarity of the endogenous series, followed by use of the ACF and PACF to identify the ARIMA model order. Typically, addition diagnostic tests are performed on the model residual but omitted here. Instead we simply compare the forecast with the actual VWAP change."
   ]
  },
  {
   "cell_type": "code",
   "execution_count": 1,
   "metadata": {},
   "outputs": [],
   "source": [
    "import matplotlib.pyplot as plt\n",
    "import numpy as np\n",
    "import pandas as pd\n",
    "import matplotlib.pyplot as plt\n",
    "import statsmodels.api as sm\n",
    "from ofi import *\n",
    "from statsmodels.regression.linear_model import OLS\n",
    "\n",
    "%matplotlib inline\n",
    "plt.rcParams['figure.figsize'] = (12, 9)"
   ]
  },
  {
   "cell_type": "markdown",
   "metadata": {},
   "source": [
    "Load the data"
   ]
  },
  {
   "cell_type": "code",
   "execution_count": 61,
   "metadata": {},
   "outputs": [
    {
     "data": {
      "text/plain": [
       "<matplotlib.axes._subplots.AxesSubplot at 0x1c1a3cf5c0>"
      ]
     },
     "execution_count": 61,
     "metadata": {},
     "output_type": "execute_result"
    },
    {
     "data": {
      "image/png": "[encoded data removed]",
      "text/plain": [
       "<Figure size 432x288 with 1 Axes>"
      ]
     },
     "metadata": {},
     "output_type": "display_data"
    }
   ],
   "source": [
    "sp500quotes = pd.read_pickle('../data/09012013_quotes.pickle')\n",
    "time_as_index(sp500quotes)\n",
    "\n",
    "sp500ofi = ofi(sp500quotes['Bid Size'], sp500quotes['Ask Size'],\n",
    "               sp500quotes['Bid Price'], sp500quotes['Ask Price'])\n",
    "sp500smart = smart_price(sp500quotes['Bid Price'], sp500quotes['Bid Size'], sp500quotes['Ask Price'], sp500quotes['Ask Size'])\n",
    "\n",
    "sp500smart_diff = sp500smart.diff(1)\n",
    "pd.concat([sp500ofi, sp500smart_diff], axis=1).plot(kind='scatter', x='OFI', y='VWAP', alpha=0.1)"
   ]
  },
  {
   "cell_type": "markdown",
   "metadata": {},
   "source": [
    "### Stationarity\n",
    "It is essential to determine whether the time series is \"stationary\". Informally, stationarity is when the auto-covariance is independent of time. Failure to establish stationarity will almost certainly lead to misinterpretation of model identification and diagnostics tests. Moreover, stationarity is decisive in characterizing the prediction problem and whether to use a more advanced architecture. In particular, we can expect a plain RNN to perform poorly if the data is non-stationary as the RNN exhibits fixed auto-covariance. \n",
    "\n",
    "We perform an Augmented Dickey-Fuller test to establish stationarity under the assumption that the time series has a constant bias but does not exhibit a time trend. In other words, we assume that the time series is already de-trended. \n",
    "\n",
    "If the stationarity test fails, even after first de-trending the time series, then one potential recourse is to simply take differences of time series and predict $\\Delta y_t$."
   ]
  },
  {
   "cell_type": "markdown",
   "metadata": {},
   "source": [
    "The null hypothesis of the Augmented Dickey-Fuller is that there is a unit root, with the alternative that there is no unit root. If the p-value is above $(1-\\alpha)$, then we cannot reject that there is a unit root. Note that a subset of the time series is used to reduce the computation time of the test. Test separately on both the dependent and the independent variable."
   ]
  },
  {
   "cell_type": "code",
   "execution_count": 60,
   "metadata": {},
   "outputs": [],
   "source": [
    "sample = sp500smart_diff[1:]\n",
    "adf, p, usedlag, nobs, cvs, aic = sm.tsa.stattools.adfuller(sample)"
   ]
  },
  {
   "cell_type": "code",
   "execution_count": 62,
   "metadata": {},
   "outputs": [
    {
     "name": "stdout",
     "output_type": "stream",
     "text": [
      "ADF: -51.65350270603819\n",
      "p-value: 0.0,\n",
      "N: 82102, \n",
      "critical values: {'1%': -3.4304296509764045, '5%': -2.861575204399113, '10%': -2.566788738084499}\n"
     ]
    }
   ],
   "source": [
    "adf_results_string = 'ADF: {}\\np-value: {},\\nN: {}, \\ncritical values: {}'\n",
    "print(adf_results_string.format(adf, p, nobs, cvs))"
   ]
  },
  {
   "cell_type": "markdown",
   "metadata": {},
   "source": [
    "We reject the Null hypothesis at the 99% level - the difference in smart prices contain no unit roots and are stationary."
   ]
  },
  {
   "cell_type": "markdown",
   "metadata": {},
   "source": [
    "## Determine the order p of the AR model from the PACF plot"
   ]
  },
  {
   "cell_type": "markdown",
   "metadata": {},
   "source": [
    "#### Autoregressive Model Identification: The partial auto-correlation\n",
    "It is important to determine the number of lags, the sequence length, required in the RNN by statistical analysis. A brute-force approach will in general be too time-consuming.\n",
    "\n",
    "A partial auto-correlation at lag $h\\geq 2$ is a conditional auto-correlation between a variable, $X_t$, and its $h^{th}$ lag, $X_{t-h}$ under the assumption that we control for the values of the intermediate lags, $X_{t-1},\\dots, X_{t-h+1}$:\n",
    "\n",
    "$$\\begin{align}\\tau_h&:=\\tau(X_t, X_{t-h}; X_{t-1},\\dots, X_{t-h+1})\\\\\n",
    "&:=\\frac{\\gamma(X_t, X_{t-h}; X_{t-1},\\dots, X_{t-h+1})}{\\sqrt{\\gamma(X_t |X_{t-1},\\dots, X_{t-h+1})\\gamma(X_{t-h} |X_{t-1},\\dots, X_{t-h+1}))}}\n",
    ",\\end{align}$$\n",
    "where $\\gamma_h:=\\gamma(X_tX_{t-h})$ is the lag-$h$ autocovariance. The partial autocorrelation function $\\tau_h:\\mathbb{N} \\rightarrow [-1,1]$ is a map $h:\\mapsto \\tau_h$.\n",
    "\n",
    "The estimated partial auto-correlation function (PACF) can be used to identify the order of an autoregressive time series model. Values of $|\\tau_h|$ greater or equal to $\\frac{\\Phi^{-1}(\\alpha)}{\\sqrt{T}}$, where $T$ is the number of observations and $\\Phi(z)$ is the standard normal CDF, are significant lag $h$ partial autocorelations at the $\\alpha$ confidence level.\n",
    "\n",
    "We use the stattools package to estimat the PACF. The `nlags` parameter is the maximum number of lags used for PACF estimation of the endogeneous variable - SP500 mid-prices. "
   ]
  },
  {
   "cell_type": "code",
   "execution_count": 69,
   "metadata": {},
   "outputs": [],
   "source": [
    "pacf = sm.tsa.stattools.pacf(sp500smart_diff[1:], nlags=30)"
   ]
  },
  {
   "cell_type": "markdown",
   "metadata": {},
   "source": [
    "Since $\\Phi^{-1}(0.99) \\simeq 2.58$:"
   ]
  },
  {
   "cell_type": "code",
   "execution_count": 70,
   "metadata": {},
   "outputs": [],
   "source": [
    "T = len(sp500smart_diff)\n",
    "\n",
    "sig_test = lambda tau_h: np.abs(tau_h) > 2.58/np.sqrt(T)"
   ]
  },
  {
   "cell_type": "markdown",
   "metadata": {},
   "source": [
    "We find the first lag which isn't significant at the 99% level and automatically determine the number of lags needed in our autoregressive model as one below this value."
   ]
  },
  {
   "cell_type": "code",
   "execution_count": 71,
   "metadata": {},
   "outputs": [
    {
     "name": "stdout",
     "output_type": "stream",
     "text": [
      "p set to 17\n"
     ]
    }
   ],
   "source": [
    "for i in range(len(pacf)):\n",
    "    if sig_test(pacf[i]) == False:\n",
    "        p = i - 1\n",
    "        print('p set to', p)\n",
    "        break"
   ]
  },
  {
   "cell_type": "markdown",
   "metadata": {},
   "source": [
    "This may lead to a high order model, with more lags than strictly necessary. We could view this value, informally, as an upper bound on the number of lags needed. We can also simply identify the order of the model based on the plot of the PACF. In this case, a minimum of approximately 10 lags appears satisfactory, although more may be needed.  We plot the PACF function."
   ]
  },
  {
   "cell_type": "code",
   "execution_count": 72,
   "metadata": {},
   "outputs": [
    {
     "data": {
      "image/png": "[encoded data removed]",
      "text/plain": [
       "<Figure size 432x288 with 1 Axes>"
      ]
     },
     "metadata": {},
     "output_type": "display_data"
    }
   ],
   "source": [
    "plt.plot(pacf, label='pacf')\n",
    "plt.plot([2.58/np.sqrt(T)]*30, label='99% confidence interval (upper)')\n",
    "plt.plot([-2.58/np.sqrt(T)]*30, label='99% confidence interval (lower)')\n",
    "plt.xlabel('number of lags')\n",
    "plt.xticks(np.arange(0,30,2))\n",
    "plt.legend();"
   ]
  },
  {
   "cell_type": "markdown",
   "metadata": {},
   "source": [
    "## Determine the order q of the MA model from the ACF plot\n",
    "Evaluate the ACF on the endogenous variable - SP500 mid-prices"
   ]
  },
  {
   "cell_type": "code",
   "execution_count": 73,
   "metadata": {},
   "outputs": [],
   "source": [
    "acf = sm.tsa.stattools.acf(sp500smart_diff[1:], nlags=30)"
   ]
  },
  {
   "cell_type": "code",
   "execution_count": 74,
   "metadata": {},
   "outputs": [],
   "source": [
    "T = len(sp500smart)\n",
    "\n",
    "sig_test = lambda tau_h: np.abs(tau_h) > 2.58/np.sqrt(T)\n",
    "q=0"
   ]
  },
  {
   "cell_type": "code",
   "execution_count": 75,
   "metadata": {},
   "outputs": [
    {
     "name": "stdout",
     "output_type": "stream",
     "text": [
      "q set to 8\n"
     ]
    }
   ],
   "source": [
    "for i in range(len(acf)):\n",
    "    if sig_test(acf[i]) == False:\n",
    "        q = i - 1\n",
    "        print('q set to', q)\n",
    "        break"
   ]
  },
  {
   "cell_type": "code",
   "execution_count": 76,
   "metadata": {},
   "outputs": [
    {
     "data": {
      "image/png": "[encoded data removed]",
      "text/plain": [
       "<Figure size 432x288 with 1 Axes>"
      ]
     },
     "metadata": {},
     "output_type": "display_data"
    }
   ],
   "source": [
    "plt.plot(acf, label='acf')\n",
    "plt.plot([2.58/np.sqrt(T)]*30, label='99% confidence interval (upper)')\n",
    "plt.plot([-2.58/np.sqrt(T)]*30, label='99% confidence interval (lower)')\n",
    "plt.xlabel('number of lags')\n",
    "plt.xticks(np.arange(0,30,2))\n",
    "plt.legend();"
   ]
  },
  {
   "cell_type": "markdown",
   "metadata": {},
   "source": [
    "train on the first 10,000 samples"
   ]
  },
  {
   "cell_type": "code",
   "execution_count": 84,
   "metadata": {},
   "outputs": [
    {
     "name": "stderr",
     "output_type": "stream",
     "text": [
      "/Users/matthewdixon/anaconda3/lib/python3.6/site-packages/statsmodels/tsa/base/tsa_model.py:225: ValueWarning: A date index has been provided, but it has no associated frequency information and so will be ignored when e.g. forecasting.\n",
      "  ' ignored when e.g. forecasting.', ValueWarning)\n"
     ]
    }
   ],
   "source": [
    "n_train=10000\n",
    "p=10\n",
    "model = sm.tsa.ARIMA(endog=sp500smart_diff[1:(n_train+1)], order=(p,0,q), exog=sp500ofi[0:n_train])"
   ]
  },
  {
   "cell_type": "code",
   "execution_count": 85,
   "metadata": {},
   "outputs": [
    {
     "name": "stderr",
     "output_type": "stream",
     "text": [
      "/Users/matthewdixon/anaconda3/lib/python3.6/site-packages/statsmodels/base/model.py:488: HessianInversionWarning: Inverting hessian failed, no bse or cov_params available\n",
      "  'available', HessianInversionWarning)\n",
      "/Users/matthewdixon/anaconda3/lib/python3.6/site-packages/statsmodels/base/model.py:508: ConvergenceWarning: Maximum Likelihood optimization failed to converge. Check mle_retvals\n",
      "  \"Check mle_retvals\", ConvergenceWarning)\n"
     ]
    }
   ],
   "source": [
    "model_fit = model.fit(disp=0)"
   ]
  },
  {
   "cell_type": "code",
   "execution_count": 86,
   "metadata": {},
   "outputs": [
    {
     "name": "stderr",
     "output_type": "stream",
     "text": [
      "/Users/matthewdixon/anaconda3/lib/python3.6/site-packages/statsmodels/tsa/arima_model.py:1455: RuntimeWarning: invalid value encountered in sqrt\n",
      "  return np.sqrt(np.diag(-inv(hess)))\n",
      "/Users/matthewdixon/anaconda3/lib/python3.6/site-packages/scipy/stats/_distn_infrastructure.py:879: RuntimeWarning: invalid value encountered in greater\n",
      "  return (self.a < x) & (x < self.b)\n",
      "/Users/matthewdixon/anaconda3/lib/python3.6/site-packages/scipy/stats/_distn_infrastructure.py:879: RuntimeWarning: invalid value encountered in less\n",
      "  return (self.a < x) & (x < self.b)\n",
      "/Users/matthewdixon/anaconda3/lib/python3.6/site-packages/scipy/stats/_distn_infrastructure.py:1821: RuntimeWarning: invalid value encountered in less_equal\n",
      "  cond2 = cond0 & (x <= self.a)\n"
     ]
    },
    {
     "data": {
      "text/html": [
       "<table class=\"simpletable\">\n",
       "<caption>ARMA Model Results</caption>\n",
       "<tr>\n",
       "  <th>Dep. Variable:</th>       <td>VWAP</td>       <th>  No. Observations:  </th>    <td>10000</td>  \n",
       "</tr>\n",
       "<tr>\n",
       "  <th>Model:</th>            <td>ARMA(10, 8)</td>   <th>  Log Likelihood     </th>  <td>9235.107</td> \n",
       "</tr>\n",
       "<tr>\n",
       "  <th>Method:</th>             <td>css-mle</td>     <th>  S.D. of innovations</th>    <td>0.096</td>  \n",
       "</tr>\n",
       "<tr>\n",
       "  <th>Date:</th>          <td>Wed, 13 May 2020</td> <th>  AIC                </th> <td>-18428.214</td>\n",
       "</tr>\n",
       "<tr>\n",
       "  <th>Time:</th>              <td>19:47:45</td>     <th>  BIC                </th> <td>-18276.797</td>\n",
       "</tr>\n",
       "<tr>\n",
       "  <th>Sample:</th>                <td>0</td>        <th>  HQIC               </th> <td>-18376.960</td>\n",
       "</tr>\n",
       "<tr>\n",
       "  <th></th>                       <td> </td>        <th>                     </th>      <td> </td>    \n",
       "</tr>\n",
       "</table>\n",
       "<table class=\"simpletable\">\n",
       "<tr>\n",
       "       <td></td>          <th>coef</th>     <th>std err</th>      <th>z</th>      <th>P>|z|</th>  <th>[0.025</th>    <th>0.975]</th>  \n",
       "</tr>\n",
       "<tr>\n",
       "  <th>const</th>       <td>    0.0002</td> <td>    0.000</td> <td>    0.725</td> <td> 0.469</td> <td>   -0.000</td> <td>    0.001</td>\n",
       "</tr>\n",
       "<tr>\n",
       "  <th>OFI</th>         <td>    0.0006</td> <td> 2.29e-05</td> <td>   24.054</td> <td> 0.000</td> <td>    0.001</td> <td>    0.001</td>\n",
       "</tr>\n",
       "<tr>\n",
       "  <th>ar.L1.VWAP</th>  <td>   -0.0603</td> <td>    0.337</td> <td>   -0.179</td> <td> 0.858</td> <td>   -0.720</td> <td>    0.599</td>\n",
       "</tr>\n",
       "<tr>\n",
       "  <th>ar.L2.VWAP</th>  <td>    0.4320</td> <td>    0.258</td> <td>    1.677</td> <td> 0.094</td> <td>   -0.073</td> <td>    0.937</td>\n",
       "</tr>\n",
       "<tr>\n",
       "  <th>ar.L3.VWAP</th>  <td>    0.5077</td> <td>    0.447</td> <td>    1.137</td> <td> 0.256</td> <td>   -0.368</td> <td>    1.383</td>\n",
       "</tr>\n",
       "<tr>\n",
       "  <th>ar.L4.VWAP</th>  <td>   -0.2772</td> <td>    0.991</td> <td>   -0.280</td> <td> 0.780</td> <td>   -2.219</td> <td>    1.665</td>\n",
       "</tr>\n",
       "<tr>\n",
       "  <th>ar.L5.VWAP</th>  <td>   -0.4133</td> <td>    0.146</td> <td>   -2.830</td> <td> 0.005</td> <td>   -0.700</td> <td>   -0.127</td>\n",
       "</tr>\n",
       "<tr>\n",
       "  <th>ar.L6.VWAP</th>  <td>   -0.1662</td> <td>    0.655</td> <td>   -0.254</td> <td> 0.800</td> <td>   -1.450</td> <td>    1.117</td>\n",
       "</tr>\n",
       "<tr>\n",
       "  <th>ar.L7.VWAP</th>  <td>    0.3997</td> <td>    0.379</td> <td>    1.054</td> <td> 0.292</td> <td>   -0.344</td> <td>    1.143</td>\n",
       "</tr>\n",
       "<tr>\n",
       "  <th>ar.L8.VWAP</th>  <td>   -0.0193</td> <td>    0.189</td> <td>   -0.102</td> <td> 0.919</td> <td>   -0.391</td> <td>    0.352</td>\n",
       "</tr>\n",
       "<tr>\n",
       "  <th>ar.L9.VWAP</th>  <td>   -0.0011</td> <td>    0.016</td> <td>   -0.070</td> <td> 0.944</td> <td>   -0.032</td> <td>    0.030</td>\n",
       "</tr>\n",
       "<tr>\n",
       "  <th>ar.L10.VWAP</th> <td>   -0.0473</td> <td>    0.012</td> <td>   -4.091</td> <td> 0.000</td> <td>   -0.070</td> <td>   -0.025</td>\n",
       "</tr>\n",
       "<tr>\n",
       "  <th>ma.L1.VWAP</th>  <td>   -0.1361</td> <td>    0.337</td> <td>   -0.405</td> <td> 0.686</td> <td>   -0.796</td> <td>    0.523</td>\n",
       "</tr>\n",
       "<tr>\n",
       "  <th>ma.L2.VWAP</th>  <td>   -0.5825</td> <td>    0.173</td> <td>   -3.371</td> <td> 0.001</td> <td>   -0.921</td> <td>   -0.244</td>\n",
       "</tr>\n",
       "<tr>\n",
       "  <th>ma.L3.VWAP</th>  <td>   -0.5109</td> <td>    0.548</td> <td>   -0.932</td> <td> 0.351</td> <td>   -1.585</td> <td>    0.563</td>\n",
       "</tr>\n",
       "<tr>\n",
       "  <th>ma.L4.VWAP</th>  <td>    0.3522</td> <td>    0.948</td> <td>    0.371</td> <td> 0.710</td> <td>   -1.506</td> <td>    2.211</td>\n",
       "</tr>\n",
       "<tr>\n",
       "  <th>ma.L5.VWAP</th>  <td>    0.3931</td> <td>      nan</td> <td>      nan</td> <td>   nan</td> <td>      nan</td> <td>      nan</td>\n",
       "</tr>\n",
       "<tr>\n",
       "  <th>ma.L6.VWAP</th>  <td>    0.0895</td> <td>    0.832</td> <td>    0.108</td> <td> 0.914</td> <td>   -1.541</td> <td>    1.720</td>\n",
       "</tr>\n",
       "<tr>\n",
       "  <th>ma.L7.VWAP</th>  <td>   -0.4751</td> <td>    0.389</td> <td>   -1.221</td> <td> 0.222</td> <td>   -1.238</td> <td>    0.287</td>\n",
       "</tr>\n",
       "<tr>\n",
       "  <th>ma.L8.VWAP</th>  <td>    0.0393</td> <td>    0.257</td> <td>    0.153</td> <td> 0.879</td> <td>   -0.465</td> <td>    0.544</td>\n",
       "</tr>\n",
       "</table>\n",
       "<table class=\"simpletable\">\n",
       "<caption>Roots</caption>\n",
       "<tr>\n",
       "    <td></td>    <th>            Real</th>  <th>         Imaginary</th> <th>         Modulus</th>  <th>        Frequency</th>\n",
       "</tr>\n",
       "<tr>\n",
       "  <th>AR.1</th>  <td>          -0.9828</td> <td>          -0.4914j</td> <td>           1.0989</td> <td>          -0.4262</td>\n",
       "</tr>\n",
       "<tr>\n",
       "  <th>AR.2</th>  <td>          -0.9828</td> <td>          +0.4914j</td> <td>           1.0989</td> <td>           0.4262</td>\n",
       "</tr>\n",
       "<tr>\n",
       "  <th>AR.3</th>  <td>          -0.4175</td> <td>          -1.0272j</td> <td>           1.1088</td> <td>          -0.3114</td>\n",
       "</tr>\n",
       "<tr>\n",
       "  <th>AR.4</th>  <td>          -0.4175</td> <td>          +1.0272j</td> <td>           1.1088</td> <td>           0.3114</td>\n",
       "</tr>\n",
       "<tr>\n",
       "  <th>AR.5</th>  <td>           0.9827</td> <td>          -0.7090j</td> <td>           1.2117</td> <td>          -0.0995</td>\n",
       "</tr>\n",
       "<tr>\n",
       "  <th>AR.6</th>  <td>           0.9827</td> <td>          +0.7090j</td> <td>           1.2117</td> <td>           0.0995</td>\n",
       "</tr>\n",
       "<tr>\n",
       "  <th>AR.7</th>  <td>           1.4113</td> <td>          -0.3300j</td> <td>           1.4493</td> <td>          -0.0366</td>\n",
       "</tr>\n",
       "<tr>\n",
       "  <th>AR.8</th>  <td>           1.4113</td> <td>          +0.3300j</td> <td>           1.4493</td> <td>           0.0366</td>\n",
       "</tr>\n",
       "<tr>\n",
       "  <th>AR.9</th>  <td>          -1.0054</td> <td>          -1.8993j</td> <td>           2.1490</td> <td>          -0.3275</td>\n",
       "</tr>\n",
       "<tr>\n",
       "  <th>AR.10</th> <td>          -1.0054</td> <td>          +1.8993j</td> <td>           2.1490</td> <td>           0.3275</td>\n",
       "</tr>\n",
       "<tr>\n",
       "  <th>MA.1</th>  <td>          -0.9730</td> <td>          -0.5086j</td> <td>           1.0979</td> <td>          -0.4233</td>\n",
       "</tr>\n",
       "<tr>\n",
       "  <th>MA.2</th>  <td>          -0.9730</td> <td>          +0.5086j</td> <td>           1.0979</td> <td>           0.4233</td>\n",
       "</tr>\n",
       "<tr>\n",
       "  <th>MA.3</th>  <td>          -0.4099</td> <td>          -1.0168j</td> <td>           1.0963</td> <td>          -0.3110</td>\n",
       "</tr>\n",
       "<tr>\n",
       "  <th>MA.4</th>  <td>          -0.4099</td> <td>          +1.0168j</td> <td>           1.0963</td> <td>           0.3110</td>\n",
       "</tr>\n",
       "<tr>\n",
       "  <th>MA.5</th>  <td>           1.0752</td> <td>          -0.0000j</td> <td>           1.0752</td> <td>          -0.0000</td>\n",
       "</tr>\n",
       "<tr>\n",
       "  <th>MA.6</th>  <td>           0.9797</td> <td>          -0.6497j</td> <td>           1.1756</td> <td>          -0.0932</td>\n",
       "</tr>\n",
       "<tr>\n",
       "  <th>MA.7</th>  <td>           0.9797</td> <td>          +0.6497j</td> <td>           1.1756</td> <td>           0.0932</td>\n",
       "</tr>\n",
       "<tr>\n",
       "  <th>MA.8</th>  <td>          11.8226</td> <td>          -0.0000j</td> <td>          11.8226</td> <td>          -0.0000</td>\n",
       "</tr>\n",
       "</table>"
      ],
      "text/plain": [
       "<class 'statsmodels.iolib.summary.Summary'>\n",
       "\"\"\"\n",
       "                              ARMA Model Results                              \n",
       "==============================================================================\n",
       "Dep. Variable:                   VWAP   No. Observations:                10000\n",
       "Model:                    ARMA(10, 8)   Log Likelihood                9235.107\n",
       "Method:                       css-mle   S.D. of innovations              0.096\n",
       "Date:                Wed, 13 May 2020   AIC                         -18428.214\n",
       "Time:                        19:47:45   BIC                         -18276.797\n",
       "Sample:                             0   HQIC                        -18376.960\n",
       "                                                                              \n",
       "===============================================================================\n",
       "                  coef    std err          z      P>|z|      [0.025      0.975]\n",
       "-------------------------------------------------------------------------------\n",
       "const           0.0002      0.000      0.725      0.469      -0.000       0.001\n",
       "OFI             0.0006   2.29e-05     24.054      0.000       0.001       0.001\n",
       "ar.L1.VWAP     -0.0603      0.337     -0.179      0.858      -0.720       0.599\n",
       "ar.L2.VWAP      0.4320      0.258      1.677      0.094      -0.073       0.937\n",
       "ar.L3.VWAP      0.5077      0.447      1.137      0.256      -0.368       1.383\n",
       "ar.L4.VWAP     -0.2772      0.991     -0.280      0.780      -2.219       1.665\n",
       "ar.L5.VWAP     -0.4133      0.146     -2.830      0.005      -0.700      -0.127\n",
       "ar.L6.VWAP     -0.1662      0.655     -0.254      0.800      -1.450       1.117\n",
       "ar.L7.VWAP      0.3997      0.379      1.054      0.292      -0.344       1.143\n",
       "ar.L8.VWAP     -0.0193      0.189     -0.102      0.919      -0.391       0.352\n",
       "ar.L9.VWAP     -0.0011      0.016     -0.070      0.944      -0.032       0.030\n",
       "ar.L10.VWAP    -0.0473      0.012     -4.091      0.000      -0.070      -0.025\n",
       "ma.L1.VWAP     -0.1361      0.337     -0.405      0.686      -0.796       0.523\n",
       "ma.L2.VWAP     -0.5825      0.173     -3.371      0.001      -0.921      -0.244\n",
       "ma.L3.VWAP     -0.5109      0.548     -0.932      0.351      -1.585       0.563\n",
       "ma.L4.VWAP      0.3522      0.948      0.371      0.710      -1.506       2.211\n",
       "ma.L5.VWAP      0.3931        nan        nan        nan         nan         nan\n",
       "ma.L6.VWAP      0.0895      0.832      0.108      0.914      -1.541       1.720\n",
       "ma.L7.VWAP     -0.4751      0.389     -1.221      0.222      -1.238       0.287\n",
       "ma.L8.VWAP      0.0393      0.257      0.153      0.879      -0.465       0.544\n",
       "                                    Roots                                     \n",
       "==============================================================================\n",
       "                   Real          Imaginary           Modulus         Frequency\n",
       "------------------------------------------------------------------------------\n",
       "AR.1            -0.9828           -0.4914j            1.0989           -0.4262\n",
       "AR.2            -0.9828           +0.4914j            1.0989            0.4262\n",
       "AR.3            -0.4175           -1.0272j            1.1088           -0.3114\n",
       "AR.4            -0.4175           +1.0272j            1.1088            0.3114\n",
       "AR.5             0.9827           -0.7090j            1.2117           -0.0995\n",
       "AR.6             0.9827           +0.7090j            1.2117            0.0995\n",
       "AR.7             1.4113           -0.3300j            1.4493           -0.0366\n",
       "AR.8             1.4113           +0.3300j            1.4493            0.0366\n",
       "AR.9            -1.0054           -1.8993j            2.1490           -0.3275\n",
       "AR.10           -1.0054           +1.8993j            2.1490            0.3275\n",
       "MA.1            -0.9730           -0.5086j            1.0979           -0.4233\n",
       "MA.2            -0.9730           +0.5086j            1.0979            0.4233\n",
       "MA.3            -0.4099           -1.0168j            1.0963           -0.3110\n",
       "MA.4            -0.4099           +1.0168j            1.0963            0.3110\n",
       "MA.5             1.0752           -0.0000j            1.0752           -0.0000\n",
       "MA.6             0.9797           -0.6497j            1.1756           -0.0932\n",
       "MA.7             0.9797           +0.6497j            1.1756            0.0932\n",
       "MA.8            11.8226           -0.0000j           11.8226           -0.0000\n",
       "------------------------------------------------------------------------------\n",
       "\"\"\""
      ]
     },
     "execution_count": 86,
     "metadata": {},
     "output_type": "execute_result"
    }
   ],
   "source": [
    "model_fit.summary()"
   ]
  },
  {
   "cell_type": "markdown",
   "metadata": {},
   "source": [
    "# Forecast"
   ]
  },
  {
   "cell_type": "code",
   "execution_count": 87,
   "metadata": {},
   "outputs": [
    {
     "name": "stderr",
     "output_type": "stream",
     "text": [
      "/Users/matthewdixon/anaconda3/lib/python3.6/site-packages/statsmodels/tsa/base/tsa_model.py:531: ValueWarning: No supported index is available. Prediction results will be given with an integer index beginning at `start`.\n",
      "  ValueWarning)\n"
     ]
    }
   ],
   "source": [
    "start_index = n_train\n",
    "horizon = 500\n",
    "end_index = start_index + horizon\n",
    "forecast = model_fit.predict(start=start_index, end=end_index, exog=sp500ofi)"
   ]
  },
  {
   "cell_type": "code",
   "execution_count": 88,
   "metadata": {},
   "outputs": [],
   "source": [
    "forecast.index=sp500smart_diff[n_train:(n_train+horizon+1)].index"
   ]
  },
  {
   "cell_type": "code",
   "execution_count": 89,
   "metadata": {},
   "outputs": [
    {
     "data": {
      "text/plain": [
       "<matplotlib.legend.Legend at 0x1c28d187f0>"
      ]
     },
     "execution_count": 89,
     "metadata": {},
     "output_type": "execute_result"
    },
    {
     "data": {
      "image/png": "[encoded data removed]",
      "text/plain": [
       "<Figure size 432x288 with 1 Axes>"
      ]
     },
     "metadata": {},
     "output_type": "display_data"
    }
   ],
   "source": [
    "plt.plot(sp500smart_diff[n_train:(n_train+horizon+1)], color='black', label='Delta VWAP')\n",
    "plt.plot(forecast, color='blue', label='forecast')\n",
    "plt.title('Forecast of VWAP changes versus Actual')\n",
    "plt.xlabel('time')\n",
    "plt.ylabel('delta VWAP')\n",
    "plt.legend()"
   ]
  }
 ],
 "metadata": {
  "kernelspec": {
   "display_name": "Python 3",
   "language": "python",
   "name": "python3"
  },
  "language_info": {
   "codemirror_mode": {
    "name": "ipython",
    "version": 3
   },
   "file_extension": ".py",
   "mimetype": "text/x-python",
   "name": "python",
   "nbconvert_exporter": "python",
   "pygments_lexer": "ipython3",
   "version": "3.7.3"
  }
 },
 "nbformat": 4,
 "nbformat_minor": 1
}
