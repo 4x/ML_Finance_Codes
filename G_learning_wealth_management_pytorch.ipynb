{
  "nbformat": 4,
  "nbformat_minor": 0,
  "metadata": {
    "kernelspec": {
      "name": "python3",
      "display_name": "Python 3"
    },
    "language_info": {
      "codemirror_mode": {
        "name": "ipython",
        "version": 3
      },
      "file_extension": ".py",
      "mimetype": "text/x-python",
      "name": "python",
      "nbconvert_exporter": "python",
      "pygments_lexer": "ipython3",
      "version": "3.6.8"
    },
    "colab": {
      "name": "G-learning-wealth-management-pytorch.ipynb",
      "provenance": [],
      "include_colab_link": true
    },
    "accelerator": "GPU"
  },
  "cells": [
    {
      "cell_type": "markdown",
      "metadata": {
        "id": "view-in-github",
        "colab_type": "text"
      },
      "source": [
        "<a href=\"https://colab.research.google.com/github/mfrdixon/ML_Finance_Codes/blob/master/G_learning_wealth_management_pytorch.ipynb\" target=\"_parent\"><img src=\"https://colab.research.google.com/assets/colab-badge.svg\" alt=\"Open In Colab\"/></a>"
      ]
    },
    {
      "cell_type": "code",
      "metadata": {
        "id": "Vc1tLT83PQMd",
        "colab_type": "code",
        "colab": {}
      },
      "source": [
        "# ML_in_Finance-G-learning-wealth-management\n",
        "# Author: Igor Halperin\n",
        "# Version: 1.0 (12.8.2019)\n",
        "# License: MIT\n",
        "# Email: ighalp@gmail.com\n",
        "# Notes: tested on Mac OS X with Python 3.6 and PyTorch 1.3.0\n",
        "# Citation: Please cite the following reference if this notebook is used for research purposes:\n",
        "# Bilokon P., Dixon M.F. and I. Halperin, Machine Learning in Finance: From Theory to Practice, Springer Graduate textbook Series, 2020. "
      ],
      "execution_count": 0,
      "outputs": []
    },
    {
      "cell_type": "markdown",
      "metadata": {
        "id": "uXdeHDmEPQM6",
        "colab_type": "text"
      },
      "source": [
        "## G-learning for wealth optimization\n",
        "\n",
        "Using G-learning with quadratic rewards for optimization of defined contribution retirement plan"
      ]
    },
    {
      "cell_type": "code",
      "metadata": {
        "id": "vOoE16hWPQNC",
        "colab_type": "code",
        "colab": {}
      },
      "source": [
        "import numpy as np\n",
        "import matplotlib\n",
        "matplotlib.use('Agg')\n",
        "import matplotlib.pyplot as plt \n",
        "%matplotlib inline\n",
        "\n",
        "import numpy as np\n",
        "import time\n",
        "\n",
        "import torch\n",
        "\n",
        "import torch.optim as optim\n",
        "# import torch.nn as nn\n",
        "# from torchviz import make_dot\n",
        "\n",
        "#To ignore warnings that are annoying.\n",
        "import warnings\n",
        "warnings.filterwarnings('ignore')"
      ],
      "execution_count": 0,
      "outputs": []
    },
    {
      "cell_type": "code",
      "metadata": {
        "id": "M-6MadDnPQNO",
        "colab_type": "code",
        "colab": {
          "base_uri": "https://localhost:8080/",
          "height": 34
        },
        "outputId": "3a4dddf8-51fd-4172-cf5a-ae444a1c22cc"
      },
      "source": [
        "torch.__version__"
      ],
      "execution_count": 2,
      "outputs": [
        {
          "output_type": "execute_result",
          "data": {
            "text/plain": [
              "'1.3.1'"
            ]
          },
          "metadata": {
            "tags": []
          },
          "execution_count": 2
        }
      ]
    },
    {
      "cell_type": "code",
      "metadata": {
        "id": "S0yKeMU9PQNa",
        "colab_type": "code",
        "colab": {}
      },
      "source": [
        "# set the device\n",
        "device = 'cuda' if torch.cuda.is_available() else 'cpu'"
      ],
      "execution_count": 0,
      "outputs": []
    },
    {
      "cell_type": "code",
      "metadata": {
        "id": "n_L5iXqyPQNl",
        "colab_type": "code",
        "colab": {},
        "outputId": "2825782d-5861-4bc8-e503-e7fea05fc4e3"
      },
      "source": [
        "ar1 = np.ones(2)\n",
        "ar2 = 2*np.ones(3)\n",
        "\n",
        "ar3 = np.outer(ar1, ar2)\n",
        "ar3.shape"
      ],
      "execution_count": 0,
      "outputs": [
        {
          "output_type": "execute_result",
          "data": {
            "text/plain": [
              "(2, 3)"
            ]
          },
          "metadata": {
            "tags": []
          },
          "execution_count": 4
        }
      ]
    },
    {
      "cell_type": "code",
      "metadata": {
        "id": "qh3bNjWWPQNx",
        "colab_type": "code",
        "colab": {},
        "outputId": "e737f5e1-4e08-4121-8735-bbdc54fd1d9b"
      },
      "source": [
        "# some examples of PyTorch operations\n",
        "t1 = torch.zeros(3,2,3,dtype=torch.float64)\n",
        "t2 = torch.ones(2,2,dtype=torch.float64)\n",
        "t3 = 2 * t2\n",
        "\n",
        "t4 = t3.mm(t2)\n",
        "print(t4)\n",
        "\n",
        "exp_ret = torch.from_numpy(np.array([[2,3],[3,1]]))\n",
        "t2 = exp_ret[-1,:] + torch.ones(2,dtype=torch.float64)\n",
        "print(t2)\n",
        "t2T = t2.unsqueeze(1) #  t2.transpose\n",
        "print(t2T)\n",
        "print(torch.ger(t2,t2))\n"
      ],
      "execution_count": 0,
      "outputs": [
        {
          "output_type": "stream",
          "text": [
            "tensor([[4., 4.],\n",
            "        [4., 4.]], dtype=torch.float64)\n",
            "tensor([4., 2.], dtype=torch.float64)\n",
            "tensor([[4.],\n",
            "        [2.]], dtype=torch.float64)\n",
            "tensor([[16.,  8.],\n",
            "        [ 8.,  4.]], dtype=torch.float64)\n"
          ],
          "name": "stdout"
        }
      ]
    },
    {
      "cell_type": "code",
      "metadata": {
        "id": "D65ycvXtPQN6",
        "colab_type": "code",
        "colab": {},
        "outputId": "0fd02edf-d003-46b1-efc1-d16fe026ec58"
      },
      "source": [
        "torch.max(torch.tensor(0.1), torch.tensor(0.3))"
      ],
      "execution_count": 0,
      "outputs": [
        {
          "output_type": "execute_result",
          "data": {
            "text/plain": [
              "tensor(0.3000)"
            ]
          },
          "metadata": {
            "tags": []
          },
          "execution_count": 6
        }
      ]
    },
    {
      "cell_type": "code",
      "metadata": {
        "id": "nxUvvSmLPQOC",
        "colab_type": "code",
        "colab": {},
        "outputId": "af0f58e0-7746-4a09-c3ce-93d4797fb45a"
      },
      "source": [
        "test_t = torch.zeros(2,3,2,requires_grad=True,dtype=torch.float64)\n",
        "test_t"
      ],
      "execution_count": 0,
      "outputs": [
        {
          "output_type": "execute_result",
          "data": {
            "text/plain": [
              "tensor([[[0., 0.],\n",
              "         [0., 0.],\n",
              "         [0., 0.]],\n",
              "\n",
              "        [[0., 0.],\n",
              "         [0., 0.],\n",
              "         [0., 0.]]], dtype=torch.float64, requires_grad=True)"
            ]
          },
          "metadata": {
            "tags": []
          },
          "execution_count": 7
        }
      ]
    },
    {
      "cell_type": "code",
      "metadata": {
        "id": "qLivr9yuPQON",
        "colab_type": "code",
        "colab": {}
      },
      "source": [
        "class G_learning_portfolio_opt:\n",
        "    \n",
        "    def __init__(self, \n",
        "                 num_steps,\n",
        "                 lambd, \n",
        "                 Omega_mat, # of shape (num_risky_assets + 1)x(num_risky_assets + 1) \n",
        "                 eta,    \n",
        "                 rho,\n",
        "                 benchmark_portf,\n",
        "                 beta,\n",
        "                 gamma, \n",
        "                 num_risky_assets,\n",
        "                 riskfree_rate,\n",
        "                 exp_returns, # array of shape num_steps x num_stocks\n",
        "                 Sigma_r,     # covariance matrix of returns of risky assets\n",
        "                 init_x_vals, # array of initial asset position values (num_risky_assets + 1)\n",
        "                 use_for_WM = True): # use for wealth management tasks\n",
        "\n",
        "                \n",
        "        self.num_steps = num_steps\n",
        "        \n",
        "        self.lambd = torch.tensor(lambd, requires_grad=True, dtype=torch.float64)\n",
        "        self.Omega_mat = torch.tensor(Omega_mat,requires_grad=True, dtype=torch.float64)\n",
        "        self.beta = torch.tensor(beta, requires_grad=True, dtype=torch.float64)\n",
        "        self.eta = torch.tensor(eta, requires_grad=True, dtype=torch.float64)\n",
        "        self.rho = torch.tensor(rho, requires_grad=True, dtype=torch.float64)\n",
        "        \n",
        "        self.gamma = gamma\n",
        "        self.use_for_WM = use_for_WM\n",
        "        \n",
        "        self.num_risky_assets = num_risky_assets\n",
        "        self.r_f = riskfree_rate\n",
        "        \n",
        "        self.num_assets = num_risky_assets + 1 # exp_returns.shape[1]\n",
        "        \n",
        "        assert exp_returns.shape[0] == self.num_steps\n",
        "        assert Sigma_r.shape[0] == Sigma_r.shape[1]\n",
        "        assert Sigma_r.shape[0] == num_risky_assets # self.num_assets\n",
        "        \n",
        "        self.Sigma_r_np = Sigma_r # array of shape num_stocks x num_stocks\n",
        "        \n",
        "        # arrays of returns for all assets including the risk-free asset\n",
        "        # array of shape num_steps x (num_stocks + 1) \n",
        "        self.exp_returns_np = np.hstack((self.r_f * np.ones(self.num_steps).reshape((-1,1)), exp_returns))\n",
        "                                      \n",
        "        # make block-matrix Sigma_r_tilde with Sigma_r_tilde[0,0] = 0, and equity correlation matrix inside\n",
        "        self.Sigma_r_tilde_np = np.zeros((self.num_assets, self.num_assets))\n",
        "        self.Sigma_r_tilde_np[1:,1:] = self.Sigma_r_np\n",
        "            \n",
        "        # make Torch tensors  \n",
        "        self.exp_returns = torch.tensor(self.exp_returns_np,requires_grad=False, dtype=torch.float64)\n",
        "        self.Sigma_r = torch.tensor(Sigma_r,requires_grad=False, dtype=torch.float64)\n",
        "        self.Sigma_r_tilde = torch.tensor(self.Sigma_r_tilde_np,requires_grad=False, dtype=torch.float64)\n",
        "        \n",
        "        self.benchmark_portf = torch.tensor(benchmark_portf, requires_grad=False, dtype=torch.float64)\n",
        "        \n",
        "        # asset holding values for all times. Initialize with initial values, \n",
        "        # values for the future times will be expected values \n",
        "        self.x_vals_np = np.zeros((self.num_steps, self.num_assets))\n",
        "        self.x_vals_np[0,:] = init_x_vals \n",
        "        \n",
        "        # Torch tensor\n",
        "        self.x_vals = torch.tensor(self.x_vals_np)\n",
        "                \n",
        "        # allocate memory for coefficients of R-, F- and G-functions        \n",
        "        self.F_xx = torch.zeros(self.num_steps, self.num_assets, self.num_assets, dtype=torch.float64)\n",
        "        self.F_x = torch.zeros(self.num_steps, self.num_assets, dtype=torch.float64)\n",
        "        self.F_0 = torch.zeros(self.num_steps,dtype=torch.float64)\n",
        "        \n",
        "        self.Q_xx = torch.zeros(self.num_steps, self.num_assets, self.num_assets,dtype=torch.float64)\n",
        "        self.Q_uu = torch.zeros(self.num_steps, self.num_assets, self.num_assets,dtype=torch.float64)\n",
        "        self.Q_ux = torch.zeros(self.num_steps, self.num_assets, self.num_assets,dtype=torch.float64)\n",
        "        self.Q_x = torch.zeros(self.num_steps, self.num_assets,dtype=torch.float64)\n",
        "        self.Q_u = torch.zeros(self.num_steps, self.num_assets,dtype=torch.float64)\n",
        "        self.Q_0 = torch.zeros(self.num_steps,dtype=torch.float64)\n",
        "        \n",
        "        self.R_xx = torch.zeros(self.num_steps, self.num_assets, self.num_assets,dtype=torch.float64)\n",
        "        self.R_uu = torch.zeros(self.num_steps, self.num_assets, self.num_assets,dtype=torch.float64)\n",
        "        self.R_ux = torch.zeros(self.num_steps, self.num_assets, self.num_assets,dtype=torch.float64)\n",
        "        self.R_x = torch.zeros(self.num_steps, self.num_assets,dtype=torch.float64)\n",
        "        self.R_u = torch.zeros(self.num_steps, self.num_assets,dtype=torch.float64)\n",
        "        self.R_0 = torch.zeros(self.num_steps,dtype=torch.float64)\n",
        "\n",
        "        \n",
        "        \n",
        "        # initialize time-dependent parameters of prior policy \n",
        "        self.u_bar_prior = torch.zeros(self.num_steps,self.num_assets,requires_grad=True,\n",
        "                                       dtype=torch.float64)\n",
        "        self.v_bar_prior =  torch.zeros(self.num_steps, self.num_assets, self.num_assets,requires_grad=True,\n",
        "                                        dtype=torch.float64)\n",
        "        self.Sigma_prior =  torch.zeros(self.num_steps, self.num_assets, self.num_assets,requires_grad=True,\n",
        "                                        dtype=torch.float64)\n",
        "        self.Sigma_prior_inv = torch.zeros(self.num_steps, self.num_assets, self.num_assets,requires_grad=True,\n",
        "                                        dtype=torch.float64)\n",
        "        \n",
        "        # make each time elements of v_bar_prior and Sigma_prior proportional to the unit matrix\n",
        "        for t in range(self.num_steps):\n",
        "            self.v_bar_prior[t,:,:] = 0.1 * torch.eye(self.num_assets)\n",
        "            self.Sigma_prior[t,:,:] = 0.1 * torch.eye(self.num_assets)\n",
        "            self.Sigma_prior_inv[t,:,:] = 10.0 * torch.eye(self.num_assets) # np.linalg.inv(self.Sigma_prior[t,:,:])\n",
        "        \n",
        "        # the list of adjustable model parameters:\n",
        "        self.model_params = [self.lambd, self.beta, self.Omega_mat, self.eta]  \n",
        "#                              self.exp_returns, self.Sigma_r_tilde,self.Sigma_prior_inv, self.u_bar_prior]\n",
        "        \n",
        "        \n",
        "        # expected cash installment for all steps\n",
        "        self.expected_c_t = torch.zeros(self.num_steps,dtype=torch.float64)\n",
        "        \n",
        "        # realized values of the target portfolio\n",
        "#         self.realized_target_portf = torch.zeros(self.num_steps,dtype=torch.float64)\n",
        "        self.realized_target_portf = np.zeros(self.num_steps,dtype=np.float64)\n",
        "        \n",
        "        # expected portfolio values for all times\n",
        "        self.expected_portf_val = torch.zeros(self.num_steps,dtype=torch.float64)\n",
        "        \n",
        "        # the first value is the sum of initial position values\n",
        "        self.expected_portf_val[0] = self.x_vals[0,:].sum()\n",
        "    \n",
        "    def reward_fun(self, t, x_vals, u_vals, exp_rets, lambd, Sigma_hat):\n",
        "        \"\"\"\n",
        "        The reward function \n",
        "        \"\"\"\n",
        "        x_plus = x_vals + u_vals\n",
        "        \n",
        "        p_hat = self.rho * self.benchmark_portf[t] + (1-self.rho)*self.eta*x_vals.sum()\n",
        "        \n",
        "        aux_1 = - self.lambd * p_hat**2         \n",
        "        aux_2 = - u_vals.sum()   \n",
        "        aux_3 = 2*self.lambd * p_hat * x_plus.dot(torch.ones(num_assets) + exp_rets)\n",
        "        aux_4 = - self.lambd * x_plus.mm(Sigma_hat.mv(x_plus))\n",
        "        aux_5 = - u_vals.mm(self.Omega_mat.mv(u_vals))\n",
        "        \n",
        "        return aux_1 + aux_2 + aux_3 + aux_4 + aux_5  \n",
        "    \n",
        "    def compute_reward_fun(self):\n",
        "        \"\"\"\n",
        "        Compute coefficients R_xx, R_ux, etc. for all steps\n",
        "        \"\"\"\n",
        "        for t in range(0, self.num_steps):\n",
        "            \n",
        "            one_plus_exp_ret = torch.ones(self.num_assets,dtype=torch.float64) + self.exp_returns[t,:]\n",
        "            benchmark_portf = self.benchmark_portf[t]\n",
        "            Sigma_hat = self.Sigma_r_tilde + torch.ger(one_plus_exp_ret, one_plus_exp_ret)\n",
        "            \n",
        "            one_plus_exp_ret_by_one = torch.ger(one_plus_exp_ret,torch.ones(self.num_assets,dtype=torch.float64))\n",
        "            one_plus_exp_ret_by_one_T = one_plus_exp_ret_by_one.t()     \n",
        "            one_one_T_mat = torch.ones(self.num_assets,self.num_assets)\n",
        "            \n",
        "            self.R_xx[t,:,:] = (-self.lambd*(self.eta**2)*(self.rho**2)*one_one_T_mat\n",
        "                                 + 2*self.lambd*self.eta*self.rho*one_plus_exp_ret_by_one\n",
        "                                 - self.lambd*Sigma_hat)\n",
        "            \n",
        "            self.R_ux[t,:,:] = (2*self.lambd*self.eta*self.rho*one_plus_exp_ret_by_one\n",
        "                                 - 2*self.lambd*Sigma_hat)\n",
        "            \n",
        "            self.R_uu[t,:,:] = - self.lambd * Sigma_hat - self.Omega_mat\n",
        "            \n",
        "            self.R_x[t,:] =  (-2*self.lambd*self.eta*self.rho*(1-self.rho)*benchmark_portf*\n",
        "                                 torch.ones(self.num_assets,dtype=torch.float64)\n",
        "                                 + 2*self.lambd*(1-self.rho)*benchmark_portf * one_plus_exp_ret)\n",
        "            \n",
        "            self.R_u[t,:] = (2*self.lambd*(1-self.rho)*benchmark_portf * one_plus_exp_ret\n",
        "                             - torch.ones(self.num_assets,dtype=torch.float64))\n",
        "            \n",
        "            self.R_0[t] = - self.lambd*((1-self.rho)**2) * (benchmark_portf**2)\n",
        "                \n",
        "         \n",
        "    def project_cash_injections(self):\n",
        "        \"\"\"\n",
        "        Compute the expected values of future asset positions, and the expected cash injection for future steps,\n",
        "        as well as realized values of the target portfolio\n",
        "        \"\"\"\n",
        "           \n",
        "        # this assumes that the policy is trained\n",
        "        for t in range(1, self.num_steps):  # the initial value is fixed \n",
        "            \n",
        "            # increment the previous x_t\n",
        "            \n",
        "            delta_x_t = self.u_bar_prior[t,:] + self.v_bar_prior[t,:,:].mv(self.x_vals[t-1,:])\n",
        "            self.x_vals[t,:] = self.x_vals[t-1,:] + delta_x_t\n",
        "            \n",
        "            # grow using the expected return\n",
        "            self.x_vals[t,:] = (torch.ones(self.num_assets)+ self.exp_returns[t,:])*self.x_vals[t,:]\n",
        "            \n",
        "            # compute c_t\n",
        "            self.expected_c_t[t] = delta_x_t.sum().data # detach().numpy()\n",
        "            \n",
        "            # expected portfolio value for this step\n",
        "            self.expected_portf_val[t] = self.x_vals[t,:].sum().data # .detach().numpy()\n",
        "    \n",
        "#             self.realized_target_portf[t] = (self.x_vals[t,:].sum().data) * (self.eta.detach().numpy())[0]\n",
        "            \n",
        "                                                                                      \n",
        "    def set_terminal_conditions(self):\n",
        "        \"\"\"\n",
        "        set the terminal condition for the F-function\n",
        "        \"\"\"\n",
        "        \n",
        "        # the auxiliary quantity to perform matrix calculations\n",
        "        one_plus_exp_ret = torch.ones(self.num_assets,dtype=torch.float64) + self.exp_returns[-1,:]\n",
        "        \n",
        "        \n",
        "        # compute the reward function for all steps (only the last step is needed for this functions, while \n",
        "        # values for other time steps will be used in other functions)\n",
        "        self.compute_reward_fun()\n",
        "        \n",
        "        if self.use_for_WM:\n",
        "\n",
        "            # Note: Pinv in PyTorch may be inaccurate, \n",
        "            # see https://discuss.pytorch.org/t/torch-pinverse-seems-to-be-inaccurate/33616\n",
        "            Sigma_hat = self.Sigma_r_tilde + torch.ger(one_plus_exp_ret, one_plus_exp_ret)\n",
        "            Sigma_hat_inv = torch.pinverse(Sigma_hat)\n",
        "            Sigma_tilde = Sigma_hat + (1/self.lambd)*self.Omega_mat\n",
        "            Sigma_tilde_inv = torch.pinverse(Sigma_tilde)\n",
        "            \n",
        "            Sigma_hat_sigma_tilde = Sigma_hat.mm(Sigma_tilde)\n",
        "            Sigma_tilde_inv_sig_hat = Sigma_tilde_inv.mm(Sigma_hat)\n",
        "            Sigma_tilde_sigma_hat = Sigma_tilde.mm(Sigma_hat)\n",
        "            \n",
        "            Sigma_hat_Sigma_tilde_inv = Sigma_hat.mm(Sigma_tilde_inv)\n",
        "            Sigma_3_plus_omega = self.lambd*Sigma_tilde_inv.mm(Sigma_hat_Sigma_tilde_inv) + self.Omega_mat    \n",
        "                 \n",
        "            # matrix Phi\n",
        "#             Phi_m = (self.eta*torch.ger(one_plus_exp_ret,torch.ones(self.num_assets,dtype=torch.float64)) \n",
        "#                      - Sigma_tilde_inv)\n",
        "            \n",
        "            one_plus_exp_ret_by_one = torch.ger(one_plus_exp_ret,torch.ones(self.num_assets,dtype=torch.float64))\n",
        "            one_plus_exp_ret_by_one_T = one_plus_exp_ret_by_one.t()     \n",
        "            one_one_T_mat = torch.ones(self.num_assets,self.num_assets)\n",
        "            \n",
        "            Sigma_tilde_inv_t_R_ux = Sigma_tilde_inv.t().mm(self.R_ux[-1,:,:])\n",
        "            Sigma_tilde_inv_t_R_uu = Sigma_tilde_inv.t().mm(self.R_uu[-1,:,:])\n",
        "            Sigma_tilde_inv_t_R_u = Sigma_tilde_inv.t().mv(self.R_u[-1,:])\n",
        "            \n",
        "            Sigma_tilde_inv_R_u = Sigma_tilde_inv.mv(self.R_u[-1,:])\n",
        "            Sigma_tilde_inv_R_ux = Sigma_tilde_inv.mm(self.R_ux[-1,:,:])\n",
        "            Sigma_tilde_inv_t_R_uu = Sigma_tilde_inv.mm(self.R_uu[-1,:,:])\n",
        "            \n",
        "            # though the action at the last step is deterministic, we can feed \n",
        "            # parameters of the prior with these values                     \n",
        "              \n",
        "            self.u_bar_prior[-1,:]   = (1/(2 * self.lambd))* Sigma_tilde_inv.mv(self.R_u[t,:])\n",
        "            self.v_bar_prior[-1,:,:] = (1/(2 * self.lambd))* Sigma_tilde_inv.mm(self.R_ux[t,:,:])    \n",
        "                \n",
        "            # First compute the coefficients of the reward function at the last step\n",
        "\n",
        "            \n",
        "            # the coefficients of F-function for the last step\n",
        "            \n",
        "            # F_xx                 \n",
        "            self.F_xx[-1,:,:] = (self.R_xx[-1,:,:]\n",
        "                                 + (1/(2*self.lambd))* self.R_ux[-1,:,:].t().mm(Sigma_tilde_inv_t_R_ux)\n",
        "                                 + (1/(4*self.lambd**2))* self.R_ux[-1,:,:].t().mm(\n",
        "                                      Sigma_tilde_inv_t_R_uu.mm(Sigma_tilde_inv.mm(self.R_ux[-1,:,:])))\n",
        "                                )\n",
        "            \n",
        "            # F_x                    \n",
        "            self.F_x[-1,:] = (self.R_x[-1,:]\n",
        "                                 + (1/(self.lambd))* self.R_ux[-1,:,:].t().mv(Sigma_tilde_inv_t_R_u)\n",
        "                                 + (1/(2*self.lambd**2))* self.R_ux[-1,:,:].t().mv(\n",
        "                                      Sigma_tilde_inv_t_R_uu.mv(Sigma_tilde_inv_R_u))\n",
        "                            )\n",
        "            \n",
        "            \n",
        "        \n",
        "            # F_0   \n",
        "            self.F_0[-1] = (self.R_0[-1] \n",
        "                            +  (1/(2*self.lambd))* self.R_u[-1,:].dot(Sigma_tilde_inv_R_u)\n",
        "                            + (1/(4*self.lambd**2))* self.R_u[-1,:].dot(\n",
        "                                Sigma_tilde_inv_t_R_uu.mv(Sigma_tilde_inv_R_u))\n",
        "                           )\n",
        "            \n",
        "                \n",
        "    def G_learning(self, err_tol, max_iter):\n",
        "        \"\"\"\n",
        "        find the optimal policy for the time dependent policy\n",
        "        \n",
        "        \"\"\"\n",
        "        \n",
        "        print('Doing G-learning, it may take a few seconds...')\n",
        "        \n",
        "        # set terminal conditions\n",
        "        self.set_terminal_conditions()\n",
        "        \n",
        "        # allocate iteration numbers for all steps\n",
        "        self.iter_counts = np.zeros(self.num_steps)\n",
        "        \n",
        "        # iterate over time steps backward\n",
        "        for t in range(self.num_steps-2,-1,-1):\n",
        "            self.step_G_learning(t, err_tol, max_iter)\n",
        "            \n",
        "    def step_G_learning(self, t, err_tol, max_iter):\n",
        "        \"\"\"\n",
        "        Perform one step of backward iteration for G-learning self-consistent equations\n",
        "        This should start from step t = num_steps - 2 (i.e. from a step that is before the last one)\n",
        "        \"\"\"\n",
        "            \n",
        "        # local variables\n",
        "        F_xx_tp1 = self.F_xx[t+1,:,:]\n",
        "        F_x_tp1 = self.F_x[t+1,:]\n",
        "        F_0_tp1 = self.F_0[t+1]\n",
        "            \n",
        "        # make matrix Sigma_hat_t        \n",
        "        one_plus_exp_ret = torch.ones(self.num_assets,dtype=torch.float64) + self.exp_returns[t,:]\n",
        "        Sigma_hat_t = self.Sigma_r_tilde + torch.ger(one_plus_exp_ret, one_plus_exp_ret)\n",
        "        \n",
        "        # matrix A_t = diag(1 + r_bar_t)\n",
        "        A_t = torch.diag(torch.ones(self.num_assets,dtype=torch.float64) + self.exp_returns[t,:])\n",
        "                    \n",
        "        # update parameters of Q_function using next-step F-function values\n",
        "        self.update_Q_params(t, A_t,Sigma_hat_t)\n",
        "             \n",
        "        # iterate between policy evaluation and policy improvement  \n",
        "        while self.iter_counts[t] < max_iter:\n",
        "                \n",
        "            curr_u_bar_prior = self.u_bar_prior[t,:].clone()  \n",
        "            curr_v_bar_prior = self.v_bar_prior[t,:,:].clone()     \n",
        "                \n",
        "            # compute parameters of F-function for this step from parameters of Q-function\n",
        "            self.update_F_params(t) \n",
        "              \n",
        "            # Policy iteration step: update parameters of the prior policy distribution\n",
        "            # with given Q- and F-function parameters\n",
        "            self.update_policy_params(t)    \n",
        "            \n",
        "            # difference between the current value of u_bar_prior and the previous one\n",
        "            err_u_bar = torch.sum((curr_u_bar_prior - self.u_bar_prior[t,:])**2)\n",
        "            \n",
        "            # divide by num_assets in err_v_bar to get both errors on a comparable scale\n",
        "            err_v_bar = (1/self.num_assets)*torch.sum((curr_v_bar_prior - self.v_bar_prior[t,:,:])**2)\n",
        "            \n",
        "            # choose the difference from the previous iteration as the maximum of the two errors\n",
        "            tol = torch.max(err_u_bar, err_v_bar)  # tol = 0.5*(err_u_bar + err_v_bar)\n",
        "\n",
        "#             print('err_u_bar, err_v_bar, tol', err_u_bar, err_v_bar, tol)\n",
        "            \n",
        "            self.iter_counts[t] += 1\n",
        "            # Repeat the calculation of Q- and F-values\n",
        "            if tol <= err_tol:\n",
        "                break\n",
        "                \n",
        "            \n",
        "    def update_Q_params(self,t, A_t,Sigma_hat_t):\n",
        "        \"\"\"\n",
        "        update the current (time-t) parameters of Q-function from (t+1)-parameters of F-function\n",
        "        \"\"\" \n",
        "                \n",
        "        ones = torch.ones(self.num_assets,dtype=torch.float64)    \n",
        "        one_plus_exp_ret = torch.ones(self.num_assets,dtype=torch.float64) + self.exp_returns[t,:]\n",
        "#         one_plus_exp_ret_1T = torch.ger(one_plus_exp_ret, ones)\n",
        "    \n",
        "        self.Q_xx[t,:,:] = (self.R_xx[t,:,:] \n",
        "                            + self.gamma*( (A_t.mm(self.F_xx[t+1,:,:])).mm(A_t)  \n",
        "                                           + self.Sigma_r_tilde * self.F_xx[t+1,:,:] ) )\n",
        "\n",
        "\n",
        "        self.Q_ux[t,:,:] = (self.R_ux[t,:,:] \n",
        "                            + 2 * self.gamma*( (A_t.mm(self.F_xx[t+1,:,:])).mm(A_t)  \n",
        "                                           + self.Sigma_r_tilde * self.F_xx[t+1,:,:] ) \n",
        "                           )\n",
        "    \n",
        "        self.Q_uu[t,:,:] = (self.R_uu[t,:,:]  \n",
        "                            + self.gamma*( (A_t.mm(self.F_xx[t+1,:,:])).mm(A_t)  \n",
        "                                           + self.Sigma_r_tilde * self.F_xx[t+1,:,:] )\n",
        "                            - self.Omega_mat\n",
        "                           )\n",
        "\n",
        "\n",
        "        self.Q_x[t,:] = self.R_x[t,:] + self.gamma * A_t.mv(self.F_x[t+1,:]) \n",
        "        self.Q_u[t,:] = self.R_u[t,:] + self.gamma * A_t.mv(self.F_x[t+1,:])\n",
        "        self.Q_0[t]   = self.R_0[t] + self.gamma * self.F_0[t+1]\n",
        "\n",
        "\n",
        "        \n",
        "    def update_F_params(self,t):\n",
        "        \"\"\"\n",
        "        update the current (time-t) parameters of F-function from t-parameters of G-function\n",
        "        This is a policy evaluation step: it uses the current estimations of the mean parameters of the policy\n",
        "        \n",
        "        \"\"\"\n",
        "        \n",
        "        # produce auxiliary parameters U_t, W_t, Sigma_tilde_t\n",
        "        U_t = self.beta * self.Q_ux[t,:,:] + self.Sigma_prior_inv[t,:,:].mm(self.v_bar_prior[t,:,:])\n",
        "        W_t = self.beta * self.Q_u[t,:] +  self.Sigma_prior_inv[t,:,:].mv(self.u_bar_prior[t,:])\n",
        "        Sigma_p_bar =  self.Sigma_prior_inv[t,:,:] - 2 * self.beta * self.Q_uu[t,:,:]\n",
        "        Sigma_p_bar_inv = torch.pinverse(Sigma_p_bar)\n",
        "        \n",
        "        # update parameters of F-function\n",
        "        self.F_xx[t,:,:] = self.Q_xx[t,:,:] + (1/(2*self.beta))*(U_t.t().mm(Sigma_p_bar_inv.mm(U_t))\n",
        "                                    - self.v_bar_prior[t,:,:].t().mm(\n",
        "                                        self.Sigma_prior_inv[t,:,:].mm(self.v_bar_prior[t,:,:])))\n",
        "        \n",
        "        \n",
        "        self.F_x[t,:] = self.Q_x[t,:] + (1/self.beta)*(U_t.mv(Sigma_p_bar_inv.mv(W_t))\n",
        "                                    - self.v_bar_prior[t,:,:].mv(\n",
        "                                        self.Sigma_prior_inv[t,:,:].mv(self.u_bar_prior[t,:])))\n",
        "        \n",
        "        \n",
        "        self.F_0[t] = self.Q_0[t] + ( (1/(2*self.beta))*(W_t.dot(Sigma_p_bar_inv.mv(W_t))\n",
        "                                    - self.u_bar_prior[t,:].dot(\n",
        "                                        self.Sigma_prior_inv[t,:,:].mv(self.u_bar_prior[t,:])))\n",
        "                                    - (1/(2*self.beta)) * (torch.log(torch.det(self.Sigma_prior[t,:,:]))\n",
        "                                                       + torch.log(torch.det(Sigma_p_bar))) )\n",
        "        \n",
        "    def update_policy_params(self,t):\n",
        "        \"\"\"\n",
        "        update parameters of the Gaussian policy using current coefficients of the F- and G-functions\n",
        "        \"\"\"\n",
        "        \n",
        "        new_Sigma_prior_inv = self.Sigma_prior_inv[t,:,:] - 2 * self.beta * self.Q_uu[t,:,:]\n",
        "        Sigma_prior_new = torch.pinverse(new_Sigma_prior_inv)\n",
        "        \n",
        "        \n",
        "        # update parameters using the previous value of Sigma_prior_inv\n",
        "        self.u_bar_prior[t,:] = Sigma_prior_new.mv(self.Sigma_prior_inv[t,:,:].mv(self.u_bar_prior[t,:])\n",
        "                                              + self.beta * self.Q_u[t,:])\n",
        "        \n",
        "        \n",
        "        self.v_bar_prior[t,:,:] = Sigma_prior_new.mm(self.Sigma_prior_inv[t,:,:].mm(self.v_bar_prior[t,:,:])\n",
        "                                              + self.beta * self.Q_ux[t,:,:])\n",
        "        \n",
        "        # and then assign the new inverse covariance for the prior for the next iteration\n",
        "        self.Sigma_prior[t,:,:] = Sigma_prior_new\n",
        "        self.Sigma_prior_inv[t,:,:] = new_Sigma_prior_inv\n",
        "        \n",
        "        # also assign the same values for the previous time step\n",
        "        if t > 0:\n",
        "            self.Sigma_prior[t-1,:,:] = self.Sigma_prior[t,:,:]\n",
        "            self.u_bar_prior[t-1,:] = self.u_bar_prior[t,:]\n",
        "            self.v_bar_prior[t-1,:,:] = self.v_bar_prior[t,:,:]\n",
        "            \n",
        "    def trajs_to_torch_tensors(self,trajs):\n",
        "        \"\"\"\n",
        "        Convert data from a list of lists into Torch tensors\n",
        "        \"\"\"\n",
        "        num_trajs = len(trajs)\n",
        "        \n",
        "        self.data_xvals = torch.zeros(num_trajs,self.num_steps,self.num_assets,dtype=torch.float64)\n",
        "        self.data_uvals = torch.zeros(num_trajs,self.num_steps,self.num_assets,dtype=torch.float64)\n",
        "            \n",
        "        for n in range(num_trajs):\n",
        "            for t in range(self.num_steps):\n",
        "                self.data_xvals[n,t,:] = torch.tensor(trajs[n][t][0],dtype=torch.float64)\n",
        "                self.data_uvals[n,t,:] = torch.tensor(trajs[n][t][1],dtype=torch.float64)\n",
        "                \n",
        "    def compute_reward_on_traj(self,\n",
        "                              t,\n",
        "                              x_t, u_t):\n",
        "        \"\"\"\n",
        "        Given time t and corresponding values of vectors x_t, u_t, compute the total reward for this step\n",
        "        \"\"\"\n",
        "        \n",
        "        aux_xx = x_t.dot(self.R_xx[t,:,:].mv(x_t))\n",
        "        aux_ux = u_t.dot(self.R_ux[t,:,:].mv(x_t))\n",
        "        aux_uu = u_t.dot(self.R_uu[t,:,:].mv(u_t))\n",
        "        aux_x = x_t.dot(self.R_x[t,:])\n",
        "        aux_u = u_t.dot(self.R_u[t,:])\n",
        "        aux_0 = self.R_0[t]\n",
        "        \n",
        "        return aux_xx + aux_ux + aux_uu + aux_x + aux_u + aux_0\n",
        "    \n",
        "    def compute_G_fun_on_traj(self,\n",
        "                              t,\n",
        "                              x_t, u_t):\n",
        "        \"\"\"\n",
        "        Given time t and corresponding values of vectors x_t, u_t, compute the total reward for this step\n",
        "        \"\"\"\n",
        "        \n",
        "        aux_xx = x_t.dot(self.Q_xx[t,:,:].mv(x_t))\n",
        "        aux_ux = u_t.dot(self.Q_ux[t,:,:].mv(x_t))\n",
        "        aux_uu = u_t.dot(self.Q_uu[t,:,:].mv(u_t))\n",
        "        aux_x = x_t.dot(self.Q_x[t,:])\n",
        "        aux_u = u_t.dot(self.Q_u[t,:])\n",
        "        aux_0 = self.Q_0[t]\n",
        "        \n",
        "        return aux_xx + aux_ux + aux_uu + aux_x + aux_u + aux_0\n",
        "    \n",
        "    def compute_F_fun_on_traj(self,\n",
        "                              t,\n",
        "                              x_t):\n",
        "        \"\"\"\n",
        "        Given time t and corresponding values of vectors x_t, u_t, compute the total reward for this step\n",
        "        \"\"\"\n",
        "        \n",
        "        aux_xx = x_t.dot(self.F_xx[t,:,:].mv(x_t))\n",
        "        aux_x = x_t.dot(self.F_x[t,:])\n",
        "        aux_0 = self.F_0[t]\n",
        "        \n",
        "        return aux_xx + aux_x + aux_0\n",
        "\n",
        "                 \n",
        "    def MaxEntIRL(self,\n",
        "                  trajs,\n",
        "                  learning_rate,\n",
        "                  err_tol, max_iter):\n",
        "        \n",
        "        \"\"\"\n",
        "        Estimate parameters of the reward function using MaxEnt IRL.\n",
        "        Inputs:\n",
        "        \n",
        "        trajs - a list of trajectories. Each trajectory is a list of state-action pairs, stored as a tuple.\n",
        "                We assume each trajectory has the same length\n",
        "        \"\"\"\n",
        "        \n",
        "        # omega is a tunable parameter that determines the cost matrix self.Omega_mat\n",
        "        omega_init = 1.0\n",
        "        self.omega = torch.tensor(omega_init, requires_grad=True, dtype=torch.float64)\n",
        "        \n",
        "        reward_params =  [self.lambd, self.eta, self.rho, self.omega, self.beta]\n",
        "        \n",
        "        self.Omega_mat = self.omega * torch.eye(self.num_assets,dtype=torch.float64)\n",
        "        \n",
        "        self.G_learning(err_tol, max_iter)\n",
        "        \n",
        "        optimizer = optim.Adam(reward_params, lr=learning_rate)\n",
        "        \n",
        "        optimizer.zero_grad()\n",
        "        \n",
        "        num_trajs = len(trajs)\n",
        "        \n",
        "        # fill in Torch tensors for the trajectory data\n",
        "        self.trajs_to_torch_tensors(trajs)\n",
        "           \n",
        "        self.realized_rewards = torch.zeros(num_trajs,self.num_steps,dtype=torch.float64)\n",
        "        self.realized_cum_rewards = torch.zeros(num_trajs, dtype=torch.float64)\n",
        "        \n",
        "        self.realized_G_fun = torch.zeros(num_trajs,self.num_steps,dtype=torch.float64)\n",
        "        self.realized_F_fun = torch.zeros(num_trajs,self.num_steps,dtype=torch.float64)\n",
        "        \n",
        "        self.realized_G_fun_cum = torch.zeros(num_trajs,dtype=torch.float64)\n",
        "        self.realized_F_fun_cum = torch.zeros(num_trajs,dtype=torch.float64)\n",
        "        \n",
        "        \n",
        "        num_iter_IRL = 3\n",
        "        \n",
        "        for i in range(num_iter_IRL):\n",
        "            \n",
        "            print('GIRL iteration = ', i)\n",
        "       \n",
        "            self.Omega_mat = self.omega * torch.eye(self.num_assets,dtype=torch.float64)\n",
        "    \n",
        "            for n in range(num_trajs):\n",
        "                for t in range(self.num_steps):\n",
        "                    \n",
        "                    \n",
        "                    # compute rewards obtained at each step for each trajectory\n",
        "                    # given the model paramaters\n",
        "        \n",
        "                    self.realized_rewards[n,t] = self.compute_reward_on_traj(t,\n",
        "                                                                self.data_xvals[n,t,:],\n",
        "                                                                self.data_uvals[n,t,:])\n",
        "                                                                \n",
        "            \n",
        "                    # compute the log-likelihood by looping over trajectories\n",
        "                    self.realized_G_fun[n,t] = self.compute_G_fun_on_traj(t,\n",
        "                                                                self.data_xvals[n,t,:],\n",
        "                                                                self.data_uvals[n,t,:])\n",
        "                \n",
        "                \n",
        "                    self.realized_F_fun[n,t] = self.compute_F_fun_on_traj(t,\n",
        "                                                                self.data_xvals[n,t,:])\n",
        "                \n",
        "\n",
        "                self.realized_cum_rewards[n] = self.realized_rewards[n,:].sum()\n",
        "                self.realized_G_fun_cum[n] = self.realized_G_fun[n,:].sum()\n",
        "                self.realized_F_fun_cum[n] = self.realized_G_fun[n,:].sum()\n",
        "            \n",
        "            # the negative log-likelihood will not include terms ~ Sigma_p as we do not optimize over its value\n",
        "            loss = - self.beta*(self.realized_G_fun_cum.sum() - self.realized_F_fun_cum.sum())\n",
        "        \n",
        "            optimizer.zero_grad()\n",
        "        \n",
        "            loss.backward() \n",
        "        \n",
        "            optimizer.step()\n",
        "        \n",
        "            print('Iteration = ', i)\n",
        "            print('Loss = ', loss.detach().numpy())\n",
        "        \n",
        "        \n",
        "        \n",
        "        \n",
        "        print('Done optimizing reward parameters')\n",
        "            \n",
        "#     def check_convergence(self, new_T0, new_transition, new_emission):\n",
        "  \n",
        "#         delta_T0 = torch.max(torch.abs(self.T0 - new_T0)).item() < self.epsilon\n",
        "#         delta_T = torch.max(torch.abs(self.T - new_transition)).item() < self.epsilon\n",
        "#         delta_E = torch.max(torch.abs(self.E - new_emission)).item() < self.epsilon\n",
        "\n",
        "#         return delta_T0 and delta_T and delta_E\n",
        "    \n",
        "        \n",
        "\n"
      ],
      "execution_count": 0,
      "outputs": []
    },
    {
      "cell_type": "markdown",
      "metadata": {
        "id": "N_8XeDlpPQOV",
        "colab_type": "text"
      },
      "source": [
        "## Simulate portfolio data"
      ]
    },
    {
      "cell_type": "markdown",
      "metadata": {
        "id": "Gy2u0fkyPQOX",
        "colab_type": "text"
      },
      "source": [
        "### Simulate the market factor as a lognormal with a fixed drift and vol"
      ]
    },
    {
      "cell_type": "code",
      "metadata": {
        "id": "F25fZ-s9PQOb",
        "colab_type": "code",
        "colab": {}
      },
      "source": [
        "mu_market = 0.05\n",
        "vol_market = 0.25\n",
        "init_market_val = 100.0\n",
        "\n",
        "r_rf = 0.02  # risk-free rate - the first asset will be cash\n",
        "\n",
        "num_steps = 10 \n",
        "dt = 0.25 # quarterly time steps\n",
        "\n",
        "num_risky_assets = 99 # 100\n",
        "\n",
        "returns_market = np.zeros(num_steps)\n",
        "market_vals = np.zeros(num_steps)\n",
        "market_vals[0] = 100.0  # initial value\n",
        "\n",
        "\n",
        "        \n",
        "for t in range(1,num_steps):\n",
        "\n",
        "        rand_norm = np.random.randn()\n",
        "        \n",
        "        # use log-returns of market as 'returns_market'\n",
        "        returns_market[t] = mu_market * dt + vol_market * np.sqrt(dt) * rand_norm\n",
        "        \n",
        "        market_vals[t] = market_vals[t-1] * np.exp((mu_market - 0.5*vol_market**2)*dt + \n",
        "                                                         vol_market*np.sqrt(dt)*rand_norm)\n",
        "        "
      ],
      "execution_count": 0,
      "outputs": []
    },
    {
      "cell_type": "code",
      "metadata": {
        "id": "C6uoPJzdPQOp",
        "colab_type": "code",
        "colab": {},
        "outputId": "2d10bf90-dd09-4347-ae3b-1d45d693ae31"
      },
      "source": [
        "plt.plot(market_vals)"
      ],
      "execution_count": 0,
      "outputs": [
        {
          "output_type": "execute_result",
          "data": {
            "text/plain": [
              "[<matplotlib.lines.Line2D at 0x1230edd30>]"
            ]
          },
          "metadata": {
            "tags": []
          },
          "execution_count": 10
        },
        {
          "output_type": "display_data",
          "data": {
            "image/png": "[encoded data removed]",
            "text/plain": [
              "<Figure size 432x288 with 1 Axes>"
            ]
          },
          "metadata": {
            "tags": [],
            "needs_background": "light"
          }
        }
      ]
    },
    {
      "cell_type": "markdown",
      "metadata": {
        "id": "sUUBRbwbPQO1",
        "colab_type": "text"
      },
      "source": [
        "### Simulate market betas and idiosyncratic alphas within pre-defined ranges"
      ]
    },
    {
      "cell_type": "code",
      "metadata": {
        "id": "qraR7fRVPQO4",
        "colab_type": "code",
        "colab": {
          "base_uri": "https://localhost:8080/",
          "height": 86
        },
        "outputId": "288cb11d-d909-4903-a8fb-139ccf88a614"
      },
      "source": [
        "beta_min = 0.05\n",
        "beta_max = 0.85\n",
        "beta_vals = np.random.uniform(low=beta_min, high=beta_max, size=num_risky_assets)\n",
        "\n",
        "alpha_min = - 0.05\n",
        "alpha_max = 0.15\n",
        "alpha_vals = np.random.uniform(low=alpha_min, high=alpha_max, size=num_risky_assets)\n",
        "\n",
        "print(beta_vals[0:10])\n",
        "print(alpha_vals[0:10])"
      ],
      "execution_count": 6,
      "outputs": [
        {
          "output_type": "stream",
          "text": [
            "[0.0842848  0.45543819 0.80608157 0.47250252 0.31762463 0.73996484\n",
            " 0.50011402 0.41113022 0.18095608 0.60954743]\n",
            "[-0.00338752  0.09271183  0.04032351  0.10420797 -0.01144807  0.09202738\n",
            " -0.00620055 -0.04956128  0.12830047  0.09165638]\n"
          ],
          "name": "stdout"
        }
      ]
    },
    {
      "cell_type": "markdown",
      "metadata": {
        "id": "DNFzG5dgPQPB",
        "colab_type": "text"
      },
      "source": [
        "### Simulate time-dependent expected returns"
      ]
    },
    {
      "cell_type": "code",
      "metadata": {
        "id": "a36GRMAlPQPD",
        "colab_type": "code",
        "colab": {}
      },
      "source": [
        "# time-independent expected returns would be equal to alpha + beta * expected_market_return \n",
        "# make them time-dependent (and correlated with actual returns) as alpha + beta * oracle_market_returns\n",
        "# oracle expected returns pick into the future! \n",
        "\n",
        "oracle_coeff = 0.2\n",
        "mu_vec = mu_market * np.ones(num_steps)\n",
        "oracle_market_returns = mu_vec * dt + oracle_coeff*(returns_market - mu_vec) \n",
        "\n",
        "expected_risky_returns = np.zeros((num_steps, num_risky_assets))\n",
        "\n",
        "for t in range(num_steps):\n",
        "    expected_risky_returns[t,:] = alpha_vals * dt + beta_vals * oracle_market_returns[t]"
      ],
      "execution_count": 0,
      "outputs": []
    },
    {
      "cell_type": "markdown",
      "metadata": {
        "id": "DDN_R3znPQPK",
        "colab_type": "text"
      },
      "source": [
        "### Initial values of all assets "
      ]
    },
    {
      "cell_type": "code",
      "metadata": {
        "id": "YneTj6IBPQPM",
        "colab_type": "code",
        "colab": {}
      },
      "source": [
        "val_min = 20.0\n",
        "val_max = 120.0\n",
        "\n",
        "init_risky_asset_vals = np.random.uniform(low=val_min, high=val_max, size=num_risky_assets)"
      ],
      "execution_count": 0,
      "outputs": []
    },
    {
      "cell_type": "markdown",
      "metadata": {
        "id": "nqd7WIxbPQPS",
        "colab_type": "text"
      },
      "source": [
        "### Simulate realized returns and asset prices"
      ]
    },
    {
      "cell_type": "code",
      "metadata": {
        "id": "tSL2TU1IPQPW",
        "colab_type": "code",
        "colab": {}
      },
      "source": [
        "# make realized returns and realized asset values by simulating from a one-factor model \n",
        "# with time-dependent expected returns\n",
        "\n",
        "risky_asset_returns = np.zeros((num_steps, num_risky_assets))\n",
        "risky_asset_vals = np.zeros((num_steps, num_risky_assets))\n",
        "\n",
        "idiosync_vol =  0.05 # vol_market #  \n",
        "\n",
        "for t in range(num_steps):\n",
        "    \n",
        "    rand_norm = np.random.randn(num_risky_assets)\n",
        "        \n",
        "    # asset returns are simulated from a one-factor model\n",
        "    risky_asset_returns[t,:] = (expected_risky_returns[t,:] + beta_vals * (returns_market[t] - mu_market * dt) \n",
        "                         + idiosync_vol * np.sqrt(1 - beta_vals**2) * np.sqrt(dt) * rand_norm)\n",
        "        \n",
        "    # asset values\n",
        "    if t == 0:\n",
        "        risky_asset_vals[t,:] = init_risky_asset_vals\n",
        "    else:\n",
        "        risky_asset_vals[t] = risky_asset_vals[t-1] * (1 + risky_asset_returns[t,:])\n",
        "   "
      ],
      "execution_count": 0,
      "outputs": []
    },
    {
      "cell_type": "code",
      "metadata": {
        "id": "YvHvV7B6PQPh",
        "colab_type": "code",
        "colab": {
          "base_uri": "https://localhost:8080/",
          "height": 295
        },
        "outputId": "a207dd16-dffc-43ae-b59e-95c1b2802ba6"
      },
      "source": [
        "# compare the realized and expected returns\n",
        "# Note that they appear correlated - this is because we constructed them so!\n",
        "\n",
        "# pick a random asset to show\n",
        "asset_idx =  4 # 8 # 6 # 5\n",
        "\n",
        "plt.plot(expected_risky_returns[:,asset_idx],label='expected_return')\n",
        "plt.plot(risky_asset_returns[:,asset_idx],label='realized_return',color='r')\n",
        "plt.legend()\n",
        "plt.xlabel('Time Steps')\n",
        "plt.title('Realized returns vs expected returns')\n",
        "plt.show()\n"
      ],
      "execution_count": 11,
      "outputs": [
        {
          "output_type": "display_data",
          "data": {
            "image/png": "[encoded data removed]",
            "text/plain": [
              "<Figure size 432x288 with 1 Axes>"
            ]
          },
          "metadata": {
            "tags": []
          }
        }
      ]
    },
    {
      "cell_type": "markdown",
      "metadata": {
        "id": "WqAdjcoFPQPp",
        "colab_type": "text"
      },
      "source": [
        "### Compute the empirical correlation matrix using realized returns"
      ]
    },
    {
      "cell_type": "code",
      "metadata": {
        "id": "sl5JQ3_8PQPs",
        "colab_type": "code",
        "colab": {
          "base_uri": "https://localhost:8080/",
          "height": 34
        },
        "outputId": "a3f10750-b7af-451f-8221-2a7a81432fba"
      },
      "source": [
        "cov_mat_r = np.cov(risky_asset_returns.T) \n",
        "\n",
        "print(cov_mat_r.shape)\n",
        "\n",
        "D,v = np.linalg.eigh(cov_mat_r)\n",
        "\n",
        "eigenvals = D[::-1]  # put them in a descended order"
      ],
      "execution_count": 12,
      "outputs": [
        {
          "output_type": "stream",
          "text": [
            "(99, 99)\n"
          ],
          "name": "stdout"
        }
      ]
    },
    {
      "cell_type": "code",
      "metadata": {
        "id": "H-HzoeHOPQP0",
        "colab_type": "code",
        "colab": {
          "base_uri": "https://localhost:8080/",
          "height": 69
        },
        "outputId": "c3b4677e-aff8-4ae0-c376-04d2803ddf78"
      },
      "source": [
        "# eigenvalues: the largest eigenvalue is the market factor \n",
        "eigenvals[0:10]"
      ],
      "execution_count": 13,
      "outputs": [
        {
          "output_type": "execute_result",
          "data": {
            "text/plain": [
              "array([6.09696411e-01, 7.49262351e-03, 6.59977609e-03, 5.44053910e-03,\n",
              "       5.16894228e-03, 4.80217014e-03, 3.89928069e-03, 3.38052740e-03,\n",
              "       2.63098508e-03, 1.26309957e-16])"
            ]
          },
          "metadata": {
            "tags": []
          },
          "execution_count": 13
        }
      ]
    },
    {
      "cell_type": "markdown",
      "metadata": {
        "id": "ohSC6oDePQP5",
        "colab_type": "text"
      },
      "source": [
        "### Add a riskless bond as one more asset"
      ]
    },
    {
      "cell_type": "code",
      "metadata": {
        "id": "F7nwaM28PQP9",
        "colab_type": "code",
        "colab": {}
      },
      "source": [
        "num_assets = num_risky_assets + 1\n",
        "\n",
        "bond_val = 100.0\n",
        "\n",
        "# add the bond to initial assets\n",
        "init_asset_vals = np.hstack((np.array([bond_val]),\n",
        "                            init_risky_asset_vals))"
      ],
      "execution_count": 0,
      "outputs": []
    },
    {
      "cell_type": "markdown",
      "metadata": {
        "id": "hZQgn_CTPQQE",
        "colab_type": "text"
      },
      "source": [
        "### Make the initial portfolio "
      ]
    },
    {
      "cell_type": "code",
      "metadata": {
        "id": "PyMLBotBPQQH",
        "colab_type": "code",
        "colab": {}
      },
      "source": [
        "# consider here two choices: equal or equally-weighted \n",
        "\n",
        "init_port_choice =  'equal' # 'equally_weighted'  #\n",
        "\n",
        "init_cash = 1000.0\n",
        "init_total_asset = np.sum(init_asset_vals)\n",
        "\n",
        "x_vals_init = np.zeros(num_assets)\n",
        "\n",
        "if init_port_choice == 'equal': \n",
        "    # hold equal amounts of cash in each asset\n",
        "    amount_per_asset = init_cash/num_assets\n",
        "    x_vals_init = amount_per_asset * np.ones(num_assets)\n",
        "\n",
        "elif init_port_choice == 'equally_weighted':\n",
        "    amount_per_asset = init_cash/init_total_asset\n",
        "    x_vals_init = amount_per_asset * init_asset_vals\n",
        "    \n"
      ],
      "execution_count": 0,
      "outputs": []
    },
    {
      "cell_type": "markdown",
      "metadata": {
        "id": "Zkj8GdPDPQQP",
        "colab_type": "text"
      },
      "source": [
        "### Make the target portfolio"
      ]
    },
    {
      "cell_type": "code",
      "metadata": {
        "id": "LyyKCaPGPQQS",
        "colab_type": "code",
        "colab": {
          "base_uri": "https://localhost:8080/",
          "height": 34
        },
        "outputId": "4b9941d1-275d-4e66-ec30-39e776e46090"
      },
      "source": [
        "# make a target portfolio term structure by defining it as the initial portfolio growing at some fixed and high rate\n",
        "\n",
        "target_portfolio = [init_cash]\n",
        "\n",
        "target_return = 0.15 # 0.20\n",
        "coeff_target = 1.1 # 1.2 # 1.0\n",
        "\n",
        "for i in range(1,num_steps):\n",
        "    target_portfolio.append(target_portfolio[i-1]*np.exp(dt * target_return) )\n",
        "    \n",
        "target_portfolio = coeff_target*np.array(target_portfolio)    \n",
        "print(target_portfolio[0], target_portfolio[-1])"
      ],
      "execution_count": 16,
      "outputs": [
        {
          "output_type": "stream",
          "text": [
            "1100.0 1541.5835692311712\n"
          ],
          "name": "stdout"
        }
      ]
    },
    {
      "cell_type": "markdown",
      "metadata": {
        "id": "2UMA8UwlPQQc",
        "colab_type": "text"
      },
      "source": [
        "### Define model parameters"
      ]
    },
    {
      "cell_type": "code",
      "metadata": {
        "id": "5G_Y87m2PQQe",
        "colab_type": "code",
        "colab": {
          "base_uri": "https://localhost:8080/",
          "height": 34
        },
        "outputId": "20a67b39-dd99-44df-d136-a5cb7a8ea86c"
      },
      "source": [
        "riskfree_rate = 0.02\n",
        "fee_bond = 0.05 # 0.01 # \n",
        "fee_stock = 0.1 # 0.05 # 20.0 # 0.1 # 1.0 # 100 # 1.0 # 0.5 \n",
        "\n",
        "all_fees = np.zeros(num_risky_assets + 1)\n",
        "all_fees[0] = fee_bond\n",
        "all_fees[1:] = fee_stock\n",
        "Omega_mat = np.diag(all_fees)\n",
        "\n",
        "\n",
        "# model parameters\n",
        "\n",
        "lambd = 0.001 #  0.00065 # 0.0006 # 0.001 # 1.0 # 5.0 # 3.0 # 5.0 # 0.1 # 0.12 # 0.08 # 0.05 # 0.0005\n",
        "Omega_mat = 15.5 * np.diag(all_fees) # 16.5 * # 100.0 * np.diag(all_fees)\n",
        "# Omega_mat = 120.0 * np.diag(all_fees)\n",
        "eta = 1.5 # 1.3 # 1.5 # 1.2\n",
        "\n",
        "beta = 100.0\n",
        "gamma = 0.95 \n",
        "\n",
        "exp_returns = expected_risky_returns\n",
        "\n",
        "Sigma_r = cov_mat_r\n",
        "\n",
        "# make the benchmark target portfolio by growing the initial portfolio value at rate eta\n",
        "# benchmark_portf = [init_cash]\n",
        "\n",
        "target_return =  0.5 # 0.4 # 0.25 # 0.15 #\n",
        "# coeff_target = 1.1 # 1.2 # 1.0\n",
        "benchmark_portf = [ init_cash * np.exp(dt * target_return)]\n",
        "\n",
        "rho = 0.4 # 0.4 # 0.2 # 0.2 # 0.5\n",
        "\n",
        "for i in range(1,num_steps):\n",
        "    benchmark_portf.append(benchmark_portf[i-1]*np.exp(dt * target_return) )\n",
        "    \n",
        "# target_portfolio = coeff_target*np.array(target_portfolio)    \n",
        "print(benchmark_portf[0], benchmark_portf[-1])"
      ],
      "execution_count": 17,
      "outputs": [
        {
          "output_type": "stream",
          "text": [
            "1133.1484530668263 3490.3429574618413\n"
          ],
          "name": "stdout"
        }
      ]
    },
    {
      "cell_type": "markdown",
      "metadata": {
        "id": "YT6003xKPQQm",
        "colab_type": "text"
      },
      "source": [
        "### Simulate portfolio data\n",
        "\n",
        "Produce a list of trajectories, where each trajectory is a list made of state-action pairs"
      ]
    },
    {
      "cell_type": "code",
      "metadata": {
        "id": "ZJbI_k9mPQQo",
        "colab_type": "code",
        "colab": {
          "base_uri": "https://localhost:8080/",
          "height": 34
        },
        "outputId": "88a982af-8d03-4f87-ca0f-0fee1b351dad"
      },
      "source": [
        "num_sim = 1000\n",
        "trajs = []\n",
        "\n",
        "t_0 = time.time()\n",
        "\n",
        "x_vals = [x_vals_init]\n",
        "for n in range(num_sim):\n",
        "    this_traj = []\n",
        "    x_t = x_vals_init[:]\n",
        "    for t in range(0,num_steps):\n",
        "        \n",
        "        exp_returns = np.hstack([riskfree_rate,expected_risky_returns[t,:]])\n",
        "        \n",
        "        Sigma_r_np = Sigma_r # array of shape num_stocks x num_stocks\n",
        "                                              \n",
        "        # make block-matrix Sigma_r_tilde with Sigma_r_tilde[0,0] = 0, and equity correlation matrix inside\n",
        "        Sigma_r_tilde = np.zeros((num_assets, num_assets))\n",
        "        Sigma_r_tilde[1:,1:] = Sigma_r\n",
        "        \n",
        "        one_plus_exp_ret = np.ones(num_assets) + exp_returns\n",
        "        \n",
        "        Sigma_hat_t = Sigma_r_tilde + np.outer(one_plus_exp_ret, one_plus_exp_ret)\n",
        "        Sigma_tilde = Sigma_hat_t + (1/lambd)*Omega_mat\n",
        "        Sigma_tilde_inv = np.linalg.pinv(Sigma_tilde)\n",
        "        \n",
        "        # compute u_t\n",
        "        \n",
        "        # first compute R_u, R_ux\n",
        "        R_u = (- np.ones(num_assets) + 2*lambd*(1-rho)*benchmark_portf[t]*(np.ones(num_assets)+\n",
        "                                                                         exp_returns))\n",
        "        \n",
        "        R_ux = (2*lambd*eta*rho*np.outer(np.ones(num_assets)+exp_returns,\n",
        "                                       np.ones(num_assets)) - 2*lambd*Sigma_hat_t)\n",
        "        \n",
        "        \n",
        "        u_t = (1/(2*lambd))* Sigma_tilde_inv.dot(R_u + R_ux.dot(x_t))\n",
        "        \n",
        "        # randomize the action\n",
        "        sigma_p = 0.2\n",
        "        rand_norm_p = np.random.randn(num_assets)\n",
        "        u_t = u_t *(np.ones(num_assets) + sigma_p*rand_norm_p)\n",
        "        \n",
        "        # compute new values of x_t\n",
        "        x_next = x_t + u_t\n",
        "    \n",
        "        # grow this with random return\n",
        "        \n",
        "        idiosync_vol =  0.05 # vol_market #      \n",
        "        rand_norm = np.random.randn(num_risky_assets)\n",
        "        \n",
        "        # asset returns are simulated from a one-factor model\n",
        "        risky_asset_returns = (expected_risky_returns[t,:] + beta_vals * (returns_market[t] - mu_market * dt) \n",
        "                         + idiosync_vol * np.sqrt(1 - beta_vals**2) * np.sqrt(dt) * rand_norm)\n",
        "        \n",
        "        returns = np.hstack((riskfree_rate,risky_asset_returns))\n",
        "        \n",
        "        x_next = (1+returns)*x_next\n",
        "        \n",
        "        this_traj.append((x_t, u_t))\n",
        "        \n",
        "        # rename\n",
        "        x_t = x_next\n",
        "    \n",
        "    # end the loop over time steps\n",
        "    trajs.append(this_traj)\n",
        "\n",
        "print('Done simulating trajectories in %f sec'% (time.time() - t_0))        "
      ],
      "execution_count": 19,
      "outputs": [
        {
          "output_type": "stream",
          "text": [
            "Done simulating trajectories in 25.646238 sec\n"
          ],
          "name": "stdout"
        }
      ]
    },
    {
      "cell_type": "code",
      "metadata": {
        "id": "aTWkeFsDPQQu",
        "colab_type": "code",
        "colab": {}
      },
      "source": [
        "np.save('State_act_trajs.npy', trajs)"
      ],
      "execution_count": 0,
      "outputs": []
    },
    {
      "cell_type": "code",
      "metadata": {
        "id": "SNtCvuFMPQQ0",
        "colab_type": "code",
        "colab": {}
      },
      "source": [
        "trajs2 = np.load('State_act_trajs.npy')"
      ],
      "execution_count": 0,
      "outputs": []
    },
    {
      "cell_type": "code",
      "metadata": {
        "id": "A6FFdGzmPQQ8",
        "colab_type": "code",
        "colab": {},
        "outputId": "65757d71-7efc-484c-9edc-3821f152058f"
      },
      "source": [
        "print(len(trajs2[95][-1][0]))  # the number of asset position\n",
        "print(len(trajs2[95]))  # the number of time steps in each trajectory"
      ],
      "execution_count": 0,
      "outputs": [
        {
          "output_type": "stream",
          "text": [
            "100\n",
            "10\n"
          ],
          "name": "stdout"
        }
      ]
    },
    {
      "cell_type": "markdown",
      "metadata": {
        "id": "VQKh7ArNPQRB",
        "colab_type": "text"
      },
      "source": [
        "## Train G-learning on simulated data"
      ]
    },
    {
      "cell_type": "code",
      "metadata": {
        "id": "58NX65KOPQRD",
        "colab_type": "code",
        "colab": {}
      },
      "source": [
        "# create a G-learner\n",
        "G_learner = G_learning_portfolio_opt(num_steps,\n",
        "                 lambd, \n",
        "                 Omega_mat, \n",
        "                 eta,\n",
        "                 rho,\n",
        "                 benchmark_portf,\n",
        "                 beta,\n",
        "                 gamma, \n",
        "                 num_risky_assets,\n",
        "                 riskfree_rate,\n",
        "                 expected_risky_returns, # array of shape num_steps x num_stocks\n",
        "                 Sigma_r,     # covariance matrix of returns of risky matrix                    \n",
        "                 x_vals_init, # array of initial values of len (num_stocks+1)\n",
        "                 use_for_WM = True) # use for wealth management tasks\n",
        "                 \n"
      ],
      "execution_count": 0,
      "outputs": []
    },
    {
      "cell_type": "code",
      "metadata": {
        "id": "JiAyHd94PQRI",
        "colab_type": "code",
        "colab": {
          "base_uri": "https://localhost:8080/",
          "height": 52
        },
        "outputId": "15e53a96-2615-4c4d-a3fa-d16fa6e53f1e"
      },
      "source": [
        "# Do G-learning\n",
        "\n",
        "err_tol=1.e-8 # 5.0e-5 \n",
        "max_iter=500\n",
        "\n",
        "t_0 = time.time()\n",
        "\n",
        "G_learner.G_learning(err_tol=err_tol, max_iter=max_iter)\n",
        "\n",
        "print('Done in %f sec'% (time.time() - t_0))"
      ],
      "execution_count": 22,
      "outputs": [
        {
          "output_type": "stream",
          "text": [
            "Doing G-learning, it may take a few seconds...\n",
            "Done in 1.569658 sec\n"
          ],
          "name": "stdout"
        }
      ]
    },
    {
      "cell_type": "code",
      "metadata": {
        "id": "2OfnNzLYPQRM",
        "colab_type": "code",
        "colab": {
          "base_uri": "https://localhost:8080/",
          "height": 34
        },
        "outputId": "d85acead-a03d-4ca3-ec4c-2f51faed377d"
      },
      "source": [
        "G_learner.iter_counts"
      ],
      "execution_count": 23,
      "outputs": [
        {
          "output_type": "execute_result",
          "data": {
            "text/plain": [
              "array([24., 23., 22., 21., 20., 19., 19., 21., 35.,  0.])"
            ]
          },
          "metadata": {
            "tags": []
          },
          "execution_count": 23
        }
      ]
    },
    {
      "cell_type": "markdown",
      "metadata": {
        "id": "85FBxHVBPQRR",
        "colab_type": "text"
      },
      "source": [
        "## Results of G-learning"
      ]
    },
    {
      "cell_type": "code",
      "metadata": {
        "id": "jUeIUzmMPQRU",
        "colab_type": "code",
        "colab": {
          "base_uri": "https://localhost:8080/",
          "height": 295
        },
        "outputId": "6366562c-45bc-437f-dbda-a802cbee7ede"
      },
      "source": [
        "G_learner.project_cash_injections()\n",
        "\n",
        "eta_ = G_learner.eta.detach().numpy()\n",
        "realized_target_portf = eta_ * G_learner.expected_portf_val.numpy()\n",
        "\n",
        "plt.plot(G_learner.expected_c_t, label='optimal cash installments')\n",
        "plt.plot(G_learner.expected_portf_val, label='expected portfolio value')\n",
        "plt.plot(realized_target_portf,label='realized target portfolio',color='r')\n",
        "\n",
        "plt.legend()\n",
        "# plt.ylim(-1000,2000)\n",
        "plt.xlabel('Time Steps')\n",
        "plt.title('Optimal cash installment and portfolio value')\n",
        "# plt.savefig('G_learning_wealth_unconstrained.png')\n",
        "plt.show()"
      ],
      "execution_count": 24,
      "outputs": [
        {
          "output_type": "display_data",
          "data": {
            "image/png": "[encoded data removed]",
            "text/plain": [
              "<Figure size 432x288 with 1 Axes>"
            ]
          },
          "metadata": {
            "tags": []
          }
        }
      ]
    },
    {
      "cell_type": "code",
      "metadata": {
        "id": "yucznmzoPQRY",
        "colab_type": "code",
        "colab": {
          "base_uri": "https://localhost:8080/",
          "height": 52
        },
        "outputId": "b388e549-067c-4c68-9619-4f9edf47f9bd"
      },
      "source": [
        "G_learner.expected_c_t"
      ],
      "execution_count": 25,
      "outputs": [
        {
          "output_type": "execute_result",
          "data": {
            "text/plain": [
              "tensor([ 0.0000, 58.1777, 59.4622, 59.8229, 59.0535, 57.5410, 54.1232, 48.8190,\n",
              "        40.1209, 57.8093], dtype=torch.float64)"
            ]
          },
          "metadata": {
            "tags": []
          },
          "execution_count": 25
        }
      ]
    },
    {
      "cell_type": "markdown",
      "metadata": {
        "id": "JQXvu1HqPQRc",
        "colab_type": "text"
      },
      "source": [
        "### GIRL (G-learning IRL)"
      ]
    },
    {
      "cell_type": "code",
      "metadata": {
        "id": "vvgFRjCXPQRe",
        "colab_type": "code",
        "colab": {
          "base_uri": "https://localhost:8080/",
          "height": 52
        },
        "outputId": "e26a2cd2-8987-416b-cc32-f1c320c82c5a"
      },
      "source": [
        "learning_rate = 0.01\n",
        "torch.autograd.set_detect_anomaly(True)\n",
        "G_learner.MaxEntIRL(trajs, learning_rate,err_tol,max_iter)"
      ],
      "execution_count": 0,
      "outputs": [
        {
          "output_type": "stream",
          "text": [
            "Doing G-learning, it may take a few seconds...\n",
            "GIRL iteration =  0\n"
          ],
          "name": "stdout"
        }
      ]
    },
    {
      "cell_type": "code",
      "metadata": {
        "id": "kO2LeCCsPQRi",
        "colab_type": "code",
        "colab": {},
        "outputId": "84000521-26ba-49df-dc43-44f859bf8c0b"
      },
      "source": [
        "print(G_learner.realized_rewards[1, 0:5])\n",
        "print(G_learner.realized_rewards[10, 0:5])"
      ],
      "execution_count": 0,
      "outputs": [
        {
          "output_type": "stream",
          "text": [
            "tensor([ -70.6741, -120.5512, -191.0832, -316.7193, -481.4396],\n",
            "       dtype=torch.float64, grad_fn=<SliceBackward>)\n",
            "tensor([ -70.7036, -121.1960, -193.2990, -322.7138, -488.9079],\n",
            "       dtype=torch.float64, grad_fn=<SliceBackward>)\n"
          ],
          "name": "stdout"
        }
      ]
    },
    {
      "cell_type": "code",
      "metadata": {
        "id": "txOKhgy7PQRm",
        "colab_type": "code",
        "colab": {},
        "outputId": "12eb3dfb-f4c7-462e-aea0-38fd37080759"
      },
      "source": [
        "sim_idx =  100 # 4 # 8 # 6 # 5\n",
        "\n",
        "realized_rewards = G_learner.realized_rewards[sim_idx,:].detach().numpy()\n",
        "plt.plot(realized_rewards,label='realized rewards')\n",
        "# plt.plot(risky_asset_returns[:,asset_idx],label='realized_return',color='r')\n",
        "plt.legend()\n",
        "plt.xlabel('Time Steps')\n",
        "plt.title('Realized rewards')\n",
        "plt.show()\n",
        "\n"
      ],
      "execution_count": 0,
      "outputs": [
        {
          "output_type": "display_data",
          "data": {
            "image/png": "[encoded data removed]",
            "text/plain": [
              "<Figure size 432x288 with 1 Axes>"
            ]
          },
          "metadata": {
            "tags": [],
            "needs_background": "light"
          }
        }
      ]
    },
    {
      "cell_type": "code",
      "metadata": {
        "id": "p6UTt7PkPQSA",
        "colab_type": "code",
        "colab": {},
        "outputId": "57c6bab5-461a-4b78-a89d-b944afacccd2"
      },
      "source": [
        "plt.hist(G_learner.realized_cum_rewards.detach().numpy())"
      ],
      "execution_count": 0,
      "outputs": [
        {
          "output_type": "execute_result",
          "data": {
            "text/plain": [
              "(array([  4.,  26.,  82., 187., 249., 235., 144.,  54.,  14.,   5.]),\n",
              " array([-8462.88890375, -8443.93930171, -8424.98969966, -8406.04009762,\n",
              "        -8387.09049558, -8368.14089353, -8349.19129149, -8330.24168945,\n",
              "        -8311.2920874 , -8292.34248536, -8273.39288332]),\n",
              " <a list of 10 Patch objects>)"
            ]
          },
          "metadata": {
            "tags": []
          },
          "execution_count": 222
        },
        {
          "output_type": "display_data",
          "data": {
            "image/png": "[encoded data removed]",
            "text/plain": [
              "<Figure size 432x288 with 1 Axes>"
            ]
          },
          "metadata": {
            "tags": [],
            "needs_background": "light"
          }
        }
      ]
    },
    {
      "cell_type": "code",
      "metadata": {
        "id": "5KQx_nbZPQSE",
        "colab_type": "code",
        "colab": {}
      },
      "source": [
        "# from numpy version (with different parameters):\n",
        "\n",
        "# array([   0.        , -259.81511723,  -99.29580835,  -34.04944049,\n",
        "#          -1.25448785,   12.66338554,   31.44010653,   56.64194962,\n",
        "#         118.01539888,  269.24958773])"
      ],
      "execution_count": 0,
      "outputs": []
    }
  ]
}