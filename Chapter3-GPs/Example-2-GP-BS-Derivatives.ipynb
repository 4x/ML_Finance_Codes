{
 "cells": [
  {
   "cell_type": "code",
   "execution_count": 1,
   "metadata": {},
   "outputs": [],
   "source": [
    "# Example-2-GP-BS-Derivatives\n",
    "# Author: Matthew Dixon\n",
    "# Version: 1.0 (28.4.2020)\n",
    "# License: MIT\n",
    "# Email: matthew.dixon@iit.edu\n",
    "# Notes: tested on Mac OS X running Python 3.6.9 with the following packages:\n",
    "# scikit-learn=0.22.1, numpy=1.18.1, matplotlib=3.1.3\n",
    "# Citation: Please cite the following reference if this notebook is used for research purposes:\n",
    "# Dixon M.F., Halperin I. and P. Bilokon, Machine Learning in Finance: From Theory to Practice, Springer Graduate Textbook Series, 2020."
   ]
  },
  {
   "cell_type": "markdown",
   "metadata": {},
   "source": [
    "# Overview\n",
    "The purpose of this notebook is to demonstrate the derivation of the greeks in a Gaussian Process Regression model (GP), fitted to option price data. \n",
    "\n",
    "In this notebook, European option prices are generated from the Black-Scholes model.  The notebook begins by building a GP call model, where the input is the underlying price. The delta is then derived and compared with the Black-Scholes (BS)\n",
    "delta. The exercise is repeated, but using the volatility as the input instead of the underlying price. The vega of the GP is then derived and compared with the BS vega."
   ]
  },
  {
   "cell_type": "code",
   "execution_count": 2,
   "metadata": {},
   "outputs": [],
   "source": [
    "from BlackScholes import bsformula\n",
    "\n",
    "import numpy as np\n",
    "import scipy as sp\n",
    "\n",
    "from sklearn import gaussian_process\n",
    "from sklearn.gaussian_process.kernels import RBF\n",
    "\n",
    "import matplotlib.pyplot as plt\n",
    "\n",
    "%matplotlib inline"
   ]
  },
  {
   "cell_type": "markdown",
   "metadata": {},
   "source": [
    "## Black-Scholes Model"
   ]
  },
  {
   "cell_type": "markdown",
   "metadata": {},
   "source": [
    "First, set the model parameters"
   ]
  },
  {
   "cell_type": "code",
   "execution_count": 3,
   "metadata": {},
   "outputs": [],
   "source": [
    "KC = 130    # Call strike\n",
    "KP = 70     # Put strike\n",
    "r = 0.002   # risk-free rate\n",
    "sigma = 0.4 # implied volatility\n",
    "T = 2.0     # Time to maturity\n",
    "S0 = 100    # Underlying spot"
   ]
  },
  {
   "cell_type": "code",
   "execution_count": 4,
   "metadata": {},
   "outputs": [],
   "source": [
    "lb = 0   # lower bound on domain\n",
    "ub = 300 # upper bound on domain\n",
    "training_number = 100 # Number of training samples\n",
    "testing_number = 50   # Number of testing samples\n",
    "sigma_n = 1e-8 # additive noise in GP"
   ]
  },
  {
   "cell_type": "markdown",
   "metadata": {},
   "source": [
    "Define the call and put prices using the BS model"
   ]
  },
  {
   "cell_type": "code",
   "execution_count": 5,
   "metadata": {},
   "outputs": [],
   "source": [
    "call = lambda x, y: bsformula(1, lb+(ub-lb)*x, KC, r, T, y, 0)[0]\n",
    "put = lambda x, y: bsformula(-1, lb+(ub-lb)*x, KP, r, T, y, 0)[0]"
   ]
  },
  {
   "cell_type": "markdown",
   "metadata": {},
   "source": [
    "# Delta"
   ]
  },
  {
   "cell_type": "markdown",
   "metadata": {},
   "source": [
    "Generate the training and testing data, where the input is the gridded underlying and the output are the option prices. "
   ]
  },
  {
   "cell_type": "code",
   "execution_count": 6,
   "metadata": {},
   "outputs": [],
   "source": [
    "x_train = np.array(np.linspace(0.01, 1.2, training_number), dtype='float32').reshape(training_number, 1)\n",
    "x_test = np.array(np.linspace(0.01, 1.0, testing_number), dtype='float32').reshape(testing_number, 1)\n",
    "\n",
    "y_train = []\n",
    "    \n",
    "for idx in range(len(x_train)):\n",
    "    y_train.append(call(x_train[idx], sigma))\n",
    "y_train = np.array(y_train)"
   ]
  },
  {
   "cell_type": "markdown",
   "metadata": {},
   "source": [
    "Fit the GP model to the generated data"
   ]
  },
  {
   "cell_type": "code",
   "execution_count": 7,
   "metadata": {
    "scrolled": true
   },
   "outputs": [
    {
     "data": {
      "text/plain": [
       "GaussianProcessRegressor(alpha=1e-10, copy_X_train=True,\n",
       "                         kernel=RBF(length_scale=1), n_restarts_optimizer=20,\n",
       "                         normalize_y=False, optimizer='fmin_l_bfgs_b',\n",
       "                         random_state=None)"
      ]
     },
     "execution_count": 7,
     "metadata": {},
     "output_type": "execute_result"
    }
   ],
   "source": [
    "sk_kernel = RBF(length_scale=1.0, length_scale_bounds=(0.01, 10000.0))\n",
    "gp = gaussian_process.GaussianProcessRegressor(kernel=sk_kernel, n_restarts_optimizer=20)\n",
    "gp.fit(x_train, y_train)\n"
   ]
  },
  {
   "cell_type": "markdown",
   "metadata": {},
   "source": [
    "Get the model's predicted outputs for each of the test inputs"
   ]
  },
  {
   "cell_type": "code",
   "execution_count": 8,
   "metadata": {
    "scrolled": true
   },
   "outputs": [
    {
     "name": "stderr",
     "output_type": "stream",
     "text": [
      "/Users/dez/opt/anaconda3/envs/malifice/lib/python3.6/site-packages/sklearn/gaussian_process/_gpr.py:362: UserWarning: Predicted variances smaller than 0. Setting those variances to 0.\n",
      "  warnings.warn(\"Predicted variances smaller than 0. \"\n"
     ]
    }
   ],
   "source": [
    "y_pred, sigma_hat = gp.predict(x_test, return_std=True)"
   ]
  },
  {
   "cell_type": "markdown",
   "metadata": {},
   "source": [
    "Derive the GP delta"
   ]
  },
  {
   "cell_type": "code",
   "execution_count": 9,
   "metadata": {},
   "outputs": [],
   "source": [
    "l = gp.kernel_.length_scale\n",
    "rbf = gaussian_process.kernels.RBF(length_scale=l)\n",
    " \n",
    "Kernel = rbf(x_train, x_train)\n",
    "K_y = Kernel + np.eye(training_number) * sigma_n\n",
    "L = sp.linalg.cho_factor(K_y)\n",
    "alpha_p = sp.linalg.cho_solve(np.transpose(L), y_train)\n",
    "    \n",
    "k_s = rbf(x_test, x_train)\n",
    "k_s_prime = (x_train.T - x_test) * k_s / l**2\n",
    "f_prime = np.dot(k_s_prime, alpha_p) / (ub - lb)"
   ]
  },
  {
   "cell_type": "markdown",
   "metadata": {},
   "source": [
    "Calculate the BS delta"
   ]
  },
  {
   "cell_type": "code",
   "execution_count": 10,
   "metadata": {
    "scrolled": true
   },
   "outputs": [
    {
     "data": {
      "text/plain": [
       "array([[ 4.84307695e-04],\n",
       "       [-1.08918626e-04],\n",
       "       [-2.91618222e-05],\n",
       "       [ 8.60350357e-05],\n",
       "       [ 3.33168011e-05],\n",
       "       [-2.53176930e-05],\n",
       "       [-5.07483131e-05],\n",
       "       [ 7.07825164e-06],\n",
       "       [ 1.39213664e-05],\n",
       "       [-1.35130371e-05],\n",
       "       [-5.09156375e-05],\n",
       "       [ 7.00502338e-06],\n",
       "       [-5.69830264e-05],\n",
       "       [-2.48890968e-05],\n",
       "       [-2.27851960e-05],\n",
       "       [-3.58832294e-05],\n",
       "       [-4.21880553e-05],\n",
       "       [-3.81434240e-05],\n",
       "       [-2.69698078e-05],\n",
       "       [-2.08925095e-05],\n",
       "       [-2.63691760e-05],\n",
       "       [-3.85055712e-05],\n",
       "       [-4.62312952e-05],\n",
       "       [-4.31809098e-05],\n",
       "       [-3.74999561e-05],\n",
       "       [-3.35809201e-05],\n",
       "       [-4.25953832e-05],\n",
       "       [-5.87952160e-05],\n",
       "       [-6.91413138e-05],\n",
       "       [-6.50452308e-05],\n",
       "       [-5.04262611e-05],\n",
       "       [-4.29148413e-05],\n",
       "       [-5.52078005e-05],\n",
       "       [-8.36374458e-05],\n",
       "       [-1.12426887e-04],\n",
       "       [-1.21165347e-04],\n",
       "       [-1.10638665e-04],\n",
       "       [-9.92387082e-05],\n",
       "       [-1.10182507e-04],\n",
       "       [-1.50763790e-04],\n",
       "       [-1.92977655e-04],\n",
       "       [-1.99959425e-04],\n",
       "       [-1.46857256e-04],\n",
       "       [-4.61904885e-05],\n",
       "       [ 5.99879599e-05],\n",
       "       [ 1.50535878e-04],\n",
       "       [ 2.47078659e-04],\n",
       "       [ 4.19852209e-04],\n",
       "       [ 7.20958406e-04],\n",
       "       [ 1.13495174e-03]])"
      ]
     },
     "execution_count": 10,
     "metadata": {},
     "output_type": "execute_result"
    }
   ],
   "source": [
    "delta = lambda x, y: bsformula(1, lb+(ub-lb)*x, KC, r, T, y, 0)[1]\n",
    "delta(x_test, sigma) - f_prime"
   ]
  },
  {
   "cell_type": "markdown",
   "metadata": {},
   "source": [
    "Compare the GP delta with the BS delta"
   ]
  },
  {
   "cell_type": "code",
   "execution_count": 11,
   "metadata": {},
   "outputs": [
    {
     "data": {
      "image/png": "[encoded data removed]",
      "text/plain": [
       "<Figure size 720x432 with 1 Axes>"
      ]
     },
     "metadata": {},
     "output_type": "display_data"
    }
   ],
   "source": [
    "plt.figure(figsize = (10,6),facecolor='white', edgecolor='black')\n",
    "plt.plot(lb+(ub-lb)*x_test, delta(x_test,sigma), color = 'black', label = 'Exact')\n",
    "plt.plot(lb+(ub-lb)*x_test, f_prime, color = 'red', label = 'GP')\n",
    "plt.grid(True)\n",
    "plt.xlabel('S')\n",
    "plt.ylabel('$\\Delta$')\n",
    "plt.legend(loc = 'best', prop={'size':10});"
   ]
  },
  {
   "cell_type": "markdown",
   "metadata": {},
   "source": [
    "Show the error between the GP delta and the BS delta"
   ]
  },
  {
   "cell_type": "code",
   "execution_count": 12,
   "metadata": {},
   "outputs": [
    {
     "data": {
      "image/png": "[encoded data removed]",
      "text/plain": [
       "<Figure size 720x432 with 1 Axes>"
      ]
     },
     "metadata": {},
     "output_type": "display_data"
    }
   ],
   "source": [
    "plt.figure(figsize = (10,6),facecolor='white', edgecolor='black')\n",
    "plt.plot(lb+(ub-lb)*x_test, delta(x_test,sigma) - f_prime, color = 'black', label = 'GP Error')\n",
    "plt.grid(True)\n",
    "plt.xlabel('S')\n",
    "plt.ylabel('Error in $\\Delta$')\n",
    "plt.legend(loc = 'best', prop={'size':10});"
   ]
  },
  {
   "cell_type": "markdown",
   "metadata": {},
   "source": [
    "## Vega"
   ]
  },
  {
   "cell_type": "markdown",
   "metadata": {},
   "source": [
    "Generate the training and testing data, where the input is the gridded underlying and the output are the option prices. The inputs are again scaled to the unit domain. "
   ]
  },
  {
   "cell_type": "code",
   "execution_count": 13,
   "metadata": {},
   "outputs": [],
   "source": [
    "x_train = np.array(np.linspace(0.01, 1.2, training_number), dtype='float32').reshape(training_number, 1)\n",
    "x_test = np.array(np.linspace(0.01, 1.0, testing_number), dtype='float32').reshape(testing_number, 1)\n",
    "\n",
    "y_train = []\n",
    "for idx in range(len(x_train)):\n",
    "    y_train.append(call((S0-lb)/(ub-lb), x_train[idx]))\n",
    "y_train = np.array(y_train)"
   ]
  },
  {
   "cell_type": "markdown",
   "metadata": {},
   "source": [
    "Fit the GP model to the generated data"
   ]
  },
  {
   "cell_type": "code",
   "execution_count": 14,
   "metadata": {},
   "outputs": [
    {
     "name": "stderr",
     "output_type": "stream",
     "text": [
      "/Users/dez/opt/anaconda3/envs/malifice/lib/python3.6/site-packages/sklearn/gaussian_process/_gpr.py:494: ConvergenceWarning: lbfgs failed to converge (status=2):\n",
      "ABNORMAL_TERMINATION_IN_LNSRCH.\n",
      "\n",
      "Increase the number of iterations (max_iter) or scale the data as shown in:\n",
      "    https://scikit-learn.org/stable/modules/preprocessing.html\n",
      "  _check_optimize_result(\"lbfgs\", opt_res)\n"
     ]
    },
    {
     "data": {
      "text/plain": [
       "GaussianProcessRegressor(alpha=1e-10, copy_X_train=True,\n",
       "                         kernel=RBF(length_scale=1), n_restarts_optimizer=20,\n",
       "                         normalize_y=False, optimizer='fmin_l_bfgs_b',\n",
       "                         random_state=None)"
      ]
     },
     "execution_count": 14,
     "metadata": {},
     "output_type": "execute_result"
    }
   ],
   "source": [
    "sk_kernel = RBF(length_scale=1.0, length_scale_bounds=(0.01, 10000.0))\n",
    "gp = gaussian_process.GaussianProcessRegressor(kernel=sk_kernel, n_restarts_optimizer=20)\n",
    "gp.fit(x_train, y_train)"
   ]
  },
  {
   "cell_type": "markdown",
   "metadata": {},
   "source": [
    "Get the model's predicted outputs for each of the test inputs"
   ]
  },
  {
   "cell_type": "code",
   "execution_count": 15,
   "metadata": {},
   "outputs": [
    {
     "name": "stderr",
     "output_type": "stream",
     "text": [
      "/Users/dez/opt/anaconda3/envs/malifice/lib/python3.6/site-packages/sklearn/gaussian_process/_gpr.py:362: UserWarning: Predicted variances smaller than 0. Setting those variances to 0.\n",
      "  warnings.warn(\"Predicted variances smaller than 0. \"\n"
     ]
    }
   ],
   "source": [
    "y_pred, sigma_hat = gp.predict(x_test, return_std=True)"
   ]
  },
  {
   "cell_type": "markdown",
   "metadata": {},
   "source": [
    "Derive the GP delta"
   ]
  },
  {
   "cell_type": "code",
   "execution_count": 16,
   "metadata": {},
   "outputs": [],
   "source": [
    "l = gp.kernel_.length_scale\n",
    "rbf = gaussian_process.kernels.RBF(length_scale=l)\n",
    " \n",
    "Kernel= rbf(x_train, x_train)\n",
    "K_y = Kernel + np.eye(training_number) * sigma_n\n",
    "L = sp.linalg.cho_factor(K_y)\n",
    "alpha_p = sp.linalg.cho_solve(np.transpose(L), y_train)\n",
    "    \n",
    "k_s = rbf(x_test, x_train)\n",
    "\n",
    "k_s_prime = np.zeros([len(x_test), len(x_train)])\n",
    "for i in range(len(x_test)):\n",
    "    for j in range(len(x_train)):\n",
    "        k_s_prime[i, j] = (1.0/l**2) * (x_train[j] - x_test[i]) * k_s[i, j]\n",
    "        \n",
    "f_prime = np.dot(k_s_prime, alpha_p)"
   ]
  },
  {
   "cell_type": "markdown",
   "metadata": {},
   "source": [
    "Calculate the BS delta"
   ]
  },
  {
   "cell_type": "code",
   "execution_count": 17,
   "metadata": {},
   "outputs": [
    {
     "data": {
      "text/plain": [
       "array([[ 0.00362847],\n",
       "       [-0.0153968 ],\n",
       "       [ 0.04528361],\n",
       "       [-0.0729166 ],\n",
       "       [ 0.00591578],\n",
       "       [-0.06241966],\n",
       "       [-0.01553885],\n",
       "       [-0.00368244],\n",
       "       [ 0.03085346],\n",
       "       [ 0.0072137 ],\n",
       "       [ 0.00825525],\n",
       "       [ 0.01521479],\n",
       "       [ 0.02292174],\n",
       "       [ 0.0205735 ],\n",
       "       [ 0.00761565],\n",
       "       [ 0.01139819],\n",
       "       [ 0.00536583],\n",
       "       [-0.00624957],\n",
       "       [-0.00532925],\n",
       "       [-0.00071578],\n",
       "       [-0.01114235],\n",
       "       [-0.00902163],\n",
       "       [-0.00705329],\n",
       "       [-0.00521181],\n",
       "       [-0.00483365],\n",
       "       [-0.0025368 ],\n",
       "       [-0.00317089],\n",
       "       [-0.00497722],\n",
       "       [-0.0028917 ],\n",
       "       [-0.00577849],\n",
       "       [-0.00702065],\n",
       "       [-0.00618553],\n",
       "       [-0.00974994],\n",
       "       [-0.00635076],\n",
       "       [-0.00499353],\n",
       "       [-0.00586261],\n",
       "       [-0.00513673],\n",
       "       [-0.0025747 ],\n",
       "       [-0.00527992],\n",
       "       [-0.00624049],\n",
       "       [-0.01140437],\n",
       "       [-0.01252832],\n",
       "       [-0.00989304],\n",
       "       [-0.01459673],\n",
       "       [-0.02190291],\n",
       "       [-0.04048077],\n",
       "       [-0.06139956],\n",
       "       [-0.08006619],\n",
       "       [-0.09707493],\n",
       "       [-0.11108879]])"
      ]
     },
     "execution_count": 17,
     "metadata": {},
     "output_type": "execute_result"
    }
   ],
   "source": [
    "vega = lambda x, y: bsformula(1, lb + (ub-lb) * x, KC, r, T, y, 0)[2]\n",
    "vega((S0-lb)/(ub-lb), x_test) - f_prime"
   ]
  },
  {
   "cell_type": "markdown",
   "metadata": {},
   "source": [
    "Compare the GP vega with the BS vega\n"
   ]
  },
  {
   "cell_type": "code",
   "execution_count": 18,
   "metadata": {},
   "outputs": [
    {
     "data": {
      "image/png": "[encoded data removed]",
      "text/plain": [
       "<Figure size 720x432 with 1 Axes>"
      ]
     },
     "metadata": {},
     "output_type": "display_data"
    }
   ],
   "source": [
    "plt.figure(figsize = (10,6), facecolor='white', edgecolor='black')\n",
    "plt.plot(x_test, vega((S0-lb)/(ub-lb), x_test), color = 'black', label = 'Exact')\n",
    "plt.plot(x_test, f_prime, color = 'red', label = 'GP')\n",
    "plt.grid(True)\n",
    "plt.xlabel('$\\\\sigma$')\n",
    "plt.ylabel('$\\\\nu$')\n",
    "plt.legend(loc = 'best', prop={'size':10});"
   ]
  },
  {
   "cell_type": "markdown",
   "metadata": {},
   "source": [
    "Plot the error between the GP vega and the BS vega\n"
   ]
  },
  {
   "cell_type": "code",
   "execution_count": 20,
   "metadata": {},
   "outputs": [
    {
     "data": {
      "image/png": "[encoded data removed]",
      "text/plain": [
       "<Figure size 720x432 with 1 Axes>"
      ]
     },
     "metadata": {},
     "output_type": "display_data"
    }
   ],
   "source": [
    "plt.figure(figsize = (10,6), facecolor='white', edgecolor='black')\n",
    "plt.plot(x_test, vega((S0-lb)/(ub-lb), x_test)-f_prime, color = 'black', label = 'GP Error')\n",
    "plt.grid(True)\n",
    "plt.xlabel('$\\\\sigma$')\n",
    "plt.ylabel('Error in $\\\\nu$')\n",
    "plt.legend(loc = 'best', prop={'size':10});"
   ]
  },
  {
   "cell_type": "code",
   "execution_count": null,
   "metadata": {},
   "outputs": [],
   "source": []
  }
 ],
 "metadata": {
  "kernelspec": {
   "display_name": "Python 3",
   "language": "python",
   "name": "python3"
  },
  "language_info": {
   "codemirror_mode": {
    "name": "ipython",
    "version": 3
   },
   "file_extension": ".py",
   "mimetype": "text/x-python",
   "name": "python",
   "nbconvert_exporter": "python",
   "pygments_lexer": "ipython3",
   "version": "3.6.9"
  }
 },
 "nbformat": 4,
 "nbformat_minor": 2
}
