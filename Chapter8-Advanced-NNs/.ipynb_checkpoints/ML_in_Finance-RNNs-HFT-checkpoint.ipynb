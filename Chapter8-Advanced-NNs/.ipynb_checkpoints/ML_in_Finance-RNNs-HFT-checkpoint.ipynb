{
 "cells": [
  {
   "cell_type": "code",
   "execution_count": 3,
   "metadata": {},
   "outputs": [],
   "source": [
    "# ML_in_Finance-RNNs-HFT\n",
    "# Author: Matthew Dixon\n",
    "# Version: 1.0 (24.7.2019)\n",
    "# License: MIT\n",
    "# Email: matthew.dixon@iit.edu\n",
    "# Notes: tested on Mac OS X with Python 3.6 and Tensorflow 1.3.0\n",
    "# Citation: Please cite the following reference if this notebook is used for research purposes:\n",
    "# Bilokon P., Dixon M.F. and I. Halperin, Machine Learning in Finance: From Theory to Practice, Springer Graduate textbook Series, 2020. "
   ]
  },
  {
   "cell_type": "markdown",
   "metadata": {},
   "source": [
    "## An Introduction to Prediction with RNNs\n",
    "\n",
    "### Overview\n",
    "- This notebook provides an example of how TensorFlow can be used to train and test a RNNs for time series prediction. The example dataset is for predicting from limit order book data.\n",
    "- Statistical methods used for autoregressive models shall be used to identify the sequence length needed in the RNN and to diagnose the model error.\n",
    "- Plain RNNs are not suited to non-stationary time series modeling. We can use a GRU or LSTM to model non-stationarity data, since these models exhibit dynamic auto-correlation structure.\n",
    "- Unlike classical time series methods, e.g. ARIMA, there are no parameteric assumptions on the distribution of the errors, and non-linear relationships between response and predictors can be captured without over-fitting. "
   ]
  },
  {
   "cell_type": "markdown",
   "metadata": {},
   "source": [
    "#### Statistician's note\n",
    "- We choose to build a model which provides strong predictive power, in favor of explantory power. \n",
    "- Our choice to use a recurrent neural network is predicated on each observation in the time series being dependent on previous observations. The ordering of the observations therefore matters and $X$ is not iid.\n",
    "- Once the input data is appropriately scaled, model building starts with 'feature selection' -identifying the relevant features to include in the model. \n",
    "- In this tutorial, we assume that we've already identifed the relevant set of features. \n",
    "- Our primary concern in assessing the extent to which the model is over-fitting by comparing the in and out-of-sample MSEs."
   ]
  },
  {
   "cell_type": "code",
   "execution_count": 2,
   "metadata": {},
   "outputs": [],
   "source": [
    "%matplotlib inline"
   ]
  },
  {
   "cell_type": "code",
   "execution_count": 3,
   "metadata": {},
   "outputs": [],
   "source": [
    "import numpy as np\n",
    "import pandas as pd\n",
    "import math\n",
    "import matplotlib.pyplot as plt\n",
    "from sklearn.metrics import mean_squared_error\n",
    "import statsmodels.api as sm"
   ]
  },
  {
   "cell_type": "markdown",
   "metadata": {},
   "source": [
    "Import the necessary set of modules from Keras"
   ]
  },
  {
   "cell_type": "code",
   "execution_count": 25,
   "metadata": {},
   "outputs": [],
   "source": [
    "from keras.models import Sequential\n",
    "from keras.layers import Dense\n",
    "from keras.layers import LSTM, GRU, SimpleRNN\n",
    "from keras import optimizers\n",
    "from keras.models import load_model"
   ]
  },
  {
   "cell_type": "markdown",
   "metadata": {},
   "source": [
    "### Example Data\n",
    "- The example dataset is a chronologically ordered time series. The ordering of the observations matters and each observation is not assumed to be independent (as with cross-sectional classification data). \n",
    "\n",
    "- For simplicity, since the timestamps are not important for this tutorial, an integer index has been used for the Pandas Dataframe. A real dataset would typically be indexed by a unique timestamp. The observations are not uniform and in general are less than a micro-second apart.\n",
    "\n",
    "- Each observation $X$ has three variables (a.k.a. features). Feature 3 is the smart price (VWAP) and the label indicates whether the book will up-tick, stay flat or down-tick in the next time interval."
   ]
  },
  {
   "cell_type": "markdown",
   "metadata": {},
   "source": [
    "Loading the Pandas Dataframe, viewing the first ten rows and the distribution of the labels:"
   ]
  },
  {
   "cell_type": "code",
   "execution_count": 6,
   "metadata": {},
   "outputs": [],
   "source": [
    "df = pd.read_csv('HFT.csv')"
   ]
  },
  {
   "cell_type": "code",
   "execution_count": 5,
   "metadata": {},
   "outputs": [
    {
     "data": {
      "text/html": [
       "<div>\n",
       "<style scoped>\n",
       "    .dataframe tbody tr th:only-of-type {\n",
       "        vertical-align: middle;\n",
       "    }\n",
       "\n",
       "    .dataframe tbody tr th {\n",
       "        vertical-align: top;\n",
       "    }\n",
       "\n",
       "    .dataframe thead th {\n",
       "        text-align: right;\n",
       "    }\n",
       "</style>\n",
       "<table border=\"1\" class=\"dataframe\">\n",
       "  <thead>\n",
       "    <tr style=\"text-align: right;\">\n",
       "      <th></th>\n",
       "      <th>feature_1</th>\n",
       "      <th>feature_2</th>\n",
       "      <th>feature_3</th>\n",
       "      <th>label</th>\n",
       "    </tr>\n",
       "  </thead>\n",
       "  <tbody>\n",
       "    <tr>\n",
       "      <th>0</th>\n",
       "      <td>0.515301</td>\n",
       "      <td>0.72</td>\n",
       "      <td>0.710953</td>\n",
       "      <td>0</td>\n",
       "    </tr>\n",
       "    <tr>\n",
       "      <th>1</th>\n",
       "      <td>0.515301</td>\n",
       "      <td>0.72</td>\n",
       "      <td>0.710953</td>\n",
       "      <td>0</td>\n",
       "    </tr>\n",
       "    <tr>\n",
       "      <th>2</th>\n",
       "      <td>0.515301</td>\n",
       "      <td>0.72</td>\n",
       "      <td>0.710953</td>\n",
       "      <td>0</td>\n",
       "    </tr>\n",
       "    <tr>\n",
       "      <th>3</th>\n",
       "      <td>0.515301</td>\n",
       "      <td>0.72</td>\n",
       "      <td>0.710953</td>\n",
       "      <td>0</td>\n",
       "    </tr>\n",
       "    <tr>\n",
       "      <th>4</th>\n",
       "      <td>0.515301</td>\n",
       "      <td>0.72</td>\n",
       "      <td>0.710953</td>\n",
       "      <td>0</td>\n",
       "    </tr>\n",
       "  </tbody>\n",
       "</table>\n",
       "</div>"
      ],
      "text/plain": [
       "   feature_1  feature_2  feature_3  label\n",
       "0   0.515301       0.72   0.710953      0\n",
       "1   0.515301       0.72   0.710953      0\n",
       "2   0.515301       0.72   0.710953      0\n",
       "3   0.515301       0.72   0.710953      0\n",
       "4   0.515301       0.72   0.710953      0"
      ]
     },
     "execution_count": 5,
     "metadata": {},
     "output_type": "execute_result"
    }
   ],
   "source": [
    "df.head()"
   ]
  },
  {
   "cell_type": "markdown",
   "metadata": {},
   "source": [
    "# RNN Regression\n",
    "We consider a univariate prediction problem where the time series is given by 'feature_3' in the data frame."
   ]
  },
  {
   "cell_type": "code",
   "execution_count": 7,
   "metadata": {},
   "outputs": [],
   "source": [
    "use_features = ['feature_3'] # continuous input\n",
    "target = 'feature_3' # continuous output"
   ]
  },
  {
   "cell_type": "markdown",
   "metadata": {},
   "source": [
    "### Stationarity\n",
    "It is essential to determine whether the time series is \"stationary\". Informally, stationarity is when the auto-covariance is independent of time. Failure to establish stationarity will almost certainly lead to misinterpretation of model identification and diagnostics tests. Moreover, stationarity is decisive in characterizing the prediction problem and whether to use a more advanced architecture. In particular, we can expect a plain RNN to perform poorly if the data is non-stationary as the RNN exhibits fixed auto-covariance. \n",
    "\n",
    "We perform an Augmented Dickey-Fuller test to establish stationarity under the assumption that the time series has a constant bias but does not exhibit a time trend. In other words, we assume that the time series is already de-trended. \n",
    "\n",
    "If the stationarity test fails, even after first de-trending the time series, then one potential recourse is to simply take differences of time series and predict $\\Delta y_t$."
   ]
  },
  {
   "cell_type": "markdown",
   "metadata": {},
   "source": [
    "The null hypothesis of the Augmented Dickey-Fuller is that there is a unit root, with the alternative that there is no unit root. If the p-value is above $(1-\\alpha)$, then we cannot reject that there is a unit root. Note that a subset of the time series is used to reduce the computation time of the test."
   ]
  },
  {
   "cell_type": "code",
   "execution_count": 90,
   "metadata": {},
   "outputs": [],
   "source": [
    "adf, p, usedlag, nobs, cvs,aic=sm.tsa.stattools.adfuller(df[use_feature][:200000]) # perform test on first 200k observations"
   ]
  },
  {
   "cell_type": "code",
   "execution_count": 91,
   "metadata": {},
   "outputs": [
    {
     "name": "stdout",
     "output_type": "stream",
     "text": [
      "-3.9705726598641284 0.0015726872209318363 199919 {'1%': -3.430382710167448, '5%': -2.8615544574611698, '10%': -2.566777695186804}\n"
     ]
    }
   ],
   "source": [
    "print(adf,p, nobs, cvs)"
   ]
  },
  {
   "cell_type": "markdown",
   "metadata": {},
   "source": [
    "#### Autoregressive Model Identification: The partial auto-correlation\n",
    "It is important to determine the number of lags, the sequence length, required in the RNN by statistical analysis. A brute-force approach will in general be too time consuming.\n",
    "\n",
    "A partial auto-correlation at lag $h\\geq 2$ is a conditional auto-correlation between a variable, $X_t$, and its $h^{th}$ lag, $X_{t-h}$ under the assumption that we control for the values of the intermediate lags, $X_{t-1},\\dots, X_{t-h+1}$:\n",
    "\n",
    "$$\\tau_h:=\\tau(X_t, X_{t-h}; X_{t-1},\\dots, X_{t-h+1}):=\\frac{\\gamma(X_t, X_{t-h}; X_{t-1},\\dots, X_{t-h+1})}{\\sqrt{\\gamma(X_t |X_{t-1},\\dots, X_{t-h+1})\\gamma(X_{t-h} |X_{t-1},\\dots, X_{t-h+1}))}},\n",
    "$$ \n",
    "where $\\gamma_h:=\\gamma(X_tX_{t-h})$ is the lag-$h$ autocovariance. The partial autocorrelation function $\\tau_h:\\mathbb{N} \\rightarrow [-1,1]$ is a map $h:\\mapsto \\tau_h$.\n",
    "\n",
    "The estimated partial auto-correlation function (PACF) can be used to identify the order of an autoregressive time series model. Values of $|\\tau_h|$ greater or equal to $\\frac{\\Phi^{-1}(\\alpha)}{\\sqrt{T}}$, where T is the number of observations and $\\Phi(z)$ is the standard normal CDF, are significant lag $h$ partial autocorelations at the $\\alpha$ confidence level.\n",
    "\n",
    "We use the stattools package to estimat the PACF. The 'nlags' parameter is the maximum number of lags used for PACF estimation."
   ]
  },
  {
   "cell_type": "code",
   "execution_count": 13,
   "metadata": {},
   "outputs": [],
   "source": [
    "pacf=sm.tsa.stattools.pacf(df[use_features], nlags=30)"
   ]
  },
  {
   "cell_type": "markdown",
   "metadata": {},
   "source": [
    "We find the first lag which isn't significant at the 99% level and automatically determine the number of lags needed in our autoregressive model as one below this value."
   ]
  },
  {
   "cell_type": "code",
   "execution_count": 19,
   "metadata": {},
   "outputs": [],
   "source": [
    "n_steps=np.where(np.array(np.abs(pacf)>2.58/np.sqrt(len(df[use_features])))==False)[0][0] -1"
   ]
  },
  {
   "cell_type": "code",
   "execution_count": 20,
   "metadata": {},
   "outputs": [
    {
     "name": "stdout",
     "output_type": "stream",
     "text": [
      "23\n"
     ]
    }
   ],
   "source": [
    "print(n_steps)"
   ]
  },
  {
   "cell_type": "markdown",
   "metadata": {},
   "source": [
    "This may lead to a high order model, with more lags than strictly necessary. We could view this value, informally, as an upper bound on the number of lags needed. We can also simply identify the order of the model based on the plot of the PACF. In this case, a minimum of 2 lags appears satisfactory, although more may be needed. Unlike autoregressive models, the advantage of using fewer parameters is purely computational as adding more lags does not increase the number of parameters, only the size of the tensorial representation of the sequence data in TensorFlow. "
   ]
  },
  {
   "cell_type": "code",
   "execution_count": null,
   "metadata": {},
   "outputs": [],
   "source": [
    "plt.plot(pacf, label='pacf')\n",
    "plt.plot([2.58/np.sqrt(len(df[use_features]))]*30, label='99% confidence interval (upper)')\n",
    "plt.plot([-2.58/np.sqrt(len(df[use_features]))]*30, label='99% confidence interval (lower)')\n",
    "plt.legend()"
   ]
  },
  {
   "cell_type": "code",
   "execution_count": 35,
   "metadata": {},
   "outputs": [],
   "source": [
    "n_steps = 20 # number of lags to include in the model, based on the plot"
   ]
  },
  {
   "cell_type": "markdown",
   "metadata": {},
   "source": [
    "Split the training and test set by using the first 80% of the time series and the remaining 20% for the test set. Note that the test set must be in the future of the training set to avoid look-ahead bias. Also, random sampling of the data can not be used as this would eliminate the auto-correlation structure."
   ]
  },
  {
   "cell_type": "code",
   "execution_count": 9,
   "metadata": {},
   "outputs": [],
   "source": [
    "train_weight = 0.8\n",
    "split = int(len(df)*train_weight)\n",
    "df_train = df.iloc[:split]"
   ]
  },
  {
   "cell_type": "markdown",
   "metadata": {
    "collapsed": true
   },
   "source": [
    "### Scaling\n",
    "Standardization of the data is important to avoid potential scaling difficulties in the fitting of the model. When there is more than one feature (covariate), scaling avoids one feature dominating over another due to disparate scales.\n",
    "\n",
    "To avoid introducing a look-ahead bias into the prediction, we must re-scale the training data without knowledge of the test set. Hence, we will simply standardize the training set using the mean and standard deviation of the training set and not the whole time series. Additionally, to avoid introducing a systematic bias into test set, we use the identical normalization for the test set - the mean and standard deviation of the training set are used to normalize the test set."
   ]
  },
  {
   "cell_type": "code",
   "execution_count": 10,
   "metadata": {},
   "outputs": [],
   "source": [
    "mu = np.float(df_train[use_features].mean())\n",
    "sigma = np.float(df_train[use_features].std())"
   ]
  },
  {
   "cell_type": "code",
   "execution_count": 11,
   "metadata": {},
   "outputs": [],
   "source": [
    "std_df_train = df_train[use_features].apply(lambda x: (x - mu) / sigma)"
   ]
  },
  {
   "cell_type": "code",
   "execution_count": 12,
   "metadata": {},
   "outputs": [],
   "source": [
    "df_test = df.iloc[split:]\n",
    "std_df_test = df[use_features].apply(lambda x: (x - mu) / sigma).iloc[split:]"
   ]
  },
  {
   "cell_type": "markdown",
   "metadata": {},
   "source": [
    "### Data formatting for RNNs"
   ]
  },
  {
   "cell_type": "markdown",
   "metadata": {},
   "source": [
    "TensorFlow uses tensors to represent data. To perform sequence learning, the time series of variables must be transformed to a series of over-lapping sub-sequences. \n",
    "\n",
    "For example, consider a univariate time series of increasing integers."
   ]
  },
  {
   "cell_type": "markdown",
   "metadata": {},
   "source": [
    "1 2 3 4 5 6 7 8 9 10 11 12 13 14 15"
   ]
  },
  {
   "cell_type": "markdown",
   "metadata": {},
   "source": [
    "Setting the sequence length to 10, for example, we move the window forward by one observation at a time and construct new sequences:\n",
    "\n",
    "1 2 3 4 5 6 7 8 9 10\n",
    "\n",
    "2 3 4 5 6 7 8 9 10 11\n",
    "\n",
    "3 4 5 6 7 8 9 10 11 12\n",
    "\n",
    "4 5 6 7 8 9 10 11 12 13\n",
    "\n",
    "5 6 7 8 9 10 11 12 13 14\n",
    "\n",
    "6 7 8 9 10 11 12 13 14 15\n",
    "\n",
    "\n",
    "Let's define the following function for reshaping the data into one-step ahead times series prediction format. "
   ]
  },
  {
   "cell_type": "code",
   "execution_count": 13,
   "metadata": {},
   "outputs": [],
   "source": [
    "def get_lagged_features(value, n_steps):\n",
    "    lag_list = []\n",
    "    for lag in range(n_steps, 0, -1):\n",
    "        lag_list.append(value.shift(lag))\n",
    "    return pd.concat(lag_list, axis=1)"
   ]
  },
  {
   "cell_type": "markdown",
   "metadata": {},
   "source": [
    "We shall first transform the training input and output data."
   ]
  },
  {
   "cell_type": "code",
   "execution_count": 36,
   "metadata": {},
   "outputs": [],
   "source": [
    "x_train_list = []\n",
    "for use_feature in use_features:\n",
    "    x_train_reg = get_lagged_features(std_df_train, n_steps).dropna()\n",
    "    x_train_list.append(x_train_reg)\n",
    "x_train_reg = pd.concat(x_train_list, axis=1)"
   ]
  },
  {
   "cell_type": "code",
   "execution_count": 37,
   "metadata": {},
   "outputs": [],
   "source": [
    "col_ords = []\n",
    "for i in range(n_steps):\n",
    "    for j in range(len(use_features)):\n",
    "        col_ords.append(i + j * n_steps)"
   ]
  },
  {
   "cell_type": "code",
   "execution_count": 38,
   "metadata": {},
   "outputs": [],
   "source": [
    "x_train_reg = x_train_reg.iloc[:, col_ords]"
   ]
  },
  {
   "cell_type": "code",
   "execution_count": 39,
   "metadata": {},
   "outputs": [],
   "source": [
    "y_train_reg = df_train.loc[x_train_reg.index, [target]].values"
   ]
  },
  {
   "cell_type": "code",
   "execution_count": 40,
   "metadata": {},
   "outputs": [],
   "source": [
    "x_train_reg = np.reshape(x_train_reg.values, (x_train_reg.shape[0], np.int(x_train_reg.shape[1] / len(use_features)), len(use_features)))"
   ]
  },
  {
   "cell_type": "markdown",
   "metadata": {},
   "source": [
    "Now repeat the transformation on the test data."
   ]
  },
  {
   "cell_type": "code",
   "execution_count": 41,
   "metadata": {},
   "outputs": [],
   "source": [
    "x_test_list = []\n",
    "for use_feature in use_features:\n",
    "    x_test_reg = get_lagged_features(std_df_test, n_steps).dropna()\n",
    "    x_test_list.append(x_test_reg)\n",
    "x_test_reg = pd.concat(x_test_list, axis=1)"
   ]
  },
  {
   "cell_type": "code",
   "execution_count": 42,
   "metadata": {},
   "outputs": [],
   "source": [
    "x_test_reg = x_test_reg.iloc[:, col_ords]\n",
    "y_test_reg = df_test.loc[x_test_reg.index, [target]].values\n",
    "x_test_reg = np.reshape(x_test_reg.values, (x_test_reg.shape[0], np.int(x_test_reg.shape[1]/len(use_features)), len(use_features)))"
   ]
  },
  {
   "cell_type": "markdown",
   "metadata": {},
   "source": [
    "Print the shapes of each tensor. The first digit is the number of observations. For feature arrays, the second digit is the sequence length (i.e. the number of lags in the model) and the final digit is the dimension of each element in the sequence or output vector respectively. In this case, the example performs univariate time series analysis and so the dimension of the input and output is 1."
   ]
  },
  {
   "cell_type": "code",
   "execution_count": 43,
   "metadata": {},
   "outputs": [
    {
     "name": "stdout",
     "output_type": "stream",
     "text": [
      "(826805, 20, 1) (826805, 1) (206687, 20, 1) (206687, 1)\n"
     ]
    }
   ],
   "source": [
    "print(x_train_reg.shape,y_train_reg.shape,x_test_reg.shape,y_test_reg.shape)"
   ]
  },
  {
   "cell_type": "markdown",
   "metadata": {},
   "source": [
    "### Model Specification"
   ]
  },
  {
   "cell_type": "markdown",
   "metadata": {},
   "source": [
    "Let's configure and fit a GRU to our univariate data"
   ]
  },
  {
   "cell_type": "code",
   "execution_count": 44,
   "metadata": {},
   "outputs": [],
   "source": [
    "reg_model = Sequential()\n",
    "reg_model.add(GRU(n_steps, input_shape=(x_train_reg.shape[1], x_train_reg.shape[-1])))\n",
    "reg_model.add(Dense(1))\n",
    "reg_model.compile(loss='mean_squared_error', optimizer='adam')"
   ]
  },
  {
   "cell_type": "markdown",
   "metadata": {},
   "source": [
    "Use a batch size of 500 as the dataset is reasonably large and the training time would be to long otherwise. 20 epoches have been used here, but a better approach would be to use a stopping criteria through a call back. "
   ]
  },
  {
   "cell_type": "code",
   "execution_count": 45,
   "metadata": {},
   "outputs": [
    {
     "name": "stdout",
     "output_type": "stream",
     "text": [
      "Epoch 1/30\n",
      "826805/826805 [==============================] - 26s 32us/step - loss: 0.0087\n",
      "Epoch 2/30\n",
      "826805/826805 [==============================] - 26s 31us/step - loss: 1.7544e-05\n",
      "Epoch 3/30\n",
      "826805/826805 [==============================] - 26s 31us/step - loss: 1.6113e-05\n",
      "Epoch 4/30\n",
      "826805/826805 [==============================] - 27s 32us/step - loss: 1.6071e-05\n",
      "Epoch 5/30\n",
      "826805/826805 [==============================] - 26s 32us/step - loss: 1.6344e-05\n",
      "Epoch 6/30\n",
      "826805/826805 [==============================] - 26s 31us/step - loss: 1.6434e-05\n",
      "Epoch 7/30\n",
      "826805/826805 [==============================] - 25s 31us/step - loss: 1.6373e-05\n",
      "Epoch 8/30\n",
      "826805/826805 [==============================] - 26s 31us/step - loss: 1.6253e-05\n",
      "Epoch 9/30\n",
      "826805/826805 [==============================] - 25s 31us/step - loss: 1.6176e-05\n",
      "Epoch 10/30\n",
      "826805/826805 [==============================] - 26s 31us/step - loss: 1.6116e-05\n",
      "Epoch 11/30\n",
      "826805/826805 [==============================] - 26s 31us/step - loss: 1.5964e-05\n",
      "Epoch 12/30\n",
      "826805/826805 [==============================] - 25s 30us/step - loss: 1.6028e-05\n",
      "Epoch 13/30\n",
      "826805/826805 [==============================] - 26s 31us/step - loss: 1.5948e-05\n",
      "Epoch 14/30\n",
      "826805/826805 [==============================] - 27s 33us/step - loss: 1.5774e-05\n",
      "Epoch 15/30\n",
      "826805/826805 [==============================] - 27s 32us/step - loss: 1.5843e-05\n",
      "Epoch 16/30\n",
      "826805/826805 [==============================] - 27s 33us/step - loss: 1.5756e-05\n",
      "Epoch 17/30\n",
      "826805/826805 [==============================] - 26s 32us/step - loss: 1.5826e-05\n",
      "Epoch 18/30\n",
      "826805/826805 [==============================] - 27s 33us/step - loss: 1.5758e-05\n",
      "Epoch 19/30\n",
      "826805/826805 [==============================] - 26s 32us/step - loss: 1.5631e-05\n",
      "Epoch 20/30\n",
      "826805/826805 [==============================] - 27s 33us/step - loss: 1.5642e-05\n",
      "Epoch 21/30\n",
      "826805/826805 [==============================] - 26s 31us/step - loss: 1.5534e-05\n",
      "Epoch 22/30\n",
      "826805/826805 [==============================] - 26s 31us/step - loss: 1.5573e-05\n",
      "Epoch 23/30\n",
      "826805/826805 [==============================] - 26s 32us/step - loss: 1.5539e-05\n",
      "Epoch 24/30\n",
      "826805/826805 [==============================] - 26s 31us/step - loss: 1.5503e-05\n",
      "Epoch 25/30\n",
      "826805/826805 [==============================] - 26s 32us/step - loss: 1.5469e-05\n",
      "Epoch 26/30\n",
      "826805/826805 [==============================] - 26s 31us/step - loss: 1.5522e-05\n",
      "Epoch 27/30\n",
      "826805/826805 [==============================] - 28s 34us/step - loss: 1.5427e-05\n",
      "Epoch 28/30\n",
      "826805/826805 [==============================] - 27s 33us/step - loss: 1.5458e-05\n",
      "Epoch 29/30\n",
      "826805/826805 [==============================] - 26s 32us/step - loss: 1.5440e-05\n",
      "Epoch 30/30\n",
      "826805/826805 [==============================] - 26s 32us/step - loss: 1.5423e-05\n"
     ]
    },
    {
     "data": {
      "text/plain": [
       "<keras.callbacks.History at 0x1c3e29c748>"
      ]
     },
     "execution_count": 45,
     "metadata": {},
     "output_type": "execute_result"
    }
   ],
   "source": [
    "reg_model.fit(x_train_reg, y_train_reg, epochs=30, batch_size=500, verbose=1)"
   ]
  },
  {
   "cell_type": "code",
   "execution_count": null,
   "metadata": {},
   "outputs": [],
   "source": [
    "# optionally save the fitted model\n",
    "reg_model.save('model/gru_regression_HFT.hdf5', overwrite=True)  # creates a HDF5 file 'my_model.h5'"
   ]
  },
  {
   "cell_type": "code",
   "execution_count": null,
   "metadata": {},
   "outputs": [],
   "source": [
    "# optionally load a fitted model if this file exists.\n",
    "reg_model = load_model('model/gru_regression_HFT.hdf5')"
   ]
  },
  {
   "cell_type": "markdown",
   "metadata": {},
   "source": [
    "#### Comparison with plain RNNs\n",
    "For comparison, let us compare the performance of the GRU with the plain RNN."
   ]
  },
  {
   "cell_type": "code",
   "execution_count": 50,
   "metadata": {},
   "outputs": [],
   "source": [
    "sreg_model = Sequential()\n",
    "sreg_model.add(SimpleRNN(n_steps, input_shape=(x_train_reg.shape[1], x_train_reg.shape[-1])))\n",
    "sreg_model.add(Dense(1))\n",
    "sreg_model.compile(loss='mean_squared_error', optimizer='adam')"
   ]
  },
  {
   "cell_type": "code",
   "execution_count": 51,
   "metadata": {},
   "outputs": [
    {
     "name": "stdout",
     "output_type": "stream",
     "text": [
      "Epoch 1/30\n",
      "826805/826805 [==============================] - 10s 12us/step - loss: 0.0064\n",
      "Epoch 2/30\n",
      "826805/826805 [==============================] - 9s 11us/step - loss: 2.7750e-05\n",
      "Epoch 3/30\n",
      "826805/826805 [==============================] - 9s 11us/step - loss: 1.8902e-05\n",
      "Epoch 4/30\n",
      "826805/826805 [==============================] - 9s 11us/step - loss: 1.7375e-05\n",
      "Epoch 5/30\n",
      "826805/826805 [==============================] - 9s 11us/step - loss: 1.7298e-05\n",
      "Epoch 6/30\n",
      "826805/826805 [==============================] - 9s 11us/step - loss: 1.7130e-05\n",
      "Epoch 7/30\n",
      "826805/826805 [==============================] - 9s 11us/step - loss: 1.6927e-05\n",
      "Epoch 8/30\n",
      "826805/826805 [==============================] - 9s 11us/step - loss: 1.6747e-05\n",
      "Epoch 9/30\n",
      "826805/826805 [==============================] - 9s 11us/step - loss: 1.6762e-05\n",
      "Epoch 10/30\n",
      "826805/826805 [==============================] - 10s 12us/step - loss: 1.6610e-05\n",
      "Epoch 11/30\n",
      "826805/826805 [==============================] - 10s 12us/step - loss: 1.6587e-05\n",
      "Epoch 12/30\n",
      "826805/826805 [==============================] - 9s 11us/step - loss: 1.6572e-05\n",
      "Epoch 13/30\n",
      "826805/826805 [==============================] - 9s 10us/step - loss: 1.6191e-05\n",
      "Epoch 14/30\n",
      "826805/826805 [==============================] - 9s 11us/step - loss: 1.6462e-05\n",
      "Epoch 15/30\n",
      "826805/826805 [==============================] - 9s 11us/step - loss: 1.6266e-05\n",
      "Epoch 16/30\n",
      "826805/826805 [==============================] - 9s 11us/step - loss: 1.6277e-05\n",
      "Epoch 17/30\n",
      "826805/826805 [==============================] - 9s 11us/step - loss: 1.6209e-05\n",
      "Epoch 18/30\n",
      "826805/826805 [==============================] - 10s 12us/step - loss: 1.6138e-05\n",
      "Epoch 19/30\n",
      "826805/826805 [==============================] - 9s 11us/step - loss: 1.6139e-05\n",
      "Epoch 20/30\n",
      "826805/826805 [==============================] - 9s 10us/step - loss: 1.6020e-05\n",
      "Epoch 21/30\n",
      "826805/826805 [==============================] - 9s 10us/step - loss: 1.6202e-05\n",
      "Epoch 22/30\n",
      "826805/826805 [==============================] - 9s 10us/step - loss: 1.6011e-05\n",
      "Epoch 23/30\n",
      "826805/826805 [==============================] - 8s 10us/step - loss: 1.6059e-05\n",
      "Epoch 24/30\n",
      "826805/826805 [==============================] - 9s 10us/step - loss: 1.5939e-05\n",
      "Epoch 25/30\n",
      "826805/826805 [==============================] - 8s 10us/step - loss: 1.5932e-05\n",
      "Epoch 26/30\n",
      "826805/826805 [==============================] - 9s 10us/step - loss: 1.6048e-05\n",
      "Epoch 27/30\n",
      "826805/826805 [==============================] - 9s 10us/step - loss: 1.5857e-05\n",
      "Epoch 28/30\n",
      "826805/826805 [==============================] - 9s 11us/step - loss: 1.5834e-05\n",
      "Epoch 29/30\n",
      "826805/826805 [==============================] - 9s 11us/step - loss: 1.5956e-05\n",
      "Epoch 30/30\n",
      "826805/826805 [==============================] - 9s 10us/step - loss: 1.5946e-05\n"
     ]
    },
    {
     "data": {
      "text/plain": [
       "<keras.callbacks.History at 0x1c40c13ac8>"
      ]
     },
     "execution_count": 51,
     "metadata": {},
     "output_type": "execute_result"
    }
   ],
   "source": [
    "sreg_model.fit(x_train_reg, y_train_reg, epochs=30, batch_size=500, verbose=1)"
   ]
  },
  {
   "cell_type": "markdown",
   "metadata": {},
   "source": [
    "### Prediction"
   ]
  },
  {
   "cell_type": "markdown",
   "metadata": {},
   "source": [
    "We shall now apply the fitted RNN model to the training set and the test set, separately. We can then informally assess the extent\n",
    "of over-fitting."
   ]
  },
  {
   "cell_type": "code",
   "execution_count": 47,
   "metadata": {
    "scrolled": true
   },
   "outputs": [
    {
     "name": "stdout",
     "output_type": "stream",
     "text": [
      "826805/826805 [==============================] - 58s 71us/step\n",
      "206687/206687 [==============================] - 13s 65us/step\n"
     ]
    }
   ],
   "source": [
    "# make predictions with the trained GRU\n",
    "pred_train = reg_model.predict(x_train_reg, verbose=1)\n",
    "pred_test = reg_model.predict(x_test_reg, verbose=1)"
   ]
  },
  {
   "cell_type": "code",
   "execution_count": null,
   "metadata": {},
   "outputs": [],
   "source": [
    "# let us compare with the plain RNN"
   ]
  },
  {
   "cell_type": "code",
   "execution_count": 52,
   "metadata": {},
   "outputs": [
    {
     "name": "stdout",
     "output_type": "stream",
     "text": [
      "826805/826805 [==============================] - 35s 42us/step\n",
      "206687/206687 [==============================] - 9s 42us/step\n"
     ]
    }
   ],
   "source": [
    "s_pred_train = sreg_model.predict(x_train_reg, verbose=1)\n",
    "s_pred_test = sreg_model.predict(x_test_reg, verbose=1)"
   ]
  },
  {
   "cell_type": "markdown",
   "metadata": {},
   "source": [
    "### Model Performance"
   ]
  },
  {
   "cell_type": "code",
   "execution_count": 53,
   "metadata": {},
   "outputs": [
    {
     "data": {
      "image/png": "[encoded data removed]",
      "text/plain": [
       "<Figure size 1152x648 with 1 Axes>"
      ]
     },
     "metadata": {},
     "output_type": "display_data"
    },
    {
     "data": {
      "image/png": "[encoded data removed]",
      "text/plain": [
       "<Figure size 1152x648 with 1 Axes>"
      ]
     },
     "metadata": {},
     "output_type": "display_data"
    }
   ],
   "source": [
    "fig = plt.figure(figsize=(16,9))\n",
    "train_line_real = plt.plot(df_train.index[n_steps:], df_train[use_feature][n_steps:], color=\"g\", label=\"Observed (Training)\")\n",
    "train_line_pred = plt.plot(df_train.index[n_steps:], pred_train[:, 0], color=\"r\", label=\"GRU Predict (Training)\")\n",
    "train_line_pred = plt.plot(df_train.index[n_steps:], s_pred_train[:, 0], color=\"b\", label=\"RNN Predict (Training)\")\n",
    "\n",
    "plt.legend(loc=\"best\", fontsize=15)\n",
    "plt.title('Observed vs Model (Training)', fontsize=20)\n",
    "plt.xlabel('Time', fontsize=20)\n",
    "plt.ylabel('Y', fontsize=20)\n",
    "\n",
    "\n",
    "fig = plt.figure(figsize=(16,9))\n",
    "test_line_real = plt.plot(df_test.index[n_steps:], df_test[use_feature][n_steps:], color=\"g\", label=\"Observed (Testing)\")\n",
    "test_line_pred = plt.plot(df_test.index[n_steps:], pred_test[:, 0], color=\"r\", label=\"GRU Predict (Testing)\")\n",
    "test_line_pred = plt.plot(df_test.index[n_steps:], s_pred_test[:, 0], color=\"b\", label=\"RNN Predict (Testing)\")\n",
    "\n",
    "plt.legend(loc=\"best\", fontsize=15)\n",
    "plt.title('Observed vs Model (Testing)', fontsize=20)\n",
    "plt.xlabel('Time', fontsize=20)\n",
    "plt.ylabel('Y', fontsize=20)\n",
    "\n",
    "plt.show()"
   ]
  },
  {
   "cell_type": "markdown",
   "metadata": {},
   "source": [
    "We observe the in-sample prediction is realiable (upper plot). Most of the out-of-sample prediction (lower plot) is also reliable although the end of the predicted sequence appears to degrade. Such a degradation indicates the prediction horizon might be too long and the model should be retrained."
   ]
  },
  {
   "cell_type": "markdown",
   "metadata": {},
   "source": [
    "Finally assess the performance of the model in and out-of-sample using the MSE. We expect the mean error to be larger on the test set than on the training set. "
   ]
  },
  {
   "cell_type": "code",
   "execution_count": 54,
   "metadata": {},
   "outputs": [
    {
     "name": "stdout",
     "output_type": "stream",
     "text": [
      "1.5100807569762255e-05\n",
      "4.064062645737793e-05\n"
     ]
    }
   ],
   "source": [
    "# calculate mean squared error of the GRU\n",
    "MSE_train = mean_squared_error(df_train[use_feature][n_steps:], pred_train[:, 0])\n",
    "print(MSE_train)\n",
    "MSE_test = mean_squared_error(df_test[use_feature][n_steps:], pred_test[:, 0])\n",
    "print(MSE_test)"
   ]
  },
  {
   "cell_type": "code",
   "execution_count": 56,
   "metadata": {},
   "outputs": [
    {
     "name": "stdout",
     "output_type": "stream",
     "text": [
      "1.5328251927432372e-05\n",
      "2.5699798035401673e-05\n"
     ]
    }
   ],
   "source": [
    "# calculate mean squared error of the plain RNN\n",
    "MSE_train = mean_squared_error(df_train[use_feature][n_steps:], s_pred_train[:, 0])\n",
    "print(MSE_train)\n",
    "MSE_test = mean_squared_error(df_test[use_feature][n_steps:], s_pred_test[:, 0])\n",
    "print(MSE_test)"
   ]
  },
  {
   "cell_type": "markdown",
   "metadata": {
    "collapsed": true
   },
   "source": [
    "### Model Diagnostics"
   ]
  },
  {
   "cell_type": "markdown",
   "metadata": {},
   "source": [
    "A fitted time series model must be examined for underfitting with a white noise test. We analyze the model residuals (i.e. the error $u_t$) to determine whether it is white noise or whether it is auto-correlated. The latter case provides statistical evidence that more lags are needed in the RNN. Box and Pierce propose the Portmanteau statistic:\n",
    "\n",
    "$$Q^*(m)=T\\sum_{l=1}^m\\hat{\\tau}_l^2,$$\n",
    "\n",
    "as a test statistic for the null hypothesis $$H_0:\\tau_1=\\dots=\\tau_m=0$$ against the alternative hypothesis $$H_a:\\tau_i\\neq 0$$ for some $$i\\in\\{1,\\dots,m\\}$$, where $T$ is the number of observations, $\\hat{\\tau}_i$ are the sample autocorrelations of the residual, and $m$ is the maximum lag used in the test. There are several heuristics in the statistics literature to determine the maximum lag such as the Schwert statistic. \n",
    "\n",
    "The Box-Pierce statistic follows an asymptotically chi-squared distribution with $m$ degrees of freedom.\n",
    "\n",
    "The Ljung-Box test statistic increases the power of the test in finite samples:\n",
    "$$Q(m)=T(T+2)\\sum_{l=1}^m\\frac{\\hat{\\tau}_l^2}{T-l}$$.\n",
    "\n",
    "This statistic also follows an asymptotically chi-squared distribution with $m$ degrees of freedom. The decision rule is to reject $H_0$ if $Q(m)>\\chi_{\\alpha}^2$ where $\\chi_{\\alpha}^2$ denotes the $100(1-\\alpha)^{th}$ percentile of a chi-squared distribution with m degrees of freedom and is the significance level for rejecting $H_0$.\n",
    "\n",
    "The test can be time consuming and we select a subset of the residuals. Here we simply set the maximum lag to 20. In the results below, we find that the p-values are all smaller than 0.01, indicating that we can reject the null at the 99% confidence level for any lag. This is strong evidence that the model is under-fitting and more lags are needed in our model. Unlike an auto-regressive model, increasing the number of lags in the RNN does not increase the number of weights. Thus there is no danger of over-fitting by increasing the lag, although there will be an increase in the training time."
   ]
  },
  {
   "cell_type": "code",
   "execution_count": 63,
   "metadata": {},
   "outputs": [],
   "source": [
    "T=100000"
   ]
  },
  {
   "cell_type": "code",
   "execution_count": 64,
   "metadata": {},
   "outputs": [],
   "source": [
    "residual=df_train[use_feature][n_steps:(n_steps+T)]-pred_train[:T, 0]"
   ]
  },
  {
   "cell_type": "code",
   "execution_count": 66,
   "metadata": {},
   "outputs": [
    {
     "data": {
      "text/plain": [
       "(array([ 48.80154977,  89.4880807 , 261.10776206, 292.93778414,\n",
       "        295.6744585 , 347.01224282, 408.32444646, 417.77919746,\n",
       "        422.31771576, 499.14310649, 522.52081536, 534.89962   ,\n",
       "        562.05637871, 563.092606  , 582.03771475, 594.72442234,\n",
       "        599.30957233, 599.88224625, 600.31959285, 602.68716573]),\n",
       " array([2.83215935e-012, 3.69751699e-020, 2.58924803e-056, 3.61467139e-062,\n",
       "        8.52208020e-062, 6.75856495e-072, 3.90984641e-084, 2.93934873e-085,\n",
       "        2.35822623e-085, 6.72990800e-101, 5.02964314e-105, 8.18876299e-107,\n",
       "        9.29962919e-112, 3.76081403e-111, 2.31870824e-114, 3.00685403e-116,\n",
       "        1.99533250e-116, 9.11366739e-116, 4.32088814e-115, 7.81739884e-115]),\n",
       " array([ 48.80008575,  89.48498925, 261.09608981, 292.92420211,\n",
       "        295.66068492, 346.9943623 , 408.30104795, 417.75485349,\n",
       "        422.29287256, 499.10904443, 522.48371426, 534.86078591,\n",
       "        562.01347118, 563.04953267, 581.99142082, 594.67584485,\n",
       "        599.26012368, 599.83268307, 600.26993782, 602.63698985]),\n",
       " array([2.83427420e-012, 3.70323675e-020, 2.60434563e-056, 3.63913461e-062,\n",
       "        8.58037701e-062, 6.81856052e-072, 3.95529342e-084, 2.97482747e-085,\n",
       "        2.38721263e-085, 6.84364601e-101, 5.12218595e-105, 8.34629937e-107,\n",
       "        9.49732251e-112, 3.84093092e-111, 2.37178299e-114, 3.07902588e-116,\n",
       "        2.04401965e-116, 9.33618806e-116, 4.42640514e-115, 8.01001827e-115]))"
      ]
     },
     "execution_count": 66,
     "metadata": {},
     "output_type": "execute_result"
    }
   ],
   "source": [
    "lb,p=sm.stats.diagnostic.acorr_ljungbox(residual, lags=20, boxpierce=False)"
   ]
  },
  {
   "cell_type": "markdown",
   "metadata": {},
   "source": [
    "The Box-Ljung test statistics are"
   ]
  },
  {
   "cell_type": "code",
   "execution_count": 60,
   "metadata": {},
   "outputs": [
    {
     "data": {
      "text/plain": [
       "array([  23.43461575,  541.79395287,  906.89268229, 1198.24088688,\n",
       "       1402.35381218, 1647.79237639, 1979.40529208, 2102.27866712,\n",
       "       2270.27674979, 2583.87703059, 2813.81162889, 2942.64461045,\n",
       "       3105.88130338, 3118.20826233, 3188.27849157, 3270.33402489,\n",
       "       3318.82915107, 3333.11852682, 3397.50952107, 3399.88940387])"
      ]
     },
     "execution_count": 60,
     "metadata": {},
     "output_type": "execute_result"
    }
   ],
   "source": [
    "lb"
   ]
  },
  {
   "cell_type": "markdown",
   "metadata": {},
   "source": [
    "The p-values are"
   ]
  },
  {
   "cell_type": "code",
   "execution_count": 61,
   "metadata": {},
   "outputs": [
    {
     "data": {
      "text/plain": [
       "array([1.29232054e-006, 2.24356146e-118, 2.83108105e-196, 3.83297372e-258,\n",
       "       4.25375810e-301, 0.00000000e+000, 0.00000000e+000, 0.00000000e+000,\n",
       "       0.00000000e+000, 0.00000000e+000, 0.00000000e+000, 0.00000000e+000,\n",
       "       0.00000000e+000, 0.00000000e+000, 0.00000000e+000, 0.00000000e+000,\n",
       "       0.00000000e+000, 0.00000000e+000, 0.00000000e+000, 0.00000000e+000])"
      ]
     },
     "execution_count": 61,
     "metadata": {},
     "output_type": "execute_result"
    }
   ],
   "source": [
    "p"
   ]
  }
 ],
 "metadata": {
  "kernelspec": {
   "display_name": "Python 3",
   "language": "python",
   "name": "python3"
  },
  "language_info": {
   "codemirror_mode": {
    "name": "ipython",
    "version": 3
   },
   "file_extension": ".py",
   "mimetype": "text/x-python",
   "name": "python",
   "nbconvert_exporter": "python",
   "pygments_lexer": "ipython3",
   "version": "3.7.3"
  }
 },
 "nbformat": 4,
 "nbformat_minor": 2
}
