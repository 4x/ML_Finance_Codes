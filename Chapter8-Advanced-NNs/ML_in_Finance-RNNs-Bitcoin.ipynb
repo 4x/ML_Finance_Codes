{
 "cells": [
  {
   "cell_type": "code",
   "execution_count": 1,
   "metadata": {
    "colab": {},
    "colab_type": "code",
    "id": "lKVCOxZOqjuP"
   },
   "outputs": [],
   "source": [
    "# Alpha_RNNs-Bitcoin\n",
    "# Author: Matthew Dixon\n",
    "# Version: 1.1 (27.2.2020)\n",
    "# License: MIT\n",
    "# Email: matthew.dixon@iit.edu\n",
    "# Notes: tested on Mac OS X running Python 3.6.9 with the following packages:\n",
    "# tensorflow=2.0.0, keras=2.3.1, scikit-learn=0.22.1, numpy=1.18.1, matplotlib=3.1.3, pandas=1.0.3, statsmodels=0.10.1\n",
    "# Citation: Please cite the following reference if this notebook is used for research purposes:\n",
    "# Bilokon P., Dixon M.F. and Halperin I., Machine Learning in Finance: From Theory to Practice, Springer Graduate Textbook Series, 2020. "
   ]
  },
  {
   "cell_type": "markdown",
   "metadata": {
    "colab_type": "text",
    "id": "qTkRUh4Nqjuk"
   },
   "source": [
    "## An Introduction to Prediction with RNNs\n",
    "\n",
    "### Overview\n",
    "- This notebook provides an example of how Keras can be used to train and test TensorFlow RNNs for time series prediction. The example dataset is for predicting from noisy, non-stationary data.\n",
    "- Statistical methods used for autoregressive models shall be used to identify the sequence length needed in the RNN and to diagnose the model error.\n",
    "- Plain RNNs are not suited to non-stationary time series modeling. We can use a GRU or LSTM to model non-stationary data, since these models exhibit dynamic auto-correlation structure.\n",
    "- Unlike classical time series methods, e.g. ARIMA, there are no parametric assumptions on the distribution of the errors, and non-linear relationships between response and predictors can be captured. \n",
    "- The data is snapshots of the USD value of Coinbase every minute over 2018."
   ]
  },
  {
   "cell_type": "markdown",
   "metadata": {
    "colab_type": "text",
    "id": "gLVqutsCqjut"
   },
   "source": [
    "#### Statistician's note\n",
    "- We choose to build a model which provides strong predictive power, at the expense of reduced explanatory power. \n",
    "- Our choice to use a recurrent neural network is predicated on each observation in the time series being dependent on previous observations. The ordering of the observations therefore matters and $X$ is not iid.\n",
    "- Once the input data is appropriately scaled, model building starts with 'feature selection' - identifying the relevant features to include in the model. \n",
    "\n",
    "- In this notebook, we assume that we've already identifed the relevant set of features (i.e. there is only one time series provided).\n",
    "- Our primary concern is assessing the extent to which the model is over-fitting, by comparing the in- and out-of-sample MSEs.\n",
    "\n",
    "#### Implementation notes\n",
    "- It is important to ensure that `shuffle=False` in the fit function, otherwise the ordering of sequences is not preserved. This is especially important for methods which have memory beyond the current sequence (i.e. all methods except RNNs).\n",
    "- Time series cross-validation must be used for hyper-parameter tuning because the ordering of the data matters. In particular, the model must never use training data more recent than the forecasting observation date."
   ]
  },
  {
   "cell_type": "code",
   "execution_count": 2,
   "metadata": {
    "colab": {
     "base_uri": "https://localhost:8080/",
     "height": 124
    },
    "colab_type": "code",
    "id": "ZZ3LB7e6rwA4",
    "outputId": "ff696c1b-e20f-495b-9ccb-bece8d9b37e6"
   },
   "outputs": [
    {
     "data": {
      "text/plain": [
       "\"\\n## Only needed if the notebook is being run on Google Colab\\n\\n# mount the Google Drive\\nfrom google.colab import drive\\nmountpoint = '/content/drive'\\ndrive.mount(mountpoint, force_remount=True)\\n\\n# add the directory containing coinbase.csv, alphaRNN.py, \\n# & alphatRNN.py to the environment's PATH variable:\\nimport sys\\npath = mountpoint + '/My Drive/alpha-RNN' \\nsys.path.append(path)\\n\""
      ]
     },
     "execution_count": 2,
     "metadata": {},
     "output_type": "execute_result"
    }
   ],
   "source": [
    "\"\"\"\n",
    "## Only needed if the notebook is being run on Google Colab\n",
    "\n",
    "# mount the Google Drive\n",
    "from google.colab import drive\n",
    "mountpoint = '/content/drive'\n",
    "drive.mount(mountpoint, force_remount=True)\n",
    "\n",
    "# add the directory containing coinbase.csv, alphaRNN.py, \n",
    "# & alphatRNN.py to the environment's PATH variable:\n",
    "import sys\n",
    "path = mountpoint + '/My Drive/alpha-RNN' \n",
    "sys.path.append(path)\n",
    "\"\"\"\n"
   ]
  },
  {
   "cell_type": "code",
   "execution_count": 14,
   "metadata": {
    "colab": {},
    "colab_type": "code",
    "id": "JhA4PNWxqjuw"
   },
   "outputs": [],
   "source": [
    "import numpy as np\n",
    "import pandas as pd\n",
    "import matplotlib.pyplot as plt\n",
    "import statsmodels.api as sm\n",
    "import tensorflow as tf\n",
    "\n",
    "from sklearn.metrics import mean_squared_error\n",
    "from sklearn.model_selection import KFold, TimeSeriesSplit, GridSearchCV\n",
    "\n",
    "import keras.initializers\n",
    "from keras.layers import Dense, Layer, LSTM, GRU, SimpleRNN, RNN\n",
    "from keras.models import Sequential\n",
    "from keras.models import load_model\n",
    "from keras.regularizers import l1, l2\n",
    "from keras.callbacks import EarlyStopping\n",
    "from keras.wrappers.scikit_learn import KerasRegressor\n",
    "\n",
    "# note that the directory containing these two .py's must be in the path variable:\n",
    "from alphaRNN import AlphaRNN\n",
    "from alphatRNN import AlphatRNN\n"
   ]
  },
  {
   "cell_type": "code",
   "execution_count": 15,
   "metadata": {
    "colab": {},
    "colab_type": "code",
    "id": "exs-mpLQqju7"
   },
   "outputs": [],
   "source": [
    "%matplotlib inline"
   ]
  },
  {
   "cell_type": "markdown",
   "metadata": {
    "colab_type": "text",
    "id": "g5QbSSsmqjvF"
   },
   "source": [
    "### Example Data\n",
    "- The example dataset $X$ is a chronologically ordered time series. The ordering of the observations matters and each observation is not assumed to be independent (as with cross-sectional classification data). \n",
    "\n",
    "- Each observation in $X$ has one variable (a.k.a. univariate time series)."
   ]
  },
  {
   "cell_type": "markdown",
   "metadata": {
    "colab_type": "text",
    "id": "ojxc_gL-qjvJ"
   },
   "source": [
    "Loading the data into a Pandas Dataframe, then viewing the first ten observations and the distribution of the labels:"
   ]
  },
  {
   "cell_type": "code",
   "execution_count": 16,
   "metadata": {
    "colab": {},
    "colab_type": "code",
    "id": "u1OUq236qjvN"
   },
   "outputs": [],
   "source": [
    "#df = pd.read_csv(path + '/coinbase.csv', index_col=[1])\n",
    "import os\n",
    "df = pd.read_csv(os.getcwd()+'/../../coinbase.csv', index_col=1)"
   ]
  },
  {
   "cell_type": "code",
   "execution_count": 17,
   "metadata": {
    "colab": {
     "base_uri": "https://localhost:8080/",
     "height": 238
    },
    "colab_type": "code",
    "id": "EIE0n8_OqjvX",
    "outputId": "f35903df-4e5b-4686-b2a5-3768118fdb32",
    "scrolled": false
   },
   "outputs": [
    {
     "data": {
      "text/html": [
       "<div>\n",
       "<style scoped>\n",
       "    .dataframe tbody tr th:only-of-type {\n",
       "        vertical-align: middle;\n",
       "    }\n",
       "\n",
       "    .dataframe tbody tr th {\n",
       "        vertical-align: top;\n",
       "    }\n",
       "\n",
       "    .dataframe thead th {\n",
       "        text-align: right;\n",
       "    }\n",
       "</style>\n",
       "<table border=\"1\" class=\"dataframe\">\n",
       "  <thead>\n",
       "    <tr style=\"text-align: right;\">\n",
       "      <th></th>\n",
       "      <th>USD</th>\n",
       "    </tr>\n",
       "    <tr>\n",
       "      <th>timestamp</th>\n",
       "      <th></th>\n",
       "    </tr>\n",
       "  </thead>\n",
       "  <tbody>\n",
       "    <tr>\n",
       "      <th>2018-01-01 00:00:00</th>\n",
       "      <td>13598.814422</td>\n",
       "    </tr>\n",
       "    <tr>\n",
       "      <th>2018-01-01 00:01:00</th>\n",
       "      <td>13596.912824</td>\n",
       "    </tr>\n",
       "    <tr>\n",
       "      <th>2018-01-01 00:02:00</th>\n",
       "      <td>13568.356998</td>\n",
       "    </tr>\n",
       "    <tr>\n",
       "      <th>2018-01-01 00:03:00</th>\n",
       "      <td>13560.425182</td>\n",
       "    </tr>\n",
       "    <tr>\n",
       "      <th>2018-01-01 00:04:00</th>\n",
       "      <td>13552.270931</td>\n",
       "    </tr>\n",
       "    <tr>\n",
       "      <th>2018-01-01 00:05:00</th>\n",
       "      <td>13552.279636</td>\n",
       "    </tr>\n",
       "    <tr>\n",
       "      <th>2018-01-01 00:06:00</th>\n",
       "      <td>13552.362423</td>\n",
       "    </tr>\n",
       "    <tr>\n",
       "      <th>2018-01-01 00:07:00</th>\n",
       "      <td>13570.273982</td>\n",
       "    </tr>\n",
       "    <tr>\n",
       "      <th>2018-01-01 00:08:00</th>\n",
       "      <td>13593.489523</td>\n",
       "    </tr>\n",
       "    <tr>\n",
       "      <th>2018-01-01 00:09:00</th>\n",
       "      <td>13614.862762</td>\n",
       "    </tr>\n",
       "  </tbody>\n",
       "</table>\n",
       "</div>"
      ],
      "text/plain": [
       "                              USD\n",
       " timestamp                       \n",
       "2018-01-01 00:00:00  13598.814422\n",
       "2018-01-01 00:01:00  13596.912824\n",
       "2018-01-01 00:02:00  13568.356998\n",
       "2018-01-01 00:03:00  13560.425182\n",
       "2018-01-01 00:04:00  13552.270931\n",
       "2018-01-01 00:05:00  13552.279636\n",
       "2018-01-01 00:06:00  13552.362423\n",
       "2018-01-01 00:07:00  13570.273982\n",
       "2018-01-01 00:08:00  13593.489523\n",
       "2018-01-01 00:09:00  13614.862762"
      ]
     },
     "execution_count": 17,
     "metadata": {},
     "output_type": "execute_result"
    }
   ],
   "source": [
    "df.head(10)"
   ]
  },
  {
   "cell_type": "markdown",
   "metadata": {},
   "source": [
    "The dataset contains missing values; in order to prevent this causing errors, we replace these with adjacent values from the time series."
   ]
  },
  {
   "cell_type": "code",
   "execution_count": 18,
   "metadata": {},
   "outputs": [
    {
     "name": "stdout",
     "output_type": "stream",
     "text": [
      "1662 observations are missing.\n",
      "This is 0.368% of the total.\n"
     ]
    }
   ],
   "source": [
    "nof_missing_values = sum(np.isnan(df['USD']))\n",
    "\n",
    "print(nof_missing_values, 'observations are missing.')\n",
    "print('This is {:.3f}% of the total.'.format(nof_missing_values*100/len(df)))"
   ]
  },
  {
   "cell_type": "code",
   "execution_count": 19,
   "metadata": {
    "colab": {
     "base_uri": "https://localhost:8080/",
     "height": 34
    },
    "colab_type": "code",
    "id": "gUXzLXEoqjv5",
    "outputId": "9b519613-55f8-44e7-d189-df14e481643a"
   },
   "outputs": [
    {
     "name": "stdout",
     "output_type": "stream",
     "text": [
      "Now 0 observations are missing.\n"
     ]
    }
   ],
   "source": [
    "df = df.fillna(method=\"backfill\")\n",
    "\n",
    "nof_missing_values = sum(np.isnan(df['USD']))\n",
    "\n",
    "print('Now', nof_missing_values, 'observations are missing.')"
   ]
  },
  {
   "cell_type": "markdown",
   "metadata": {
    "colab_type": "text",
    "id": "Xp8DNh3Lqjvj"
   },
   "source": [
    "# RNN Regression\n",
    "We consider a univariate prediction problem where the time series is given by 'USD' in the data frame, and for each input sequence we predict the value 4 time-steps into the future."
   ]
  },
  {
   "cell_type": "code",
   "execution_count": 234,
   "metadata": {
    "colab": {},
    "colab_type": "code",
    "id": "AruP1dVpqjvm"
   },
   "outputs": [],
   "source": [
    "use_features = ['USD'] # continuous input\n",
    "target = 'USD' # continuous output\n",
    "n_steps_ahead = 4 # forecasting horizon"
   ]
  },
  {
   "cell_type": "markdown",
   "metadata": {
    "colab_type": "text",
    "id": "HgFn0_Zhqjvy"
   },
   "source": [
    "### Stationarity\n",
    "It is essential to determine whether the time series is \"stationary\". Informally, stationarity is when the auto-covariance is independent of time. Failure to establish stationarity will almost certainly lead to misinterpretation of model identification and diagnostic tests. Moreover, stationarity is decisive in characterizing the prediction problem and whether to use a more advanced architecture. In particular, we can expect a plain RNN to perform poorly if the data is non-stationary as the RNN exhibits fixed auto-covariance. \n",
    "\n",
    "We perform an Augmented Dickey-Fuller test to establish stationarity under the assumption that the time series has a constant bias but does not exhibit a time trend. In other words, we assume that the time series is already de-trended. \n",
    "\n",
    "If the stationarity test fails, even after first de-trending the time series, then one potential recourse is to simply take differences of time series and predict $\\Delta y_t$.\n",
    "\n"
   ]
  },
  {
   "cell_type": "markdown",
   "metadata": {
    "colab_type": "text",
    "id": "azMbPKuXqjv1"
   },
   "source": [
    "The null hypothesis of the Augmented Dickey-Fuller is that there is a unit root, with the alternative that there is no unit root. If the p-value is above $(1-\\alpha)$, then we cannot reject that there is a unit root. Note that a subset of the time series is used to reduce the memory requirements of the test. We use the first 200000 samples to test for stationarity. While the test statistic is sensitive to the data size, the ADF test is always accepted at the 99\\% level."
   ]
  },
  {
   "cell_type": "code",
   "execution_count": 238,
   "metadata": {
    "colab": {},
    "colab_type": "code",
    "id": "V_DF3IABqjwA"
   },
   "outputs": [],
   "source": [
    "adf, p, usedlag, nobs, cvs, aic = sm.tsa.stattools.adfuller(df[use_features[0]][:200000].values)"
   ]
  },
  {
   "cell_type": "code",
   "execution_count": 237,
   "metadata": {
    "colab": {},
    "colab_type": "code",
    "id": "wLjxzajyqjwJ"
   },
   "outputs": [
    {
     "name": "stdout",
     "output_type": "stream",
     "text": [
      "ADF: -0.49940384686731837\n",
      "p-value: 0.8921327793861069,\n",
      "N: 198, \n",
      "critical values: {'1%': -3.4638151713286316, '5%': -2.876250632135043, '10%': -2.574611347821651}\n"
     ]
    }
   ],
   "source": [
    "adf_results_string = 'ADF: {}\\np-value: {},\\nN: {}, \\ncritical values: {}'\n",
    "print(adf_results_string.format(adf, p, nobs, cvs))"
   ]
  },
  {
   "cell_type": "markdown",
   "metadata": {
    "colab_type": "text",
    "id": "jxx3NIqxqjwT"
   },
   "source": [
    "Here we accept the null as the p-value is larger than 0.01, thus we can not reject the test at the 99% confidence level. This suggests that the time series is **non-stationary**."
   ]
  },
  {
   "cell_type": "markdown",
   "metadata": {
    "colab_type": "text",
    "id": "6Vo_X2UDqjwV"
   },
   "source": [
    "#### Autoregressive Model Identification: The partial auto-correlation\n",
    "It is important to determine the number of lags, the sequence length, required in the RNN by statistical analysis. A brute-force approach will in general be too time-consuming.\n",
    "\n",
    "A partial auto-correlation at lag $h\\geq 2$ is a conditional auto-correlation between a variable, $X_t$, and its $h^{th}$ lag, $X_{t-h}$ under the assumption that we control for the values of the intermediate lags, $X_{t-1},\\dots, X_{t-h+1}$:\n",
    "\n",
    "$$\\begin{align}\\tau_h&:=\\tau(X_t, X_{t-h}; X_{t-1},\\dots, X_{t-h+1})\\\\\n",
    "&:=\\frac{\\gamma(X_t, X_{t-h}; X_{t-1},\\dots, X_{t-h+1})}{\\sqrt{\\gamma(X_t |X_{t-1},\\dots, X_{t-h+1})\\gamma(X_{t-h} |X_{t-1},\\dots, X_{t-h+1}))}},\n",
    "\\end{align}$$\n",
    "where $\\gamma_h:=\\gamma(X_tX_{t-h})$ is the lag-$h$ autocovariance. The partial autocorrelation function $\\tau_h:\\mathbb{N} \\rightarrow [-1,1]$ is a map $h:\\mapsto \\tau_h$.\n",
    "\n",
    "The estimated partial auto-correlation function (PACF) can be used to identify the order of an autoregressive time series model. Values of $|\\tau_h|$ greater or equal to $\\frac{\\Phi^{-1}(\\alpha)}{\\sqrt{T}}$, where $T$ is the number of observations and $\\Phi(z)$ is the standard normal CDF, are significant lag $h$ partial autocorelations at the $\\alpha$ confidence level.\n",
    "\n",
    "We use the stattools package to estimate the PACF. The `nlags` parameter is the maximum number of lags used for PACF estimation."
   ]
  },
  {
   "cell_type": "code",
   "execution_count": 228,
   "metadata": {
    "colab": {},
    "colab_type": "code",
    "id": "MKLHw7tqqjwY"
   },
   "outputs": [],
   "source": [
    "pacf = sm.tsa.stattools.pacf(df[use_features], nlags=30)"
   ]
  },
  {
   "cell_type": "markdown",
   "metadata": {},
   "source": [
    "Since $\\Phi^{-1}(0.99) \\simeq 2.58$:"
   ]
  },
  {
   "cell_type": "code",
   "execution_count": 123,
   "metadata": {
    "colab": {},
    "colab_type": "code",
    "id": "xzsy_bjyqjwh"
   },
   "outputs": [],
   "source": [
    "T = len(df[use_features])\n",
    "\n",
    "sig_test = lambda tau_h: np.abs(tau_h) > 2.58/np.sqrt(T)"
   ]
  },
  {
   "cell_type": "markdown",
   "metadata": {
    "colab_type": "text",
    "id": "RsQTxSq5qjwf"
   },
   "source": [
    "We find the first lag which isn't significant at the 99% level and automatically determine the number of lags needed in our autoregressive model as one below this value."
   ]
  },
  {
   "cell_type": "code",
   "execution_count": 46,
   "metadata": {
    "colab": {},
    "colab_type": "code",
    "id": "xzsy_bjyqjwh"
   },
   "outputs": [
    {
     "name": "stdout",
     "output_type": "stream",
     "text": [
      "n_steps set to 4\n"
     ]
    }
   ],
   "source": [
    "for i in range(len(pacf)):\n",
    "    if sig_test(pacf[i]) == False:\n",
    "        n_steps = i - 1\n",
    "        print('n_steps set to', n_steps)\n",
    "        break"
   ]
  },
  {
   "cell_type": "markdown",
   "metadata": {
    "colab_type": "text",
    "id": "Fnv19w5tqjwy"
   },
   "source": [
    "This may lead to a high order model, with more lags than strictly necessary. We could view this value, informally, as an upper bound on the number of lags needed. We can also simply identify the order of the model based on the plot of the PACF. In this case, a minimum of 4 lags appears satisfactory, although more may be needed. Unlike autoregressive models, the advantage of using fewer parameters is purely computational as adding more lags does not increase the number of parameters, only the size of the tensorial representation of the sequence data in TensorFlow. "
   ]
  },
  {
   "cell_type": "code",
   "execution_count": 47,
   "metadata": {
    "colab": {
     "base_uri": "https://localhost:8080/",
     "height": 282
    },
    "colab_type": "code",
    "id": "2YHK-wIIqjw1",
    "outputId": "f8c02cc7-2422-4a9e-9c80-1a641347fc54"
   },
   "outputs": [
    {
     "data": {
      "text/plain": [
       "<matplotlib.legend.Legend at 0x1a43d97c88>"
      ]
     },
     "execution_count": 47,
     "metadata": {},
     "output_type": "execute_result"
    },
    {
     "data": {
      "image/png": "[encoded data removed]",
      "text/plain": [
       "<Figure size 432x288 with 1 Axes>"
      ]
     },
     "metadata": {
      "needs_background": "light"
     },
     "output_type": "display_data"
    }
   ],
   "source": [
    "plt.plot(pacf, label='pacf')\n",
    "plt.plot([2.58/np.sqrt(T)]*30, label='99% confidence interval (upper)')\n",
    "plt.plot([-2.58/np.sqrt(T)]*30, label='99% confidence interval (lower)')\n",
    "plt.xlabel('number of lags')\n",
    "plt.legend();"
   ]
  },
  {
   "cell_type": "markdown",
   "metadata": {
    "colab_type": "text",
    "id": "jHSnkymxqjw7"
   },
   "source": [
    "### Splitting the time series into training and testing sets\n",
    "Split the training and test set by using the first 80% of the time series and the remaining 20% for the test set. Note that the test set must be in the future of the training set to avoid look-ahead bias. Also, random sampling of the data can not be used as this would eliminate the auto-correlation structure."
   ]
  },
  {
   "cell_type": "code",
   "execution_count": 48,
   "metadata": {
    "colab": {},
    "colab_type": "code",
    "id": "Y7D1y9USqjw9"
   },
   "outputs": [
    {
     "name": "stdout",
     "output_type": "stream",
     "text": [
      "USD    8063.821544\n",
      "dtype: float64\n"
     ]
    }
   ],
   "source": [
    "train_weight = 0.8\n",
    "split = int(len(df) * train_weight)\n",
    "\n",
    "df_train = df[use_features].iloc[:split]\n",
    "df_test = df[use_features].iloc[split:]"
   ]
  },
  {
   "cell_type": "markdown",
   "metadata": {
    "colab_type": "text",
    "collapsed": true,
    "id": "JB3yo5YkqjxE"
   },
   "source": [
    "\n",
    "### Scaling\n",
    "Standardization of the data is important to avoid potential scaling difficulties in the fitting of the model. When there is more than one feature (covariate), scaling avoids one feature dominating over another due to disparate scales.\n",
    "\n",
    "To avoid introducing a look-ahead bias into the prediction, we must re-scale the training data without knowledge of the test set. Hence, we will simply standardize the training set using the mean and standard deviation of the training set and not the whole time series. Additionally, to avoid introducing a systematic bias into test set, we use the identical normalization for the test set - the mean and standard deviation of the training set are used to normalize the test set."
   ]
  },
  {
   "cell_type": "code",
   "execution_count": 49,
   "metadata": {
    "colab": {},
    "colab_type": "code",
    "id": "JxQ09iVxqjxL"
   },
   "outputs": [],
   "source": [
    "# note that for a multivariate time series, you would need to scale \n",
    "# each variable by its own mean and standard deviation in the training set\n",
    "mu = np.float(df_train.mean())\n",
    "sigma = np.float(df_train.std())\n",
    "\n",
    "stdize_input = lambda x: (x - mu) / sigma\n",
    "\n",
    "df_train = df_train.apply(stdize_input)\n",
    "df_test = df_test.apply(stdize_input)"
   ]
  },
  {
   "cell_type": "markdown",
   "metadata": {
    "colab_type": "text",
    "id": "ooDbr1Giqjxa"
   },
   "source": [
    "### Data formatting for RNNs"
   ]
  },
  {
   "cell_type": "markdown",
   "metadata": {
    "colab_type": "text",
    "id": "80KLxffJqjxd"
   },
   "source": [
    "TensorFlow uses tensors to represent data. To perform sequence learning, the time series of variables must be transformed to a series of over-lapping sub-sequences. \n",
    "\n",
    "For example, consider a univariate time series of increasing integers."
   ]
  },
  {
   "cell_type": "markdown",
   "metadata": {
    "colab_type": "text",
    "id": "fk_D3SrKqjxe"
   },
   "source": [
    "1 2 3 4 5 6 7 8 9 10 11 12 13 14 15"
   ]
  },
  {
   "cell_type": "markdown",
   "metadata": {
    "colab_type": "text",
    "id": "avKQL4MWqjxg"
   },
   "source": [
    "Setting the sequence length to 10, for example, we move the window forward by one observation at a time and construct new sequences:\n",
    "\n",
    "1 2 3 4 5 6 7 8 9 10\n",
    "\n",
    "2 3 4 5 6 7 8 9 10 11\n",
    "\n",
    "3 4 5 6 7 8 9 10 11 12\n",
    "\n",
    "4 5 6 7 8 9 10 11 12 13\n",
    "\n",
    "5 6 7 8 9 10 11 12 13 14\n",
    "\n",
    "6 7 8 9 10 11 12 13 14 15\n",
    "\n",
    "\n",
    "Let's define the following function for reshaping the data into one-step ahead times series prediction format. "
   ]
  },
  {
   "cell_type": "code",
   "execution_count": 54,
   "metadata": {
    "colab": {},
    "colab_type": "code",
    "id": "YPCndJ8sqjxj"
   },
   "outputs": [],
   "source": [
    "def get_lagged_features(df, n_steps, n_steps_ahead):\n",
    "    \"\"\"\n",
    "    df: pandas DataFrame of time series to be lagged\n",
    "    n_steps: number of lags, i.e. sequence length\n",
    "    n_steps_ahead: forecasting horizon\n",
    "    \"\"\"\n",
    "    lag_list = []\n",
    "    for lag in range(n_steps + n_steps_ahead - 1, n_steps_ahead - 1, -1):\n",
    "        lag_list.append(df.shift(lag))\n",
    "    \n",
    "    lag_array = np.dstack([i[n_steps+n_steps_ahead-1:] for i in lag_list])\n",
    "    # We swap the last two dimensions so each slice along the first dimension\n",
    "    # is the same shape as the corresponding segment of the input time series \n",
    "    lag_array = np.swapaxes(lag_array, 1, 2)\n",
    "    return lag_array"
   ]
  },
  {
   "cell_type": "markdown",
   "metadata": {
    "colab_type": "text",
    "id": "gOk1scB1qjxn"
   },
   "source": [
    "We shall first transform the training input and output data."
   ]
  },
  {
   "cell_type": "code",
   "execution_count": 56,
   "metadata": {
    "scrolled": true
   },
   "outputs": [],
   "source": [
    "x_train_reg = get_lagged_features(df_train, n_steps, n_steps_ahead)\n",
    "y_train_reg =  df_train.values[-len(x_train_reg):]\n",
    "\n",
    "x_test_reg = get_lagged_features(df_test, n_steps, n_steps_ahead)\n",
    "y_test_reg =  df_test.values[-len(x_test_reg):]"
   ]
  },
  {
   "cell_type": "markdown",
   "metadata": {
    "colab_type": "text",
    "id": "av-Dyaweqjxw"
   },
   "source": [
    "Print the shapes of each tensor. The first digit is the number of observations. For feature arrays, the second digit is the sequence length (i.e. the number of lags in the model) and the final digit is the dimension of each element in the sequence or output vector respectively. In this case, the example performs univariate time series analysis and so the dimension of the input and output is 1."
   ]
  },
  {
   "cell_type": "code",
   "execution_count": 58,
   "metadata": {},
   "outputs": [
    {
     "name": "stdout",
     "output_type": "stream",
     "text": [
      "[(361337, 4, 1), (361337, 1), (90330, 4, 1), (90330, 1)]\n"
     ]
    },
    {
     "data": {
      "text/plain": [
       "array([[2.36412731],\n",
       "       [2.36325048],\n",
       "       [2.35008329],\n",
       "       [2.34642591]])"
      ]
     },
     "execution_count": 58,
     "metadata": {},
     "output_type": "execute_result"
    }
   ],
   "source": [
    "print([i.shape for i in (x_train_reg, y_train_reg, x_test_reg, y_test_reg)])"
   ]
  },
  {
   "cell_type": "markdown",
   "metadata": {
    "colab_type": "text",
    "id": "aieEXctCqjyK"
   },
   "source": [
    "### Model Specification"
   ]
  },
  {
   "cell_type": "code",
   "execution_count": 59,
   "metadata": {
    "colab": {},
    "colab_type": "code",
    "id": "tBFnFLZZqjyM"
   },
   "outputs": [],
   "source": [
    "def AlphatRNN_(n_units = 10, l1_reg=0, seed=0):\n",
    "  model = Sequential()\n",
    "  model.add(AlphatRNN(n_units, activation='tanh', recurrent_activation='sigmoid', kernel_initializer=keras.initializers.glorot_uniform(seed), bias_initializer=keras.initializers.glorot_uniform(seed), recurrent_initializer=keras.initializers.orthogonal(seed), kernel_regularizer=l1(l1_reg), input_shape=(x_train_reg.shape[1], x_train_reg.shape[-1]), unroll=True))  \n",
    "  model.add(Dense(1, kernel_initializer=keras.initializers.glorot_uniform(seed), bias_initializer=keras.initializers.glorot_uniform(seed), kernel_regularizer=l1(l1_reg)))\n",
    "  model.compile(loss='mean_squared_error', optimizer='adam')\n",
    "  return model\n",
    "\n",
    "\n",
    "def AlphaRNN_(n_units = 10, l1_reg=0, seed=0):\n",
    "  model = Sequential()\n",
    "  model.add(AlphaRNN(n_units, activation='tanh', kernel_initializer=keras.initializers.glorot_uniform(seed), bias_initializer=keras.initializers.glorot_uniform(seed), recurrent_initializer=keras.initializers.orthogonal(seed), kernel_regularizer=l1(l1_reg), input_shape=(x_train_reg.shape[1], x_train_reg.shape[-1]), unroll=True))\n",
    "  model.add(Dense(1, kernel_initializer=keras.initializers.glorot_uniform(seed), bias_initializer=keras.initializers.glorot_uniform(seed), kernel_regularizer=l1(l1_reg)))\n",
    "  model.compile(loss='mean_squared_error', optimizer='adam')\n",
    "  return model\n",
    "\n",
    "\n",
    "def SimpleRNN_(n_units = 10, l1_reg=0, seed=0):\n",
    "  model = Sequential()\n",
    "  model.add(SimpleRNN(n_units, activation='tanh', kernel_initializer=keras.initializers.glorot_uniform(seed), bias_initializer=keras.initializers.glorot_uniform(seed), recurrent_initializer=keras.initializers.orthogonal(seed), kernel_regularizer=l1(l1_reg), input_shape=(x_train_reg.shape[1], x_train_reg.shape[-1]), unroll=True, stateful=False))  \n",
    "  model.add(Dense(1, kernel_initializer=keras.initializers.glorot_uniform(seed), bias_initializer=keras.initializers.glorot_uniform(seed), kernel_regularizer=l1(l1_reg)))\n",
    "  model.compile(loss='mean_squared_error', optimizer='adam')\n",
    "  return model\n",
    "\n",
    "\n",
    "def GRU_(n_units = 10, l1_reg=0, seed=0):\n",
    "  model = Sequential()\n",
    "  model.add(GRU(n_units, activation='tanh', kernel_initializer=keras.initializers.glorot_uniform(seed), bias_initializer=keras.initializers.glorot_uniform(seed), recurrent_initializer=keras.initializers.orthogonal(seed), kernel_regularizer=l1(l1_reg), input_shape=(x_train_reg.shape[1], x_train_reg.shape[-1]), unroll=True))  \n",
    "  model.add(Dense(1, kernel_initializer=keras.initializers.glorot_uniform(seed), bias_initializer=keras.initializers.glorot_uniform(seed), kernel_regularizer=l1(l1_reg)))\n",
    "  model.compile(loss='mean_squared_error', optimizer='adam')\n",
    "  return model\n",
    "\n",
    "\n",
    "def LSTM_(n_units = 10, l1_reg=0, seed=0):\n",
    "  model = Sequential()\n",
    "  model.add(LSTM(n_units, activation='tanh', kernel_initializer=keras.initializers.glorot_uniform(seed), bias_initializer=keras.initializers.glorot_uniform(seed), recurrent_initializer=keras.initializers.orthogonal(seed), kernel_regularizer=l1(l1_reg), input_shape=(x_train_reg.shape[1], x_train_reg.shape[-1]), unroll=True)) \n",
    "  model.add(Dense(1, kernel_initializer=keras.initializers.glorot_uniform(seed), bias_initializer=keras.initializers.glorot_uniform(seed), kernel_regularizer=l1(l1_reg)))\n",
    "  model.compile(loss='mean_squared_error', optimizer='adam')\n",
    "  return model"
   ]
  },
  {
   "cell_type": "code",
   "execution_count": 60,
   "metadata": {
    "colab": {},
    "colab_type": "code",
    "id": "0Bmr9nNVqjyR"
   },
   "outputs": [],
   "source": [
    "max_epochs=20\n",
    "batch_size=1000"
   ]
  },
  {
   "cell_type": "markdown",
   "metadata": {
    "colab_type": "text",
    "id": "KGCWFF1-qjyW"
   },
   "source": [
    "Use a batch size of 1000 as the dataset is reasonably large and the training time would be too long otherwise. 20 epochs have been used here, but a better approach would be to use a stopping criteria through a call back. "
   ]
  },
  {
   "cell_type": "code",
   "execution_count": 61,
   "metadata": {
    "colab": {},
    "colab_type": "code",
    "id": "SrDjZpVdqjyZ"
   },
   "outputs": [],
   "source": [
    "es = EarlyStopping(monitor='loss', mode='min', verbose=1, patience=100, min_delta=1e-7, restore_best_weights=True)"
   ]
  },
  {
   "cell_type": "code",
   "execution_count": 72,
   "metadata": {
    "colab": {},
    "colab_type": "code",
    "id": "jr_42Ab_qjye"
   },
   "outputs": [],
   "source": [
    "params = {\n",
    "    'rnn': {\n",
    "        'model': None, 'function': SimpleRNN_, 'l1_reg': 0.0, 'H': 20, \n",
    "        'color': 'blue', 'label':'RNN'}, \n",
    "    'alpharnn': {\n",
    "        'model': None, 'function': AlphaRNN_, 'l1_reg': 0.0, 'H': 10, \n",
    "        'color': 'green', 'label': '$\\\\alpha$-RNN' }, \n",
    "    'alphatrnn': {\n",
    "        'model': None, 'function':AlphatRNN_, 'l1_reg': 0.0, 'H': 5, \n",
    "        'color': 'cyan', 'label': '$\\\\alpha_t$-RNN'},\n",
    "    'gru': {\n",
    "        'model': None, 'function':GRU_,'l1_reg': 0.0, 'H': 10, \n",
    "        'color': 'orange', 'label': 'GRU'},\n",
    "    'lstm': {\n",
    "        'model': None, 'function': LSTM_,'l1_reg': 0.0, 'H': 10, \n",
    "        'color':'red', 'label': 'LSTM'}\n",
    "}"
   ]
  },
  {
   "cell_type": "markdown",
   "metadata": {
    "colab_type": "text",
    "id": "oKcoWfmHqjyi"
   },
   "source": [
    "# Cross-validation"
   ]
  },
  {
   "cell_type": "markdown",
   "metadata": {},
   "source": [
    "The cell below performs a grid search to optimise the `n_units` and `l1_reg` for each of the models. \n",
    "\n",
    "The results are cross-validated to avoid over-fitting. Scikit-Learn's `TimeSeriesSplit` function is used to partition the data into 5 pairs of training and testing sets, where the test data is always ahead of the training data in time. "
   ]
  },
  {
   "cell_type": "code",
   "execution_count": 127,
   "metadata": {
    "colab": {},
    "colab_type": "code",
    "id": "dM8rOT-rqjyj"
   },
   "outputs": [],
   "source": [
    "cross_val = False # Warning: Changing this to True will take several hours to run\n",
    "if cross_val:\n",
    "    '''\n",
    "    n_units = [5,10,20]\n",
    "    l1_reg = [0, 0.001, 0.01, 0.1]\n",
    "    tscv = TimeSeriesSplit(n_splits = 5)\n",
    "    param_grid = dict(n_units=n_units,l1_reg=l1_reg)\n",
    "    '''#¢#\n",
    "    n_units = [5]\n",
    "    l1_reg = [0]\n",
    "    # In the kth split, TimeSeriesSplit returns first \n",
    "    # k folds as train set and the (k+1)th fold as test set.\n",
    "    tscv = TimeSeriesSplit(n_splits = 5)\n",
    "    # A dictionary containing a list of values to be iterated through for each parameter name\n",
    "    param_grid = {'n_units': n_units, 'l1_reg': l1_reg}\n",
    "    # A grid search is performed for each of the models, and the best-performing parameter set\n",
    "    # over all the cross-validation splits is saved in the params dictionary\n",
    "    for key in params.keys(): # params[key]['function']\n",
    "        model = KerasRegressor(build_fn=params[key]['function'], epochs=max_epochs, \n",
    "                               batch_size=batch_size, verbose=2)\n",
    "        grid = GridSearchCV(estimator=model, param_grid=param_grid, \n",
    "                            cv=tscv, n_jobs=1, verbose=2)\n",
    "        grid_result = grid.fit(x_train_reg[:300], y_train_reg[:300], callbacks=[es])\n",
    "        #¢#grid_result = grid.fit(x_train_reg[:30000],y_train_reg[:30000],callbacks=[es])\n",
    "        print(\"Best: %f using %s\" % (grid_result.best_score_, grid_result.best_params_))\n",
    "        \n",
    "        means = grid_result.cv_results_['mean_test_score']\n",
    "        stds = grid_result.cv_results_['std_test_score']\n",
    "        params_ = grid_result.cv_results_['params']\n",
    "        for mean, stdev, param_ in zip(means, stds, params_):\n",
    "            print(\"%f (%f) with %r\" % (mean, stdev, param_))\n",
    "            \n",
    "        params[key]['H'] = grid_result.best_params_['n_units']\n",
    "        params[key]['l1_reg']= grid_result.best_params_['l1_reg']"
   ]
  },
  {
   "cell_type": "markdown",
   "metadata": {
    "colab_type": "text",
    "id": "BqEXCGyoqjyo"
   },
   "source": [
    "# Train cross-validated model"
   ]
  },
  {
   "cell_type": "markdown",
   "metadata": {},
   "source": [
    "If the grid search was performed, the parameters `n_units` and `l1_reg` with the best cross-validated results on the training set are used. If not, the values from the initialisation of `params` above are used."
   ]
  },
  {
   "cell_type": "code",
   "execution_count": 88,
   "metadata": {
    "colab": {},
    "colab_type": "code",
    "id": "A0FpTqNWqjyq"
   },
   "outputs": [
    {
     "name": "stdout",
     "output_type": "stream",
     "text": [
      "Training rnn model\n",
      "Epoch 1/20\n",
      "361337/361337 [==============================] - 6s 15us/step - loss: 0.2270\n",
      "Epoch 2/20\n",
      "361337/361337 [==============================] - 4s 11us/step - loss: 0.0290\n",
      "Epoch 3/20\n",
      "361337/361337 [==============================] - 4s 11us/step - loss: 0.0137\n",
      "Epoch 4/20\n",
      "361337/361337 [==============================] - 4s 11us/step - loss: 0.0096\n",
      "Epoch 5/20\n",
      "361337/361337 [==============================] - 4s 11us/step - loss: 0.0073\n",
      "Epoch 6/20\n",
      "361337/361337 [==============================] - 4s 11us/step - loss: 0.0062\n",
      "Epoch 7/20\n",
      "361337/361337 [==============================] - 4s 11us/step - loss: 0.0057\n",
      "Epoch 8/20\n",
      "361337/361337 [==============================] - 4s 11us/step - loss: 0.0056\n",
      "Epoch 9/20\n",
      "361337/361337 [==============================] - 4s 11us/step - loss: 0.0055\n",
      "Epoch 10/20\n",
      "361337/361337 [==============================] - 4s 12us/step - loss: 0.0052\n",
      "Epoch 11/20\n",
      "361337/361337 [==============================] - 5s 13us/step - loss: 0.0050\n",
      "Epoch 12/20\n",
      "361337/361337 [==============================] - 6s 17us/step - loss: 0.0045\n",
      "Epoch 13/20\n",
      "361337/361337 [==============================] - 5s 13us/step - loss: 0.0046\n",
      "Epoch 14/20\n",
      "361337/361337 [==============================] - 4s 11us/step - loss: 0.0044\n",
      "Epoch 15/20\n",
      "361337/361337 [==============================] - 4s 11us/step - loss: 0.0041\n",
      "Epoch 16/20\n",
      "361337/361337 [==============================] - 4s 11us/step - loss: 0.0035\n",
      "Epoch 17/20\n",
      "361337/361337 [==============================] - 4s 11us/step - loss: 0.0035\n",
      "Epoch 18/20\n",
      "361337/361337 [==============================] - 4s 11us/step - loss: 0.0032\n",
      "Epoch 19/20\n",
      "361337/361337 [==============================] - 4s 11us/step - loss: 0.0030\n",
      "Epoch 20/20\n",
      "361337/361337 [==============================] - 4s 11us/step - loss: 0.0028\n",
      "Training alpharnn model\n",
      "Epoch 1/20\n",
      "361337/361337 [==============================] - 6s 16us/step - loss: 2.0253\n",
      "Epoch 2/20\n",
      "361337/361337 [==============================] - 4s 11us/step - loss: 0.4293\n",
      "Epoch 3/20\n",
      "361337/361337 [==============================] - 4s 11us/step - loss: 0.1464\n",
      "Epoch 4/20\n",
      "361337/361337 [==============================] - 4s 11us/step - loss: 0.0817\n",
      "Epoch 5/20\n",
      "361337/361337 [==============================] - 4s 11us/step - loss: 0.0492\n",
      "Epoch 6/20\n",
      "361337/361337 [==============================] - 4s 11us/step - loss: 0.0307\n",
      "Epoch 7/20\n",
      "361337/361337 [==============================] - 4s 11us/step - loss: 0.0205\n",
      "Epoch 8/20\n",
      "361337/361337 [==============================] - 4s 11us/step - loss: 0.0146\n",
      "Epoch 9/20\n",
      "361337/361337 [==============================] - 4s 11us/step - loss: 0.0107\n",
      "Epoch 10/20\n",
      "361337/361337 [==============================] - 4s 11us/step - loss: 0.0080\n",
      "Epoch 11/20\n",
      "361337/361337 [==============================] - 4s 11us/step - loss: 0.0061\n",
      "Epoch 12/20\n",
      "361337/361337 [==============================] - 4s 12us/step - loss: 0.0048\n",
      "Epoch 13/20\n",
      "361337/361337 [==============================] - 4s 11us/step - loss: 0.0039\n",
      "Epoch 14/20\n",
      "361337/361337 [==============================] - 4s 12us/step - loss: 0.0034\n",
      "Epoch 15/20\n",
      "361337/361337 [==============================] - 4s 11us/step - loss: 0.0032\n",
      "Epoch 16/20\n",
      "361337/361337 [==============================] - 4s 11us/step - loss: 0.0031\n",
      "Epoch 17/20\n",
      "361337/361337 [==============================] - 4s 12us/step - loss: 0.0031\n",
      "Epoch 18/20\n",
      "361337/361337 [==============================] - 4s 12us/step - loss: 0.0031\n",
      "Epoch 19/20\n",
      "361337/361337 [==============================] - 4s 11us/step - loss: 0.0031\n",
      "Epoch 20/20\n",
      "361337/361337 [==============================] - 4s 11us/step - loss: 0.0032\n",
      "Training alphatrnn model\n",
      "Epoch 1/20\n",
      "361337/361337 [==============================] - 9s 25us/step - loss: 1.4597\n",
      "Epoch 2/20\n",
      "361337/361337 [==============================] - 6s 16us/step - loss: 0.3812\n",
      "Epoch 3/20\n",
      "361337/361337 [==============================] - 6s 16us/step - loss: 0.1376\n",
      "Epoch 4/20\n",
      "361337/361337 [==============================] - 6s 16us/step - loss: 0.0753\n",
      "Epoch 5/20\n",
      "361337/361337 [==============================] - 6s 16us/step - loss: 0.0471\n",
      "Epoch 6/20\n",
      "361337/361337 [==============================] - 6s 16us/step - loss: 0.0317\n",
      "Epoch 7/20\n",
      "361337/361337 [==============================] - 6s 17us/step - loss: 0.0228\n",
      "Epoch 8/20\n",
      "361337/361337 [==============================] - 6s 16us/step - loss: 0.0174\n",
      "Epoch 9/20\n",
      "361337/361337 [==============================] - 6s 16us/step - loss: 0.0138\n",
      "Epoch 10/20\n",
      "361337/361337 [==============================] - 6s 16us/step - loss: 0.0114\n",
      "Epoch 11/20\n",
      "361337/361337 [==============================] - 6s 16us/step - loss: 0.0095\n",
      "Epoch 12/20\n",
      "361337/361337 [==============================] - 6s 16us/step - loss: 0.0081\n",
      "Epoch 13/20\n",
      "361337/361337 [==============================] - 6s 16us/step - loss: 0.0069\n",
      "Epoch 14/20\n",
      "361337/361337 [==============================] - 6s 16us/step - loss: 0.0058\n",
      "Epoch 15/20\n",
      "361337/361337 [==============================] - 6s 16us/step - loss: 0.0050\n",
      "Epoch 16/20\n",
      "361337/361337 [==============================] - 6s 16us/step - loss: 0.0042\n",
      "Epoch 17/20\n",
      "361337/361337 [==============================] - 6s 16us/step - loss: 0.0037\n",
      "Epoch 18/20\n",
      "361337/361337 [==============================] - 6s 16us/step - loss: 0.0032\n",
      "Epoch 19/20\n",
      "361337/361337 [==============================] - 6s 16us/step - loss: 0.0029\n",
      "Epoch 20/20\n",
      "361337/361337 [==============================] - 6s 16us/step - loss: 0.0026\n",
      "Training gru model\n",
      "Epoch 1/20\n",
      "361337/361337 [==============================] - 12s 34us/step - loss: 0.4749\n",
      "Epoch 2/20\n",
      "361337/361337 [==============================] - 9s 26us/step - loss: 0.1817\n",
      "Epoch 3/20\n",
      "361337/361337 [==============================] - 9s 26us/step - loss: 0.0636\n",
      "Epoch 4/20\n",
      "361337/361337 [==============================] - 9s 26us/step - loss: 0.0370\n",
      "Epoch 5/20\n",
      "361337/361337 [==============================] - 9s 26us/step - loss: 0.0237\n",
      "Epoch 6/20\n",
      "361337/361337 [==============================] - 9s 26us/step - loss: 0.0169\n",
      "Epoch 7/20\n",
      "361337/361337 [==============================] - 9s 26us/step - loss: 0.0131\n",
      "Epoch 8/20\n",
      "361337/361337 [==============================] - 9s 26us/step - loss: 0.0108\n",
      "Epoch 9/20\n",
      "361337/361337 [==============================] - 9s 26us/step - loss: 0.0093\n",
      "Epoch 10/20\n",
      "361337/361337 [==============================] - 10s 27us/step - loss: 0.0082\n",
      "Epoch 11/20\n",
      "361337/361337 [==============================] - 9s 26us/step - loss: 0.0075\n",
      "Epoch 12/20\n",
      "361337/361337 [==============================] - 9s 26us/step - loss: 0.0069\n",
      "Epoch 13/20\n",
      "361337/361337 [==============================] - 10s 26us/step - loss: 0.0064\n",
      "Epoch 14/20\n",
      "361337/361337 [==============================] - 10s 27us/step - loss: 0.0061\n",
      "Epoch 15/20\n",
      "361337/361337 [==============================] - 9s 26us/step - loss: 0.0058\n",
      "Epoch 16/20\n",
      "361337/361337 [==============================] - 9s 26us/step - loss: 0.0055\n",
      "Epoch 17/20\n",
      "361337/361337 [==============================] - 9s 26us/step - loss: 0.0052\n",
      "Epoch 18/20\n",
      "361337/361337 [==============================] - 9s 26us/step - loss: 0.0050\n",
      "Epoch 19/20\n",
      "361337/361337 [==============================] - 9s 26us/step - loss: 0.0048\n",
      "Epoch 20/20\n",
      "361337/361337 [==============================] - 9s 26us/step - loss: 0.0046\n",
      "Training lstm model\n",
      "Epoch 1/20\n",
      "361337/361337 [==============================] - 13s 36us/step - loss: 0.3065\n",
      "Epoch 2/20\n",
      "361337/361337 [==============================] - 10s 29us/step - loss: 0.0970\n",
      "Epoch 3/20\n",
      "361337/361337 [==============================] - 11s 30us/step - loss: 0.0386\n",
      "Epoch 4/20\n",
      "361337/361337 [==============================] - 11s 30us/step - loss: 0.0231\n",
      "Epoch 5/20\n",
      "361337/361337 [==============================] - 11s 29us/step - loss: 0.0130\n",
      "Epoch 6/20\n",
      "361337/361337 [==============================] - 11s 31us/step - loss: 0.0075\n",
      "Epoch 7/20\n",
      "361337/361337 [==============================] - 12s 34us/step - loss: 0.0048\n",
      "Epoch 8/20\n",
      "361337/361337 [==============================] - 14s 40us/step - loss: 0.0034\n",
      "Epoch 9/20\n",
      "361337/361337 [==============================] - 15s 41us/step - loss: 0.0026\n",
      "Epoch 10/20\n",
      "361337/361337 [==============================] - 12s 34us/step - loss: 0.0020\n",
      "Epoch 11/20\n",
      "361337/361337 [==============================] - 12s 33us/step - loss: 0.0016\n",
      "Epoch 12/20\n"
     ]
    },
    {
     "name": "stdout",
     "output_type": "stream",
     "text": [
      "361337/361337 [==============================] - 11s 31us/step - loss: 0.0013\n",
      "Epoch 13/20\n",
      "361337/361337 [==============================] - 11s 30us/step - loss: 0.0012\n",
      "Epoch 14/20\n",
      "361337/361337 [==============================] - 11s 30us/step - loss: 0.0012\n",
      "Epoch 15/20\n",
      "361337/361337 [==============================] - 11s 30us/step - loss: 0.0014\n",
      "Epoch 16/20\n",
      "361337/361337 [==============================] - 11s 32us/step - loss: 0.0020\n",
      "Epoch 17/20\n",
      "361337/361337 [==============================] - 14s 39us/step - loss: 0.0027\n",
      "Epoch 18/20\n",
      "361337/361337 [==============================] - 15s 42us/step - loss: 0.0028\n",
      "Epoch 19/20\n",
      "361337/361337 [==============================] - 12s 34us/step - loss: 0.0023\n",
      "Epoch 20/20\n",
      "361337/361337 [==============================] - 12s 34us/step - loss: 0.0017\n"
     ]
    }
   ],
   "source": [
    "for key in params.keys():\n",
    "    tf.random.set_seed(0)\n",
    "    print('Training', key, 'model')\n",
    "    model = params[key]['function'](params[key]['H'], params[key]['l1_reg'])\n",
    "    model.fit(x_train_reg, y_train_reg, epochs=max_epochs, \n",
    "              batch_size=batch_size, callbacks=[es], shuffle=False)\n",
    "    params[key]['model'] = model"
   ]
  },
  {
   "cell_type": "code",
   "execution_count": 76,
   "metadata": {},
   "outputs": [],
   "source": [
    "#params['alpharnn']['model'].save('alfarn.hdf5')"
   ]
  },
  {
   "cell_type": "code",
   "execution_count": 79,
   "metadata": {},
   "outputs": [],
   "source": [
    "#custom_objects = {'AlphaRNN': AlphaRNN, 'AlphatRNN': AlphatRNN}\n",
    "#alfarn = load_model('alfarn.hdf5', custom_objects=custom_objects)"
   ]
  },
  {
   "cell_type": "code",
   "execution_count": 86,
   "metadata": {},
   "outputs": [
    {
     "name": "stdout",
     "output_type": "stream",
     "text": [
      "[[-0.8727112]]\n"
     ]
    },
    {
     "data": {
      "text/plain": [
       "array([-0.87270436])"
      ]
     },
     "execution_count": 86,
     "metadata": {},
     "output_type": "execute_result"
    }
   ],
   "source": [
    "i = 30477\n",
    "\n",
    "predalfarn.predict(x_test_reg))\n",
    "y_test_reg[i]"
   ]
  },
  {
   "cell_type": "code",
   "execution_count": 87,
   "metadata": {},
   "outputs": [],
   "source": [
    "#dict?"
   ]
  },
  {
   "cell_type": "code",
   "execution_count": 89,
   "metadata": {
    "colab": {},
    "colab_type": "code",
    "id": "tQmA1vK1mbCM"
   },
   "outputs": [],
   "source": [
    "# optionally save the fitted model\n",
    "for key in params.keys():\n",
    "    params[key]['model'].save(key + '.hdf5', overwrite=True)  # creates a HDF5 file"
   ]
  },
  {
   "cell_type": "code",
   "execution_count": 106,
   "metadata": {
    "colab": {},
    "colab_type": "code",
    "id": "ZyLz5ik1ANCv"
   },
   "outputs": [],
   "source": [
    "# optionally load the fitted model\n",
    "custom_objects = {'AlphaRNN': AlphaRNN, 'AlphatRNN': AlphatRNN}\n",
    "\n",
    "for key in params.keys():\n",
    "    params[key]['model'] = load_model(key + '.hdf5', custom_objects=custom_objects)"
   ]
  },
  {
   "cell_type": "code",
   "execution_count": 107,
   "metadata": {
    "colab": {},
    "colab_type": "code",
    "id": "a9OE7I07dEhV"
   },
   "outputs": [],
   "source": [
    "def sigmoid(x):\n",
    "    return (1 / (1 + np.exp(-x)))"
   ]
  },
  {
   "cell_type": "markdown",
   "metadata": {},
   "source": [
    "Print out the value of $\\alpha \\in [0,1]$ for the alpha-RNN model"
   ]
  },
  {
   "cell_type": "code",
   "execution_count": 108,
   "metadata": {
    "colab": {
     "base_uri": "https://localhost:8080/",
     "height": 34
    },
    "colab_type": "code",
    "id": "fC3xzTJ4cHG4",
    "outputId": "1e84ce92-289c-4e07-fe25-c3f5b4a01926"
   },
   "outputs": [
    {
     "name": "stdout",
     "output_type": "stream",
     "text": [
      "alpha = [0.6323717]\n"
     ]
    }
   ],
   "source": [
    "model = params['alpharnn']['model']\n",
    "names = [weight.name for layer in model.layers for weight in layer.weights]\n",
    "weights = model.get_weights()\n",
    "\n",
    "for name, weight in zip(names, weights):\n",
    "    if 'alpha:0' in name:\n",
    "      print(\"alpha = \" + str(sigmoid(weight)))"
   ]
  },
  {
   "cell_type": "markdown",
   "metadata": {
    "colab_type": "text",
    "id": "y1gZjjPgqjy3"
   },
   "source": [
    "### Prediction"
   ]
  },
  {
   "cell_type": "markdown",
   "metadata": {
    "colab_type": "text",
    "id": "aEhlyKjSqjy4"
   },
   "source": [
    "We shall now apply the fitted RNN model to the training set and the test set, separately. We can then informally assess the extent of over-fitting."
   ]
  },
  {
   "cell_type": "code",
   "execution_count": 109,
   "metadata": {
    "colab": {
     "base_uri": "https://localhost:8080/",
     "height": 1000
    },
    "colab_type": "code",
    "id": "t3a1F-Y8qjy5",
    "outputId": "c183b29d-0f1b-48b0-859d-27e73ac8f919"
   },
   "outputs": [
    {
     "name": "stdout",
     "output_type": "stream",
     "text": [
      "Model: \"sequential_5\"\n",
      "_________________________________________________________________\n",
      "Layer (type)                 Output Shape              Param #   \n",
      "=================================================================\n",
      "simple_rnn_4 (SimpleRNN)     (None, 20)                440       \n",
      "_________________________________________________________________\n",
      "dense_5 (Dense)              (None, 1)                 21        \n",
      "=================================================================\n",
      "Total params: 461\n",
      "Trainable params: 461\n",
      "Non-trainable params: 0\n",
      "_________________________________________________________________\n",
      "90330/90330 [==============================] - 4s 48us/step\n",
      "361337/361337 [==============================] - 14s 39us/step\n",
      "Model: \"sequential_6\"\n",
      "_________________________________________________________________\n",
      "Layer (type)                 Output Shape              Param #   \n",
      "=================================================================\n",
      "alpha_rnn_2 (AlphaRNN)       (None, 10)                121       \n",
      "_________________________________________________________________\n",
      "dense_6 (Dense)              (None, 1)                 11        \n",
      "=================================================================\n",
      "Total params: 132\n",
      "Trainable params: 132\n",
      "Non-trainable params: 0\n",
      "_________________________________________________________________\n",
      "90330/90330 [==============================] - 4s 48us/step\n",
      "361337/361337 [==============================] - 17s 46us/step\n",
      "Model: \"sequential_7\"\n",
      "_________________________________________________________________\n",
      "Layer (type)                 Output Shape              Param #   \n",
      "=================================================================\n",
      "alphat_rnn_1 (AlphatRNN)     (None, 5)                 80        \n",
      "_________________________________________________________________\n",
      "dense_7 (Dense)              (None, 1)                 6         \n",
      "=================================================================\n",
      "Total params: 86\n",
      "Trainable params: 86\n",
      "Non-trainable params: 0\n",
      "_________________________________________________________________\n",
      "90330/90330 [==============================] - 5s 57us/step\n",
      "361337/361337 [==============================] - 18s 51us/step\n",
      "Model: \"sequential_8\"\n",
      "_________________________________________________________________\n",
      "Layer (type)                 Output Shape              Param #   \n",
      "=================================================================\n",
      "gru_1 (GRU)                  (None, 10)                360       \n",
      "_________________________________________________________________\n",
      "dense_8 (Dense)              (None, 1)                 11        \n",
      "=================================================================\n",
      "Total params: 371\n",
      "Trainable params: 371\n",
      "Non-trainable params: 0\n",
      "_________________________________________________________________\n",
      "90330/90330 [==============================] - 6s 69us/step\n",
      "361337/361337 [==============================] - 22s 62us/step\n",
      "Model: \"sequential_9\"\n",
      "_________________________________________________________________\n",
      "Layer (type)                 Output Shape              Param #   \n",
      "=================================================================\n",
      "lstm_1 (LSTM)                (None, 10)                480       \n",
      "_________________________________________________________________\n",
      "dense_9 (Dense)              (None, 1)                 11        \n",
      "=================================================================\n",
      "Total params: 491\n",
      "Trainable params: 491\n",
      "Non-trainable params: 0\n",
      "_________________________________________________________________\n",
      "90330/90330 [==============================] - 6s 71us/step\n",
      "361337/361337 [==============================] - 23s 64us/step\n"
     ]
    }
   ],
   "source": [
    "for key in params.keys():\n",
    "    model=params[key]['model']\n",
    "    model.summary()\n",
    "    params[key]['predict'] = model.predict(x_test_reg, verbose=1) \n",
    "    params[key]['MSE_train'] = mean_squared_error(y_train_reg, model.predict(x_train_reg, verbose=1))\n",
    "    params[key]['MSE_test'] = mean_squared_error(y_test_reg, params[key]['predict'])"
   ]
  },
  {
   "cell_type": "markdown",
   "metadata": {
    "colab_type": "text",
    "id": "I99U7i80qjy-"
   },
   "source": [
    "### Model Performance"
   ]
  },
  {
   "cell_type": "markdown",
   "metadata": {
    "colab_type": "text",
    "id": "OjslcI9Aqjy_"
   },
   "source": [
    "We observe the in-sample prediction is reliable (upper plot). Most of the out-of-sample prediction (lower plot) is also reliable although the end of the predicted sequence appears to degrade. Such a degradation indicates the prediction horizon might be too long and the model should be periodically retrained to incorporate more recent data."
   ]
  },
  {
   "cell_type": "markdown",
   "metadata": {
    "colab_type": "text",
    "id": "J_ADoAkeqjzB"
   },
   "source": [
    "Finally assess the performance of the model in and out-of-sample using the MSE. We expect the mean error to be larger on the test set than on the training set. "
   ]
  },
  {
   "cell_type": "code",
   "execution_count": 245,
   "metadata": {
    "colab": {
     "base_uri": "https://localhost:8080/",
     "height": 556
    },
    "colab_type": "code",
    "id": "f67u-snqqjzD",
    "outputId": "ca4f8a64-3780-4cc1-a3f5-b738606f5c77",
    "scrolled": true
   },
   "outputs": [
    {
     "name": "stdout",
     "output_type": "stream",
     "text": [
      "rnn\n",
      "alpharnn\n",
      "alphatrnn\n",
      "gru\n",
      "lstm\n"
     ]
    },
    {
     "data": {
      "text/plain": [
       "Text(0.5, 1.0, 'Observed vs Model (Testing)')"
      ]
     },
     "execution_count": 245,
     "metadata": {},
     "output_type": "execute_result"
    },
    {
     "data": {
      "image/png": "[encoded data removed]",
      "text/plain": [
       "<Figure size 864x504 with 1 Axes>"
      ]
     },
     "metadata": {
      "needs_background": "light"
     },
     "output_type": "display_data"
    }
   ],
   "source": [
    "#¢# new\n",
    "fig = plt.figure(figsize=(12,7))\n",
    "upper = 2000\n",
    "downsampling = 50\n",
    "\n",
    "#¢# TODO: xvals by downsampling; xtick_vals & xtick_inds by hour\n",
    "xvals = [something for something in \"something\"]\n",
    "# make df.index dtype datetime?\n",
    "xtick_vals = [i[-8:] for i in df_test.index[n_steps_ahead + n_steps - 1::downsampling]]\n",
    "xtick_inds = range(n_steps_ahead + n_steps - 1, len(x_vals), downsampling)\n",
    "\n",
    "plt.plot(y_test_reg[::downsampling], color=\"black\", label=\"Observed\")\n",
    "for key in params.keys():\n",
    "    print(key)\n",
    "    y_vals = params[key]['predict'][::downsampling]\n",
    "    plt.plot(y_vals, color=params[key]['color'], label=params[key]['label'])\n",
    "plt.legend(loc=\"best\", fontsize=12)\n",
    "plt.xlabel('Time', fontsize=20)\n",
    "plt.xticks(xtick_inds, xtick_vals, rotation=45)\n",
    "plt.ylabel('Y', fontsize=20)\n",
    "plt.title('Observed vs Model (Testing)', fontsize=16)"
   ]
  },
  {
   "cell_type": "code",
   "execution_count": 148,
   "metadata": {},
   "outputs": [],
   "source": [
    "plt.xticks?"
   ]
  },
  {
   "cell_type": "code",
   "execution_count": 143,
   "metadata": {},
   "outputs": [
    {
     "data": {
      "text/plain": [
       "Index(['2018-09-08 23:31:00', '2018-09-09 01:11:00', '2018-09-09 02:51:00',\n",
       "       '2018-09-09 04:31:00', '2018-09-09 06:11:00', '2018-09-09 07:51:00',\n",
       "       '2018-09-09 09:31:00', '2018-09-09 11:11:00', '2018-09-09 12:51:00',\n",
       "       '2018-09-09 14:31:00',\n",
       "       ...\n",
       "       '2018-11-10 00:31:00', '2018-11-10 02:11:00', '2018-11-10 03:51:00',\n",
       "       '2018-11-10 05:31:00', '2018-11-10 07:11:00', '2018-11-10 08:51:00',\n",
       "       '2018-11-10 10:31:00', '2018-11-10 12:11:00', '2018-11-10 13:51:00',\n",
       "       '2018-11-10 15:31:00'],\n",
       "      dtype='object', name=' timestamp', length=904)"
      ]
     },
     "execution_count": 143,
     "metadata": {},
     "output_type": "execute_result"
    }
   ],
   "source": [
    "df_test.index[n_steps_ahead + n_steps - 1::downsampling]"
   ]
  },
  {
   "cell_type": "code",
   "execution_count": 246,
   "metadata": {
    "colab": {
     "base_uri": "https://localhost:8080/",
     "height": 469
    },
    "colab_type": "code",
    "id": "XSX5YYRCqjzH",
    "outputId": "99f4a429-9643-4e42-ea49-8efa6bf190df",
    "scrolled": true
   },
   "outputs": [
    {
     "ename": "NameError",
     "evalue": "name 'use_feature' is not defined",
     "output_type": "error",
     "traceback": [
      "\u001b[0;31m---------------------------------------------------------------------------\u001b[0m",
      "\u001b[0;31mNameError\u001b[0m                                 Traceback (most recent call last)",
      "\u001b[0;32m<ipython-input-246-d7ef782d1e53>\u001b[0m in \u001b[0;36m<module>\u001b[0;34m\u001b[0m\n\u001b[1;32m      3\u001b[0m \u001b[0;34m\u001b[0m\u001b[0m\n\u001b[1;32m      4\u001b[0m \u001b[0;32mfor\u001b[0m \u001b[0mkey\u001b[0m \u001b[0;32min\u001b[0m \u001b[0mparams\u001b[0m\u001b[0;34m.\u001b[0m\u001b[0mkeys\u001b[0m\u001b[0;34m(\u001b[0m\u001b[0;34m)\u001b[0m\u001b[0;34m:\u001b[0m\u001b[0;34m\u001b[0m\u001b[0;34m\u001b[0m\u001b[0m\n\u001b[0;32m----> 5\u001b[0;31m    \u001b[0mplt\u001b[0m\u001b[0;34m.\u001b[0m\u001b[0mplot\u001b[0m\u001b[0;34m(\u001b[0m\u001b[0mdf_test\u001b[0m\u001b[0;34m.\u001b[0m\u001b[0mindex\u001b[0m\u001b[0;34m[\u001b[0m\u001b[0mn_steps\u001b[0m\u001b[0;34m+\u001b[0m\u001b[0mn_steps_ahead\u001b[0m\u001b[0;34m-\u001b[0m\u001b[0;36m1\u001b[0m\u001b[0;34m:\u001b[0m\u001b[0mupper\u001b[0m\u001b[0;34m]\u001b[0m\u001b[0;34m,\u001b[0m \u001b[0mdf_test\u001b[0m\u001b[0;34m[\u001b[0m\u001b[0muse_feature\u001b[0m\u001b[0;34m]\u001b[0m\u001b[0;34m[\u001b[0m\u001b[0mn_steps\u001b[0m\u001b[0;34m+\u001b[0m\u001b[0mn_steps_ahead\u001b[0m\u001b[0;34m-\u001b[0m\u001b[0;36m1\u001b[0m\u001b[0;34m:\u001b[0m\u001b[0mupper\u001b[0m\u001b[0;34m]\u001b[0m\u001b[0;34m-\u001b[0m\u001b[0mparams\u001b[0m\u001b[0;34m[\u001b[0m\u001b[0mkey\u001b[0m\u001b[0;34m]\u001b[0m\u001b[0;34m[\u001b[0m\u001b[0;34m'predict'\u001b[0m\u001b[0;34m]\u001b[0m\u001b[0;34m[\u001b[0m\u001b[0;34m:\u001b[0m\u001b[0mupper\u001b[0m\u001b[0;34m-\u001b[0m\u001b[0;34m(\u001b[0m\u001b[0mn_steps\u001b[0m\u001b[0;34m+\u001b[0m\u001b[0mn_steps_ahead\u001b[0m\u001b[0;34m-\u001b[0m\u001b[0;36m1\u001b[0m\u001b[0;34m)\u001b[0m\u001b[0;34m,\u001b[0m \u001b[0;36m0\u001b[0m\u001b[0;34m]\u001b[0m\u001b[0;34m,\u001b[0m \u001b[0mcolor\u001b[0m\u001b[0;34m=\u001b[0m\u001b[0mparams\u001b[0m\u001b[0;34m[\u001b[0m\u001b[0mkey\u001b[0m\u001b[0;34m]\u001b[0m\u001b[0;34m[\u001b[0m\u001b[0;34m'color'\u001b[0m\u001b[0;34m]\u001b[0m\u001b[0;34m,\u001b[0m \u001b[0mlabel\u001b[0m\u001b[0;34m=\u001b[0m\u001b[0mparams\u001b[0m\u001b[0;34m[\u001b[0m\u001b[0mkey\u001b[0m\u001b[0;34m]\u001b[0m\u001b[0;34m[\u001b[0m\u001b[0;34m'label'\u001b[0m\u001b[0;34m]\u001b[0m \u001b[0;34m+\u001b[0m \u001b[0;34m\" (\"\u001b[0m \u001b[0;34m+\u001b[0m  \u001b[0mstr\u001b[0m\u001b[0;34m(\u001b[0m\u001b[0mround\u001b[0m\u001b[0;34m(\u001b[0m\u001b[0mparams\u001b[0m\u001b[0;34m[\u001b[0m\u001b[0mkey\u001b[0m\u001b[0;34m]\u001b[0m\u001b[0;34m[\u001b[0m\u001b[0;34m'MSE_test'\u001b[0m\u001b[0;34m]\u001b[0m\u001b[0;34m,\u001b[0m\u001b[0;36m7\u001b[0m\u001b[0;34m)\u001b[0m\u001b[0;34m)\u001b[0m \u001b[0;34m+\u001b[0m\u001b[0;34m\")\"\u001b[0m\u001b[0;34m)\u001b[0m\u001b[0;34m\u001b[0m\u001b[0;34m\u001b[0m\u001b[0m\n\u001b[0m\u001b[1;32m      6\u001b[0m \u001b[0;34m\u001b[0m\u001b[0m\n\u001b[1;32m      7\u001b[0m \u001b[0mplt\u001b[0m\u001b[0;34m.\u001b[0m\u001b[0mlegend\u001b[0m\u001b[0;34m(\u001b[0m\u001b[0mloc\u001b[0m\u001b[0;34m=\u001b[0m\u001b[0;34m\"best\"\u001b[0m\u001b[0;34m,\u001b[0m \u001b[0mfontsize\u001b[0m\u001b[0;34m=\u001b[0m\u001b[0;36m12\u001b[0m\u001b[0;34m)\u001b[0m\u001b[0;34m\u001b[0m\u001b[0;34m\u001b[0m\u001b[0m\n",
      "\u001b[0;31mNameError\u001b[0m: name 'use_feature' is not defined"
     ]
    },
    {
     "data": {
      "text/plain": [
       "<Figure size 864x504 with 0 Axes>"
      ]
     },
     "metadata": {},
     "output_type": "display_data"
    }
   ],
   "source": [
    "#¢#new\n",
    "fig = plt.figure(figsize=(12,7))\n",
    "\n",
    "for key in params.keys():\n",
    "   plt.plot(df_test.index[n_steps+n_steps_ahead-1:upper], df_test[use_feature][n_steps+n_steps_ahead-1:upper]-params[key]['predict'][:upper-(n_steps+n_steps_ahead-1), 0], color=params[key]['color'], label=params[key]['label'] + \" (\" +  str(round(params[key]['MSE_test'],7)) +\")\")\n",
    "\n",
    "plt.legend(loc=\"best\", fontsize=12)\n",
    "plt.title('Observed vs Model Error (Training)', fontsize=16)\n",
    "plt.xlabel('Time', fontsize=20)\n",
    "plt.ylabel('Y-$\\hat{Y}$', fontsize=20)\n",
    "\n",
    "plt.show()"
   ]
  },
  {
   "cell_type": "code",
   "execution_count": null,
   "metadata": {},
   "outputs": [],
   "source": [
    "#¢# orig\n",
    "\n",
    "fig = plt.figure(figsize=(12,7))\n",
    "upper = 2000\n",
    "plt.plot(df_test.index[n_steps+n_steps_ahead-1:upper], df_test[use_feature][n_steps+n_steps_ahead-1:upper], color=\"black\", label=\"Observed\")\n",
    "\n",
    "for key in params.keys():\n",
    "    print(key)\n",
    "    plt.plot(df_test.index[n_steps+n_steps_ahead-1:upper], params[key]['predict'][:upper-(n_steps+n_steps_ahead-1), 0], color=params[key]['color'], label=params[key]['label'])\n",
    "plt.legend(loc=\"best\", fontsize=12)\n",
    "plt.xlabel('Time', fontsize=20)\n",
    "plt.ylabel('Y', fontsize=20)\n",
    "plt.title('Observed vs Model (Testing)', fontsize=16)\n",
    "\n",
    "plt.show()   "
   ]
  },
  {
   "cell_type": "code",
   "execution_count": null,
   "metadata": {},
   "outputs": [],
   "source": [
    "#¢# orig\n",
    "\n",
    "fig = plt.figure(figsize=(12,7))\n",
    "\n",
    "for key in params.keys():\n",
    "   plt.plot(df_test.index[n_steps+n_steps_ahead-1:upper], df_test[use_feature][n_steps+n_steps_ahead-1:upper]-params[key]['predict'][:upper-(n_steps+n_steps_ahead-1), 0], color=params[key]['color'], label=params[key]['label'] + \" (\" +  str(round(params[key]['MSE_test'],7)) +\")\")\n",
    "\n",
    "plt.legend(loc=\"best\", fontsize=12)\n",
    "plt.title('Observed vs Model Error (Training)', fontsize=16)\n",
    "plt.xlabel('Time', fontsize=20)\n",
    "plt.ylabel('Y-$\\hat{Y}$', fontsize=20)\n",
    "\n",
    "plt.show()"
   ]
  },
  {
   "cell_type": "markdown",
   "metadata": {
    "colab_type": "text",
    "collapsed": true,
    "id": "6c_adfrzqjzM"
   },
   "source": [
    "### Model Diagnostics"
   ]
  },
  {
   "cell_type": "markdown",
   "metadata": {
    "colab_type": "text",
    "id": "UGHvu0xVqjzO"
   },
   "source": [
    "A fitted time series model must be examined for underfitting with a white noise test. We analyze the model residuals (i.e. the error $u_t$) to determine whether it is white noise or whether it is auto-correlated. The latter case provides statistical evidence that more lags are needed in the RNN. Box and Pierce propose the Portmanteau statistic:\n",
    "\n",
    "$$Q^*(m)=T\\sum_{l=1}^m\\hat{\\tau}_l^2,$$  \n",
    "as a test statistic for the null hypothesis $H_0:\\tau_1=\\dots=\\tau_m=0$ against the alternative hypothesis $H_a:\\tau_i\\neq 0$ for some $i\\in\\{1,\\dots,m\\}$, where $T$ is the number of observations, $\\hat{\\tau}_i$ are the sample autocorrelations of the residual, and $m$ is the maximum lag used in the test. There are several heuristics in the statistics literature to determine the maximum lag such as the Schwert statistic. \n",
    "\n",
    "The Box-Pierce statistic follows an asymptotically chi-squared distribution with $m$ degrees of freedom.\n",
    "\n",
    "The Ljung-Box test statistic increases the power of the test in finite samples:\n",
    "$$Q(m)=T(T+2)\\sum_{l=1}^m\\frac{\\hat{\\tau}_l^2}{T-l}$$\n",
    "This statistic also follows an asymptotically chi-squared distribution with $m$ degrees of freedom. The decision rule is to reject $H_0$ if $Q(m)>\\chi_{\\alpha}^2$ where $\\chi_{\\alpha}^2$ denotes the $100(1-\\alpha)^{th}$ percentile of a chi-squared distribution with m degrees of freedom and is the significance level for rejecting $H_0$.\n",
    "\n",
    "The test can be time consuming and we select a subset of the residuals. Here we simply set the maximum lag to 20. In the results below, we find that the p-values are all smaller than 0.01, indicating that we can reject the null at the 99% confidence level for any lag. This is strong evidence that the model is under-fitting and more lags are needed in our model. Unlike an auto-regressive model, increasing the number of lags in the RNN does not increase the number of weights. Thus there is no danger of over-fitting by increasing the lag, although there will be an increase in the training time."
   ]
  },
  {
   "cell_type": "code",
   "execution_count": 209,
   "metadata": {
    "colab": {},
    "colab_type": "code",
    "id": "7bpznKjiqjzQ"
   },
   "outputs": [],
   "source": [
    "# number of samples to use for computing test statistic\n",
    "n = 10000"
   ]
  },
  {
   "cell_type": "code",
   "execution_count": 210,
   "metadata": {},
   "outputs": [
    {
     "data": {
      "text/plain": [
       "dict_keys(['rnn', 'alpharnn', 'alphatrnn', 'gru', 'lstm'])"
      ]
     },
     "execution_count": 210,
     "metadata": {},
     "output_type": "execute_result"
    }
   ],
   "source": [
    "params.keys()"
   ]
  },
  {
   "cell_type": "code",
   "execution_count": 217,
   "metadata": {
    "colab": {},
    "colab_type": "code",
    "id": "rIPFOuKAqjzV"
   },
   "outputs": [],
   "source": [
    "key = 'alpharnn'\n",
    "predicted = params[key]['predict']\n",
    "residual = df_test[-n:] - predicted[-n:]"
   ]
  },
  {
   "cell_type": "code",
   "execution_count": 223,
   "metadata": {
    "colab": {},
    "colab_type": "code",
    "id": "2-radzroqjzb"
   },
   "outputs": [],
   "source": [
    "lb, p = sm.stats.diagnostic.acorr_ljungbox(residual, lags=20, boxpierce=False)"
   ]
  },
  {
   "cell_type": "markdown",
   "metadata": {
    "colab_type": "text",
    "id": "WWvgE9ouqjzf"
   },
   "source": [
    "The Box-Ljung test statistics are"
   ]
  },
  {
   "cell_type": "code",
   "execution_count": 224,
   "metadata": {
    "colab": {},
    "colab_type": "code",
    "id": "Rn0gmXkDqjzg",
    "outputId": "517efe22-705e-420e-f8ed-e3d4f0180835"
   },
   "outputs": [
    {
     "data": {
      "text/plain": [
       "array([  9564.1315146 ,  18302.95906845,  26133.57339838,  33107.04737764,\n",
       "        39438.79317213,  45375.62238193,  51093.36315618,  56716.85676307,\n",
       "        62297.93961572,  67863.50512403,  73413.87450649,  78952.24341134,\n",
       "        84476.97500635,  90005.35664275,  95575.83216482, 101206.38955083,\n",
       "       106904.67624168, 112681.21676766, 118518.41171631, 124379.83178869])"
      ]
     },
     "execution_count": 224,
     "metadata": {},
     "output_type": "execute_result"
    }
   ],
   "source": [
    "lb"
   ]
  },
  {
   "cell_type": "markdown",
   "metadata": {
    "colab_type": "text",
    "id": "D0MmBUaDqjzk"
   },
   "source": [
    "The p-values are"
   ]
  },
  {
   "cell_type": "code",
   "execution_count": 225,
   "metadata": {
    "colab": {},
    "colab_type": "code",
    "id": "TTEIIp-Sqjzn",
    "outputId": "15031561-6612-43b6-99c0-dafa4a5c034e"
   },
   "outputs": [
    {
     "data": {
      "text/plain": [
       "array([0., 0., 0., 0., 0., 0., 0., 0., 0., 0., 0., 0., 0., 0., 0., 0., 0.,\n",
       "       0., 0., 0.])"
      ]
     },
     "execution_count": 225,
     "metadata": {},
     "output_type": "execute_result"
    }
   ],
   "source": [
    "p"
   ]
  }
 ],
 "metadata": {
  "colab": {
   "collapsed_sections": [],
   "name": "ML_in_Finance-RNNs-Bitcoin.ipynb",
   "provenance": []
  },
  "kernelspec": {
   "display_name": "Python 3",
   "language": "python",
   "name": "python3"
  },
  "language_info": {
   "codemirror_mode": {
    "name": "ipython",
    "version": 3
   },
   "file_extension": ".py",
   "mimetype": "text/x-python",
   "name": "python",
   "nbconvert_exporter": "python",
   "pygments_lexer": "ipython3",
   "version": "3.6.9"
  }
 },
 "nbformat": 4,
 "nbformat_minor": 1
}
