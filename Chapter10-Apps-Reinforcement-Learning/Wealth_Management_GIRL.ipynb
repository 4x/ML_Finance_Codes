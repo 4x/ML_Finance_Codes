{
  "nbformat": 4,
  "nbformat_minor": 0,
  "metadata": {
    "colab": {
      "name": "g_learning.ipynb",
      "provenance": [],
      "collapsed_sections": [],
      "machine_shape": "hm"
    },
    "kernelspec": {
      "name": "python3",
      "display_name": "Python 3"
    },
    "language_info": {
      "codemirror_mode": {
        "name": "ipython",
        "version": 3
      },
      "file_extension": ".py",
      "mimetype": "text/x-python",
      "name": "python",
      "nbconvert_exporter": "python",
      "pygments_lexer": "ipython3",
      "version": "3.6.8"
    }
  },
  "cells": [
    {
      "cell_type": "code",
      "metadata": {
        "colab_type": "code",
        "id": "Vc1tLT83PQMd",
        "colab": {}
      },
      "source": [
        "# ML_in_Finance-G-learning-wealth-management\n",
        "# Author: Igor Halperin\n",
        "# Version: 1.0 (12.8.2019)\n",
        "# License: MIT\n",
        "# Email: ighalp@gmail.com\n",
        "# Notes: tested on Mac OS X with Python 3.6 and PyTorch 1.3.0\n",
        "# Citation: Please cite the following reference if this notebook is used for research purposes:\n",
        "# Dixon M.F., I. Halperin and P. Bilokon, Machine Learning in Finance: From Theory to Practice, Springer Graduate textbook Series, 2020. "
      ],
      "execution_count": 0,
      "outputs": []
    },
    {
      "cell_type": "markdown",
      "metadata": {
        "colab_type": "text",
        "id": "uXdeHDmEPQM6"
      },
      "source": [
        "## G-learning for wealth optimization\n",
        "\n",
        "Using G-learning with quadratic rewards for optimization of defined contribution retirement plan"
      ]
    },
    {
      "cell_type": "code",
      "metadata": {
        "colab_type": "code",
        "id": "vOoE16hWPQNC",
        "colab": {}
      },
      "source": [
        "import numpy as np\n",
        "import matplotlib\n",
        "matplotlib.use('Agg')\n",
        "import matplotlib.pyplot as plt \n",
        "%matplotlib inline\n",
        "\n",
        "import time\n",
        "\n",
        "import torch\n",
        "\n",
        "import torch.optim as optim\n",
        "\n",
        "import warnings\n",
        "warnings.filterwarnings('ignore')"
      ],
      "execution_count": 0,
      "outputs": []
    },
    {
      "cell_type": "code",
      "metadata": {
        "colab_type": "code",
        "id": "M-6MadDnPQNO",
        "outputId": "b9c672f0-d8d6-40a5-a755-107db2eabde6",
        "colab": {
          "base_uri": "https://localhost:8080/",
          "height": 34
        }
      },
      "source": [
        "torch.__version__"
      ],
      "execution_count": 4,
      "outputs": [
        {
          "output_type": "execute_result",
          "data": {
            "text/plain": [
              "'1.4.0'"
            ]
          },
          "metadata": {
            "tags": []
          },
          "execution_count": 4
        }
      ]
    },
    {
      "cell_type": "code",
      "metadata": {
        "id": "PHyhUTpJ4nl1",
        "colab_type": "code",
        "outputId": "9f861ec1-6b5e-4ff1-c39c-1bd1d5b5ca17",
        "colab": {
          "base_uri": "https://localhost:8080/",
          "height": 34
        }
      },
      "source": [
        "%env KMP_DUPLICATE_LIB_OK=TRUE"
      ],
      "execution_count": 5,
      "outputs": [
        {
          "output_type": "stream",
          "text": [
            "env: KMP_DUPLICATE_LIB_OK=TRUE\n"
          ],
          "name": "stdout"
        }
      ]
    },
    {
      "cell_type": "code",
      "metadata": {
        "colab_type": "code",
        "id": "S0yKeMU9PQNa",
        "colab": {}
      },
      "source": [
        "# set the device\n",
        "device = 'cuda' if torch.cuda.is_available() else 'cpu'"
      ],
      "execution_count": 0,
      "outputs": []
    },
    {
      "cell_type": "code",
      "metadata": {
        "colab_type": "code",
        "id": "qLivr9yuPQON",
        "colab": {}
      },
      "source": [
        "class G_learning_portfolio_opt:\n",
        "    \n",
        "    def __init__(self, \n",
        "                 num_steps,\n",
        "                 params,\n",
        "                 beta,\n",
        "                 benchmark_portf,\n",
        "                 gamma, \n",
        "                 num_risky_assets,\n",
        "                 riskfree_rate,\n",
        "                 exp_returns, # array of shape num_steps x num_stocks\n",
        "                 Sigma_r,     # covariance matrix of returns of risky assets\n",
        "                 init_x_vals, # array of initial asset position values (num_risky_assets + 1)\n",
        "                 use_for_WM = True): # use for wealth management tasks\n",
        "\n",
        "                \n",
        "        self.num_steps = num_steps\n",
        "        self.num_assets = num_risky_assets + 1 # exp_returns.shape[1]\n",
        "        \n",
        "        self.lambd = torch.tensor(params[0], requires_grad=False, dtype=torch.float64)\n",
        "        self.Omega_mat = params[1] * torch.eye(self.num_assets,dtype=torch.float64)\n",
        "        #self.Omega_mat = torch.tensor(Omega_mat,requires_grad=False, dtype=torch.float64)\n",
        "        self.eta = torch.tensor(params[2], requires_grad=False, dtype=torch.float64)\n",
        "        self.rho = torch.tensor(params[3], requires_grad=False, dtype=torch.float64)\n",
        "        self.beta = torch.tensor(beta, requires_grad=False, dtype=torch.float64)\n",
        "        \n",
        "        self.gamma = gamma\n",
        "        self.use_for_WM = use_for_WM\n",
        "        \n",
        "        self.num_risky_assets = num_risky_assets\n",
        "        self.r_f = riskfree_rate\n",
        "        \n",
        "        \n",
        "        assert exp_returns.shape[0] == self.num_steps\n",
        "        assert Sigma_r.shape[0] == Sigma_r.shape[1]\n",
        "        assert Sigma_r.shape[0] == num_risky_assets # self.num_assets\n",
        "        \n",
        "        self.Sigma_r_np = Sigma_r # array of shape num_stocks x num_stocks\n",
        "        \n",
        "        self.reg_mat = 1e-3*torch.eye(self.num_assets, dtype=torch.float64)\n",
        "        \n",
        "        # arrays of returns for all assets including the risk-free asset\n",
        "        # array of shape num_steps x (num_stocks + 1) \n",
        "        self.exp_returns_np = np.hstack((self.r_f * np.ones(self.num_steps).reshape((-1,1)), exp_returns))\n",
        "                                      \n",
        "        # make block-matrix Sigma_r_tilde with Sigma_r_tilde[0,0] = 0, and equity correlation matrix inside\n",
        "        self.Sigma_r_tilde_np = np.zeros((self.num_assets, self.num_assets))\n",
        "        self.Sigma_r_tilde_np[1:,1:] = self.Sigma_r_np\n",
        "            \n",
        "        # make Torch tensors  \n",
        "        self.exp_returns = torch.tensor(self.exp_returns_np,requires_grad=False, dtype=torch.float64)\n",
        "        self.Sigma_r = torch.tensor(Sigma_r,requires_grad=False, dtype=torch.float64)\n",
        "        self.Sigma_r_tilde = torch.tensor(self.Sigma_r_tilde_np,requires_grad=False, dtype=torch.float64)\n",
        "        \n",
        "        self.benchmark_portf = torch.tensor(benchmark_portf, requires_grad=False, dtype=torch.float64)\n",
        "        \n",
        "        # asset holding values for all times. Initialize with initial values, \n",
        "        # values for the future times will be expected values \n",
        "        self.x_vals_np = np.zeros((self.num_steps, self.num_assets))\n",
        "        self.x_vals_np[0,:] = init_x_vals \n",
        "        \n",
        "        # Torch tensor\n",
        "        self.x_vals = torch.tensor(self.x_vals_np)\n",
        "                \n",
        "        # allocate memory for coefficients of R-, F- and G-functions        \n",
        "        self.F_xx = torch.zeros(self.num_steps, self.num_assets, self.num_assets, dtype=torch.float64,\n",
        "                                requires_grad=True)\n",
        "        self.F_x = torch.zeros(self.num_steps, self.num_assets, dtype=torch.float64,\n",
        "                               requires_grad=True)\n",
        "        self.F_0 = torch.zeros(self.num_steps,dtype=torch.float64,requires_grad=True)\n",
        "        \n",
        "        self.Q_xx = torch.zeros(self.num_steps, self.num_assets, self.num_assets,dtype=torch.float64,\n",
        "                                requires_grad=True)\n",
        "        self.Q_uu = torch.zeros(self.num_steps, self.num_assets, self.num_assets,dtype=torch.float64,\n",
        "                                requires_grad=True)\n",
        "        self.Q_ux = torch.zeros(self.num_steps, self.num_assets, self.num_assets,dtype=torch.float64,\n",
        "                                requires_grad=True)\n",
        "        self.Q_x = torch.zeros(self.num_steps, self.num_assets,dtype=torch.float64,requires_grad=True)\n",
        "        self.Q_u = torch.zeros(self.num_steps, self.num_assets,dtype=torch.float64,requires_grad=True)\n",
        "        self.Q_0 = torch.zeros(self.num_steps,dtype=torch.float64,requires_grad=True)\n",
        "        \n",
        "        self.R_xx = torch.zeros(self.num_steps, self.num_assets, self.num_assets,dtype=torch.float64,\n",
        "                                requires_grad=True)\n",
        "        self.R_uu = torch.zeros(self.num_steps, self.num_assets, self.num_assets,dtype=torch.float64,\n",
        "                                requires_grad=True)\n",
        "        self.R_ux = torch.zeros(self.num_steps, self.num_assets, self.num_assets,dtype=torch.float64,\n",
        "                                requires_grad=True)\n",
        "        self.R_x = torch.zeros(self.num_steps, self.num_assets,dtype=torch.float64,requires_grad=True)\n",
        "        self.R_u = torch.zeros(self.num_steps, self.num_assets,dtype=torch.float64,requires_grad=True)\n",
        "        self.R_0 = torch.zeros(self.num_steps,dtype=torch.float64,requires_grad=True)\n",
        "\n",
        "        \n",
        "        self.reset_prior_policy()\n",
        "        \n",
        "        # the list of adjustable model parameters:\n",
        "        self.model_params = [self.lambd, self.beta, self.Omega_mat, self.eta]  \n",
        "#                              self.exp_returns, self.Sigma_r_tilde,self.Sigma_prior_inv, self.u_bar_prior]\n",
        "        \n",
        "        \n",
        "        # expected cash installment for all steps\n",
        "        self.expected_c_t = torch.zeros(self.num_steps,dtype=torch.float64)\n",
        "        \n",
        "        # realized values of the target portfolio\n",
        "#         self.realized_target_portf = torch.zeros(self.num_steps,dtype=torch.float64)\n",
        "        self.realized_target_portf = np.zeros(self.num_steps,dtype=np.float64)\n",
        "        \n",
        "        # expected portfolio values for all times\n",
        "        self.expected_portf_val = torch.zeros(self.num_steps,dtype=torch.float64)\n",
        "        \n",
        "        # the first value is the sum of initial position values\n",
        "        self.expected_portf_val[0] = self.x_vals[0,:].sum()\n",
        "\n",
        "    def reset_prior_policy(self):\n",
        "        # initialize time-dependent parameters of prior policy \n",
        "        self.u_bar_prior = torch.zeros(self.num_steps,self.num_assets,requires_grad=False,\n",
        "                                       dtype=torch.float64)\n",
        "        self.v_bar_prior =  torch.zeros(self.num_steps, self.num_assets, self.num_assets,requires_grad=False,\n",
        "                                        dtype=torch.float64)\n",
        "        self.Sigma_prior =  torch.zeros(self.num_steps, self.num_assets, self.num_assets,requires_grad=False,\n",
        "                                        dtype=torch.float64)\n",
        "        self.Sigma_prior_inv = torch.zeros(self.num_steps, self.num_assets, self.num_assets,requires_grad=False,\n",
        "                                        dtype=torch.float64)\n",
        "        \n",
        "        # make each time elements of v_bar_prior and Sigma_prior proportional to the unit matrix\n",
        "        for t in range(self.num_steps):\n",
        "            self.v_bar_prior[t,:,:] = 0.1 * torch.eye(self.num_assets).clone()\n",
        "            self.Sigma_prior[t,:,:] = 0.1 * torch.eye(self.num_assets).clone()\n",
        "            self.Sigma_prior_inv[t,:,:] = 10.0 * torch.eye(self.num_assets).clone() # np.linalg.inv(self.Sigma_prior[t,:,:])\n",
        "    \n",
        "    def reward_fun(self, t, x_vals, u_vals, exp_rets, lambd, Sigma_hat):\n",
        "        \"\"\"\n",
        "        The reward function \n",
        "        \"\"\"\n",
        "        x_plus = x_vals + u_vals\n",
        "        \n",
        "        p_hat = self.rho.clone() * self.benchmark_portf[t] + (1-self.rho.clone())*self.eta.clone()*x_vals.sum()\n",
        "        \n",
        "        aux_1 = - self.lambd.clone() * p_hat**2         \n",
        "        aux_2 = - u_vals.sum()   \n",
        "        aux_3 = 2*self.lambd.clone() * p_hat * x_plus.dot(torch.ones(num_assets) + exp_rets)\n",
        "        aux_4 = - self.lambd.clone() * x_plus.mm(Sigma_hat.mv(x_plus))\n",
        "        aux_5 = - u_vals.mm(self.Omega_mat.clone().mv(u_vals))\n",
        "        \n",
        "        return aux_1 + aux_2 + aux_3 + aux_4 + aux_5  \n",
        "    \n",
        "    def compute_reward_fun(self):\n",
        "        \"\"\"\n",
        "        Compute coefficients R_xx, R_ux, etc. for all steps\n",
        "        \"\"\"\n",
        "        for t in range(0, self.num_steps):\n",
        "            \n",
        "            one_plus_exp_ret = torch.ones(self.num_assets,dtype=torch.float64) + self.exp_returns[t,:]\n",
        "            benchmark_portf = self.benchmark_portf[t]\n",
        "            Sigma_hat = self.Sigma_r_tilde + torch.ger(one_plus_exp_ret, one_plus_exp_ret)\n",
        "            \n",
        "            one_plus_exp_ret_by_one = torch.ger(one_plus_exp_ret,torch.ones(self.num_assets,dtype=torch.float64))\n",
        "            one_plus_exp_ret_by_one_T = one_plus_exp_ret_by_one.t()     \n",
        "            one_one_T_mat = torch.ones(self.num_assets,self.num_assets)\n",
        "            \n",
        "            self.R_xx[t,:,:] = (-self.lambd.clone()*(self.eta.clone()**2)*(self.rho.clone()**2)*one_one_T_mat\n",
        "                                 + 2*self.lambd.clone()*self.eta.clone()*self.rho.clone()*one_plus_exp_ret_by_one\n",
        "                                 - self.lambd.clone()*Sigma_hat)\n",
        "            \n",
        "            self.R_ux[t,:,:] = (2*self.lambd.clone()*self.eta.clone()*self.rho.clone()*one_plus_exp_ret_by_one\n",
        "                                 - 2*self.lambd.clone()*Sigma_hat)\n",
        "            \n",
        "            self.R_uu[t,:,:] = - self.lambd.clone() * Sigma_hat - self.Omega_mat.clone()\n",
        "            \n",
        "            self.R_x[t,:] =  (-2*self.lambd.clone()*self.eta.clone()*self.rho.clone()*(1-self.rho.clone())*benchmark_portf *\n",
        "                                 torch.ones(self.num_assets,dtype=torch.float64)\n",
        "                                 + 2*self.lambd.clone()*(1-self.rho.clone())*benchmark_portf * one_plus_exp_ret)\n",
        "            \n",
        "            self.R_u[t,:] = (2*self.lambd.clone()*(1-self.rho.clone())*benchmark_portf * one_plus_exp_ret\n",
        "                             - torch.ones(self.num_assets,dtype=torch.float64))\n",
        "            \n",
        "            self.R_0[t] = - self.lambd.clone()*((1-self.rho.clone())**2) * (benchmark_portf**2)\n",
        "                \n",
        "         \n",
        "    def project_cash_injections(self):\n",
        "        \"\"\"\n",
        "        Compute the expected values of future asset positions, and the expected cash injection for future steps,\n",
        "        as well as realized values of the target portfolio\n",
        "        \"\"\"\n",
        "           \n",
        "        # this assumes that the policy is trained\n",
        "        for t in range(1, self.num_steps):  # the initial value is fixed \n",
        "            \n",
        "            # increment the previous x_t\n",
        "            \n",
        "            delta_x_t = self.u_bar_prior[t,:] + self.v_bar_prior[t,:,:].mv(self.x_vals[t-1,:])\n",
        "            self.x_vals[t,:] = self.x_vals[t-1,:] + delta_x_t\n",
        "            \n",
        "            # grow using the expected return\n",
        "            self.x_vals[t,:] = (torch.ones(self.num_assets)+ self.exp_returns[t,:])*self.x_vals[t,:]\n",
        "            \n",
        "            # compute c_t\n",
        "            self.expected_c_t[t] = delta_x_t.sum().data # detach().numpy()\n",
        "            \n",
        "            # expected portfolio value for this step\n",
        "            self.expected_portf_val[t] = self.x_vals[t,:].sum().data # .detach().numpy()\n",
        "    \n",
        "#             self.realized_target_portf[t] = (self.x_vals[t,:].sum().data) * (self.eta.detach().numpy())[0]\n",
        "            \n",
        "                                                                                      \n",
        "    def set_terminal_conditions(self):\n",
        "        \"\"\"\n",
        "        set the terminal condition for the F-function\n",
        "        \"\"\"\n",
        "        \n",
        "        # the auxiliary quantity to perform matrix calculations\n",
        "        one_plus_exp_ret = torch.ones(self.num_assets,dtype=torch.float64) + self.exp_returns[-1,:]\n",
        "        \n",
        "        \n",
        "        # compute the reward function for all steps (only the last step is needed for this functions, while \n",
        "        # values for other time steps will be used in other functions)\n",
        "        self.compute_reward_fun()\n",
        "        \n",
        "        if self.use_for_WM:\n",
        "\n",
        "            # Note: Pinv in PyTorch may be inaccurate, \n",
        "            # see https://discuss.pytorch.org/t/torch-pinverse-seems-to-be-inaccurate/33616\n",
        "            Sigma_hat = self.Sigma_r_tilde + torch.ger(one_plus_exp_ret, one_plus_exp_ret)\n",
        "            #Sigma_hat_inv = torch.pinverse(Sigma_hat)\n",
        "            Sigma_hat_inv = torch.inverse(Sigma_hat + self.reg_mat)\n",
        "            \n",
        "            Sigma_tilde = Sigma_hat + (1/self.lambd)*self.Omega_mat.clone()\n",
        "            #Sigma_tilde_inv = torch.pinverse(Sigma_tilde)\n",
        "            Sigma_tilde_inv = torch.inverse(Sigma_tilde + self.reg_mat)\n",
        "            \n",
        "            Sigma_hat_sigma_tilde = Sigma_hat.mm(Sigma_tilde)\n",
        "            Sigma_tilde_inv_sig_hat = Sigma_tilde_inv.mm(Sigma_hat)\n",
        "            Sigma_tilde_sigma_hat = Sigma_tilde.mm(Sigma_hat)\n",
        "            \n",
        "            Sigma_hat_Sigma_tilde_inv = Sigma_hat.mm(Sigma_tilde_inv)\n",
        "            Sigma_3_plus_omega = self.lambd*Sigma_tilde_inv.mm(Sigma_hat_Sigma_tilde_inv) + self.Omega_mat.clone()    \n",
        "                 \n",
        "            # matrix Phi\n",
        "#             Phi_m = (self.eta*torch.ger(one_plus_exp_ret,torch.ones(self.num_assets,dtype=torch.float64)) \n",
        "#                      - Sigma_tilde_inv)\n",
        "            \n",
        "            one_plus_exp_ret_by_one = torch.ger(one_plus_exp_ret,torch.ones(self.num_assets,dtype=torch.float64))\n",
        "            one_plus_exp_ret_by_one_T = one_plus_exp_ret_by_one.t()     \n",
        "            one_one_T_mat = torch.ones(self.num_assets,self.num_assets)\n",
        "            \n",
        "            Sigma_tilde_inv_t_R_ux = Sigma_tilde_inv.t().mm(self.R_ux[-1,:,:].clone())\n",
        "            Sigma_tilde_inv_t_R_uu = Sigma_tilde_inv.t().mm(self.R_uu[-1,:,:].clone())\n",
        "            Sigma_tilde_inv_t_R_u = Sigma_tilde_inv.t().mv(self.R_u[-1,:].clone())\n",
        "            \n",
        "            Sigma_tilde_inv_R_u = Sigma_tilde_inv.mv(self.R_u[-1,:].clone())\n",
        "            Sigma_tilde_inv_R_ux = Sigma_tilde_inv.mm(self.R_ux[-1,:,:].clone())\n",
        "            Sigma_tilde_inv_t_R_uu = Sigma_tilde_inv.mm(self.R_uu[-1,:,:].clone())\n",
        "            \n",
        "            # though the action at the last step is deterministic, we can feed \n",
        "            # parameters of the prior with these values                     \n",
        "              \n",
        "            self.u_bar_prior[-1,:]   = (1/(2 * self.lambd.clone()))* Sigma_tilde_inv.clone().mv(self.R_u[-1,:].clone())\n",
        "            self.v_bar_prior[-1,:,:] = (1/(2 * self.lambd.clone()))* Sigma_tilde_inv.clone().mm(self.R_ux[-1,:,:].clone())    \n",
        "                \n",
        "            # First compute the coefficients of the reward function at the last step\n",
        "\n",
        "            \n",
        "            # the coefficients of F-function for the last step\n",
        "            \n",
        "            # F_xx                 \n",
        "            self.F_xx[-1,:,:] = (self.R_xx[-1,:,:].clone()\n",
        "                                 + (1/(2*self.lambd.clone()))* self.R_ux[-1,:,:].clone().t().mm(Sigma_tilde_inv_t_R_ux)\n",
        "                                 + (1/(4*self.lambd.clone()**2))* self.R_ux[-1,:,:].clone().t().mm(\n",
        "                                      Sigma_tilde_inv_t_R_uu.clone().mm(Sigma_tilde_inv.clone().mm(self.R_ux[-1,:,:].clone())))\n",
        "                                )\n",
        "            \n",
        "            # F_x                    \n",
        "            self.F_x[-1,:] = (self.R_x[-1,:].clone()\n",
        "                                 + (1/(self.lambd.clone()))* self.R_ux[-1,:,:].clone().t().mv(Sigma_tilde_inv_t_R_u.clone())\n",
        "                                 + (1/(2*self.lambd.clone()**2))* self.R_ux[-1,:,:].clone().t().mv(\n",
        "                                      Sigma_tilde_inv_t_R_uu.clone().mv(Sigma_tilde_inv_R_u.clone()))\n",
        "                            )\n",
        "            \n",
        "            \n",
        "        \n",
        "            # F_0   \n",
        "            self.F_0[-1] = (self.R_0[-1].clone() \n",
        "                            +  (1/(2*self.lambd.clone()))* self.R_u[-1,:].clone().dot(Sigma_tilde_inv_R_u.clone())\n",
        "                            + (1/(4*self.lambd.clone()**2))* self.R_u[-1,:].clone().dot(\n",
        "                                Sigma_tilde_inv_t_R_uu.clone().mv(Sigma_tilde_inv_R_u.clone()))\n",
        "                           )\n",
        "            \n",
        "            # for the Q-function at the last step:\n",
        "            self.Q_xx[-1,:,:] = self.R_xx[-1,:,:].clone()\n",
        "            self.Q_ux[-1,:,:] = self.R_ux[-1,:,:].clone()\n",
        "            self.Q_uu[-1,:,:] = self.R_uu[-1,:,:].clone()\n",
        "            self.Q_u[-1,:] = self.R_u[-1,:].clone()\n",
        "            self.Q_x[-1,:] = self.R_x[-1,:].clone()\n",
        "            self.Q_0[-1] = self.R_0[-1].clone()\n",
        "            \n",
        "            \n",
        "            \n",
        "            \n",
        "                \n",
        "    def G_learning(self, err_tol, max_iter):\n",
        "        \"\"\"\n",
        "        find the optimal policy for the time dependent policy\n",
        "        \n",
        "        \"\"\"\n",
        "        \n",
        "        print('Doing G-learning, it may take a few seconds...')\n",
        "        \n",
        "        # set terminal conditions\n",
        "        self.set_terminal_conditions()\n",
        "        \n",
        "        # allocate iteration numbers for all steps\n",
        "        self.iter_counts = np.zeros(self.num_steps)\n",
        "        \n",
        "        # iterate over time steps backward\n",
        "        for t in range(self.num_steps-2,-1,-1):\n",
        "            self.step_G_learning(t, err_tol, max_iter)\n",
        "            \n",
        "    def step_G_learning(self, t, err_tol, max_iter):\n",
        "        \"\"\"\n",
        "        Perform one step of backward iteration for G-learning self-consistent equations\n",
        "        This should start from step t = num_steps - 2 (i.e. from a step that is before the last one)\n",
        "        \"\"\"\n",
        "            \n",
        "        # local variables\n",
        "        #F_xx_tp1 = self.F_xx[t+1,:,:]\n",
        "        #F_x_tp1 = self.F_x[t+1,:]\n",
        "        #F_0_tp1 = self.F_0[t+1]\n",
        "            \n",
        "        # make matrix Sigma_hat_t        \n",
        "        one_plus_exp_ret = torch.ones(self.num_assets,dtype=torch.float64) + self.exp_returns[t,:]\n",
        "        Sigma_hat_t = self.Sigma_r_tilde + torch.ger(one_plus_exp_ret, one_plus_exp_ret)\n",
        "        \n",
        "        # matrix A_t = diag(1 + r_bar_t)\n",
        "        A_t = torch.diag(torch.ones(self.num_assets,dtype=torch.float64) + self.exp_returns[t,:])\n",
        "                    \n",
        "        # update parameters of Q_function using next-step F-function values\n",
        "        self.update_Q_params(t, A_t,Sigma_hat_t)\n",
        "             \n",
        "        # iterate between policy evaluation and policy improvement  \n",
        "        while self.iter_counts[t] < max_iter:\n",
        "                \n",
        "            curr_u_bar_prior = self.u_bar_prior[t,:].clone()  \n",
        "            curr_v_bar_prior = self.v_bar_prior[t,:,:].clone()     \n",
        "                \n",
        "            # compute parameters of F-function for this step from parameters of Q-function\n",
        "            self.update_F_params(t) \n",
        "              \n",
        "            # Policy iteration step: update parameters of the prior policy distribution\n",
        "            # with given Q- and F-function parameters\n",
        "            self.update_policy_params(t)    \n",
        "            \n",
        "            # difference between the current value of u_bar_prior and the previous one\n",
        "            err_u_bar = torch.sum((curr_u_bar_prior - self.u_bar_prior[t,:])**2)\n",
        "            \n",
        "            # divide by num_assets in err_v_bar to get both errors on a comparable scale\n",
        "            err_v_bar = (1/self.num_assets)*torch.sum((curr_v_bar_prior - self.v_bar_prior[t,:,:])**2)\n",
        "            \n",
        "            # choose the difference from the previous iteration as the maximum of the two errors\n",
        "            tol = torch.max(err_u_bar, err_v_bar)  # tol = 0.5*(err_u_bar + err_v_bar)\n",
        "\n",
        "#             print('err_u_bar, err_v_bar, tol', err_u_bar, err_v_bar, tol)\n",
        "            \n",
        "            self.iter_counts[t] += 1\n",
        "            # Repeat the calculation of Q- and F-values\n",
        "            if tol <= err_tol:\n",
        "                break\n",
        "                \n",
        "            \n",
        "    def update_Q_params(self,t, A_t,Sigma_hat_t):\n",
        "        \"\"\"\n",
        "        update the current (time-t) parameters of Q-function from (t+1)-parameters of F-function\n",
        "        \"\"\" \n",
        "                \n",
        "        ones = torch.ones(self.num_assets,dtype=torch.float64)    \n",
        "        one_plus_exp_ret = torch.ones(self.num_assets,dtype=torch.float64) + self.exp_returns[t,:]\n",
        "#         one_plus_exp_ret_1T = torch.ger(one_plus_exp_ret, ones)\n",
        "    \n",
        "        self.Q_xx[t,:,:] = (self.R_xx[t,:,:].clone() \n",
        "                            + self.gamma *( (A_t.clone().mm(self.F_xx[t+1,:,:].clone())).mm(A_t.clone())  \n",
        "                                           + self.Sigma_r_tilde.clone() * self.F_xx[t+1,:,:].clone() ) )\n",
        "\n",
        "\n",
        "        self.Q_ux[t,:,:] = (self.R_ux[t,:,:].clone() \n",
        "                            + 2 * self.gamma *( (A_t.clone().mm(self.F_xx[t+1,:,:].clone())).mm(A_t.clone())  \n",
        "                                           + self.Sigma_r_tilde.clone() * self.F_xx[t+1,:,:].clone() ) \n",
        "                           )\n",
        "    \n",
        "        self.Q_uu[t,:,:] = (self.R_uu[t,:,:].clone()  \n",
        "                            + self.gamma *( (A_t.clone().mm(self.F_xx[t+1,:,:].clone())).mm(A_t.clone())  \n",
        "                                           + self.Sigma_r_tilde.clone() * self.F_xx[t+1,:,:].clone() )\n",
        "                            - self.Omega_mat.clone()\n",
        "                           )\n",
        "\n",
        "\n",
        "        self.Q_x[t,:] = self.R_x[t,:].clone() + self.gamma * A_t.clone().mv(self.F_x[t+1,:].clone()) \n",
        "        self.Q_u[t,:] = self.R_u[t,:].clone() + self.gamma * A_t.clone().mv(self.F_x[t+1,:].clone())\n",
        "        self.Q_0[t]   = self.R_0[t].clone() + self.gamma * self.F_0[t+1].clone()\n",
        "\n",
        "\n",
        "        \n",
        "    def update_F_params(self,t):\n",
        "        \"\"\"\n",
        "        update the current (time-t) parameters of F-function from t-parameters of G-function\n",
        "        This is a policy evaluation step: it uses the current estimations of the mean parameters of the policy\n",
        "        \n",
        "        \"\"\"\n",
        "        \n",
        "        # produce auxiliary parameters U_t, W_t, Sigma_tilde_t\n",
        "        U_t = (self.beta.clone() * self.Q_ux[t,:,:].clone() \n",
        "               + self.Sigma_prior_inv[t,:,:].clone().mm(self.v_bar_prior[t,:,:].clone()))\n",
        "        W_t = (self.beta.clone() * self.Q_u[t,:].clone() \n",
        "               +  self.Sigma_prior_inv[t,:,:].clone().mv(self.u_bar_prior[t,:]).clone())\n",
        "        Sigma_p_bar =  self.Sigma_prior_inv[t,:,:].clone() - 2 * self.beta.clone() * self.Q_uu[t,:,:].clone()\n",
        "        #Sigma_p_bar_inv = torch.pinverse(Sigma_p_bar)\n",
        "        Sigma_p_bar_inv = torch.inverse(Sigma_p_bar + self.reg_mat)\n",
        "        \n",
        "#         reg_mat = 1e-2*torch.eye(self.num_assets)\n",
        "        \n",
        "        # update parameters of F-function\n",
        "        self.F_xx[t,:,:] = self.Q_xx[t,:,:].clone() + (1/(2*self.beta.clone()))*(U_t.t().mm(Sigma_p_bar_inv.clone().mm(U_t))\n",
        "                                    - self.v_bar_prior[t,:,:].clone().t().mm(\n",
        "                                        self.Sigma_prior_inv[t,:,:].clone().mm(self.v_bar_prior[t,:,:].clone())))\n",
        "        \n",
        "        \n",
        "        self.F_x[t,:] = self.Q_x[t,:].clone() + (1/self.beta.clone())*(U_t.mv(Sigma_p_bar_inv.clone().mv(W_t))\n",
        "                                    - self.v_bar_prior[t,:,:].clone().mv(\n",
        "                                        self.Sigma_prior_inv[t,:,:].clone().mv(self.u_bar_prior[t,:].clone())))\n",
        "        \n",
        "        \n",
        "#         self.F_0[t] = self.Q_0[t] + ( (1/(2*self.beta))*(W_t.dot(Sigma_p_bar_inv.mv(W_t))\n",
        "#                                     - self.u_bar_prior[t,:].dot(\n",
        "#                                         self.Sigma_prior_inv[t,:,:].mv(self.u_bar_prior[t,:])))\n",
        "#                                     - (1/(2*self.beta)) * (torch.log(torch.det(self.Sigma_prior[t,:,:]))\n",
        "#                                                        + torch.log(torch.det(Sigma_p_bar))) )\n",
        "        \n",
        "        # replace with a 'regularized' version\n",
        "        self.F_0[t] = self.Q_0[t].clone() + ( (1/(2*self.beta.clone()))*(W_t.dot(Sigma_p_bar_inv.clone().mv(W_t))\n",
        "                                    - self.u_bar_prior[t,:].clone().dot(\n",
        "                                        self.Sigma_prior_inv[t,:,:].clone().mv(self.u_bar_prior[t,:].clone())))\n",
        "                                    - (1/(2*self.beta.clone())) * (torch.log(torch.det(self.Sigma_prior[t,:,:].clone()+\n",
        "                                                                              self.reg_mat))\n",
        "                                                       - torch.log(torch.det(Sigma_p_bar_inv.clone() + self.reg_mat))) )\n",
        "        \n",
        "        \n",
        "        \n",
        "    def update_policy_params(self,t):\n",
        "        \"\"\"\n",
        "        update parameters of the Gaussian policy using current coefficients of the F- and G-functions\n",
        "        \"\"\"\n",
        "        \n",
        "        new_Sigma_prior_inv = self.Sigma_prior_inv[t,:,:].clone() - 2 * self.beta.clone() * self.Q_uu[t,:,:].clone()\n",
        "        #Sigma_prior_new = torch.pinverse(new_Sigma_prior_inv)\n",
        "        Sigma_prior_new = torch.inverse(new_Sigma_prior_inv + self.reg_mat)\n",
        "        \n",
        "        # update parameters using the previous value of Sigma_prior_inv\n",
        "        self.u_bar_prior[t,:] = Sigma_prior_new.mv(self.Sigma_prior_inv[t,:,:].clone().mv(self.u_bar_prior[t,:].clone())\n",
        "                                              + self.beta.clone() * self.Q_u[t,:].clone())\n",
        "        \n",
        "        \n",
        "        self.v_bar_prior[t,:,:] = Sigma_prior_new.clone().mm(self.Sigma_prior_inv[t,:,:].clone().mm(self.v_bar_prior[t,:,:].clone())\n",
        "                                              + self.beta.clone() * self.Q_ux[t,:,:].clone())\n",
        "        \n",
        "        # and then assign the new inverse covariance for the prior for the next iteration\n",
        "        self.Sigma_prior[t,:,:] = Sigma_prior_new.clone()\n",
        "        self.Sigma_prior_inv[t,:,:] = new_Sigma_prior_inv.clone()\n",
        "        \n",
        "        # also assign the same values for the previous time step\n",
        "        if t > 0:\n",
        "            self.Sigma_prior[t-1,:,:] = self.Sigma_prior[t,:,:].clone()\n",
        "            self.u_bar_prior[t-1,:] = self.u_bar_prior[t,:].clone()\n",
        "            self.v_bar_prior[t-1,:,:] = self.v_bar_prior[t,:,:].clone()\n",
        "            \n",
        "    def trajs_to_torch_tensors(self,trajs):\n",
        "        \"\"\"\n",
        "        Convert data from a list of lists into Torch tensors\n",
        "        \"\"\"\n",
        "        num_trajs = len(trajs)\n",
        "        \n",
        "        self.data_xvals = torch.zeros(num_trajs,self.num_steps,self.num_assets,dtype=torch.float64)\n",
        "        self.data_uvals = torch.zeros(num_trajs,self.num_steps,self.num_assets,dtype=torch.float64)\n",
        "            \n",
        "        for n in range(num_trajs):\n",
        "            for t in range(self.num_steps):\n",
        "                self.data_xvals[n,t,:] = torch.tensor(trajs[n][t][0],dtype=torch.float64).clone()\n",
        "                self.data_uvals[n,t,:] = torch.tensor(trajs[n][t][1],dtype=torch.float64).clone()\n",
        "                \n",
        "    def compute_reward_on_traj(self,\n",
        "                              t,\n",
        "                              x_t, u_t):\n",
        "        \"\"\"\n",
        "        Given time t and corresponding values of vectors x_t, u_t, compute the total reward for this step\n",
        "        \"\"\"\n",
        "        \n",
        "        aux_xx = x_t.dot(self.R_xx[t,:,:].clone().mv(x_t))\n",
        "        aux_ux = u_t.dot(self.R_ux[t,:,:].clone().mv(x_t))\n",
        "        aux_uu = u_t.dot(self.R_uu[t,:,:].clone().mv(u_t))\n",
        "        aux_x = x_t.dot(self.R_x[t,:].clone())\n",
        "        aux_u = u_t.dot(self.R_u[t,:].clone())\n",
        "        aux_0 = self.R_0[t].clone()\n",
        "        \n",
        "        return aux_xx + aux_ux + aux_uu + aux_x + aux_u + aux_0\n",
        "    \n",
        "    def compute_G_fun_on_traj(self,\n",
        "                              t,\n",
        "                              x_t, u_t):\n",
        "        \"\"\"\n",
        "        Given time t and corresponding values of vectors x_t, u_t, compute the total reward for this step\n",
        "        \"\"\"\n",
        "        \n",
        "        aux_xx = x_t.dot(self.Q_xx[t,:,:].clone().mv(x_t))\n",
        "        aux_ux = u_t.dot(self.Q_ux[t,:,:].clone().mv(x_t))\n",
        "        aux_uu = u_t.dot(self.Q_uu[t,:,:].clone().mv(u_t))\n",
        "        aux_x = x_t.dot(self.Q_x[t,:].clone())\n",
        "        aux_u = u_t.dot(self.Q_u[t,:].clone())\n",
        "        aux_0 = self.Q_0[t].clone()\n",
        "        \n",
        "        return aux_xx + aux_ux + aux_uu + aux_x + aux_u + aux_0\n",
        "    \n",
        "    def compute_F_fun_on_traj(self,\n",
        "                              t,\n",
        "                              x_t):\n",
        "        \"\"\"\n",
        "        Given time t and corresponding values of vectors x_t, u_t, compute the total reward for this step\n",
        "        \"\"\"\n",
        "        \n",
        "        aux_xx = x_t.dot(self.F_xx[t,:,:].clone().mv(x_t))\n",
        "        aux_x = x_t.dot(self.F_x[t,:].clone())\n",
        "        aux_0 = self.F_0[t].clone()\n",
        "        \n",
        "        return aux_xx + aux_x + aux_0\n",
        "\n",
        "                 \n",
        "    def MaxEntIRL(self,\n",
        "                  trajs,\n",
        "                  learning_rate,\n",
        "                  err_tol, max_iter):\n",
        "        \n",
        "        \"\"\"\n",
        "        Estimate parameters of the reward function using MaxEnt IRL.\n",
        "        Inputs:\n",
        "        \n",
        "        trajs - a list of trajectories. Each trajectory is a list of state-action pairs, stored as a tuple.\n",
        "                We assume each trajectory has the same length\n",
        "        \"\"\"\n",
        "        \n",
        "        # omega is a tunable parameter that determines the cost matrix self.Omega_mat\n",
        "        omega_init = 15.0\n",
        "        self.omega = torch.tensor(omega_init, requires_grad=True, dtype=torch.float64)\n",
        "        \n",
        "        # also set beta to be small \n",
        "        beta_init = 50 # 1.0\n",
        "        self.beta = torch.tensor(beta_init, requires_grad=True, dtype=torch.float64)\n",
        "        \n",
        "        reward_params =  [self.lambd, self.eta, self.rho, self.omega, self.beta]\n",
        "        \n",
        "        print(\"Omega mat...\")\n",
        "        self.Omega_mat = self.omega * torch.eye(self.num_assets,dtype=torch.float64)\n",
        "        print(\"g learning...\")\n",
        "        self.reset_prior_policy()\n",
        "        self.G_learning(err_tol, max_iter)\n",
        "        print(\"intialize optimizer...\")\n",
        "        optimizer = optim.Adam(reward_params, lr=learning_rate)\n",
        "        print(\"zero grad...\")\n",
        "        optimizer.zero_grad()\n",
        "        \n",
        "        num_trajs = len(trajs)\n",
        "        print(\"trajs_to_torch_tensors...\")\n",
        "        # fill in Torch tensors for the trajectory data\n",
        "        self.trajs_to_torch_tensors(trajs)\n",
        "        print(\"constructing zero tensors...\")   \n",
        "        self.realized_rewards = torch.zeros(num_trajs,self.num_steps,dtype=torch.float64,requires_grad=True)\n",
        "        self.realized_cum_rewards = torch.zeros(num_trajs, dtype=torch.float64, requires_grad=True)\n",
        "        print(\"constructing zero tensors...\")  \n",
        "        self.realized_G_fun = torch.zeros(num_trajs,self.num_steps,dtype=torch.float64, requires_grad=True)\n",
        "        self.realized_F_fun = torch.zeros(num_trajs,self.num_steps,dtype=torch.float64, requires_grad=True)\n",
        "        print(\"constructing zero tensors...\")  \n",
        "        self.realized_G_fun_cum = torch.zeros(num_trajs,dtype=torch.float64, requires_grad=True)\n",
        "        self.realized_F_fun_cum = torch.zeros(num_trajs,dtype=torch.float64, requires_grad=True)\n",
        "        print(\"done...\")  \n",
        "        \n",
        "        num_iter_IRL = 3\n",
        "        \n",
        "        for i in range(num_iter_IRL):\n",
        "            \n",
        "            print('GIRL iteration = ', i)\n",
        "       \n",
        "            self.Omega_mat = self.omega * torch.eye(self.num_assets,dtype=torch.float64)\n",
        "    \n",
        "#             for n in range(num_trajs):\n",
        "            for n in range(101):\n",
        "                if n%100==0:\n",
        "                    print(n)\n",
        "                for t in range(self.num_steps):\n",
        "                    \n",
        "                    \n",
        "                    # compute rewards obtained at each step for each trajectory\n",
        "                    # given the model paramaters\n",
        "        \n",
        "                    self.realized_rewards[n,t] = self.compute_reward_on_traj(t,\n",
        "                                                                self.data_xvals[n,t,:],\n",
        "                                                                self.data_uvals[n,t,:])\n",
        "                                                                \n",
        "            \n",
        "                    # compute the log-likelihood by looping over trajectories\n",
        "                    self.realized_G_fun[n,t] = self.compute_G_fun_on_traj(t,\n",
        "                                                                self.data_xvals[n,t,:],\n",
        "                                                                self.data_uvals[n,t,:])\n",
        "                \n",
        "                \n",
        "                    self.realized_F_fun[n,t] = self.compute_F_fun_on_traj(t,\n",
        "                                                                self.data_xvals[n,t,:])\n",
        "                \n",
        "\n",
        "                self.realized_cum_rewards[n] = self.realized_rewards[n,:].sum().clone()\n",
        "                self.realized_G_fun_cum[n] = self.realized_G_fun[n,:].sum().clone()\n",
        "                self.realized_F_fun_cum[n] = self.realized_F_fun[n,:].sum().clone()\n",
        "            \n",
        "            # the negative log-likelihood will not include terms ~ Sigma_p as we do not optimize over its value\n",
        "            loss = - self.beta.clone()*(self.realized_G_fun_cum.sum().clone() - self.realized_F_fun_cum.sum().clone())\n",
        "        \n",
        "            optimizer.zero_grad()\n",
        "        \n",
        "            loss.backward() \n",
        "        \n",
        "            optimizer.step()\n",
        "        \n",
        "            print('Iteration = ', i)\n",
        "            print('Loss = ', loss.detach().numpy())\n",
        "        \n",
        "           \n",
        "        print('Done optimizing reward parameters')\n",
        "            "
      ],
      "execution_count": 0,
      "outputs": []
    },
    {
      "cell_type": "markdown",
      "metadata": {
        "colab_type": "text",
        "id": "N_8XeDlpPQOV"
      },
      "source": [
        "## Simulate portfolio data"
      ]
    },
    {
      "cell_type": "markdown",
      "metadata": {
        "colab_type": "text",
        "id": "Gy2u0fkyPQOX"
      },
      "source": [
        "### Simulate the market factor as a lognormal with a fixed drift and vol"
      ]
    },
    {
      "cell_type": "code",
      "metadata": {
        "colab_type": "code",
        "id": "F25fZ-s9PQOb",
        "colab": {}
      },
      "source": [
        "mu_market = 0.05\n",
        "vol_market = 0.25\n",
        "init_market_val = 100.0\n",
        "\n",
        "r_rf = 0.02  # risk-free rate - the first asset will be cash\n",
        "\n",
        "num_steps = 30\n",
        "dt = 0.25 # quarterly time steps\n",
        "\n",
        "num_risky_assets = 99 # 100\n",
        "\n",
        "returns_market = np.zeros(num_steps)\n",
        "market_vals = np.zeros(num_steps)\n",
        "market_vals[0] = 100.0  # initial value\n",
        "\n",
        "\n",
        "        \n",
        "for t in range(1,num_steps):\n",
        "\n",
        "        rand_norm = np.random.randn()\n",
        "        \n",
        "        # use log-returns of market as 'returns_market'\n",
        "        returns_market[t] = mu_market * dt + vol_market * np.sqrt(dt) * rand_norm\n",
        "        \n",
        "        market_vals[t] = market_vals[t-1] * np.exp((mu_market - 0.5*vol_market**2)*dt + \n",
        "                                                         vol_market*np.sqrt(dt)*rand_norm)\n",
        "        "
      ],
      "execution_count": 0,
      "outputs": []
    },
    {
      "cell_type": "code",
      "metadata": {
        "colab_type": "code",
        "id": "C6uoPJzdPQOp",
        "colab": {}
      },
      "source": [
        "#plt.plot(market_vals)"
      ],
      "execution_count": 0,
      "outputs": []
    },
    {
      "cell_type": "markdown",
      "metadata": {
        "colab_type": "text",
        "id": "sUUBRbwbPQO1"
      },
      "source": [
        "### Simulate market betas and idiosyncratic alphas within pre-defined ranges"
      ]
    },
    {
      "cell_type": "code",
      "metadata": {
        "colab_type": "code",
        "id": "qraR7fRVPQO4",
        "outputId": "433e329d-dc7b-4439-93bb-2343a123bea7",
        "colab": {
          "base_uri": "https://localhost:8080/",
          "height": 86
        }
      },
      "source": [
        "beta_min = 0.05\n",
        "beta_max = 0.85\n",
        "beta_vals = np.random.uniform(low=beta_min, high=beta_max, size=num_risky_assets)\n",
        "\n",
        "alpha_min = - 0.05\n",
        "alpha_max = 0.15\n",
        "alpha_vals = np.random.uniform(low=alpha_min, high=alpha_max, size=num_risky_assets)\n",
        "\n",
        "print(beta_vals[0:10])\n",
        "print(alpha_vals[0:10])"
      ],
      "execution_count": 5,
      "outputs": [
        {
          "output_type": "stream",
          "text": [
            "[0.64545898 0.84427527 0.19006579 0.38414414 0.36938121 0.55065814\n",
            " 0.84733618 0.26378198 0.14365236 0.59750728]\n",
            "[-0.02323255  0.08195309  0.10922259  0.05964297  0.11034211  0.00641097\n",
            " -0.04676893  0.14620699  0.13589093 -0.03478873]\n"
          ],
          "name": "stdout"
        }
      ]
    },
    {
      "cell_type": "markdown",
      "metadata": {
        "colab_type": "text",
        "id": "DNFzG5dgPQPB"
      },
      "source": [
        "### Simulate time-dependent expected returns"
      ]
    },
    {
      "cell_type": "code",
      "metadata": {
        "colab_type": "code",
        "id": "a36GRMAlPQPD",
        "colab": {}
      },
      "source": [
        "# time-independent expected returns would be equal to alpha + beta * expected_market_return \n",
        "# make them time-dependent (and correlated with actual returns) as alpha + beta * oracle_market_returns\n",
        "# oracle expected returns pick into the future! \n",
        "\n",
        "oracle_coeff = 0.2\n",
        "mu_vec = mu_market * np.ones(num_steps)\n",
        "oracle_market_returns = mu_vec * dt + oracle_coeff*(returns_market - mu_vec) ## missing dt --> mu_vec*dt?\n",
        "\n",
        "expected_risky_returns = np.zeros((num_steps, num_risky_assets))\n",
        "\n",
        "for t in range(num_steps):\n",
        "    expected_risky_returns[t,:] = alpha_vals * dt + beta_vals * oracle_market_returns[t]"
      ],
      "execution_count": 0,
      "outputs": []
    },
    {
      "cell_type": "markdown",
      "metadata": {
        "colab_type": "text",
        "id": "DDN_R3znPQPK"
      },
      "source": [
        "### Initial values of all assets "
      ]
    },
    {
      "cell_type": "code",
      "metadata": {
        "colab_type": "code",
        "id": "YneTj6IBPQPM",
        "colab": {}
      },
      "source": [
        "val_min = 20.0\n",
        "val_max = 120.0\n",
        "\n",
        "init_risky_asset_vals = np.random.uniform(low=val_min, high=val_max, size=num_risky_assets)"
      ],
      "execution_count": 0,
      "outputs": []
    },
    {
      "cell_type": "markdown",
      "metadata": {
        "colab_type": "text",
        "id": "nqd7WIxbPQPS"
      },
      "source": [
        "### Simulate realized returns and asset prices"
      ]
    },
    {
      "cell_type": "code",
      "metadata": {
        "colab_type": "code",
        "id": "tSL2TU1IPQPW",
        "colab": {}
      },
      "source": [
        "# make realized returns and realized asset values by simulating from a one-factor model \n",
        "# with time-dependent expected returns\n",
        "\n",
        "risky_asset_returns = np.zeros((num_steps, num_risky_assets))\n",
        "risky_asset_vals = np.zeros((num_steps, num_risky_assets))\n",
        "\n",
        "idiosync_vol =  0.05 # vol_market #  \n",
        "\n",
        "for t in range(num_steps):\n",
        "    \n",
        "    rand_norm = np.random.randn(num_risky_assets)\n",
        "        \n",
        "    # asset returns are simulated from a one-factor model\n",
        "    risky_asset_returns[t,:] = (expected_risky_returns[t,:] + beta_vals * (returns_market[t] - mu_market * dt) \n",
        "                         + idiosync_vol * np.sqrt(1 - beta_vals**2) * np.sqrt(dt) * rand_norm)\n",
        "        \n",
        "    # asset values\n",
        "    if t == 0:\n",
        "        risky_asset_vals[t,:] = init_risky_asset_vals\n",
        "    else:\n",
        "        risky_asset_vals[t] = risky_asset_vals[t-1] * (1 + risky_asset_returns[t,:])\n",
        "   "
      ],
      "execution_count": 0,
      "outputs": []
    },
    {
      "cell_type": "code",
      "metadata": {
        "colab_type": "code",
        "id": "YvHvV7B6PQPh",
        "outputId": "5b3d8be9-9859-4cd5-f530-07be0ecb1b96",
        "colab": {
          "base_uri": "https://localhost:8080/",
          "height": 295
        }
      },
      "source": [
        "# compare the realized and expected returns\n",
        "# Note that they appear correlated - this is because we constructed them so!\n",
        "\n",
        "# pick a random asset to show\n",
        "asset_idx =  4 # 8 # 6 # 5\n",
        "\n",
        "plt.plot(expected_risky_returns[:,asset_idx],label='expected_return')\n",
        "plt.plot(risky_asset_returns[:,asset_idx],label='realized_return',color='r')\n",
        "plt.legend()\n",
        "plt.xlabel('Time Steps')\n",
        "plt.title('Realized returns vs expected returns')\n",
        "plt.show()\n"
      ],
      "execution_count": 11,
      "outputs": [
        {
          "output_type": "display_data",
          "data": {
            "image/png": "[encoded data removed]",
            "text/plain": [
              "<Figure size 432x288 with 1 Axes>"
            ]
          },
          "metadata": {
            "tags": []
          }
        }
      ]
    },
    {
      "cell_type": "markdown",
      "metadata": {
        "colab_type": "text",
        "id": "WqAdjcoFPQPp"
      },
      "source": [
        "### Compute the empirical correlation matrix using realized returns"
      ]
    },
    {
      "cell_type": "code",
      "metadata": {
        "colab_type": "code",
        "id": "sl5JQ3_8PQPs",
        "outputId": "c6fad68c-c816-40ae-bd51-76ef4165baff",
        "colab": {
          "base_uri": "https://localhost:8080/",
          "height": 34
        }
      },
      "source": [
        "cov_mat_r = np.cov(risky_asset_returns.T) \n",
        "\n",
        "print(cov_mat_r.shape)\n",
        "\n",
        "D,v = np.linalg.eigh(cov_mat_r)\n",
        "\n",
        "eigenvals = D[::-1]  # put them in a descended order"
      ],
      "execution_count": 12,
      "outputs": [
        {
          "output_type": "stream",
          "text": [
            "(99, 99)\n"
          ],
          "name": "stdout"
        }
      ]
    },
    {
      "cell_type": "code",
      "metadata": {
        "colab_type": "code",
        "id": "H-HzoeHOPQP0",
        "outputId": "379d7660-3bbe-4807-84b9-e16b8493319e",
        "colab": {
          "base_uri": "https://localhost:8080/",
          "height": 52
        }
      },
      "source": [
        "# eigenvalues: the largest eigenvalue is the market factor \n",
        "eigenvals[0:10]"
      ],
      "execution_count": 12,
      "outputs": [
        {
          "output_type": "execute_result",
          "data": {
            "text/plain": [
              "array([0.66923388, 0.00401052, 0.00345997, 0.00333454, 0.00320023,\n",
              "       0.00273543, 0.00268514, 0.00254346, 0.00235859, 0.00212307])"
            ]
          },
          "metadata": {
            "tags": []
          },
          "execution_count": 12
        }
      ]
    },
    {
      "cell_type": "code",
      "metadata": {
        "id": "hFC61Ci94nnd",
        "colab_type": "code",
        "outputId": "b2560b0f-17cf-436e-f3da-89da91f2a1b7",
        "colab": {
          "base_uri": "https://localhost:8080/",
          "height": 156
        }
      },
      "source": [
        "cov_mat_torch = torch.tensor(cov_mat_r)\n",
        "\n",
        "torch.pinverse(cov_mat_torch)"
      ],
      "execution_count": 13,
      "outputs": [
        {
          "output_type": "execute_result",
          "data": {
            "text/plain": [
              "tensor([[248.0082, -14.0834,  -6.2964,  ...,  27.4848,  13.9297,  14.4174],\n",
              "        [-14.0834, 174.4414,  38.8211,  ...,  23.9781,   5.3589,  25.1636],\n",
              "        [ -6.2964,  38.8211, 345.7294,  ..., -20.5320,  24.9343,   4.8420],\n",
              "        ...,\n",
              "        [ 27.4848,  23.9781, -20.5320,  ..., 107.2068,  33.3806,  -0.4019],\n",
              "        [ 13.9297,   5.3589,  24.9343,  ...,  33.3806, 263.8205, -21.5906],\n",
              "        [ 14.4174,  25.1636,   4.8420,  ...,  -0.4019, -21.5906, 149.1360]],\n",
              "       dtype=torch.float64)"
            ]
          },
          "metadata": {
            "tags": []
          },
          "execution_count": 13
        }
      ]
    },
    {
      "cell_type": "markdown",
      "metadata": {
        "colab_type": "text",
        "id": "ohSC6oDePQP5"
      },
      "source": [
        "### Add a riskless bond as one more asset"
      ]
    },
    {
      "cell_type": "code",
      "metadata": {
        "colab_type": "code",
        "id": "F7nwaM28PQP9",
        "colab": {}
      },
      "source": [
        "num_assets = num_risky_assets + 1\n",
        "\n",
        "bond_val = 100.0\n",
        "\n",
        "# add the bond to initial assets\n",
        "init_asset_vals = np.hstack((np.array([bond_val]),\n",
        "                            init_risky_asset_vals))"
      ],
      "execution_count": 0,
      "outputs": []
    },
    {
      "cell_type": "markdown",
      "metadata": {
        "colab_type": "text",
        "id": "hZQgn_CTPQQE"
      },
      "source": [
        "### Make the initial portfolio "
      ]
    },
    {
      "cell_type": "code",
      "metadata": {
        "colab_type": "code",
        "id": "PyMLBotBPQQH",
        "colab": {}
      },
      "source": [
        "# consider here two choices: equal or equally-weighted \n",
        "\n",
        "init_port_choice =  'equal' # 'equally_weighted'  #\n",
        "\n",
        "init_cash = 1000.0\n",
        "init_total_asset = np.sum(init_asset_vals)\n",
        "\n",
        "x_vals_init = np.zeros(num_assets)\n",
        "\n",
        "if init_port_choice == 'equal': \n",
        "    # hold equal amounts of cash in each asset\n",
        "    amount_per_asset = init_cash/num_assets\n",
        "    x_vals_init = amount_per_asset * np.ones(num_assets)\n",
        "\n",
        "elif init_port_choice == 'equally_weighted':\n",
        "    amount_per_asset = init_cash/init_total_asset\n",
        "    x_vals_init = amount_per_asset * init_asset_vals\n",
        "    \n"
      ],
      "execution_count": 0,
      "outputs": []
    },
    {
      "cell_type": "markdown",
      "metadata": {
        "colab_type": "text",
        "id": "Zkj8GdPDPQQP"
      },
      "source": [
        "### Make the target portfolio"
      ]
    },
    {
      "cell_type": "code",
      "metadata": {
        "colab_type": "code",
        "id": "LyyKCaPGPQQS",
        "outputId": "bb40428d-6828-4e8e-bf34-b6b3b8121d55",
        "colab": {
          "base_uri": "https://localhost:8080/",
          "height": 34
        }
      },
      "source": [
        "# make a target portfolio term structure by defining it as the initial portfolio growing at some fixed and high rate\n",
        "\n",
        "target_portfolio = [init_cash]\n",
        "\n",
        "target_return = 0.15 # 0.20\n",
        "coeff_target = 1.1 # 1.2 # 1.0\n",
        "\n",
        "for i in range(1,num_steps):\n",
        "    target_portfolio.append(target_portfolio[i-1]*np.exp(dt * target_return) )\n",
        "    \n",
        "target_portfolio = coeff_target*np.array(target_portfolio)    \n",
        "print(target_portfolio[0], target_portfolio[-1])"
      ],
      "execution_count": 16,
      "outputs": [
        {
          "output_type": "stream",
          "text": [
            "1100.0 3263.532441672218\n"
          ],
          "name": "stdout"
        }
      ]
    },
    {
      "cell_type": "markdown",
      "metadata": {
        "colab_type": "text",
        "id": "2UMA8UwlPQQc"
      },
      "source": [
        "### Define model parameters"
      ]
    },
    {
      "cell_type": "code",
      "metadata": {
        "colab_type": "code",
        "id": "5G_Y87m2PQQe",
        "outputId": "6f0c83e2-7518-40d0-d142-c2ef717c83c6",
        "colab": {
          "base_uri": "https://localhost:8080/",
          "height": 34
        }
      },
      "source": [
        "riskfree_rate = 0.02\n",
        "fee_bond = 0.05 # 0.01 # \n",
        "fee_stock = 0.05 # 0.05 # 20.0 # 0.1 # 1.0 # 100 # 1.0 # 0.5 \n",
        "\n",
        "all_fees = np.zeros(num_risky_assets + 1)\n",
        "all_fees[0] = fee_bond\n",
        "all_fees[1:] = fee_stock\n",
        "Omega_mat = np.diag(all_fees)\n",
        "\n",
        "\n",
        "# model parameters\n",
        "\n",
        "lambd = 0.001 #  0.00065 # 0.0006 # 0.001 # 1.0 # 5.0 # 3.0 # 5.0 # 0.1 # 0.12 # 0.08 # 0.05 # 0.0005\n",
        "Omega_mat = 15.5 * np.diag(all_fees) # 16.5 * # 100.0 * np.diag(all_fees)\n",
        "# Omega_mat = 120.0 * np.diag(all_fees)\n",
        "eta = 1.5 # 1.3 # 1.5 # 1.2\n",
        "\n",
        "beta = 100.0\n",
        "gamma = 0.95 \n",
        "\n",
        "exp_returns = expected_risky_returns\n",
        "\n",
        "Sigma_r = cov_mat_r\n",
        "\n",
        "# make the benchmark target portfolio by growing the initial portfolio value at rate eta\n",
        "# benchmark_portf = [init_cash]\n",
        "\n",
        "target_return =  0.5 # 0.4 # 0.25 # 0.15 #\n",
        "# coeff_target = 1.1 # 1.2 # 1.0\n",
        "benchmark_portf = [ init_cash   * np.exp(dt * target_return)]\n",
        "\n",
        "rho = 0.4 # 0.4 # 0.2 # 0.2 # 0.5\n",
        "\n",
        "for i in range(1,num_steps):\n",
        "    benchmark_portf.append(benchmark_portf[i-1]*np.exp(dt * target_return) )\n",
        "    \n",
        "# target_portfolio = coeff_target*np.array(target_portfolio)    \n",
        "print(benchmark_portf[0], benchmark_portf[-1])"
      ],
      "execution_count": 17,
      "outputs": [
        {
          "output_type": "stream",
          "text": [
            "1133.1484530668263 42521.08200006277\n"
          ],
          "name": "stdout"
        }
      ]
    },
    {
      "cell_type": "markdown",
      "metadata": {
        "colab_type": "text",
        "id": "YT6003xKPQQm"
      },
      "source": [
        "### Simulate portfolio data\n",
        "\n",
        "Produce a list of trajectories, where each trajectory is a list made of state-action pairs"
      ]
    },
    {
      "cell_type": "code",
      "metadata": {
        "id": "bP4RlxdTEg8f",
        "colab_type": "code",
        "colab": {}
      },
      "source": [
        "# DGP\n",
        "lambd = 0.001 # 0.001\n",
        "omega = 10*fee_stock \n",
        "beta = 1000\n",
        "eta = 1.01 # 1.0#  1.3 # 1.5 # 1.2\n",
        "rho = 0.4\n"
      ],
      "execution_count": 0,
      "outputs": []
    },
    {
      "cell_type": "code",
      "metadata": {
        "id": "lCzgn95o8wUD",
        "colab_type": "code",
        "colab": {}
      },
      "source": [
        "reward_params=[lambd, omega, eta, rho]"
      ],
      "execution_count": 0,
      "outputs": []
    },
    {
      "cell_type": "code",
      "metadata": {
        "colab_type": "code",
        "id": "58NX65KOPQRD",
        "colab": {}
      },
      "source": [
        "# create a G-learner\n",
        "G_learner = G_learning_portfolio_opt(num_steps,\n",
        "                 reward_params,  \n",
        "                 beta,                \n",
        "                 benchmark_portf,\n",
        "                 gamma, \n",
        "                 num_risky_assets,\n",
        "                 riskfree_rate,\n",
        "                 expected_risky_returns, # array of shape num_steps x num_stocks\n",
        "                 Sigma_r,     # covariance matrix of returns of risky matrix                    \n",
        "                 x_vals_init, # array of initial values of len (num_stocks+1)\n",
        "                 use_for_WM = True) # use for wealth management tasks"
      ],
      "execution_count": 0,
      "outputs": []
    },
    {
      "cell_type": "code",
      "metadata": {
        "id": "mhy6IPKs7nRq",
        "colab_type": "code",
        "outputId": "041465ad-3866-446e-9ac6-ec69d04c65d0",
        "colab": {
          "base_uri": "https://localhost:8080/",
          "height": 34
        }
      },
      "source": [
        "G_learner.reset_prior_policy()\n",
        "error_tol=1.e-8 # 5.0e-5 \n",
        "max_iter_RL = 200\n",
        "G_learner.G_learning(error_tol, max_iter_RL)\n"
      ],
      "execution_count": 32,
      "outputs": [
        {
          "output_type": "stream",
          "text": [
            "Doing G-learning, it may take a few seconds...\n"
          ],
          "name": "stdout"
        }
      ]
    },
    {
      "cell_type": "code",
      "metadata": {
        "colab_type": "code",
        "id": "ZJbI_k9mPQQo",
        "outputId": "d4910cee-0160-426f-e8f9-7ae3e4021852",
        "colab": {
          "base_uri": "https://localhost:8080/",
          "height": 34
        }
      },
      "source": [
        "num_sim = 1000\n",
        "trajs = []\n",
        "np.random.seed(0)\n",
        "torch.manual_seed(0)\n",
        "t_0 = time.time()\n",
        "\n",
        "\n",
        "x_vals = [x_vals_init]\n",
        "returns_all = []\n",
        "for n in range(num_sim):\n",
        "    this_traj = []\n",
        "    x_t = x_vals_init[:]\n",
        "    returns_array = []\n",
        "    for t in range(0,num_steps):\n",
        "        \n",
        "        #exp_returns = np.hstack([riskfree_rate,expected_risky_returns[t,:]])\n",
        "        \n",
        "        #Sigma_r_np = Sigma_r # array of shape num_stocks x num_stocks\n",
        "                                              \n",
        "        # make block-matrix Sigma_r_tilde with Sigma_r_tilde[0,0] = 0, and equity correlation matrix inside\n",
        "        #Sigma_r_tilde = np.zeros((num_assets, num_assets))\n",
        "        #Sigma_r_tilde[1:,1:] = Sigma_r\n",
        "        \n",
        "        #one_plus_exp_ret = np.ones(num_assets) + exp_returns\n",
        "        \n",
        "        #Sigma_hat_t = Sigma_r_tilde + np.outer(one_plus_exp_ret, one_plus_exp_ret)\n",
        "        #Sigma_tilde = Sigma_hat_t + (1/lambd)*Omega_mat\n",
        "        #Sigma_tilde_inv = np.linalg.pinv(Sigma_tilde)\n",
        "        \n",
        "        # compute u_t\n",
        "        \n",
        "        # first compute R_u, R_ux\n",
        "        #R_u = (- np.ones(num_assets) + 2*lambd*(1-rho)*benchmark_portf[t]*(np.ones(num_assets)+\n",
        "         #                                                                exp_returns))\n",
        "        \n",
        "        #R_ux = (2*lambd*eta*rho*np.outer(np.ones(num_assets)+exp_returns,\n",
        "         #                              np.ones(num_assets)) - 2*lambd*Sigma_hat_t)\n",
        "        \n",
        "        \n",
        "        #u_t = (1/(2*lambd))* Sigma_tilde_inv.dot(R_u + R_ux.dot(x_t))\n",
        "        \n",
        "        # randomize the action\n",
        "        #sigma_p = 0.2\n",
        "        #rand_norm_p = np.random.randn(num_assets)\n",
        "        #u_t = u_t *(np.ones(num_assets) + sigma_p*rand_norm_p)\n",
        "\n",
        "        # sample from optimal policy \\pi(u_t | x_t)\n",
        "        #G_learner.update_policy_params(t)\n",
        "       \n",
        "        mu_t = G_learner.u_bar_prior[t,:] + G_learner.v_bar_prior[t,:].mv(torch.tensor(x_t))\n",
        "        u_t = np.random.multivariate_normal(mu_t.detach().numpy(), G_learner.Sigma_prior[t,:].detach().numpy())\n",
        "        # compute new values of x_t\n",
        "\n",
        "        x_next = x_t +u_t\n",
        "        # grow this with random return\n",
        "        \n",
        "        idiosync_vol =  0.05 # vol_market #      \n",
        "        rand_norm = np.random.randn(num_risky_assets)\n",
        "        \n",
        "        # asset returns are simulated from a one-factor model\n",
        "        risky_asset_returns = (expected_risky_returns[t,:] + beta_vals * (returns_market[t] - mu_market * dt) \n",
        "                         + idiosync_vol * np.sqrt(1 - beta_vals**2) * np.sqrt(dt) * rand_norm)\n",
        "        \n",
        "        returns = np.hstack((riskfree_rate*dt, risky_asset_returns))\n",
        "        \n",
        "        x_next = (1+returns)*x_next\n",
        "        port_returns=(x_next.sum() -x_t.sum() -np.sum(u_t) - 0.015*np.abs(u_t).sum())/x_t.sum()\n",
        "        #port_returns=(x_next.sum() -x_t.sum())/x_t.sum()\n",
        "        \n",
        "        this_traj.append((x_t, u_t))\n",
        "        \n",
        "        # rename\n",
        "        x_t = x_next\n",
        "        returns_array.append(port_returns) \n",
        "    # end the loop over time steps\n",
        "    trajs.append(this_traj)\n",
        "    returns_all.append(returns_array)\n",
        "\n",
        "print('Done simulating trajectories in %f sec'% (time.time() - t_0))        "
      ],
      "execution_count": 22,
      "outputs": [
        {
          "output_type": "stream",
          "text": [
            "Done simulating trajectories in 173.793027 sec\n"
          ],
          "name": "stdout"
        }
      ]
    },
    {
      "cell_type": "markdown",
      "metadata": {
        "id": "bpnem5H5vZ5H",
        "colab_type": "text"
      },
      "source": [
        "### Calculate performance of G-learner (Diagnostics only)"
      ]
    },
    {
      "cell_type": "code",
      "metadata": {
        "id": "4Z731JGirsdV",
        "colab_type": "code",
        "colab": {}
      },
      "source": [
        "returns_all_G=returns_all"
      ],
      "execution_count": 0,
      "outputs": []
    },
    {
      "cell_type": "code",
      "metadata": {
        "id": "UIYUAIWvO04X",
        "colab_type": "code",
        "outputId": "7e9f5055-b670-4a22-c6cf-d8082c03c9c6",
        "colab": {
          "base_uri": "https://localhost:8080/",
          "height": 34
        }
      },
      "source": [
        "SR_G=0\n",
        "for i in range(num_sim):\n",
        "  SR_G+=(np.mean(returns_all_G[i])-riskfree_rate*dt)/np.std(returns_all_G[i])\n",
        "\n",
        "SR_G/=num_sim\n",
        "print(SR_G)"
      ],
      "execution_count": 27,
      "outputs": [
        {
          "output_type": "stream",
          "text": [
            "0.3090938390736271\n"
          ],
          "name": "stdout"
        }
      ]
    },
    {
      "cell_type": "code",
      "metadata": {
        "id": "RjXLkYQkveDH",
        "colab_type": "code",
        "outputId": "1060b86a-a104-4262-8227-507c008d2625",
        "colab": {
          "base_uri": "https://localhost:8080/",
          "height": 34
        }
      },
      "source": [
        "SR_ew=0\n",
        "for i in range(num_sim):\n",
        "  SR_ew+=(np.mean(returns_all_ew[i])-riskfree_rate*dt)/np.std(returns_all_ew[i])\n",
        "\n",
        "SR_ew/=num_sim\n",
        "print(SR_ew)"
      ],
      "execution_count": 57,
      "outputs": [
        {
          "output_type": "stream",
          "text": [
            "0.20842306660453755\n"
          ],
          "name": "stdout"
        }
      ]
    },
    {
      "cell_type": "code",
      "metadata": {
        "id": "SeCMyTfj_5vE",
        "colab_type": "code",
        "colab": {
          "base_uri": "https://localhost:8080/",
          "height": 34
        },
        "outputId": "cdf92676-befb-4341-b776-bc4cbf55a5ec"
      },
      "source": [
        "SR_GIRL=0\n",
        "for i in range(num_sim):\n",
        "  SR_GIRL+=(np.mean(returns_all_GIRL[i])-riskfree_rate*dt)/np.std(returns_all_GIRL[i])\n",
        "\n",
        "SR_GIRL/=num_sim\n",
        "print(SR_GIRL)"
      ],
      "execution_count": 56,
      "outputs": [
        {
          "output_type": "stream",
          "text": [
            "0.410565799128623\n"
          ],
          "name": "stdout"
        }
      ]
    },
    {
      "cell_type": "code",
      "metadata": {
        "id": "TT9dIJP_t0K_",
        "colab_type": "code",
        "colab": {}
      },
      "source": [
        "r_G=np.array([0]*num_steps, dtype='float64')\n",
        "for n in range(num_steps):\n",
        "  for i in range(num_sim):\n",
        "    r_G[n]+=returns_all_G[i][n]\n",
        "  r_G[n]/=num_sim\n"
      ],
      "execution_count": 0,
      "outputs": []
    },
    {
      "cell_type": "code",
      "metadata": {
        "id": "Jvx0as1F8hXP",
        "colab_type": "code",
        "colab": {}
      },
      "source": [
        "r_girl=np.array([0]*num_steps, dtype='float64')\n",
        "for n in range(num_steps):\n",
        "  for i in range(num_sim):\n",
        "    r_girl[n]+=returns_all_GIRL[i][n]\n",
        "  r_girl[n]/=num_sim"
      ],
      "execution_count": 0,
      "outputs": []
    },
    {
      "cell_type": "code",
      "metadata": {
        "id": "lHMhMBmmueh9",
        "colab_type": "code",
        "colab": {}
      },
      "source": [
        "r_ew=np.array([0]*num_steps, dtype='float64')\n",
        "for n in range(num_steps):\n",
        "  for i in range(num_sim):\n",
        "    r_ew[n]+=returns_all_ew[i][n]\n",
        "  r_ew[n]/=num_sim"
      ],
      "execution_count": 0,
      "outputs": []
    },
    {
      "cell_type": "code",
      "metadata": {
        "id": "KAdjSXoHui7R",
        "colab_type": "code",
        "outputId": "9f5ea1f7-38b7-4aff-ef5a-e9ef9788651d",
        "colab": {
          "base_uri": "https://localhost:8080/",
          "height": 296
        }
      },
      "source": [
        "plt.plot(r_ew, label='Equal weighted (' + str(np.round(SR_ew,3)) + ')', color='black')\n",
        "plt.plot(r_G, label='G-learning (' + str(np.round(SR_G,3)) + ')', color='red')\n",
        "plt.plot(r_girl, label='GIRL (' + str(np.round(SR_GIRL,3)) + ')', color='blue', linestyle='--')\n",
        "\n",
        "plt.legend()\n",
        "plt.xlabel('time (quarters)')\n",
        "plt.ylabel('Sample Mean Returns')"
      ],
      "execution_count": 68,
      "outputs": [
        {
          "output_type": "execute_result",
          "data": {
            "text/plain": [
              "Text(0, 0.5, 'Sample Mean Returns')"
            ]
          },
          "metadata": {
            "tags": []
          },
          "execution_count": 68
        },
        {
          "output_type": "display_data",
          "data": {
            "image/png": "[encoded data removed]",
            "text/plain": [
              "<Figure size 432x288 with 1 Axes>"
            ]
          },
          "metadata": {
            "tags": []
          }
        }
      ]
    },
    {
      "cell_type": "code",
      "metadata": {
        "colab_type": "code",
        "id": "aTWkeFsDPQQu",
        "colab": {}
      },
      "source": [
        "np.save('State_act_trajs.npy', trajs)"
      ],
      "execution_count": 0,
      "outputs": []
    },
    {
      "cell_type": "code",
      "metadata": {
        "colab_type": "code",
        "id": "SNtCvuFMPQQ0",
        "outputId": "2f12bdef-6454-4811-9d4b-5ee128b9f596",
        "colab": {
          "base_uri": "https://localhost:8080/",
          "height": 286
        }
      },
      "source": [
        "trajs = np.load('State_act_trajs.npy')"
      ],
      "execution_count": 0,
      "outputs": [
        {
          "output_type": "error",
          "ename": "FileNotFoundError",
          "evalue": "ignored",
          "traceback": [
            "\u001b[0;31m---------------------------------------------------------------------------\u001b[0m",
            "\u001b[0;31mFileNotFoundError\u001b[0m                         Traceback (most recent call last)",
            "\u001b[0;32m<ipython-input-5-f63b4bdb6bb2>\u001b[0m in \u001b[0;36m<module>\u001b[0;34m()\u001b[0m\n\u001b[0;32m----> 1\u001b[0;31m \u001b[0mtrajs\u001b[0m \u001b[0;34m=\u001b[0m \u001b[0mnp\u001b[0m\u001b[0;34m.\u001b[0m\u001b[0mload\u001b[0m\u001b[0;34m(\u001b[0m\u001b[0;34m'State_act_trajs.npy'\u001b[0m\u001b[0;34m)\u001b[0m\u001b[0;34m\u001b[0m\u001b[0;34m\u001b[0m\u001b[0m\n\u001b[0m",
            "\u001b[0;32m/usr/local/lib/python3.6/dist-packages/numpy/lib/npyio.py\u001b[0m in \u001b[0;36mload\u001b[0;34m(file, mmap_mode, allow_pickle, fix_imports, encoding)\u001b[0m\n\u001b[1;32m    426\u001b[0m         \u001b[0mown_fid\u001b[0m \u001b[0;34m=\u001b[0m \u001b[0;32mFalse\u001b[0m\u001b[0;34m\u001b[0m\u001b[0;34m\u001b[0m\u001b[0m\n\u001b[1;32m    427\u001b[0m     \u001b[0;32melse\u001b[0m\u001b[0;34m:\u001b[0m\u001b[0;34m\u001b[0m\u001b[0;34m\u001b[0m\u001b[0m\n\u001b[0;32m--> 428\u001b[0;31m         \u001b[0mfid\u001b[0m \u001b[0;34m=\u001b[0m \u001b[0mopen\u001b[0m\u001b[0;34m(\u001b[0m\u001b[0mos_fspath\u001b[0m\u001b[0;34m(\u001b[0m\u001b[0mfile\u001b[0m\u001b[0;34m)\u001b[0m\u001b[0;34m,\u001b[0m \u001b[0;34m\"rb\"\u001b[0m\u001b[0;34m)\u001b[0m\u001b[0;34m\u001b[0m\u001b[0;34m\u001b[0m\u001b[0m\n\u001b[0m\u001b[1;32m    429\u001b[0m         \u001b[0mown_fid\u001b[0m \u001b[0;34m=\u001b[0m \u001b[0;32mTrue\u001b[0m\u001b[0;34m\u001b[0m\u001b[0;34m\u001b[0m\u001b[0m\n\u001b[1;32m    430\u001b[0m \u001b[0;34m\u001b[0m\u001b[0m\n",
            "\u001b[0;31mFileNotFoundError\u001b[0m: [Errno 2] No such file or directory: 'State_act_trajs.npy'"
          ]
        }
      ]
    },
    {
      "cell_type": "code",
      "metadata": {
        "colab_type": "code",
        "id": "A6FFdGzmPQQ8",
        "outputId": "65757d71-7efc-484c-9edc-3821f152058f",
        "colab": {}
      },
      "source": [
        "print(len(trajs2[95][-1][0]))  # the number of asset position\n",
        "print(len(trajs2[95]))  # the number of time steps in each trajectory"
      ],
      "execution_count": 0,
      "outputs": [
        {
          "output_type": "stream",
          "text": [
            "100\n",
            "10\n"
          ],
          "name": "stdout"
        }
      ]
    },
    {
      "cell_type": "markdown",
      "metadata": {
        "id": "4Wdu1t058d7a",
        "colab_type": "text"
      },
      "source": [
        "## G-IRL"
      ]
    },
    {
      "cell_type": "markdown",
      "metadata": {
        "id": "MrUdUNr-8dIL",
        "colab_type": "text"
      },
      "source": [
        ""
      ]
    },
    {
      "cell_type": "code",
      "metadata": {
        "id": "gH6Ho4m9yHvX",
        "colab_type": "code",
        "colab": {}
      },
      "source": [
        "def get_loss(trajs,\n",
        "             num_steps, \n",
        "             benchmark_portf, \n",
        "             gamma, \n",
        "             num_risky_assets, \n",
        "             riskfree_rate, \n",
        "             expected_risky_returns, \n",
        "             Sigma_r, \n",
        "             x_vals_init, \n",
        "             max_iter_RL, \n",
        "             reward_params,\n",
        "             beta, \n",
        "             num_trajs, \n",
        "             grad=False, \n",
        "             eps=1e-7):\n",
        "\n",
        "\n",
        "  data_xvals = torch.zeros(num_trajs,  num_steps, num_assets, dtype=torch.float64, requires_grad=False)\n",
        "  data_uvals = torch.zeros(num_trajs,  num_steps, num_assets, dtype=torch.float64, requires_grad=False)\n",
        "        \n",
        "  for n in range(num_trajs):\n",
        "        for t in range(num_steps):\n",
        "            data_xvals[n,t,:] = torch.tensor(trajs[n][t][0],dtype=torch.float64)\n",
        "            data_uvals[n,t,:] = torch.tensor(trajs[n][t][1],dtype=torch.float64)\n",
        "                \n",
        "                \n",
        "    # allocate memory for tensors that wil be used to compute the forward pass\n",
        "  realized_rewards = torch.zeros(num_trajs, num_steps, dtype=torch.float64, requires_grad=False)\n",
        "  realized_cum_rewards = torch.zeros(num_trajs, dtype=torch.float64, requires_grad=False)\n",
        "\n",
        "  realized_G_fun = torch.zeros(num_trajs, num_steps, dtype=torch.float64, requires_grad=False)\n",
        "  realized_F_fun  = torch.zeros(num_trajs,  num_steps, dtype=torch.float64, requires_grad=False)\n",
        "\n",
        "  realized_G_fun_cum = torch.zeros(num_trajs, dtype=torch.float64, requires_grad=False)  \n",
        "  realized_F_fun_cum = torch.zeros(num_trajs, dtype=torch.float64, requires_grad=False)  \n",
        "\n",
        "  reward_params_dict={}\n",
        "  loss_dict={}\n",
        "  loss_dict[-1]=np.array([0]*len(reward_params), dtype='float64') # perturb up\n",
        "  loss_dict[1]=np.array([0]*len(reward_params), dtype='float64') # perturb down\n",
        "  loss_grad = np.array([0]*len(reward_params), dtype='float64') \n",
        "\n",
        "  if grad: # compute gradient\n",
        "    for j in range(len(reward_params)):\n",
        "      for k in [-1,1]:\n",
        "            reward_params_dict[k]=reward_params\n",
        "            reward_params_dict[k][j]= reward_params_dict[k][j] + k*eps\n",
        "              \n",
        "            # 1. create a G-learner\n",
        "            G_learner = G_learning_portfolio_opt(num_steps,\n",
        "                                             reward_params_dict[k],\n",
        "                                             beta,\n",
        "                                             benchmark_portf,\n",
        "                                             gamma,\n",
        "                                             num_risky_assets,\n",
        "                                             riskfree_rate,\n",
        "                                             expected_risky_returns,\n",
        "                                             Sigma_r,\n",
        "                                             x_vals_init,\n",
        "                                             use_for_WM=True)\n",
        "        \n",
        "            G_learner.reset_prior_policy()\n",
        "        \n",
        "            # run the G-learning recursion to get parameters of G- and F-functions\n",
        "            G_learner.G_learning(error_tol, max_iter_RL)\n",
        "        \n",
        "            # compute the rewards and realized values of G- and F-functions from \n",
        "            # all trajectories\n",
        "            for n in range(num_trajs):\n",
        "              for t in range(num_steps):\n",
        "                \n",
        "                realized_rewards[n,t] = G_learner.compute_reward_on_traj(t,\n",
        "                                data_xvals[n,t,:], data_uvals[n,t,:])\n",
        "\n",
        "\n",
        "                realized_G_fun[n,t] = G_learner.compute_G_fun_on_traj(t,\n",
        "                                data_xvals[n,t,:], data_uvals[n,t,:])\n",
        "\n",
        "\n",
        "                realized_F_fun[n,t] = G_learner.compute_F_fun_on_traj(t,\n",
        "                                data_xvals[n,t,:])\n",
        "                \n",
        "              realized_cum_rewards[n] = realized_rewards[n,:].sum()\n",
        "              realized_G_fun_cum[n] = realized_G_fun[n,:].sum()\n",
        "              realized_F_fun_cum[n] = realized_F_fun[n,:].sum()\n",
        "          \n",
        "\n",
        "\n",
        "            \n",
        "            loss_dict[k][j] = - beta *(realized_G_fun_cum.sum() - realized_F_fun_cum.sum())\n",
        "      loss_grad[j]=(loss_dict[1][j]-loss_dict[-1][j])/(2.0*eps)\n",
        "\n",
        "  G_learner = G_learning_portfolio_opt(num_steps,\n",
        "                                      reward_params,\n",
        "                                      beta,\n",
        "                                      benchmark_portf,\n",
        "                                      gamma,\n",
        "                                      num_risky_assets,\n",
        "                                      riskfree_rate,\n",
        "                                      expected_risky_returns,\n",
        "                                      Sigma_r,\n",
        "                                      x_vals_init,\n",
        "                                      use_for_WM=True)\n",
        "        \n",
        "  G_learner.reset_prior_policy()\n",
        "        \n",
        "  G_learner.G_learning(error_tol, max_iter_RL)\n",
        "        \n",
        "  # compute the rewards and realized values of G- and F-functions from \n",
        "  # all trajectories\n",
        "  for n in range(num_trajs):\n",
        "      for t in range(num_steps):\n",
        "                \n",
        "                realized_rewards[n,t] = G_learner.compute_reward_on_traj(t,\n",
        "                                data_xvals[n,t,:], data_uvals[n,t,:])\n",
        "\n",
        "\n",
        "                realized_G_fun[n,t] = G_learner.compute_G_fun_on_traj(t,\n",
        "                                data_xvals[n,t,:], data_uvals[n,t,:])\n",
        "\n",
        "\n",
        "                realized_F_fun[n,t] = G_learner.compute_F_fun_on_traj(t,\n",
        "                                data_xvals[n,t,:])\n",
        "                \n",
        "      realized_cum_rewards[n] = realized_rewards[n,:].sum()\n",
        "      realized_G_fun_cum[n] = realized_G_fun[n,:].sum()\n",
        "      realized_F_fun_cum[n] = realized_F_fun[n,:].sum()\n",
        "          \n",
        "        # \n",
        "\n",
        "  loss = - beta *(realized_G_fun_cum.sum() - realized_F_fun_cum.sum())   \n",
        "  if grad:\n",
        "    return loss, loss_grad\n",
        "  else:\n",
        "    return loss   \n"
      ],
      "execution_count": 0,
      "outputs": []
    },
    {
      "cell_type": "code",
      "metadata": {
        "id": "Le9xZcj54noM",
        "colab_type": "code",
        "colab": {}
      },
      "source": [
        "def GIRL(trajs,\n",
        "         learning_rate,\n",
        "         error_tol, \n",
        "         max_iter_RL,\n",
        "         max_iter_IRL,\n",
        "         num_steps, \n",
        "         lambd_init,\n",
        "         omega_init,\n",
        "         eta_init,\n",
        "         rho_init,\n",
        "         beta_init,\n",
        "         benchmark_portf,\n",
        "         gamma,\n",
        "         num_risky_assets,\n",
        "         riskfree_rate,\n",
        "         expected_risky_returns,\n",
        "         Sigma_r,\n",
        "         x_vals_init):\n",
        "    \n",
        "    \n",
        "\n",
        "    # Estimate parameters of the reward function using MaxEnt IRL\n",
        "    #\n",
        "    # Inputs:\n",
        "    #     \n",
        "    #  trajs - a list of trajectories. Each trajectory is a list of state-action pairs, \n",
        "    #         stored as a tuple. Each trajectory is assumed to be of the same length\n",
        "    #\n",
        " \n",
        "\n",
        "    use_for_WM = True\n",
        "    num_assets = num_risky_assets + 1\n",
        "    \n",
        "    \n",
        "    #with torch.autograd.set_detect_anomaly(True):\n",
        "        \n",
        "    lambd = torch.tensor(lambd_init, requires_grad=False, dtype=torch.float64)\n",
        "    omega = torch.tensor(omega_init, requires_grad=False, dtype=torch.float64)\n",
        "    beta = torch.tensor(beta_init, requires_grad=False, dtype=torch.float64)\n",
        "    beta_prime = torch.tensor(beta_init, requires_grad=False, dtype=torch.float64)\n",
        "    eta = torch.tensor(eta_init, requires_grad=False, dtype=torch.float64)\n",
        "    rho = torch.tensor(rho_init, requires_grad=False, dtype=torch.float64)\n",
        "   \n",
        "    num_trajs = len(trajs)\n",
        "    losses=[]\n",
        "    scaling= True\n",
        "    sc= []\n",
        "    eps=1e-7\n",
        "    lr=learning_rate \n",
        "    err=error_tol\n",
        "    i =0 \n",
        "    while (err>= error_tol) and (i < max_iter_IRL):\n",
        "        print('GIRL iteration = ', i)\n",
        "        print('lambd = ', lambd.detach().numpy())\n",
        "        print('beta = ', beta.detach().numpy())\n",
        "        \n",
        "        # change of variables to enforce parameter constraints\n",
        "        lambd_prime= torch.sqrt(lambd)\n",
        "        omega_prime = torch.sqrt(omega)\n",
        "        eta_prime= torch.sqrt(eta-1)\n",
        "        rho_prime = torch.log(rho/(1-rho))\n",
        "\n",
        "        reward_params = [lambd, omega, eta, rho]    \n",
        "        rewards_prev=[lambd.clone().detach().numpy(), omega.clone().detach().numpy(), eta.clone().detach().numpy(), rho.clone().detach().numpy()]\n",
        "  \n",
        "        loss, loss_grad=get_loss(trajs,\n",
        "                                 num_steps, \n",
        "                                 benchmark_portf, \n",
        "                                 gamma, \n",
        "                                 num_risky_assets, \n",
        "                                 riskfree_rate, \n",
        "                                 expected_risky_returns, \n",
        "                                 Sigma_r, \n",
        "                                 x_vals_init, \n",
        "                                 max_iter_RL, \n",
        "                                 reward_params, \n",
        "                                 beta,\n",
        "                                 num_trajs, \n",
        "                                 grad=True, \n",
        "                                 eps=eps) \n",
        "        if scaling:\n",
        "          \n",
        "          sc=(1.0/np.abs(loss_grad))*np.abs(reward_params)\n",
        "          sc[0]/=2.0*np.abs(lambd_prime)\n",
        "          sc[1]/=2.0*np.abs(omega_prime)\n",
        "          sc[2]/=2.0*np.abs(eta_prime)\n",
        "          sc[3]/=torch.pow(torch.sigmoid(rho_prime),2)*torch.exp(-rho_prime)\n",
        "          print(\"re-scaling:\")\n",
        "          print(sc)\n",
        "          scaling = False\n",
        "          \n",
        "        #[lambd, omega, beta, eta, rho]\n",
        "        #lambd -= lr*0.0001 * loss_grad[0]\n",
        "        #omega -= 1000*lr * loss_grad[1]\n",
        "        #beta -= 1000*lr * loss_grad[2]\n",
        "        #eta -= lr * loss_grad[3]\n",
        "        #rho -= lr*0.1* loss_grad[4]\n",
        "        \n",
        "        #Apply constraints (and do not optimize beta)\n",
        "        lambd_prime -= lr* sc[0]* loss_grad[0]*2.0*lambd_prime  # must be positive\n",
        "        omega_prime -= lr *sc[1]* loss_grad[1]*2.0*omega_prime # must be positive\n",
        "        eta_prime -= lr * sc[2]*loss_grad[2]*2.0*eta_prime  # must be greater than 1\n",
        "        rho_prime -= lr* sc[3]* loss_grad[3]*torch.pow(torch.sigmoid(rho_prime),2)*torch.exp(-rho_prime) # d sigmoid(x)/dx=sigmoid^2(x)e^{-x}\n",
        "\n",
        "        lambd= torch.pow(lambd_prime,2)\n",
        "        omega= torch.pow(omega_prime,2)\n",
        "        eta = 1.0 + torch.pow(eta_prime,2)\n",
        "        rho= torch.sigmoid(rho_prime)\n",
        "\n",
        "\n",
        "        rewards_new=[lambd.detach().numpy(), omega.detach().numpy(), eta.detach().numpy(), rho.detach().numpy()]\n",
        "\n",
        "        err=np.linalg.norm(np.array(rewards_prev)- np.array(rewards_new),2)\n",
        "\n",
        "        print('Finished one step')\n",
        "        print('loss = ', loss.detach().numpy())\n",
        "        print('lambd = ', lambd.detach().numpy())\n",
        "        print('omega = ',omega.detach().numpy())\n",
        "        print('beta = ', beta.detach().numpy())\n",
        "        print('eta = ', eta.detach().numpy())\n",
        "        print('rho = ', rho.detach().numpy())\n",
        "        print('error = ', err)\n",
        "        losses.append(loss)\n",
        "        i+=1\n",
        "        \n",
        "    lambd_np = lambd.detach().numpy()\n",
        "    omega_np = omega.detach().numpy()\n",
        "    beta_np = beta.detach().numpy()\n",
        "    eta_np = eta.detach().numpy()\n",
        "    rho_np = rho.detach().numpy()\n",
        "        \n",
        "    return lambd_np, omega_np, beta_np, eta_np, rho_np\n"
      ],
      "execution_count": 0,
      "outputs": []
    },
    {
      "cell_type": "markdown",
      "metadata": {
        "colab_type": "text",
        "id": "JQXvu1HqPQRc"
      },
      "source": [
        "### GIRL (G-learning IRL)"
      ]
    },
    {
      "cell_type": "code",
      "metadata": {
        "colab_type": "code",
        "id": "mutp_IkC4nou",
        "colab": {
          "base_uri": "https://localhost:8080/",
          "height": 883
        },
        "outputId": "bec7bebc-6ceb-4c8a-daab-50781090fcf0"
      },
      "source": [
        "# The second version: compute using function GIRL defined outside of the class\n",
        "# model parameters\n",
        "\n",
        "lambd_0 = 0.01\n",
        "omega_0 = 1.0 \n",
        "eta_0 = 2.0 # 1.3 # 1.5 # 1.2\n",
        "beta_0 = beta # 1.0 # 50.0 # 100.0\n",
        "rho_0 = 0.5\n",
        "\n",
        "# correct answer\n",
        "#lambd = 0.001 # 0.001\n",
        "#omega = 10*fee_stock \n",
        "#beta = 1000\n",
        "#eta = 1.01 # 1.0#  1.3 # 1.5 # 1.2\n",
        "#rho = 0.4\n",
        "\n",
        "error_tol=1.e-4 # 5.0e-5 \n",
        "max_iter_RL = 200\n",
        "learning_rate = 0.5\n",
        "\n",
        "max_iter_IRL = 200\n",
        "\n",
        "t_0 = time.time()\n",
        "#with torch.autograd.set_detect_anomaly(True):\n",
        "with torch.no_grad():\n",
        "    lambd, omega, beta, eta, rho = GIRL(trajs,\n",
        "                                    learning_rate,\n",
        "                                    error_tol,\n",
        "                                    max_iter_RL,\n",
        "                                    max_iter_IRL,\n",
        "                                    num_steps,\n",
        "                                    lambd_0,\n",
        "                                    omega_0,\n",
        "                                    eta_0,\n",
        "                                    rho_0,\n",
        "                                    beta_0,\n",
        "                                    benchmark_portf,\n",
        "                                    gamma,\n",
        "                                    num_risky_assets,\n",
        "                                    riskfree_rate,\n",
        "                                    expected_risky_returns,\n",
        "                                    Sigma_r,\n",
        "                                    x_vals_init)\n",
        "\n",
        "print('Great success!')"
      ],
      "execution_count": 37,
      "outputs": [
        {
          "output_type": "stream",
          "text": [
            "GIRL iteration =  0\n",
            "lambd =  0.01\n",
            "beta =  1000.0\n",
            "Doing G-learning, it may take a few seconds...\n",
            "Doing G-learning, it may take a few seconds...\n",
            "Doing G-learning, it may take a few seconds...\n",
            "Doing G-learning, it may take a few seconds...\n",
            "Doing G-learning, it may take a few seconds...\n",
            "Doing G-learning, it may take a few seconds...\n",
            "Doing G-learning, it may take a few seconds...\n",
            "Doing G-learning, it may take a few seconds...\n",
            "Doing G-learning, it may take a few seconds...\n",
            "re-scaling:\n",
            "[1.44153229e-19 1.54482483e-16 1.94453699e-16 9.71729218e-17]\n",
            "Finished one step\n",
            "loss =  -261104486692698.7\n",
            "lambd =  0.011025000000000002\n",
            "omega =  0.25\n",
            "beta =  1000.0\n",
            "eta =  5.0\n",
            "rho =  0.5621765008857981\n",
            "error =  3.0929544076638766\n",
            "GIRL iteration =  1\n",
            "lambd =  0.011025000000000002\n",
            "beta =  1000.0\n",
            "Doing G-learning, it may take a few seconds...\n",
            "Doing G-learning, it may take a few seconds...\n",
            "Doing G-learning, it may take a few seconds...\n",
            "Doing G-learning, it may take a few seconds...\n"
          ],
          "name": "stdout"
        },
        {
          "output_type": "error",
          "ename": "KeyboardInterrupt",
          "evalue": "ignored",
          "traceback": [
            "\u001b[0;31m---------------------------------------------------------------------------\u001b[0m",
            "\u001b[0;31mKeyboardInterrupt\u001b[0m                         Traceback (most recent call last)",
            "\u001b[0;32m<ipython-input-37-b7a3ee8c9b8b>\u001b[0m in \u001b[0;36m<module>\u001b[0;34m()\u001b[0m\n\u001b[1;32m     39\u001b[0m                                     \u001b[0mexpected_risky_returns\u001b[0m\u001b[0;34m,\u001b[0m\u001b[0;34m\u001b[0m\u001b[0;34m\u001b[0m\u001b[0m\n\u001b[1;32m     40\u001b[0m                                     \u001b[0mSigma_r\u001b[0m\u001b[0;34m,\u001b[0m\u001b[0;34m\u001b[0m\u001b[0;34m\u001b[0m\u001b[0m\n\u001b[0;32m---> 41\u001b[0;31m                                     x_vals_init)\n\u001b[0m\u001b[1;32m     42\u001b[0m \u001b[0;34m\u001b[0m\u001b[0m\n\u001b[1;32m     43\u001b[0m \u001b[0mprint\u001b[0m\u001b[0;34m(\u001b[0m\u001b[0;34m'Great success!'\u001b[0m\u001b[0;34m)\u001b[0m\u001b[0;34m\u001b[0m\u001b[0;34m\u001b[0m\u001b[0m\n",
            "\u001b[0;32m<ipython-input-36-6cb61f9fa28a>\u001b[0m in \u001b[0;36mGIRL\u001b[0;34m(trajs, learning_rate, error_tol, max_iter_RL, max_iter_IRL, num_steps, lambd_init, omega_init, eta_init, rho_init, beta_init, benchmark_portf, gamma, num_risky_assets, riskfree_rate, expected_risky_returns, Sigma_r, x_vals_init)\u001b[0m\n\u001b[1;32m     78\u001b[0m                                  \u001b[0mnum_trajs\u001b[0m\u001b[0;34m,\u001b[0m\u001b[0;34m\u001b[0m\u001b[0;34m\u001b[0m\u001b[0m\n\u001b[1;32m     79\u001b[0m                                  \u001b[0mgrad\u001b[0m\u001b[0;34m=\u001b[0m\u001b[0;32mTrue\u001b[0m\u001b[0;34m,\u001b[0m\u001b[0;34m\u001b[0m\u001b[0;34m\u001b[0m\u001b[0m\n\u001b[0;32m---> 80\u001b[0;31m                                  eps=eps) \n\u001b[0m\u001b[1;32m     81\u001b[0m         \u001b[0;32mif\u001b[0m \u001b[0mscaling\u001b[0m\u001b[0;34m:\u001b[0m\u001b[0;34m\u001b[0m\u001b[0;34m\u001b[0m\u001b[0m\n\u001b[1;32m     82\u001b[0m \u001b[0;34m\u001b[0m\u001b[0m\n",
            "\u001b[0;32m<ipython-input-33-c54ffd831755>\u001b[0m in \u001b[0;36mget_loss\u001b[0;34m(trajs, num_steps, benchmark_portf, gamma, num_risky_assets, riskfree_rate, expected_risky_returns, Sigma_r, x_vals_init, max_iter_RL, reward_params, beta, num_trajs, grad, eps)\u001b[0m\n\u001b[1;32m     63\u001b[0m \u001b[0;34m\u001b[0m\u001b[0m\n\u001b[1;32m     64\u001b[0m             \u001b[0;31m# run the G-learning recursion to get parameters of G- and F-functions\u001b[0m\u001b[0;34m\u001b[0m\u001b[0;34m\u001b[0m\u001b[0;34m\u001b[0m\u001b[0m\n\u001b[0;32m---> 65\u001b[0;31m             \u001b[0mG_learner\u001b[0m\u001b[0;34m.\u001b[0m\u001b[0mG_learning\u001b[0m\u001b[0;34m(\u001b[0m\u001b[0merror_tol\u001b[0m\u001b[0;34m,\u001b[0m \u001b[0mmax_iter_RL\u001b[0m\u001b[0;34m)\u001b[0m\u001b[0;34m\u001b[0m\u001b[0;34m\u001b[0m\u001b[0m\n\u001b[0m\u001b[1;32m     66\u001b[0m \u001b[0;34m\u001b[0m\u001b[0m\n\u001b[1;32m     67\u001b[0m             \u001b[0;31m# compute the rewards and realized values of G- and F-functions from\u001b[0m\u001b[0;34m\u001b[0m\u001b[0;34m\u001b[0m\u001b[0;34m\u001b[0m\u001b[0m\n",
            "\u001b[0;32m<ipython-input-29-21a11a35c32b>\u001b[0m in \u001b[0;36mG_learning\u001b[0;34m(self, err_tol, max_iter)\u001b[0m\n\u001b[1;32m    313\u001b[0m         \u001b[0;31m# iterate over time steps backward\u001b[0m\u001b[0;34m\u001b[0m\u001b[0;34m\u001b[0m\u001b[0;34m\u001b[0m\u001b[0m\n\u001b[1;32m    314\u001b[0m         \u001b[0;32mfor\u001b[0m \u001b[0mt\u001b[0m \u001b[0;32min\u001b[0m \u001b[0mrange\u001b[0m\u001b[0;34m(\u001b[0m\u001b[0mself\u001b[0m\u001b[0;34m.\u001b[0m\u001b[0mnum_steps\u001b[0m\u001b[0;34m-\u001b[0m\u001b[0;36m2\u001b[0m\u001b[0;34m,\u001b[0m\u001b[0;34m-\u001b[0m\u001b[0;36m1\u001b[0m\u001b[0;34m,\u001b[0m\u001b[0;34m-\u001b[0m\u001b[0;36m1\u001b[0m\u001b[0;34m)\u001b[0m\u001b[0;34m:\u001b[0m\u001b[0;34m\u001b[0m\u001b[0;34m\u001b[0m\u001b[0m\n\u001b[0;32m--> 315\u001b[0;31m             \u001b[0mself\u001b[0m\u001b[0;34m.\u001b[0m\u001b[0mstep_G_learning\u001b[0m\u001b[0;34m(\u001b[0m\u001b[0mt\u001b[0m\u001b[0;34m,\u001b[0m \u001b[0merr_tol\u001b[0m\u001b[0;34m,\u001b[0m \u001b[0mmax_iter\u001b[0m\u001b[0;34m)\u001b[0m\u001b[0;34m\u001b[0m\u001b[0;34m\u001b[0m\u001b[0m\n\u001b[0m\u001b[1;32m    316\u001b[0m \u001b[0;34m\u001b[0m\u001b[0m\n\u001b[1;32m    317\u001b[0m     \u001b[0;32mdef\u001b[0m \u001b[0mstep_G_learning\u001b[0m\u001b[0;34m(\u001b[0m\u001b[0mself\u001b[0m\u001b[0;34m,\u001b[0m \u001b[0mt\u001b[0m\u001b[0;34m,\u001b[0m \u001b[0merr_tol\u001b[0m\u001b[0;34m,\u001b[0m \u001b[0mmax_iter\u001b[0m\u001b[0;34m)\u001b[0m\u001b[0;34m:\u001b[0m\u001b[0;34m\u001b[0m\u001b[0;34m\u001b[0m\u001b[0m\n",
            "\u001b[0;32m<ipython-input-29-21a11a35c32b>\u001b[0m in \u001b[0;36mstep_G_learning\u001b[0;34m(self, t, err_tol, max_iter)\u001b[0m\n\u001b[1;32m    347\u001b[0m             \u001b[0;31m# Policy iteration step: update parameters of the prior policy distribution\u001b[0m\u001b[0;34m\u001b[0m\u001b[0;34m\u001b[0m\u001b[0;34m\u001b[0m\u001b[0m\n\u001b[1;32m    348\u001b[0m             \u001b[0;31m# with given Q- and F-function parameters\u001b[0m\u001b[0;34m\u001b[0m\u001b[0;34m\u001b[0m\u001b[0;34m\u001b[0m\u001b[0m\n\u001b[0;32m--> 349\u001b[0;31m             \u001b[0mself\u001b[0m\u001b[0;34m.\u001b[0m\u001b[0mupdate_policy_params\u001b[0m\u001b[0;34m(\u001b[0m\u001b[0mt\u001b[0m\u001b[0;34m)\u001b[0m\u001b[0;34m\u001b[0m\u001b[0;34m\u001b[0m\u001b[0m\n\u001b[0m\u001b[1;32m    350\u001b[0m \u001b[0;34m\u001b[0m\u001b[0m\n\u001b[1;32m    351\u001b[0m             \u001b[0;31m# difference between the current value of u_bar_prior and the previous one\u001b[0m\u001b[0;34m\u001b[0m\u001b[0;34m\u001b[0m\u001b[0;34m\u001b[0m\u001b[0m\n",
            "\u001b[0;32m<ipython-input-29-21a11a35c32b>\u001b[0m in \u001b[0;36mupdate_policy_params\u001b[0;34m(self, t)\u001b[0m\n\u001b[1;32m    458\u001b[0m \u001b[0;34m\u001b[0m\u001b[0m\n\u001b[1;32m    459\u001b[0m         self.v_bar_prior[t,:,:] = Sigma_prior_new.clone().mm(self.Sigma_prior_inv[t,:,:].clone().mm(self.v_bar_prior[t,:,:].clone())\n\u001b[0;32m--> 460\u001b[0;31m                                               + self.beta.clone() * self.Q_ux[t,:,:].clone())\n\u001b[0m\u001b[1;32m    461\u001b[0m \u001b[0;34m\u001b[0m\u001b[0m\n\u001b[1;32m    462\u001b[0m         \u001b[0;31m# and then assign the new inverse covariance for the prior for the next iteration\u001b[0m\u001b[0;34m\u001b[0m\u001b[0;34m\u001b[0m\u001b[0;34m\u001b[0m\u001b[0m\n",
            "\u001b[0;31mKeyboardInterrupt\u001b[0m: "
          ]
        }
      ]
    },
    {
      "cell_type": "markdown",
      "metadata": {
        "id": "i8KD0Pe38YQA",
        "colab_type": "text"
      },
      "source": [
        "## Diagnostics of loss surface (optional)"
      ]
    },
    {
      "cell_type": "code",
      "metadata": {
        "id": "OqlGlaYjtm2y",
        "colab_type": "code",
        "colab": {}
      },
      "source": [
        "#DGP\n",
        "lambd = 0.001 \n",
        "omega = 1.0 \n",
        "beta = 1000.0\n",
        "eta = 1.5 # 1.3 # 1.5 # 1.2\n",
        "rho = 0.4"
      ],
      "execution_count": 0,
      "outputs": []
    },
    {
      "cell_type": "code",
      "metadata": {
        "id": "Cddkm0kaCKHs",
        "colab_type": "code",
        "colab": {}
      },
      "source": [
        "# GIRL\n",
        "#lambd =  0.009123697248238735\n",
        "#omega =  16.811312207749562\n",
        "#beta =  0.00012804675779720459\n",
        "#eta =  1.2258332366649625\n",
        "#rho =  0.4372041372375515\n",
        "\n",
        "lambd =  0.004870511120647702\n",
        "omega =  30.30094109232191\n",
        "beta =  200.0\n",
        "eta =  1.2566887920624812\n",
        "rho =  0.537995823823481"
      ],
      "execution_count": 0,
      "outputs": []
    },
    {
      "cell_type": "code",
      "metadata": {
        "id": "WwdfU7ngRut_",
        "colab_type": "code",
        "colab": {}
      },
      "source": [
        "reward_params=[lambd, omega, eta, rho]"
      ],
      "execution_count": 0,
      "outputs": []
    },
    {
      "cell_type": "code",
      "metadata": {
        "id": "JZMON8LGtaRN",
        "colab_type": "code",
        "outputId": "e88895d4-e566-4fa4-ddbc-a1a59c168904",
        "colab": {
          "base_uri": "https://localhost:8080/",
          "height": 52
        }
      },
      "source": [
        "get_loss(trajs,\n",
        "             num_steps, \n",
        "             benchmark_portf, \n",
        "             gamma, \n",
        "             num_risky_assets, \n",
        "             riskfree_rate, \n",
        "             expected_risky_returns, \n",
        "             Sigma_r, \n",
        "             x_vals_init, \n",
        "             max_iter_RL, \n",
        "             reward_params, \n",
        "             beta,\n",
        "             len(trajs), \n",
        "             grad=False, \n",
        "             eps=1e-7)"
      ],
      "execution_count": 0,
      "outputs": [
        {
          "output_type": "stream",
          "text": [
            "Doing G-learning, it may take a few seconds...\n"
          ],
          "name": "stdout"
        },
        {
          "output_type": "execute_result",
          "data": {
            "text/plain": [
              "tensor(30906466.5103, dtype=torch.float64, grad_fn=<MulBackward0>)"
            ]
          },
          "metadata": {
            "tags": []
          },
          "execution_count": 166
        }
      ]
    },
    {
      "cell_type": "code",
      "metadata": {
        "id": "55I4OMU2abrY",
        "colab_type": "code",
        "colab": {}
      },
      "source": [
        "grid=np.arange(-0.9,0.9,0.1)\n",
        "losses=[]\n",
        "for omega_ in grid:\n",
        "  reward_params=[lambd, omega+omega_, eta, rho]\n",
        "  loss=get_loss(trajs,\n",
        "             num_steps, \n",
        "             benchmark_portf, \n",
        "             gamma, \n",
        "             num_risky_assets, \n",
        "             riskfree_rate, \n",
        "             expected_risky_returns, \n",
        "             Sigma_r, \n",
        "             x_vals_init, \n",
        "             max_iter_RL, \n",
        "             reward_params, \n",
        "             beta,\n",
        "             len(trajs), \n",
        "             grad=False, \n",
        "             eps=1e-7)\n",
        "  print(omega+omega_, loss.detach().numpy())\n",
        "  losses.append(loss.detach().numpy())\n"
      ],
      "execution_count": 0,
      "outputs": []
    },
    {
      "cell_type": "code",
      "metadata": {
        "id": "xrmCOkO7lW08",
        "colab_type": "code",
        "outputId": "33867a87-d340-4331-d85a-ea6a7c25e3f7",
        "colab": {
          "base_uri": "https://localhost:8080/",
          "height": 296
        }
      },
      "source": [
        "plt.plot(omega+grid[2:], np.array(losses[2:])/1e8)\n",
        "plt.scatter(omega, losses[9]/1e8, s=100)\n",
        "plt.xlabel('$\\\\omega$')\n",
        "plt.ylabel('loss')"
      ],
      "execution_count": 0,
      "outputs": [
        {
          "output_type": "execute_result",
          "data": {
            "text/plain": [
              "Text(0, 0.5, 'loss')"
            ]
          },
          "metadata": {
            "tags": []
          },
          "execution_count": 69
        },
        {
          "output_type": "display_data",
          "data": {
            "image/png": "[encoded data removed]",
            "text/plain": [
              "<Figure size 432x288 with 1 Axes>"
            ]
          },
          "metadata": {
            "tags": []
          }
        }
      ]
    },
    {
      "cell_type": "code",
      "metadata": {
        "id": "FIb6qmGR3eyw",
        "colab_type": "code",
        "outputId": "da82b487-3313-4491-d02e-33d5310581c6",
        "colab": {
          "base_uri": "https://localhost:8080/",
          "height": 260
        }
      },
      "source": [
        "grid=np.arange(-0.3,0.4,0.1)\n",
        "losses=[]\n",
        "for rho_ in grid:\n",
        "  reward_params=[lambd, omega, eta, rho+rho_]\n",
        "  loss=get_loss(trajs,\n",
        "             num_steps, \n",
        "             benchmark_portf, \n",
        "             gamma, \n",
        "             num_risky_assets, \n",
        "             riskfree_rate, \n",
        "             expected_risky_returns, \n",
        "             Sigma_r, \n",
        "             x_vals_init, \n",
        "             max_iter_RL, \n",
        "             reward_params,\n",
        "             beta, \n",
        "             len(trajs), \n",
        "             grad=False, \n",
        "             eps=1e-7)\n",
        "  print(rho+rho_, loss.detach().numpy())\n",
        "  losses.append(loss.detach().numpy())"
      ],
      "execution_count": 0,
      "outputs": [
        {
          "output_type": "stream",
          "text": [
            "Doing G-learning, it may take a few seconds...\n",
            "0.10000000000000003 929369007.2974191\n",
            "Doing G-learning, it may take a few seconds...\n",
            "0.20000000000000004 447955327.3361102\n",
            "Doing G-learning, it may take a few seconds...\n",
            "0.30000000000000004 124086829.57434654\n",
            "Doing G-learning, it may take a few seconds...\n",
            "0.4000000000000001 2852705.444678664\n",
            "Doing G-learning, it may take a few seconds...\n",
            "0.5 136954917.54810512\n",
            "Doing G-learning, it may take a few seconds...\n",
            "0.6000000000000001 562723160.1124332\n",
            "Doing G-learning, it may take a few seconds...\n",
            "0.7000000000000002 1254496646.422483\n"
          ],
          "name": "stdout"
        }
      ]
    },
    {
      "cell_type": "code",
      "metadata": {
        "id": "8AlgE4Vy3q_U",
        "colab_type": "code",
        "outputId": "7ddd6bb4-24d6-4e86-f599-4bf2543b9ff1",
        "colab": {
          "base_uri": "https://localhost:8080/",
          "height": 298
        }
      },
      "source": [
        "plt.plot(rho+grid, np.array(losses)/1e8)\n",
        "plt.scatter(rho, losses[3]/1e8, s=100)\n",
        "plt.xlabel('$\\\\rho$')\n",
        "plt.ylabel('loss')"
      ],
      "execution_count": 0,
      "outputs": [
        {
          "output_type": "execute_result",
          "data": {
            "text/plain": [
              "Text(0, 0.5, 'loss')"
            ]
          },
          "metadata": {
            "tags": []
          },
          "execution_count": 72
        },
        {
          "output_type": "display_data",
          "data": {
            "image/png": "[encoded data removed]",
            "text/plain": [
              "<Figure size 432x288 with 1 Axes>"
            ]
          },
          "metadata": {
            "tags": []
          }
        }
      ]
    },
    {
      "cell_type": "code",
      "metadata": {
        "id": "nhkOHtxj4BcI",
        "colab_type": "code",
        "outputId": "ba4b593f-7a70-40f3-a0d3-6e2ff7b1a262",
        "colab": {
          "base_uri": "https://localhost:8080/",
          "height": 364
        }
      },
      "source": [
        "grid=np.arange(-1.0,1.0,0.2)\n",
        "losses=[]\n",
        "for eta_ in grid:\n",
        "  reward_params=[lambd, omega, eta+eta_, rho]\n",
        "  loss=get_loss(trajs,\n",
        "             num_steps, \n",
        "             benchmark_portf, \n",
        "             gamma, \n",
        "             num_risky_assets, \n",
        "             riskfree_rate, \n",
        "             expected_risky_returns, \n",
        "             Sigma_r, \n",
        "             x_vals_init, \n",
        "             max_iter_RL, \n",
        "             reward_params, \n",
        "             beta,\n",
        "             len(trajs), \n",
        "             grad=False, \n",
        "             eps=1e-7)\n",
        "  print(eta+eta_, loss.detach().numpy()/1e8)\n",
        "  losses.append(loss.detach().numpy())\n",
        "\n",
        "\n"
      ],
      "execution_count": 0,
      "outputs": [
        {
          "output_type": "stream",
          "text": [
            "Doing G-learning, it may take a few seconds...\n",
            "0.5 3.042610239177886\n",
            "Doing G-learning, it may take a few seconds...\n",
            "0.7 1.5216423708429934\n",
            "Doing G-learning, it may take a few seconds...\n",
            "0.8999999999999999 0.647882915468365\n",
            "Doing G-learning, it may take a few seconds...\n",
            "1.0999999999999999 0.22558613525770604\n",
            "Doing G-learning, it may take a few seconds...\n",
            "1.2999999999999998 0.06820033564180136\n",
            "Doing G-learning, it may take a few seconds...\n",
            "1.4999999999999998 0.02871156067252159\n",
            "Doing G-learning, it may take a few seconds...\n",
            "1.6999999999999997 0.030523879465907813\n",
            "Doing G-learning, it may take a few seconds...\n",
            "1.8999999999999997 0.14363753302410245\n",
            "Doing G-learning, it may take a few seconds...\n",
            "2.0999999999999996 0.6162395933374762\n",
            "Doing G-learning, it may take a few seconds...\n",
            "2.3 1.9352640569864215\n"
          ],
          "name": "stdout"
        }
      ]
    },
    {
      "cell_type": "code",
      "metadata": {
        "id": "EhS6Uxtg4N9I",
        "colab_type": "code",
        "outputId": "6da6de92-ff7e-419c-d8c5-451338fa82b7",
        "colab": {
          "base_uri": "https://localhost:8080/",
          "height": 298
        }
      },
      "source": [
        "plt.plot(eta+grid, np.array(losses)/1e8)\n",
        "plt.scatter(eta, losses[5]/1e8, s=100)\n",
        "plt.xlabel('$\\\\eta$')\n",
        "plt.ylabel('loss')"
      ],
      "execution_count": 0,
      "outputs": [
        {
          "output_type": "execute_result",
          "data": {
            "text/plain": [
              "Text(0, 0.5, 'loss')"
            ]
          },
          "metadata": {
            "tags": []
          },
          "execution_count": 89
        },
        {
          "output_type": "display_data",
          "data": {
            "image/png": "[encoded data removed]",
            "text/plain": [
              "<Figure size 432x288 with 1 Axes>"
            ]
          },
          "metadata": {
            "tags": []
          }
        }
      ]
    },
    {
      "cell_type": "code",
      "metadata": {
        "id": "Jr8sQD3-5odh",
        "colab_type": "code",
        "outputId": "f341db2f-7845-48a4-c3cf-c5835c94df83",
        "colab": {
          "base_uri": "https://localhost:8080/",
          "height": 538
        }
      },
      "source": [
        "grid=np.arange(-0.0005,0.001,0.0001)\n",
        "losses=[]\n",
        "for lambd_ in grid:\n",
        "  reward_params=[lambd+lambd_, omega, eta, rho]\n",
        "  loss=get_loss(trajs,\n",
        "             num_steps, \n",
        "             benchmark_portf, \n",
        "             gamma, \n",
        "             num_risky_assets, \n",
        "             riskfree_rate, \n",
        "             expected_risky_returns, \n",
        "             Sigma_r, \n",
        "             x_vals_init, \n",
        "             max_iter_RL, \n",
        "             reward_params, \n",
        "             beta,\n",
        "             len(trajs), \n",
        "             grad=False, \n",
        "             eps=1e-7)\n",
        "  print(lambd+lambd_, loss.detach().numpy())\n",
        "  losses.append(loss.detach().numpy())"
      ],
      "execution_count": 0,
      "outputs": [
        {
          "output_type": "stream",
          "text": [
            "Doing G-learning, it may take a few seconds...\n",
            "0.0005 454087831.9876529\n",
            "Doing G-learning, it may take a few seconds...\n",
            "0.0006000000000000001 283553495.787777\n",
            "Doing G-learning, it may take a few seconds...\n",
            "0.0007 156998464.844957\n",
            "Doing G-learning, it may take a few seconds...\n",
            "0.0007999999999999999 70207826.59114897\n",
            "Doing G-learning, it may take a few seconds...\n",
            "0.0009 19884921.663872898\n",
            "Doing G-learning, it may take a few seconds...\n",
            "0.001 2871156.0672447085\n",
            "Doing G-learning, it may take a few seconds...\n",
            "0.0010999999999999998 16111334.118157625\n",
            "Doing G-learning, it may take a few seconds...\n",
            "0.0012 56872295.623883605\n",
            "Doing G-learning, it may take a few seconds...\n",
            "0.0013 123957609.18611288\n",
            "Doing G-learning, it may take a few seconds...\n",
            "0.0014 214959912.78552264\n",
            "Doing G-learning, it may take a few seconds...\n",
            "0.0015 327963217.4461037\n",
            "Doing G-learning, it may take a few seconds...\n",
            "0.0015999999999999999 460280691.3997978\n",
            "Doing G-learning, it may take a few seconds...\n",
            "0.0017 612890694.367379\n",
            "Doing G-learning, it may take a few seconds...\n",
            "0.0018 783260563.6019707\n",
            "Doing G-learning, it may take a few seconds...\n",
            "0.0018999999999999998 969776038.8674289\n"
          ],
          "name": "stdout"
        }
      ]
    },
    {
      "cell_type": "code",
      "metadata": {
        "id": "MO6R8hH36XB1",
        "colab_type": "code",
        "outputId": "211135dd-bc8d-48f5-96b4-b2d4f8e4d5f9",
        "colab": {
          "base_uri": "https://localhost:8080/",
          "height": 298
        }
      },
      "source": [
        "plt.plot(lambd+grid, np.array(losses)/1e8)\n",
        "plt.scatter(lambd, losses[5]/1e8, s=100)\n",
        "plt.xlabel('$\\\\lambda$')\n",
        "plt.ylabel('loss')"
      ],
      "execution_count": 0,
      "outputs": [
        {
          "output_type": "execute_result",
          "data": {
            "text/plain": [
              "Text(0, 0.5, 'loss')"
            ]
          },
          "metadata": {
            "tags": []
          },
          "execution_count": 84
        },
        {
          "output_type": "display_data",
          "data": {
            "image/png": "[encoded data removed]",
            "text/plain": [
              "<Figure size 432x288 with 1 Axes>"
            ]
          },
          "metadata": {
            "tags": []
          }
        }
      ]
    },
    {
      "cell_type": "markdown",
      "metadata": {
        "id": "RysHrlg3yDyP",
        "colab_type": "text"
      },
      "source": [
        "## Plot rewards and cash injections"
      ]
    },
    {
      "cell_type": "code",
      "metadata": {
        "id": "pcU6SnH5JsC0",
        "colab_type": "code",
        "colab": {}
      },
      "source": [
        "reward_params=[lambd, omega, eta, rho]\n",
        "G_learner = G_learning_portfolio_opt(num_steps,\n",
        "                                      reward_params,\n",
        "                                      beta,\n",
        "                                      benchmark_portf,\n",
        "                                      gamma,\n",
        "                                      num_risky_assets,\n",
        "                                      riskfree_rate,\n",
        "                                      expected_risky_returns,\n",
        "                                      Sigma_r,\n",
        "                                      x_vals_init,\n",
        "                                      use_for_WM=True)"
      ],
      "execution_count": 0,
      "outputs": []
    },
    {
      "cell_type": "code",
      "metadata": {
        "colab_type": "code",
        "id": "JiAyHd94PQRI",
        "outputId": "5c91e69d-0356-46c0-9013-71056b894952",
        "colab": {
          "base_uri": "https://localhost:8080/",
          "height": 52
        }
      },
      "source": [
        "err_tol=1.e-10 # 5.0e-5 \n",
        "max_iter=500\n",
        "\n",
        "t_0 = time.time()\n",
        "G_learner.reset_prior_policy()\n",
        "G_learner.G_learning(err_tol=err_tol, max_iter=max_iter)\n",
        "num_trajs = len(trajs)\n",
        "\n",
        "data_xvals = torch.zeros(num_trajs,  num_steps, num_assets, dtype=torch.float64, requires_grad=False)\n",
        "data_uvals = torch.zeros(num_trajs,  num_steps, num_assets, dtype=torch.float64, requires_grad=False)\n",
        "num_trajs = len(trajs)       \n",
        "for n in range(num_trajs):\n",
        "        for t in range(num_steps):\n",
        "            data_xvals[n,t,:] = torch.tensor(trajs[n][t][0],dtype=torch.float64)\n",
        "            data_uvals[n,t,:] = torch.tensor(trajs[n][t][1],dtype=torch.float64)\n",
        "\n",
        "realized_rewards = torch.zeros(num_trajs, num_steps, dtype=torch.float64, requires_grad=False)\n",
        "realized_cum_rewards = torch.zeros(num_trajs, dtype=torch.float64, requires_grad=False)\n",
        "\n",
        "realized_G_fun = torch.zeros(num_trajs, num_steps, dtype=torch.float64, requires_grad=False)\n",
        "realized_F_fun  = torch.zeros(num_trajs,  num_steps, dtype=torch.float64, requires_grad=False)\n",
        "\n",
        "realized_G_fun_cum = torch.zeros(num_trajs, dtype=torch.float64, requires_grad=False)  \n",
        "realized_F_fun_cum = torch.zeros(num_trajs, dtype=torch.float64, requires_grad=False)         \n",
        "# compute the rewards and realized values of G- and F-functions from \n",
        "# all trajectories\n",
        "for n in range(num_trajs):\n",
        "    for t in range(num_steps):\n",
        "                \n",
        "                realized_rewards[n,t] = G_learner.compute_reward_on_traj(t,\n",
        "                                data_xvals[n,t,:], data_uvals[n,t,:])\n",
        "\n",
        "\n",
        "                realized_G_fun[n,t] = G_learner.compute_G_fun_on_traj(t,\n",
        "                                data_xvals[n,t,:], data_uvals[n,t,:])\n",
        "\n",
        "\n",
        "                realized_F_fun[n,t] = G_learner.compute_F_fun_on_traj(t,\n",
        "                                data_xvals[n,t,:])\n",
        "                 \n",
        "    realized_cum_rewards[n] = realized_rewards[n,:].sum()\n",
        "    realized_G_fun_cum[n] = realized_G_fun[n,:].sum()\n",
        "    realized_F_fun_cum[n] = realized_F_fun[n,:].sum()\n",
        "\n",
        "print('Done in %f sec'% (time.time() - t_0))\n"
      ],
      "execution_count": 29,
      "outputs": [
        {
          "output_type": "stream",
          "text": [
            "Doing G-learning, it may take a few seconds...\n",
            "Done in 35.003048 sec\n"
          ],
          "name": "stdout"
        }
      ]
    },
    {
      "cell_type": "code",
      "metadata": {
        "colab_type": "code",
        "id": "txOKhgy7PQRm",
        "outputId": "6bc8c687-3ac3-4aaf-b06a-c5ef4d89df77",
        "colab": {
          "base_uri": "https://localhost:8080/",
          "height": 295
        }
      },
      "source": [
        "sim_idx =  999 # 4 # 8 # 6 # 5\n",
        "\n",
        "realized_rewards = realized_rewards[sim_idx,:].detach().numpy()\n",
        "plt.plot(realized_rewards,label='realized rewards')\n",
        "# plt.plot(risky_asset_returns[:,asset_idx],label='realized_return',color='r')\n",
        "plt.legend()\n",
        "plt.xlabel('Time Steps')\n",
        "plt.title('Realized rewards')\n",
        "plt.show()\n",
        "\n"
      ],
      "execution_count": 0,
      "outputs": [
        {
          "output_type": "display_data",
          "data": {
            "image/png": "[encoded data removed]",
            "text/plain": [
              "<Figure size 432x288 with 1 Axes>"
            ]
          },
          "metadata": {
            "tags": []
          }
        }
      ]
    },
    {
      "cell_type": "code",
      "metadata": {
        "colab_type": "code",
        "id": "jUeIUzmMPQRU",
        "outputId": "8afb4655-b13e-410a-89d6-bcfe26675163",
        "colab": {
          "base_uri": "https://localhost:8080/",
          "height": 295
        }
      },
      "source": [
        "G_learner.project_cash_injections()\n",
        "\n",
        "eta_ = G_learner.eta.detach().numpy()\n",
        "realized_target_portf = eta_ * G_learner.expected_portf_val.numpy()\n",
        "\n",
        "plt.plot(G_learner.expected_c_t, label='optimal cash installments')\n",
        "plt.plot(G_learner.expected_portf_val, label='expected portfolio value')\n",
        "plt.plot(realized_target_portf,label='realized target portfolio',color='r')\n",
        "\n",
        "plt.legend()\n",
        "# plt.ylim(-1000,2000)\n",
        "plt.xlabel('Time Steps')\n",
        "plt.title('Optimal cash installment and portfolio value')\n",
        "# plt.savefig('G_learning_wealth_unconstrained.png')\n",
        "plt.show()"
      ],
      "execution_count": 30,
      "outputs": [
        {
          "output_type": "display_data",
          "data": {
            "image/png": "[encoded data removed]",
            "text/plain": [
              "<Figure size 432x288 with 1 Axes>"
            ]
          },
          "metadata": {
            "tags": []
          }
        }
      ]
    },
    {
      "cell_type": "code",
      "metadata": {
        "id": "WRd4qqBQZ2Is",
        "colab_type": "code",
        "colab": {
          "base_uri": "https://localhost:8080/",
          "height": 538
        },
        "outputId": "2a7b7d46-d1e0-48c1-d637-8b27adf1b0a2"
      },
      "source": [
        "for i in range(30):\n",
        " print(str(i+1) + \"&\" + str(np.round(G_learner.expected_c_t.detach().numpy()[i],3)) + \"\\\\\\\\\")"
      ],
      "execution_count": 36,
      "outputs": [
        {
          "output_type": "stream",
          "text": [
            "1&0.0\\\\\n",
            "2&73.384\\\\\n",
            "3&85.7\\\\\n",
            "4&97.36\\\\\n",
            "5&113.083\\\\\n",
            "6&129.889\\\\\n",
            "7&153.362\\\\\n",
            "8&181.832\\\\\n",
            "9&207.472\\\\\n",
            "10&237.292\\\\\n",
            "11&275.926\\\\\n",
            "12&318.154\\\\\n",
            "13&360.212\\\\\n",
            "14&420.546\\\\\n",
            "15&495.813\\\\\n",
            "16&563.691\\\\\n",
            "17&638.042\\\\\n",
            "18&716.391\\\\\n",
            "19&787.57\\\\\n",
            "20&861.794\\\\\n",
            "21&954.392\\\\\n",
            "22&1030.161\\\\\n",
            "23&1106.024\\\\\n",
            "24&1164.276\\\\\n",
            "25&1190.959\\\\\n",
            "26&1196.982\\\\\n",
            "27&1173.541\\\\\n",
            "28&1112.945\\\\\n",
            "29&976.385\\\\\n",
            "30&1416.265\\\\\n"
          ],
          "name": "stdout"
        }
      ]
    },
    {
      "cell_type": "code",
      "metadata": {
        "id": "LDVVOMCLNvM1",
        "colab_type": "code",
        "outputId": "4d64768d-98f0-4c1b-d597-179aac815f6d",
        "colab": {
          "base_uri": "https://localhost:8080/",
          "height": 439
        }
      },
      "source": [
        "plt.hist(realized_cum_rewards.detach().numpy(), bins=20)"
      ],
      "execution_count": 31,
      "outputs": [
        {
          "output_type": "execute_result",
          "data": {
            "text/plain": [
              "(array([  5.,   4.,  12.,  25.,  36.,  52.,  86., 100., 129., 112., 123.,\n",
              "        101.,  86.,  56.,  34.,  22.,  10.,   3.,   3.,   1.]),\n",
              " array([-315267.86864726, -314109.08054033, -312950.2924334 ,\n",
              "        -311791.50432647, -310632.71621953, -309473.9281126 ,\n",
              "        -308315.14000567, -307156.35189874, -305997.56379181,\n",
              "        -304838.77568488, -303679.98757795, -302521.19947102,\n",
              "        -301362.41136409, -300203.62325716, -299044.83515023,\n",
              "        -297886.04704329, -296727.25893636, -295568.47082943,\n",
              "        -294409.6827225 , -293250.89461557, -292092.10650864]),\n",
              " <a list of 20 Patch objects>)"
            ]
          },
          "metadata": {
            "tags": []
          },
          "execution_count": 31
        },
        {
          "output_type": "display_data",
          "data": {
            "image/png": "[encoded data removed]",
            "text/plain": [
              "<Figure size 432x288 with 1 Axes>"
            ]
          },
          "metadata": {
            "tags": []
          }
        }
      ]
    }
  ]
}