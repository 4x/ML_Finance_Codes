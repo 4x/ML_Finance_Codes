{
 "cells": [
  {
   "cell_type": "markdown",
   "metadata": {},
   "source": [
    "## G-learning for portfolio optimization \n",
    "\n",
    "Implementation of semi-analytical G-learning with quadratic rewards for portfolio optimization and wealth management\n",
    "\n",
    "Note: currently only the setting for wealth management is implemented (this corresponds to use_for_WM = True"
   ]
  },
  {
   "cell_type": "code",
   "execution_count": 1,
   "metadata": {},
   "outputs": [],
   "source": [
    "import numpy as np\n",
    "import matplotlib\n",
    "matplotlib.use('Agg')\n",
    "import matplotlib.pyplot as plt \n",
    "%matplotlib inline\n",
    "\n",
    "import numpy as np\n",
    "import time\n",
    "\n",
    "#To ignore warnings that are annoying.\n",
    "import warnings\n",
    "warnings.filterwarnings('ignore')"
   ]
  },
  {
   "cell_type": "code",
   "execution_count": 2,
   "metadata": {},
   "outputs": [],
   "source": [
    "class G_learning_portfolio_opt:\n",
    "    \n",
    "    def __init__(self, \n",
    "                 num_steps,\n",
    "                 lambd, \n",
    "                 eta,\n",
    "                 beta,\n",
    "                 gamma, \n",
    "                 exp_returns, # array of shape num_steps x num_stocks\n",
    "                 Sigma_r,     # covariance matrix of returns\n",
    "                 asset_holdings, # array of shape num_steps x num_stocks\n",
    "                 use_for_WM = True, # use for wealth management tasks\n",
    "                 target_portf=None):\n",
    "        \n",
    "        \n",
    "        self.num_steps = num_steps\n",
    "        self.lambd = lambd\n",
    "        self.eta = eta\n",
    "        self.beta = beta\n",
    "        self.gamma = gamma\n",
    "        self.use_for_WM = use_for_WM\n",
    "        \n",
    "        self.num_assets = exp_returns.shape[1]\n",
    "        \n",
    "        assert exp_returns.shape[0] == self.num_steps\n",
    "        assert Sigma_r.shape[0] == Sigma_r.shape[1]\n",
    "        assert Sigma_r.shape[0] == self.num_assets\n",
    "        \n",
    "        self.exp_returns = exp_returns # array of shape num_steps x num_stocks\n",
    "        self.Sigma_r = Sigma_r # array of shape num_stocks x num_stocks\n",
    "        \n",
    "        self.x_vals = asset_holdings # array of shape num_steps x num_stocks\n",
    "        \n",
    "        if self.use_for_WM:\n",
    "                self.target_portf = target_portf\n",
    "                assert len(self.target_portf) == self.num_steps\n",
    "#       else:\n",
    "#           raise (RuntimeError, \"A target portfolio profile is required\")\n",
    "                \n",
    "        # allocate memory for coefficients of F- and G-functions\n",
    "        self.F_xx = np.zeros((self.num_steps, self.num_assets, self.num_assets))\n",
    "        self.F_x = np.zeros((self.num_steps, self.num_assets))\n",
    "        self.F_0 = np.zeros(self.num_steps)\n",
    "        \n",
    "        self.Q_xx = np.zeros((self.num_steps, self.num_assets, self.num_assets))\n",
    "        self.Q_uu = np.zeros((self.num_steps, self.num_assets, self.num_assets))\n",
    "        self.Q_ux = np.zeros((self.num_steps, self.num_assets, self.num_assets))\n",
    "        self.Q_x = np.zeros((self.num_steps, self.num_assets))\n",
    "        self.Q_u = np.zeros((self.num_steps, self.num_assets))\n",
    "        self.Q_0 = np.zeros(self.num_steps)\n",
    "        \n",
    "        # optimal actions for all assets (only used for the final step)\n",
    "        self.opt_action = np.zeros((self.num_steps,self.num_assets))\n",
    "        \n",
    "        # initialize time-dependent parameters of prior policy \n",
    "        self.u_bar_prior = np.zeros((self.num_steps,self.num_assets))\n",
    "        self.v_bar_prior =  np.zeros((self.num_steps, self.num_assets, self.num_assets))\n",
    "        self.Sigma_prior =  np.zeros((self.num_steps, self.num_assets, self.num_assets))\n",
    "        self.Sigma_prior_inv = np.zeros((self.num_steps, self.num_assets, self.num_assets))\n",
    "        \n",
    "        # make each time elements of v_bar_prior and Sigma_prior proportional to the unit matrix\n",
    "        for t in range(self.num_steps):\n",
    "            self.v_bar_prior[t,:,:] = 0.1 * np.eye(self.num_assets)\n",
    "            self.Sigma_prior[t,:,:] = 0.1 * np.eye(self.num_assets)\n",
    "            self.Sigma_prior_inv[t,:,:] = np.linalg.inv(self.Sigma_prior[t,:,:])\n",
    "        \n",
    "    def set_terminal_conditions(self):\n",
    "        \n",
    "        # set the terminal condition for the F-function\n",
    "        exp_ret_T = self.exp_returns[-1,:]\n",
    "        exp_ret_T_v = exp_ret_T[:, np.newaxis]\n",
    "        one_plus_exp_ret = np.ones(self.num_assets)[:,np.newaxis] + exp_ret_T_v\n",
    "        if self.use_for_WM:\n",
    "            Sigma_hat = self.Sigma_r + one_plus_exp_ret.dot(one_plus_exp_ret.T)\n",
    "            Sigma_tilde = Sigma_hat + (self.eta/self.lambd)*np.eye(self.num_assets)\n",
    "            \n",
    "            # P_tilde is a column vector\n",
    "            self.P_tilde = (self.target_portf[-1]*one_plus_exp_ret - \n",
    "                            (1.0/(2*self.lambd))*np.ones(self.num_assets)[:,np.newaxis]\n",
    "                           )\n",
    "        \n",
    "            Sigma_tilde_inv = np.linalg.pinv(Sigma_tilde)\n",
    "            \n",
    "            # compute P_aux \\equiv P_tilde - Sigma_hat.dot(x)\n",
    "            P_aux_1 = Sigma_hat.dot(self.x_vals[-1,:])\n",
    "            P_aux = self.P_tilde - P_aux_1[:,np.newaxis]\n",
    "            \n",
    "            # the last action\n",
    "            self.opt_action[-1,:] = Sigma_tilde_inv.dot(P_aux.reshape(-1))\n",
    "            \n",
    "            # F_xx\n",
    "            self.F_xx[-1,:,:] = (- self.lambd*Sigma_hat.dot(np.eye(self.num_assets)\n",
    "                                                           - Sigma_tilde_inv.dot(Sigma_hat)))\n",
    "            # F_x\n",
    "            Sigma_hat_Sigma_til = Sigma_hat.dot(Sigma_tilde_inv)\n",
    "            One_minus_Sigma_hat_til = np.eye(self.num_assets) - Sigma_hat_Sigma_til\n",
    "            \n",
    "            self.F_x[-1,:] =  (Sigma_hat_Sigma_til.dot(np.ones(self.num_assets))+ \n",
    "                               2*self.lambd*self.target_portf[-1]*\n",
    "                               One_minus_Sigma_hat_til.dot(one_plus_exp_ret.reshape(-1)))\n",
    "            \n",
    "            # F_0\n",
    "            P_tilde_Sigma_aux = self.P_tilde.reshape(-1).dot(Sigma_tilde_inv)\n",
    "            Sigma_P_tilde_aux = Sigma_tilde_inv.dot(self.P_tilde.reshape(-1))\n",
    "            P_T = self.target_portf[-1]\n",
    "            \n",
    "            self.F_0[-1] = (P_tilde_Sigma_aux.dot(np.ones(self.num_assets))\n",
    "                            - self.lambd * P_tilde_Sigma_aux.dot(self.P_tilde.reshape(-1))\n",
    "                            + 2*self.lambd * one_plus_exp_ret.reshape(-1).dot(Sigma_P_tilde_aux)\n",
    "                            - self.lambd * P_T**2)\n",
    "            \n",
    "    def G_learning(self, err_tol, max_iter):\n",
    "        \"\"\"\n",
    "        find the optimal policy for the time dependent policy\n",
    "        \n",
    "        \"\"\"\n",
    "        \n",
    "        # set terminal conditions\n",
    "        self.set_terminal_conditions()\n",
    "        \n",
    "        # allocate iteration numbers for all steps\n",
    "        self.iter_counts = np.zeros(self.num_steps)\n",
    "        \n",
    "        # iterate over time steps backward\n",
    "        for t in range(self.num_steps-2,-1,-1):\n",
    "            self.step_G_learning(t, err_tol, max_iter)\n",
    "            \n",
    "    def step_G_learning(self, t, err_tol, max_iter):\n",
    "        \"\"\"\n",
    "        Perform one step of backward iteration for G-learning self-consistent equations\n",
    "        This should start from step t = num_steps - 2 (i.e. from a step that is before the last one)\n",
    "        \"\"\"\n",
    "            \n",
    "        # local variables\n",
    "        F_xx_tp1 = self.F_xx[t+1,:,:]\n",
    "        F_x_tp1 = self.F_x[t+1,:]\n",
    "        F_0_tp1 = self.F_0[t+1]\n",
    "            \n",
    "        # make matrix Sigma_hat_t\n",
    "        exp_ret_T = self.exp_returns[t,:]  \n",
    "        exp_ret_T_v = exp_ret_T[:, np.newaxis]\n",
    "        one_plus_exp_ret = np.ones(self.num_assets)[:,np.newaxis] + exp_ret_T_v\n",
    "        Sigma_hat_t = self.Sigma_r + one_plus_exp_ret.dot(one_plus_exp_ret.T)\n",
    "            \n",
    "        # matrix A_t = diag(1 + r_bar_t)\n",
    "        A_t = np.diag(np.ones(self.num_assets) + exp_ret_T)\n",
    "                    \n",
    "        # update parameters of Q_function using next-step F-function values\n",
    "        self.update_Q_params(t, A_t,Sigma_hat_t)\n",
    "             \n",
    "        # iterate between policy evaluation and policy improvement  \n",
    "        while self.iter_counts[t] < max_iter:\n",
    "                \n",
    "            curr_u_bar_prior = self.u_bar_prior[t,:].copy() \n",
    "            curr_v_bar_prior = self.v_bar_prior[t,:,:].copy()    \n",
    "                \n",
    "            # compute parameters of F-function for this step from parameters of Q-function\n",
    "            self.update_F_params(t) \n",
    "              \n",
    "            # Policy iteration step: update parameters of the prior policy distribution\n",
    "            # with given Q- and F-function parameters\n",
    "            self.update_policy_params(t)    \n",
    "            \n",
    "            # difference between the current value of u_bar_prior and the previous one\n",
    "            err_u_bar = np.sum((curr_u_bar_prior - self.u_bar_prior[t,:])**2)\n",
    "            \n",
    "            # divide by num_assets in err_v_bar to get both errors on a comparable scale\n",
    "            err_v_bar = (1/self.num_assets)*np.sum((curr_v_bar_prior - self.v_bar_prior[t,:,:])**2)\n",
    "            \n",
    "            # choose the difference from the previous iteration as the maximum of the two errors\n",
    "#             tol = np.minimum(err_u_bar, err_v_bar)\n",
    "#             tol = np.maximum(err_u_bar, err_v_bar)\n",
    "            tol = 0.5*(err_u_bar + err_v_bar)\n",
    "            \n",
    "            #print('err_u_bar, err_v_bar, tol', err_u_bar, err_v_bar, tol)\n",
    "            \n",
    "            self.iter_counts[t] += 1\n",
    "            # Repeat the calculation of Q- and F-values\n",
    "            if tol <= err_tol:\n",
    "                break\n",
    "\n",
    "            \n",
    "    def update_Q_params(self,t, A_t,Sigma_hat_t):\n",
    "        \"\"\"\n",
    "        update the current (time-t) parameters of Q-function from (t+1)-parameters of F-function\n",
    "        \"\"\" \n",
    "        \n",
    "        self.Q_xx[t,:,:] = ( - self.lambd * Sigma_hat_t \n",
    "                            + self.gamma*( (A_t.dot(self.F_xx[t+1,:,:])).dot(A_t)  \n",
    "                                           + self.Sigma_r * self.F_xx[t+1,:,:] ) )\n",
    "        \n",
    "        self.Q_ux[t,:,:] = 2 * self.Q_xx[t,:,:]\n",
    "        \n",
    "        self.Q_uu[t,:,:] = self.Q_xx[t,:,:] - self.eta * np.eye(self.num_assets)\n",
    "        \n",
    "        self.Q_x[t,:] = (self.lambd * self.target_portf[t] * A_t.dot(np.ones(self.num_assets))\n",
    "                             + self.gamma * A_t.T.dot(self.F_x[t+1,:]) )\n",
    "        \n",
    "        self.Q_u[t,:] = self.Q_x[t,:] - np.ones(self.num_assets)\n",
    "        \n",
    "        self.Q_0[t] = self.gamma * self.F_0[t+1] - self.lambd * self.target_portf[t]**2\n",
    "        \n",
    "        \n",
    "    def update_F_params(self,t):\n",
    "        \"\"\"\n",
    "        update the current (time-t) parameters of F-function from t-parameters of G-function\n",
    "        This is a policy evaluation step: it uses the current estimations of the mean parameters of the policy\n",
    "        \n",
    "        \"\"\"\n",
    "        \n",
    "        # produce auxiliary parameters U_t, W_t, Sigma_tilde_t\n",
    "        U_t = self.beta * self.Q_ux[t,:,:] + self.Sigma_prior_inv[t,:,:].dot(self.v_bar_prior[t,:,:])\n",
    "        W_t = self.beta * self.Q_u[t,:] +  self.Sigma_prior_inv[t,:,:].dot(self.u_bar_prior[t,:])\n",
    "        Sigma_p_bar =  self.Sigma_prior_inv[t,:,:] - 2 * self.beta * self.Q_uu[t,:,:]\n",
    "        Sigma_p_bar_inv = np.linalg.pinv(Sigma_p_bar)\n",
    "        \n",
    "        # update parameters of F-function\n",
    "        self.F_xx[t,:,:] = self.Q_xx[t,:,:] + (1/(2*self.beta))*(U_t.T.dot(Sigma_p_bar_inv.dot(U_t))\n",
    "                                    - self.v_bar_prior[t,:,:].T.dot(\n",
    "                                        self.Sigma_prior_inv[t,:,:].dot(self.v_bar_prior[t,:,:])))\n",
    "        \n",
    "        \n",
    "        self.F_x[t,:] = self.Q_x[t,:] + (1/self.beta)*(U_t.T.dot(Sigma_p_bar_inv.dot(W_t))\n",
    "                                    - self.v_bar_prior[t,:,:].T.dot(\n",
    "                                        self.Sigma_prior_inv[t,:,:].dot(self.u_bar_prior[t,:])))\n",
    "        \n",
    "        \n",
    "        self.F_0[t] = self.Q_0[t] + ( (1/(2*self.beta))*(W_t.dot(Sigma_p_bar_inv.dot(W_t))\n",
    "                                    - self.u_bar_prior[t,:].dot(\n",
    "                                        self.Sigma_prior_inv[t,:,:].dot(self.u_bar_prior[t,:])))\n",
    "                                    - (1/(2*self.beta)) * (np.log(np.linalg.det(self.Sigma_prior[t,:,:]))\n",
    "                                                       + np.log(np.linalg.det(Sigma_p_bar))) )\n",
    "        \n",
    "    def update_policy_params(self,t):\n",
    "        \"\"\"\n",
    "        update parameters of the Gaussian policy using current coefficients of the F- and G-functions\n",
    "        \"\"\"\n",
    "        \n",
    "        self.Sigma_prior_inv[t,:,:] = self.Sigma_prior_inv[t,:,:] - 2 * self.beta * self.Q_uu[t,:,:]\n",
    "        Sigma_prior_new = np.linalg.pinv(self.Sigma_prior_inv[t,:,:])\n",
    "        \n",
    "        self.u_bar_prior[t,:] = Sigma_prior_new.dot(self.Sigma_prior_inv[t,:,:].dot(self.u_bar_prior[t,:])\n",
    "                                              + self.beta * self.Q_u[t,:])\n",
    "        \n",
    "        self.v_bar_prior[t,:,:] = Sigma_prior_new.dot(self.Sigma_prior_inv[t,:,:].dot(self.v_bar_prior[t,:,:])\n",
    "                                              - self.beta * self.Q_ux[t,:,:])\n",
    "        \n",
    "        # assign the new inverse covariance for the prior for the next iteration\n",
    "        self.Sigma_prior[t,:,:] = Sigma_prior_new\n",
    "        \n",
    "        # also assign the same values for the previous time step\n",
    "        if t > 0:\n",
    "            self.Sigma_prior[t-1,:,:] = self.Sigma_prior[t,:,:]\n",
    "            self.u_bar_prior[t-1,:] = self.u_bar_prior[t,:]\n",
    "            self.v_bar_prior[t-1,:,:] = self.v_bar_prior[t,:,:]\n",
    "        \n",
    "               "
   ]
  },
  {
   "cell_type": "code",
   "execution_count": 3,
   "metadata": {},
   "outputs": [],
   "source": [
    "# test using random and meaningless inputs\n",
    "\n",
    "num_steps = 10 \n",
    "num_assets = 100 #\n",
    "lambd = 1.0\n",
    "eta = 0.5\n",
    "beta = 0.2\n",
    "gamma = 0.95\n",
    "\n",
    "\n",
    "\n",
    "# np.random.seed(42)\n",
    "exp_returns = np.random.randn(num_steps,num_assets)\n",
    "Sigma_r = np.cov(exp_returns.T)\n",
    "asset_holdings = np.random.random_integers(low=1, high=10, size=(num_steps,num_assets))\n",
    "target_portf = np.linspace(start=1,stop=2, num = num_steps)\n",
    "\n",
    "\n",
    "G_learner = G_learning_portfolio_opt(num_steps,\n",
    "                 lambd, \n",
    "                 eta,\n",
    "                 beta,\n",
    "                 gamma,                    \n",
    "                 exp_returns, # array of shape num_steps x num_stocks\n",
    "                 Sigma_r,     # covariance matrix of returns\n",
    "                 asset_holdings, # array of shape num_steps x num_stocks\n",
    "                 use_for_WM = True, # use for wealth management tasks\n",
    "                 target_portf=target_portf)\n",
    "\n",
    "\n",
    "# G_learner.set_terminal_conditions()\n",
    "# G_learner.opt_action[-1]\n",
    "# G_learner.F_x[-1,:]\n",
    "# G_learner.F_xx[-1,:,:]\n",
    "#G_learner.F_0[-1]  # was -4.217972393164283"
   ]
  },
  {
   "cell_type": "code",
   "execution_count": 4,
   "metadata": {},
   "outputs": [
    {
     "name": "stdout",
     "output_type": "stream",
     "text": [
      "Done in 12.650926 sec\n"
     ]
    }
   ],
   "source": [
    "# Do G-learning\n",
    "\n",
    "err_tol=5.0e-5 # 1.0e-4\n",
    "max_iter=300\n",
    "\n",
    "t_0 = time.time()\n",
    "\n",
    "# G_learner.step(t=num_steps-2,err_tol=1.0e-4, max_iter=50)\n",
    "G_learner.G_learning(err_tol=err_tol, max_iter=max_iter)\n",
    "\n",
    "# print('Done in %d iterations'% G_learner.iter_count)\n",
    "print('Done in %f sec'% (time.time() - t_0))\n",
    "\n",
    "# print(G_learner.Q_0[-2], G_learner.F_0[-2])\n",
    "# print(G_learner.F_x[-2,:])\n",
    "# print(G_learner.F_xx[-2,:,:])"
   ]
  },
  {
   "cell_type": "code",
   "execution_count": 5,
   "metadata": {},
   "outputs": [
    {
     "data": {
      "text/plain": [
       "array([300., 300., 186., 156., 148., 206., 248., 164., 300.,   0.])"
      ]
     },
     "execution_count": 5,
     "metadata": {},
     "output_type": "execute_result"
    }
   ],
   "source": [
    "G_learner.iter_counts"
   ]
  },
  {
   "cell_type": "code",
   "execution_count": 6,
   "metadata": {},
   "outputs": [
    {
     "data": {
      "text/plain": [
       "array([[ 0.49636147,  0.54666724,  0.59710787,  1.12302343, -1.47403033,\n",
       "         1.31324328, -1.90584672,  0.04815219],\n",
       "       [ 0.51569516,  0.33710372,  0.20914013,  1.28422681, -1.55857018,\n",
       "        -1.41168308, -1.4517271 ,  0.12347306]])"
      ]
     },
     "execution_count": 6,
     "metadata": {},
     "output_type": "execute_result"
    }
   ],
   "source": [
    "G_learner.u_bar_prior[6:8,0:8]"
   ]
  },
  {
   "cell_type": "code",
   "execution_count": 7,
   "metadata": {},
   "outputs": [
    {
     "data": {
      "text/plain": [
       "[<matplotlib.lines.Line2D at 0x10eddc390>]"
      ]
     },
     "execution_count": 7,
     "metadata": {},
     "output_type": "execute_result"
    },
    {
     "data": {
      "image/png": "[encoded data removed]",
      "text/plain": [
       "<Figure size 432x288 with 1 Axes>"
      ]
     },
     "metadata": {
      "needs_background": "light"
     },
     "output_type": "display_data"
    }
   ],
   "source": [
    "# compute predicted cash installments for all steps\n",
    "\n",
    "c_t = np.zeros(num_steps)\n",
    "for t in range(num_steps):\n",
    "    c_t[t] = np.sum(G_learner.u_bar_prior[t,:] + G_learner.v_bar_prior[t,:,:].dot(asset_holdings[t,:]))\n",
    "\n",
    "plt.plot(c_t)"
   ]
  },
  {
   "cell_type": "code",
   "execution_count": 10,
   "metadata": {},
   "outputs": [
    {
     "data": {
      "text/plain": [
       "(3, 1)"
      ]
     },
     "execution_count": 10,
     "metadata": {},
     "output_type": "execute_result"
    }
   ],
   "source": [
    "ar = np.array([0,1,2]).reshape((-1,1))\n",
    "\n",
    "ar.shape"
   ]
  },
  {
   "cell_type": "code",
   "execution_count": 679,
   "metadata": {},
   "outputs": [],
   "source": [
    "### Try to modify the class, the initial copy is saved above\n",
    "\n",
    "\n",
    "class G_learning_portfolio_opt:\n",
    "    \n",
    "    def __init__(self, \n",
    "                 num_steps,\n",
    "                 lambd, \n",
    "                 Omega_mat, # of shape (num_risky_assets + 1)x(num_risky_assets + 1) # eta,\n",
    "                 beta,\n",
    "                 gamma, \n",
    "                 num_risky_assets,\n",
    "                 riskfree_rate,\n",
    "                 exp_returns, # array of shape num_steps x num_stocks\n",
    "                 Sigma_r,     # covariance matrix of returns of risky matrix\n",
    "                 asset_holdings, # array of shape num_steps x (num_stocks + 1)\n",
    "                 use_for_WM = True, # use for wealth management tasks\n",
    "                 target_portf=None):\n",
    "        \n",
    "        \n",
    "        self.num_steps = num_steps\n",
    "        self.lambd = lambd\n",
    "        \n",
    "        #self.eta = eta\n",
    "        self.Omega_mat = Omega_mat\n",
    "        \n",
    "        self.beta = beta\n",
    "        self.gamma = gamma\n",
    "        self.use_for_WM = use_for_WM\n",
    "        \n",
    "        self.num_risky_assets = num_risky_assets\n",
    "        self.r_f = riskfree_rate\n",
    "        \n",
    "        self.num_assets = num_risky_assets + 1 # exp_returns.shape[1]\n",
    "        \n",
    "        assert exp_returns.shape[0] == self.num_steps\n",
    "        assert Sigma_r.shape[0] == Sigma_r.shape[1]\n",
    "        assert Sigma_r.shape[0] == num_risky_assets # self.num_assets\n",
    "        \n",
    "        self.Sigma_r = Sigma_r # array of shape num_stocks x num_stocks\n",
    "        \n",
    "        # arrays of returns for all assets including the risk-free asset\n",
    "        # array of shape num_steps x (num_stocks + 1) \n",
    "        self.exp_returns = np.hstack((self.r_f * np.ones(self.num_steps).reshape((-1,1)), exp_returns))\n",
    "                                      \n",
    "        # make block-matrix Sigma_r_tilde with Sigma_r_tilde[0,0] = 0, and equity correlation matrix inside\n",
    "        self.Sigma_r_tilde = np.zeros((self.num_assets, self.num_assets))\n",
    "        self.Sigma_r_tilde[1:,1:] = self.Sigma_r\n",
    "        \n",
    "        # asset_holdings is a vector for both the bond and all stocks\n",
    "        self.x_vals = asset_holdings # array of shape num_steps x (num_stocks+1)\n",
    "        \n",
    "        if self.use_for_WM:\n",
    "                self.target_portf = target_portf\n",
    "                assert len(self.target_portf) == self.num_steps\n",
    "#       else:\n",
    "#           raise (RuntimeError, \"A target portfolio profile is required\")\n",
    "                \n",
    "        # allocate memory for coefficients of F- and G-functions\n",
    "        self.F_xx = np.zeros((self.num_steps, self.num_assets, self.num_assets))\n",
    "        self.F_x = np.zeros((self.num_steps, self.num_assets))\n",
    "        self.F_0 = np.zeros(self.num_steps)\n",
    "        \n",
    "        self.Q_xx = np.zeros((self.num_steps, self.num_assets, self.num_assets))\n",
    "        self.Q_uu = np.zeros((self.num_steps, self.num_assets, self.num_assets))\n",
    "        self.Q_ux = np.zeros((self.num_steps, self.num_assets, self.num_assets))\n",
    "        self.Q_x = np.zeros((self.num_steps, self.num_assets))\n",
    "        self.Q_u = np.zeros((self.num_steps, self.num_assets))\n",
    "        self.Q_0 = np.zeros(self.num_steps)\n",
    "        \n",
    "        # optimal actions for all assets (only used for the final step)\n",
    "        self.opt_action = np.zeros((self.num_steps,self.num_assets))\n",
    "        \n",
    "        # initialize time-dependent parameters of prior policy \n",
    "        self.u_bar_prior = np.zeros((self.num_steps,self.num_assets))\n",
    "        self.v_bar_prior =  np.zeros((self.num_steps, self.num_assets, self.num_assets))\n",
    "        self.Sigma_prior =  np.zeros((self.num_steps, self.num_assets, self.num_assets))\n",
    "        self.Sigma_prior_inv = np.zeros((self.num_steps, self.num_assets, self.num_assets))\n",
    "        \n",
    "        # make each time elements of v_bar_prior and Sigma_prior proportional to the unit matrix\n",
    "        for t in range(self.num_steps):\n",
    "            self.v_bar_prior[t,:,:] = 0.1 * np.eye(self.num_assets)\n",
    "            self.Sigma_prior[t,:,:] = 0.1 * np.eye(self.num_assets)\n",
    "            self.Sigma_prior_inv[t,:,:] = np.linalg.inv(self.Sigma_prior[t,:,:])\n",
    "            \n",
    "        # cash installment for all steps\n",
    "        self.c_t = np.zeros(self.num_steps)\n",
    "    \n",
    "    def reward_fun(self, t, x_vals, u_vals, exp_rets, lambd, Sigma_hat):\n",
    "        \"\"\"\n",
    "        The reward function. Currently not used in the code, the reward enters directly in other functions \n",
    "        \"\"\"\n",
    "        x_plus = x_vals + u_vals\n",
    "        aux_1 = - self.lambd * self.target_portf[t]**2\n",
    "        aux_2 = - np.sum(u_vals)\n",
    "        aux_3 = 2*self.lambd * self.target_portf[t] * x_plus.dot(np.ones(num_assets) + exp_rets)\n",
    "        aux_4 = - self.lambd * x_plus.dot(Sigma_hat.dot(x_plus))\n",
    "        aux_5 = - u.dot(self.Omega_mat.dot(u))\n",
    "        \n",
    "        return aux_1 + aux_2 + aux_3 + aux_4 + aux_5  \n",
    "    \n",
    "    def set_terminal_conditions(self):\n",
    "        \"\"\"\n",
    "        set the terminal condition for the F-function\n",
    "        \"\"\"\n",
    "        \n",
    "        # auxiliary quantities to perform matrix calculations\n",
    "        exp_ret_T = self.exp_returns[-1,:]\n",
    "        exp_ret_T_v = exp_ret_T[:, np.newaxis]\n",
    "        one_plus_exp_ret = np.ones(self.num_assets)[:,np.newaxis] + exp_ret_T_v\n",
    "        \n",
    "        if self.use_for_WM:\n",
    "            # Sigma_hat = self.Sigma_r + one_plus_exp_ret.dot(one_plus_exp_ret.T)\n",
    "            Sigma_hat = self.Sigma_r_tilde + one_plus_exp_ret.dot(one_plus_exp_ret.T)\n",
    "            \n",
    "            Sigma_hat_inv = np.linalg.pinv(Sigma_hat)\n",
    "            \n",
    "            #Sigma_tilde = Sigma_hat + (self.eta/self.lambd)*np.eye(self.num_assets)\n",
    "            Sigma_tilde = Sigma_hat + (1/self.lambd)*self.Omega_mat\n",
    "            \n",
    "            Sigma_tilde_inv = np.linalg.pinv(Sigma_tilde)\n",
    "            \n",
    "            Sigma_hat_sigma_tilde = Sigma_hat.dot(Sigma_tilde)\n",
    "            Sigma_tilde_inv_sig_hat = Sigma_tilde_inv.dot(Sigma_hat)\n",
    "            \n",
    "            Sigma_tilde_sigma_hat = Sigma_tilde.dot(Sigma_hat)\n",
    "            \n",
    "            Theta_m = np.eye(self.num_assets) - Sigma_tilde_inv.dot(Sigma_hat) \n",
    "            \n",
    "            P_T = self.target_portf[-1]\n",
    "    \n",
    "            # P_tilde is a column vector\n",
    "            P_tilde = P_T * one_plus_exp_ret - (1.0/(2*self.lambd))*np.ones(self.num_assets)[:,np.newaxis]\n",
    "                           \n",
    "            # compute P_aux \\equiv P_tilde - Sigma_hat.dot(x)\n",
    "            P_aux_1 = Sigma_hat.dot(self.x_vals[-1,:])\n",
    "            P_aux = P_tilde - P_aux_1[:,np.newaxis]\n",
    "            \n",
    "            # the last action\n",
    "            self.opt_action[-1,:] = Sigma_tilde_inv.dot(P_aux.reshape(-1))\n",
    "            \n",
    "            # though the action at the last step is deterministic, we can feed \n",
    "            # parameters of the prior with these values\n",
    "            self.u_bar_prior[-1,:] = Sigma_tilde_inv.dot(P_tilde.reshape(-1))\n",
    "            self.v_bar_prior[-1,:,:] = - Sigma_tilde_inv.dot(Sigma_hat)\n",
    "            \n",
    "            self.c_t[-1] = np.sum(self.opt_action[-1,:])\n",
    "            \n",
    "            # the coefficients of F-function for the last step\n",
    "            \n",
    "            # F_xx\n",
    "#             self.F_xx[-1,:,:] = (- self.lambd*Sigma_hat.dot(np.eye(self.num_assets)\n",
    "#                                                            - Sigma_tilde_inv.dot(Sigma_hat)))\n",
    "            self.F_xx[-1,:,:] = (- self.lambd * Theta_m.T.dot(Sigma_hat.dot(Theta_m))\n",
    "                                 - Sigma_tilde_inv_sig_hat.T.dot(self.Omega_mat.dot(Sigma_tilde_inv_sig_hat))\n",
    "                                 )\n",
    "                                 \n",
    "                                 \n",
    "            \n",
    "            # F_x\n",
    "            Sigma_hat_Sigma_tilde_inv = Sigma_hat.dot(Sigma_tilde_inv)\n",
    "            \n",
    "            #One_minus_Sigma_hat_til = np.eye(self.num_assets) - Sigma_hat_Sigma_til # Use Theta_m\n",
    "            \n",
    "#             self.F_x[-1,:] =  (Sigma_hat_Sigma_til.dot(np.ones(self.num_assets))+ \n",
    "#                                2*self.lambd*self.target_portf[-1]*\n",
    "#                                One_minus_Sigma_hat_til.dot(one_plus_exp_ret.reshape(-1)))\n",
    "            \n",
    "            aux_1x = Sigma_hat_Sigma_tilde_inv.dot(np.ones(self.num_assets))\n",
    "            aux_2x = 2*self.lambd * P_T * Theta_m.T.dot(one_plus_exp_ret.reshape(-1))\n",
    "            aux_3x = - 2*self.lambd * (Theta_m.T.dot(Sigma_hat_Sigma_tilde_inv.dot(P_tilde))).reshape(-1)\n",
    "            aux_4x = 2 * (Sigma_hat_Sigma_tilde_inv.dot(self.Omega_mat.dot(Sigma_tilde_inv.dot(P_tilde)))).reshape(-1)\n",
    "            #print('In  set_terminal_conditions: aux_1x etc shapes:')\n",
    "            #print(aux_1x.shape,aux_2x.shape, aux_3x.shape,aux_4x.shape)\n",
    "    \n",
    "    \n",
    "            self.F_x[-1,:] = aux_1x + aux_2x + aux_3x + aux_4x\n",
    "        \n",
    "#             self.F_x[-1,:] =  (Sigma_hat_Sigma_tilde_inv.dot(np.ones(self.num_assets))\n",
    "#                                + 2*self.lambd * P_T * Theta_m.T.dot(one_plus_exp_ret.reshape(-1)).reshape(-1)\n",
    "#                                - 2*self.lambd * Theta_m.T.dot(Sigma_hat_Sigma_tilde_inv.dot(P_tilde)).reshape(-1)\n",
    "#                                + 2*Sigma_hat_Sigma_tilde_inv.dot(self.Omega_mat.dot(Sigma_tilde_inv.dot(P_tilde)))\n",
    "#                               )\n",
    "        \n",
    "\n",
    "            #print('self.F_x[-1,:].shape = ', self.F_x[-1,:].shape) \n",
    "            \n",
    "            # F_0\n",
    "            P_tilde_Sigma_aux = P_tilde.reshape(-1).dot(Sigma_tilde_inv)\n",
    "            Sigma_P_tilde_aux =  Sigma_tilde_inv.dot(P_tilde.reshape(-1)) # P_tilde_Sigma_aux.T #\n",
    "            \n",
    "            \n",
    "#             self.F_0[-1] = (P_tilde_Sigma_aux.dot(np.ones(self.num_assets))\n",
    "#                             - self.lambd * P_tilde_Sigma_aux.dot(self.P_tilde.reshape(-1))\n",
    "#                             + 2*self.lambd * one_plus_exp_ret.reshape(-1).dot(Sigma_P_tilde_aux)\n",
    "#                             - self.lambd * P_T**2)\n",
    " \n",
    "            aux_0 = - self.lambd * P_T**2\n",
    "            aux_1 =  - P_tilde.T.dot(Sigma_tilde_inv.dot(np.ones(self.num_assets)))[0] # this is a matrix of size 1x1        \n",
    "            aux_2 = 2*self.lambd * P_T * one_plus_exp_ret.reshape(-1).dot(Sigma_P_tilde_aux)\n",
    "            aux_3 = - self.lambd * P_tilde_Sigma_aux.dot(Sigma_hat.dot(Sigma_P_tilde_aux))\n",
    "            aux_4 =  -  P_tilde_Sigma_aux.dot(self.Omega_mat.dot(Sigma_P_tilde_aux))\n",
    "    \n",
    "            #print('In set_terminal_conditions: shapes')\n",
    "            #print(aux_1.shape, aux_2.shape, aux_3.shape, aux_4.shape)\n",
    "            #print('aux_1 = ', aux_1)\n",
    "        \n",
    "            self.F_0[-1] =  aux_0 + aux_1 + aux_2 + aux_3 + aux_4\n",
    "            \n",
    "            #print('self.F_0[-1]: done')\n",
    "\n",
    "#             self.F_0[-1] = (- self.lambd * P_T**2 \n",
    "#                             - P_tilde.T.dot(Sigma_tilde_inv.dot(np.ones(self.num_assets)))\n",
    "#                             + 2*self.lambd * P_T * one_plus_exp_ret.reshape(-1).dot(\n",
    "#                                                     Sigma_P_tilde_aux.dot(P_tilde.reshape(-1)))\n",
    "#                             - self.lambd * P_tilde_Sigma_aux.dot(Sigma_hat.dot(Sigma_P_tilde_aux)) \n",
    "#                             -  P_tilde_Sigma_aux.dot(self.Omega_mat.dot(Sigma_P_tilde_aux))\n",
    "                           \n",
    "#                             )\n",
    "\n",
    "            \n",
    "            \n",
    "    \n",
    "    \n",
    "    def G_learning(self, err_tol, max_iter):\n",
    "        \"\"\"\n",
    "        find the optimal policy for the time dependent policy\n",
    "        \n",
    "        \"\"\"\n",
    "        \n",
    "        print('Doing G-learning, it may take a few seconds...')\n",
    "        \n",
    "        # set terminal conditions\n",
    "        self.set_terminal_conditions()\n",
    "        \n",
    "        # allocate iteration numbers for all steps\n",
    "        self.iter_counts = np.zeros(self.num_steps)\n",
    "        \n",
    "        # iterate over time steps backward\n",
    "        for t in range(self.num_steps-2,-1,-1):\n",
    "            self.step_G_learning(t, err_tol, max_iter)\n",
    "            \n",
    "    def step_G_learning(self, t, err_tol, max_iter):\n",
    "        \"\"\"\n",
    "        Perform one step of backward iteration for G-learning self-consistent equations\n",
    "        This should start from step t = num_steps - 2 (i.e. from a step that is before the last one)\n",
    "        \"\"\"\n",
    "            \n",
    "        # local variables\n",
    "        F_xx_tp1 = self.F_xx[t+1,:,:]\n",
    "        F_x_tp1 = self.F_x[t+1,:]\n",
    "        F_0_tp1 = self.F_0[t+1]\n",
    "            \n",
    "        # make matrix Sigma_hat_t\n",
    "        exp_ret_T = self.exp_returns[t,:]  \n",
    "        exp_ret_T_v = exp_ret_T[:, np.newaxis]\n",
    "        one_plus_exp_ret = np.ones(self.num_assets)[:,np.newaxis] + exp_ret_T_v\n",
    "        \n",
    "        # Sigma_hat_t = self.Sigma_r + one_plus_exp_ret.dot(one_plus_exp_ret.T)\n",
    "        Sigma_hat_t = self.Sigma_r_tilde + one_plus_exp_ret.dot(one_plus_exp_ret.T)\n",
    "        \n",
    "        # matrix A_t = diag(1 + r_bar_t)\n",
    "        A_t = np.diag(np.ones(self.num_assets) + exp_ret_T)\n",
    "                    \n",
    "        # update parameters of Q_function using next-step F-function values\n",
    "        self.update_Q_params(t, A_t,Sigma_hat_t)\n",
    "             \n",
    "        # iterate between policy evaluation and policy improvement  \n",
    "        while self.iter_counts[t] < max_iter:\n",
    "                \n",
    "            curr_u_bar_prior = self.u_bar_prior[t,:].copy() \n",
    "            curr_v_bar_prior = self.v_bar_prior[t,:,:].copy()    \n",
    "                \n",
    "            # compute parameters of F-function for this step from parameters of Q-function\n",
    "            self.update_F_params(t) \n",
    "              \n",
    "            # Policy iteration step: update parameters of the prior policy distribution\n",
    "            # with given Q- and F-function parameters\n",
    "            self.update_policy_params(t)    \n",
    "            \n",
    "            # difference between the current value of u_bar_prior and the previous one\n",
    "            err_u_bar = np.sum((curr_u_bar_prior - self.u_bar_prior[t,:])**2)\n",
    "            \n",
    "            # divide by num_assets in err_v_bar to get both errors on a comparable scale\n",
    "            err_v_bar = (1/self.num_assets)*np.sum((curr_v_bar_prior - self.v_bar_prior[t,:,:])**2)\n",
    "            \n",
    "            # choose the difference from the previous iteration as the maximum of the two errors\n",
    "#             tol = np.minimum(err_u_bar, err_v_bar)\n",
    "#             tol = np.maximum(err_u_bar, err_v_bar)\n",
    "            tol = 0.5*(err_u_bar + err_v_bar)\n",
    "            \n",
    "            #print('err_u_bar, err_v_bar, tol', err_u_bar, err_v_bar, tol)\n",
    "            \n",
    "            self.iter_counts[t] += 1\n",
    "            # Repeat the calculation of Q- and F-values\n",
    "            if tol <= err_tol:\n",
    "                break\n",
    "                \n",
    "        self.c_t[t] = np.sum(self.u_bar_prior[t,:] + self.v_bar_prior[t,:,:].dot(self.x_vals[t,:]))\n",
    "\n",
    "            \n",
    "    def update_Q_params(self,t, A_t,Sigma_hat_t):\n",
    "        \"\"\"\n",
    "        update the current (time-t) parameters of Q-function from (t+1)-parameters of F-function\n",
    "        \"\"\" \n",
    "        \n",
    "#         self.Q_xx[t,:,:] = ( - self.lambd * Sigma_hat_t \n",
    "#                             + self.gamma*( (A_t.dot(self.F_xx[t+1,:,:])).dot(A_t)  \n",
    "#                                            + self.Sigma_r * self.F_xx[t+1,:,:] ) )\n",
    "        \n",
    "        self.Q_xx[t,:,:] = ( - self.lambd * Sigma_hat_t \n",
    "                            + self.gamma*( (A_t.dot(self.F_xx[t+1,:,:])).dot(A_t)  \n",
    "                                           + self.Sigma_r_tilde * self.F_xx[t+1,:,:] ) )\n",
    "        \n",
    "        \n",
    "        self.Q_ux[t,:,:] = 2 * self.Q_xx[t,:,:]\n",
    "        \n",
    "        #self.Q_uu[t,:,:] = self.Q_xx[t,:,:] - self.eta * np.eye(self.num_assets)\n",
    "        self.Q_uu[t,:,:] = self.Q_xx[t,:,:] - self.Omega_mat \n",
    "        \n",
    "        self.Q_x[t,:] = (self.lambd * self.target_portf[t] * A_t.dot(np.ones(self.num_assets))\n",
    "                             + self.gamma * A_t.T.dot(self.F_x[t+1,:]) )\n",
    "        \n",
    "        self.Q_u[t,:] = self.Q_x[t,:] - np.ones(self.num_assets)\n",
    "        \n",
    "        self.Q_0[t] = self.gamma * self.F_0[t+1] - self.lambd * self.target_portf[t]**2\n",
    "        \n",
    "        \n",
    "    def update_F_params(self,t):\n",
    "        \"\"\"\n",
    "        update the current (time-t) parameters of F-function from t-parameters of G-function\n",
    "        This is a policy evaluation step: it uses the current estimations of the mean parameters of the policy\n",
    "        \n",
    "        \"\"\"\n",
    "        \n",
    "        # produce auxiliary parameters U_t, W_t, Sigma_tilde_t\n",
    "        U_t = self.beta * self.Q_ux[t,:,:] + self.Sigma_prior_inv[t,:,:].dot(self.v_bar_prior[t,:,:])\n",
    "        W_t = self.beta * self.Q_u[t,:] +  self.Sigma_prior_inv[t,:,:].dot(self.u_bar_prior[t,:])\n",
    "        Sigma_p_bar =  self.Sigma_prior_inv[t,:,:] - 2 * self.beta * self.Q_uu[t,:,:]\n",
    "        Sigma_p_bar_inv = np.linalg.pinv(Sigma_p_bar)\n",
    "        \n",
    "        # update parameters of F-function\n",
    "        self.F_xx[t,:,:] = self.Q_xx[t,:,:] + (1/(2*self.beta))*(U_t.T.dot(Sigma_p_bar_inv.dot(U_t))\n",
    "                                    - self.v_bar_prior[t,:,:].T.dot(\n",
    "                                        self.Sigma_prior_inv[t,:,:].dot(self.v_bar_prior[t,:,:])))\n",
    "        \n",
    "        \n",
    "        self.F_x[t,:] = self.Q_x[t,:] + (1/self.beta)*(U_t.T.dot(Sigma_p_bar_inv.dot(W_t))\n",
    "                                    - self.v_bar_prior[t,:,:].T.dot(\n",
    "                                        self.Sigma_prior_inv[t,:,:].dot(self.u_bar_prior[t,:])))\n",
    "        \n",
    "        \n",
    "        self.F_0[t] = self.Q_0[t] + ( (1/(2*self.beta))*(W_t.dot(Sigma_p_bar_inv.dot(W_t))\n",
    "                                    - self.u_bar_prior[t,:].dot(\n",
    "                                        self.Sigma_prior_inv[t,:,:].dot(self.u_bar_prior[t,:])))\n",
    "                                    - (1/(2*self.beta)) * (np.log(np.linalg.det(self.Sigma_prior[t,:,:]))\n",
    "                                                       + np.log(np.linalg.det(Sigma_p_bar))) )\n",
    "        \n",
    "    def update_policy_params(self,t):\n",
    "        \"\"\"\n",
    "        update parameters of the Gaussian policy using current coefficients of the F- and G-functions\n",
    "        \"\"\"\n",
    "        \n",
    "        new_Sigma_prior_inv = self.Sigma_prior_inv[t,:,:] - 2 * self.beta * self.Q_uu[t,:,:]\n",
    "        Sigma_prior_new = np.linalg.pinv(new_Sigma_prior_inv)\n",
    "        \n",
    "        \n",
    "        # update parameters using the previous value of Sigma_prior_inv\n",
    "        self.u_bar_prior[t,:] = Sigma_prior_new.dot(self.Sigma_prior_inv[t,:,:].dot(self.u_bar_prior[t,:])\n",
    "                                              + self.beta * self.Q_u[t,:])\n",
    "        \n",
    "        \n",
    "        self.v_bar_prior[t,:,:] = Sigma_prior_new.dot(self.Sigma_prior_inv[t,:,:].dot(self.v_bar_prior[t,:,:])\n",
    "                                              + self.beta * self.Q_ux[t,:,:])\n",
    "        \n",
    "        # and then assign the new inverse covariance for the prior for the next iteration\n",
    "        self.Sigma_prior[t,:,:] = Sigma_prior_new\n",
    "        self.Sigma_prior_inv[t,:,:] = new_Sigma_prior_inv\n",
    "        \n",
    "        # also assign the same values for the previous time step\n",
    "        if t > 0:\n",
    "            self.Sigma_prior[t-1,:,:] = self.Sigma_prior[t,:,:]\n",
    "            self.u_bar_prior[t-1,:] = self.u_bar_prior[t,:]\n",
    "            self.v_bar_prior[t-1,:,:] = self.v_bar_prior[t,:,:]\n",
    "        \n"
   ]
  },
  {
   "cell_type": "code",
   "execution_count": 680,
   "metadata": {},
   "outputs": [],
   "source": [
    "# adjusted test\n",
    "\n",
    "# test using random and meaningless inputs\n",
    "\n",
    "num_steps = 5 # 10 # 2 # 5 # \n",
    "\n",
    "num_risky_assets = 99 # num_assets = 100 \n",
    "riskfree_rate = 0.02 # 0.1"
   ]
  },
  {
   "cell_type": "code",
   "execution_count": 652,
   "metadata": {},
   "outputs": [],
   "source": [
    "# np.random.seed(42)\n",
    "\n",
    "exp_returns = np.random.randn(num_steps,num_risky_assets)\n",
    "Sigma_r = np.cov(exp_returns.T)\n",
    "\n",
    "\n",
    "# current portfolio: random values\n",
    "ref_val = 1\n",
    "x_vals = ref_val * np.ones((num_steps,num_assets))\n",
    "noise_coeff_p = 0.8\n",
    "noise_factors = np.random.uniform(low=1-noise_coeff_p, high=1+noise_coeff_p, size=(num_steps,num_assets))\n",
    "x_vals = noise_factors * x_vals"
   ]
  },
  {
   "cell_type": "code",
   "execution_count": 681,
   "metadata": {},
   "outputs": [
    {
     "name": "stdout",
     "output_type": "stream",
     "text": [
      "[ 97.69222023 101.67620643  93.57945328  95.75204868  93.37019375]\n"
     ]
    }
   ],
   "source": [
    "portf_val = x_vals.sum(axis=1)\n",
    "print(portf_val)"
   ]
  },
  {
   "cell_type": "code",
   "execution_count": 725,
   "metadata": {},
   "outputs": [],
   "source": [
    "# parameters of transaction cost\n",
    "\n",
    "# eta = 0.5\n",
    "\n",
    "fee_bond = 0.05\n",
    "fee_stock = 0.1 # 1.0 # 100 # 1.0 # 0.5 \n",
    "\n",
    "# noticed much worse convergence for fee_stock = 0.2\n",
    "# it converges for fee_stock = 0.5, but it converges faster for fee_stock=1\n",
    "\n",
    "all_fees = np.zeros(num_risky_assets + 1)\n",
    "all_fees[0] = fee_bond\n",
    "all_fees[1:] = fee_stock\n",
    "Omega_mat = np.diag(all_fees)\n",
    "\n",
    "\n",
    "# model parameters\n",
    "lambd = 1.0 # 0.02 # 0.05 # 0.07 # 0.1 # 0.15 # 0.1 # 0.15 # 0.1 # 0.1 # 50 # 10.0\n",
    "beta = 0.5 # 1.0 # 50 # 50.0 # 1.0 # 10 # 10.0 # 0.2\n",
    "gamma = 0.95\n",
    "\n",
    "lambd = 10000 # 2000 # 0.01 # 0.05 # 0.5 # 0.1 # 1.0\n",
    "beta = 10 # 1.0 # 0.2 # 0.1 # 0.2\n",
    "\n",
    "# make target portfolio to be a fixed fraction above the current portfolio value\n",
    "coeff_target = 1.8 # 1.2 # 2.0 # 1.5 # 1.2\n",
    "portf_val = x_vals.sum(axis=1)\n",
    "target_portf = coeff_target * portf_val\n",
    "\n",
    "\n",
    "G_learner = G_learning_portfolio_opt(num_steps,\n",
    "                 lambd, \n",
    "                 Omega_mat, # eta,\n",
    "                 beta,\n",
    "                 gamma, \n",
    "                 num_risky_assets,\n",
    "                 riskfree_rate,\n",
    "                 exp_returns, # array of shape num_steps x num_stocks\n",
    "                 Sigma_r,     # covariance matrix of returns of risky matrix                    \n",
    "                 x_vals, # array of shape num_steps x num_stocks\n",
    "                 use_for_WM = True, # use for wealth management tasks\n",
    "                 target_portf=target_portf)"
   ]
  },
  {
   "cell_type": "code",
   "execution_count": 726,
   "metadata": {},
   "outputs": [
    {
     "name": "stdout",
     "output_type": "stream",
     "text": [
      "Doing G-learning, it may take a few seconds...\n",
      "Done in 0.673293 sec\n"
     ]
    }
   ],
   "source": [
    "# Do G-learning\n",
    "\n",
    "err_tol= 1.e-4 # 3.e-4 # 1e-4 # 3.5e-3 # 1.0e-4\n",
    "max_iter=500\n",
    "\n",
    "t_0 = time.time()\n",
    "\n",
    "G_learner.G_learning(err_tol=err_tol, max_iter=max_iter)\n",
    "\n",
    "print('Done in %f sec'% (time.time() - t_0))"
   ]
  },
  {
   "cell_type": "code",
   "execution_count": 727,
   "metadata": {},
   "outputs": [
    {
     "data": {
      "text/plain": [
       "array([ 8., 15., 13., 51.,  0.])"
      ]
     },
     "execution_count": 727,
     "metadata": {},
     "output_type": "execute_result"
    }
   ],
   "source": [
    "G_learner.iter_counts"
   ]
  },
  {
   "cell_type": "code",
   "execution_count": 728,
   "metadata": {},
   "outputs": [
    {
     "data": {
      "image/png": "[encoded data removed]",
      "text/plain": [
       "<Figure size 432x288 with 1 Axes>"
      ]
     },
     "metadata": {
      "needs_background": "light"
     },
     "output_type": "display_data"
    }
   ],
   "source": [
    "# compute predicted cash installments for all steps\n",
    "\n",
    "c_t = np.zeros(num_steps)\n",
    "for t in range(num_steps):\n",
    "#     c_t[t] = np.sum(G_learner.u_bar_prior[t,:] + G_learner.v_bar_prior[t,:,:].dot(x_vals[t,:]))\n",
    "    c_t[t] = G_learner.c_t[t]\n",
    "plt.plot(c_t, label='cash installment')\n",
    "plt.plot(x_vals.sum(axis=1),label='total portfolio value', color ='r')\n",
    "\n",
    "plt.legend()\n",
    "plt.xlabel('Time Steps')\n",
    "plt.title('optimal cash installment vs total portfolio value')\n",
    "\n",
    "plt.show()"
   ]
  },
  {
   "cell_type": "code",
   "execution_count": 711,
   "metadata": {},
   "outputs": [
    {
     "data": {
      "text/plain": [
       "array([-40.92117313,  14.39207092])"
      ]
     },
     "execution_count": 711,
     "metadata": {},
     "output_type": "execute_result"
    }
   ],
   "source": [
    "c_t[-2:]"
   ]
  },
  {
   "cell_type": "code",
   "execution_count": 405,
   "metadata": {},
   "outputs": [
    {
     "data": {
      "image/png": "[encoded data removed]",
      "text/plain": [
       "<Figure size 432x288 with 1 Axes>"
      ]
     },
     "metadata": {
      "needs_background": "light"
     },
     "output_type": "display_data"
    }
   ],
   "source": [
    "# compare the target portfolio and total holdings\n",
    "\n",
    "total_holdings = x_vals.sum(axis=1)\n",
    "\n",
    "plt.plot(total_holdings,label='total_holdings')\n",
    "plt.plot(target_portf,label='target_portf',color='r')\n",
    "plt.legend()\n",
    "plt.xlabel('Time Steps')\n",
    "plt.title('total_holdings vs target_portf')\n",
    "plt.show()"
   ]
  },
  {
   "cell_type": "markdown",
   "metadata": {},
   "source": [
    "## Develop intuition for a one-period setting"
   ]
  },
  {
   "cell_type": "code",
   "execution_count": null,
   "metadata": {},
   "outputs": [],
   "source": []
  },
  {
   "cell_type": "code",
   "execution_count": 677,
   "metadata": {},
   "outputs": [
    {
     "name": "stdout",
     "output_type": "stream",
     "text": [
      "(100,) (100, 100)\n"
     ]
    }
   ],
   "source": [
    "step_size = 0.5 # semi-annual steps\n",
    "vol_market_ann = 0.2 # annualized vol\n",
    "num_stocks = 99\n",
    "num_risky_assets = num_stocks\n",
    "num_assets = num_stocks + 1\n",
    "\n",
    "vol_market = vol_market_ann * np.sqrt(step_size)\n",
    "\n",
    "# use a diagonal covariance matrix\n",
    "Sigma_r = (vol_market**2) * np.eye(num_stocks)\n",
    "\n",
    "Sigma_r_tilde = np.zeros((num_assets, num_assets))\n",
    "Sigma_r_tilde[1:, 1:] = Sigma_r\n",
    "\n",
    "# risk-free rate\n",
    "r_f = 0.02\n",
    "\n",
    "fee_bond = 0.05 # 1.0 # 0.1\n",
    "fee_stock = 0.1 # 10.0 # 1.0 # 100 # 1.0 # 0.5 \n",
    "\n",
    "# noticed much worse convergence for fee_stock = 0.2\n",
    "# it converges for fee_stock = 0.5, but it converges faster for fee_stock=1\n",
    "\n",
    "all_fees = np.zeros(num_risky_assets + 1)\n",
    "all_fees[0] = fee_bond\n",
    "all_fees[1:] = fee_stock\n",
    "Omega_mat = np.diag(all_fees)\n",
    "\n",
    "# model parameters\n",
    "lambd = 2000 # 500 # 50.0 # 30.0 # 0.05 # 0.5 # 0.1 # 1.0\n",
    "beta = 0.2\n",
    "gamma = 0.95\n",
    "\n",
    "# current portfolio: random values\n",
    "# ref_val = 1\n",
    "# x_vals = ref_val * np.ones(num_assets)\n",
    "# noise_coeff_p = 0.8\n",
    "# noise_factors = np.random.uniform(low=1-noise_coeff_p, high=1+noise_coeff_p, size=num_assets)\n",
    "# x_vals = noise_factors * x_vals\n",
    "\n",
    "# take the values from the previous simulation\n",
    "x_vals_one_step = x_vals[-1,:]\n",
    "\n",
    "# make target portfolio to be a fixed fraction above the current portfolio value\n",
    "\n",
    "coeff_target = 1.2\n",
    "portf_val_one_step = np.sum(x_vals_one_step)\n",
    "target_portf_one_step = coeff_target * portf_val_one_step\n",
    "\n",
    "def reward_fun(x_vals, u, exp_rets, lambd, Sigma_hat, Omega_mat, target_portf):\n",
    "    x_plus = x_vals + u\n",
    "    aux_1 = - lambd * target_portf**2\n",
    "    aux_2 = - np.sum(u)\n",
    "    aux_3 = 2*lambd * target_portf * x_plus.dot(np.ones(num_assets) + exp_rets)\n",
    "    aux_4 = - lambd * x_plus.dot(Sigma_hat.dot(x_plus))\n",
    "    aux_5 = - u.dot(Omega_mat.dot(u))\n",
    "    \n",
    "    print(aux_1,aux_2,aux_3,aux_4,aux_5)\n",
    "    \n",
    "    return aux_1 + aux_2 + aux_3 + aux_4 + aux_5\n",
    "\n",
    "# make random returns\n",
    "\n",
    "# exp_rets = 0.05 * np.ones(num_stocks)\n",
    "# noise_coeff_r = 0.8\n",
    "# noise_factors = np.random.uniform(low=1-noise_coeff_r, high=1+noise_coeff_r, size=num_stocks)\n",
    "# exp_rets = noise_factors * exp_rets\n",
    "\n",
    "# use the values from the previous simulation\n",
    "exp_rets_one_step = exp_returns[-1,:]\n",
    "\n",
    "# add the risk-free rate\n",
    "exp_rets_one_step = np.hstack((np.array([r_f]), exp_rets_one_step))\n",
    "\n",
    "exp_ret_T_one_step = exp_rets_one_step \n",
    "exp_ret_T_v_one_step = exp_ret_T_one_step[:, np.newaxis]\n",
    "one_plus_exp_ret = np.ones(num_assets)[:,np.newaxis] + exp_ret_T_v_one_step\n",
    "\n",
    "# compute the optimal action\n",
    "\n",
    "Sigma_hat = Sigma_r_tilde + one_plus_exp_ret.dot(one_plus_exp_ret.T)\n",
    "Sigma_tilde = Sigma_hat + (1/lambd)* Omega_mat\n",
    "            \n",
    "# P_tilde is a column vector\n",
    "P_tilde = target_portf_one_step * one_plus_exp_ret - (1.0/(2*lambd))*np.ones(num_assets)[:,np.newaxis]\n",
    "\n",
    "Sigma_tilde_inv = np.linalg.pinv(Sigma_tilde)\n",
    "            \n",
    "# compute P_aux \\equiv P_tilde - Sigma_hat.dot(x)\n",
    "P_aux_1 = Sigma_hat.dot(x_vals_one_step)\n",
    "P_aux = P_tilde - P_aux_1[:,np.newaxis]\n",
    "            \n",
    "# the optimal action\n",
    "u_opt = Sigma_tilde_inv.dot(P_aux.reshape(-1))\n",
    "\n",
    "x_vals_new = x_vals_one_step + u_opt\n",
    "\n",
    "new_port_val = np.sum(x_vals_new)\n",
    "\n",
    "optimal_cash_inflow = np.sum(u_opt)\n",
    "\n",
    "# calculate the optimal cash inflow in a different way\n",
    "u_bar_prior = Sigma_tilde_inv.dot(P_tilde.reshape(-1))# .reshape(-1)\n",
    "v_bar_prior = - Sigma_tilde_inv.dot(Sigma_hat) # .reshape(-1)\n",
    "\n",
    "print(u_bar_prior.shape, v_bar_prior.shape)\n",
    "\n",
    "optimal_cash_inflow_2 = np.sum(u_bar_prior + v_bar_prior.dot(x_vals_one_step))"
   ]
  },
  {
   "cell_type": "code",
   "execution_count": 678,
   "metadata": {},
   "outputs": [
    {
     "name": "stdout",
     "output_type": "stream",
     "text": [
      "-25107820.073687475 -7.449898145215251 50214550.50871308 -25106824.007762577 -406.8040229224947\n",
      "-25107820.073687475 -0.0 40571535.2221972 -16394117.94860337 -0.0\n",
      "exp_returns[0:5]: [0.02       0.08070464 0.06632463 0.05749504 0.07546276]\n",
      "init portfolio value: 93.37019375122601\n",
      "target portfolio: 112.04423250147121\n",
      "optimal cash installment: 7.449898145215251\n",
      "optimal cash installment_2: 7.449898145130211\n",
      "new portfolio value: 100.82009189644127\n",
      "optimal reward: -507.8266580396679\n",
      "suboptimal reward: -930402.8000936471\n"
     ]
    }
   ],
   "source": [
    "reward_opt = reward_fun(x_vals_one_step, u_opt, exp_rets_one_step, lambd, Sigma_hat, \n",
    "                        Omega_mat, target_portf_one_step)\n",
    "reward_zero = reward_fun(x_vals_one_step, np.zeros(num_assets), exp_rets_one_step, lambd, Sigma_hat, \n",
    "                         Omega_mat, target_portf_one_step)\n",
    "\n",
    "print('exp_returns[0:5]:', exp_rets[0:5])\n",
    "\n",
    "print('init portfolio value:', portf_val_one_step)\n",
    "print('target portfolio:', target_portf_one_step)\n",
    "print('optimal cash installment:',optimal_cash_inflow)\n",
    "print('optimal cash installment_2:',optimal_cash_inflow_2)\n",
    "print('new portfolio value:', new_port_val)\n",
    "print('optimal reward:', reward_opt)\n",
    "print('suboptimal reward:', reward_zero)\n"
   ]
  },
  {
   "cell_type": "markdown",
   "metadata": {},
   "source": [
    "## Simulate portfolio data"
   ]
  },
  {
   "cell_type": "markdown",
   "metadata": {},
   "source": [
    "### Simulate the market factor as a lognormal with a fixed drift and vol"
   ]
  },
  {
   "cell_type": "code",
   "execution_count": 100,
   "metadata": {},
   "outputs": [],
   "source": [
    "mu_market = 0.05\n",
    "vol_market = 0.25\n",
    "init_market_val = 100.0\n",
    "\n",
    "r_rf = 0.03  # risk-free rate - the first asset will be cash\n",
    "\n",
    "num_steps = 10 \n",
    "dt = 0.25 # quarterly time steps\n",
    "\n",
    "num_assets = 100\n",
    "\n",
    "returns_market = np.zeros(num_steps)\n",
    "market_vals = np.zeros(num_steps)\n",
    "market_vals[0] = 100.0  # initial value\n",
    "\n",
    "\n",
    "        \n",
    "for t in range(1,num_steps):\n",
    "\n",
    "        rand_norm = np.random.randn()\n",
    "        \n",
    "        # use log-returns of market as 'returns_market'\n",
    "        returns_market[t] = mu_market * dt + vol_market * np.sqrt(dt) * rand_norm\n",
    "        \n",
    "        market_vals[t] = market_vals[t-1] * np.exp((mu_market - 0.5*vol_market**2)*dt + \n",
    "                                                         vol_market*np.sqrt(dt)*rand_norm)\n",
    "        "
   ]
  },
  {
   "cell_type": "code",
   "execution_count": 101,
   "metadata": {},
   "outputs": [
    {
     "data": {
      "text/plain": [
       "[<matplotlib.lines.Line2D at 0x114ca7c88>]"
      ]
     },
     "execution_count": 101,
     "metadata": {},
     "output_type": "execute_result"
    },
    {
     "data": {
      "image/png": "[encoded data removed]",
      "text/plain": [
       "<Figure size 432x288 with 1 Axes>"
      ]
     },
     "metadata": {
      "needs_background": "light"
     },
     "output_type": "display_data"
    }
   ],
   "source": [
    "plt.plot(market_vals)"
   ]
  },
  {
   "cell_type": "markdown",
   "metadata": {},
   "source": [
    "### Simulate market betas and idiosyncratic alphas within pre-defined ranges"
   ]
  },
  {
   "cell_type": "code",
   "execution_count": 102,
   "metadata": {},
   "outputs": [
    {
     "name": "stdout",
     "output_type": "stream",
     "text": [
      "[0.29164896 0.691767   0.11951399 0.18915887 0.51316235 0.70307393\n",
      " 0.21349877 0.12228077 0.64431798 0.4838044 ]\n",
      "[-0.02020873  0.02100328 -0.02729496  0.12984351  0.04488366  0.05337033\n",
      " -0.00951792  0.06224148  0.14059776  0.00072106]\n"
     ]
    }
   ],
   "source": [
    "beta_min = 0.05\n",
    "beta_max = 0.85\n",
    "\n",
    "beta_vals = np.random.uniform(low=beta_min, high=beta_max, size=num_assets)\n",
    "\n",
    "alpha_min = - 0.05\n",
    "alpha_max = 0.15\n",
    "\n",
    "alpha_vals = np.random.uniform(low=alpha_min, high=alpha_max, size=num_assets)\n",
    "\n",
    "# Note: values beta_vals[0], alpha_vals[0] will be discarded as the first asset will be cash\n",
    "\n",
    "print(beta_vals[0:10])\n",
    "print(alpha_vals[0:10])"
   ]
  },
  {
   "cell_type": "markdown",
   "metadata": {},
   "source": [
    "### Simulate time-dependent expected returns"
   ]
  },
  {
   "cell_type": "code",
   "execution_count": 103,
   "metadata": {},
   "outputs": [],
   "source": [
    "# time-independent expected returns would be equal to alpha + beta * expected_market_return \n",
    "# make them time-dependent (and correlated with actual returns) as alpha + beta * oracle_market_returns\n",
    "# oracle expected returns pick into the future! \n",
    "\n",
    "oracle_coeff = 0.2\n",
    "mu_vec = mu_market * np.ones(num_steps)\n",
    "oracle_market_returns = mu_vec * dt + oracle_coeff*(returns_market - mu_vec) \n",
    "\n",
    "expected_returns = np.zeros((num_steps, num_assets))\n",
    "\n",
    "for t in range(num_steps):\n",
    "    expected_returns[t,:] = alpha_vals * dt + beta_vals * oracle_market_returns[t]\n",
    "    # override the first value as the first asset is cash\n",
    "    expected_returns[t,0] = r_rf * dt"
   ]
  },
  {
   "cell_type": "code",
   "execution_count": 104,
   "metadata": {},
   "outputs": [
    {
     "data": {
      "text/plain": [
       "[<matplotlib.lines.Line2D at 0x1152f0a90>]"
      ]
     },
     "execution_count": 104,
     "metadata": {},
     "output_type": "execute_result"
    },
    {
     "data": {
      "image/png": "[encoded data removed]",
      "text/plain": [
       "<Figure size 432x288 with 1 Axes>"
      ]
     },
     "metadata": {
      "needs_background": "light"
     },
     "output_type": "display_data"
    }
   ],
   "source": [
    "plt.plot(expected_returns[:,4])"
   ]
  },
  {
   "cell_type": "markdown",
   "metadata": {},
   "source": [
    "### Initial values of all assets "
   ]
  },
  {
   "cell_type": "code",
   "execution_count": 105,
   "metadata": {},
   "outputs": [],
   "source": [
    "val_min = 20.0\n",
    "val_max = 120.0\n",
    "\n",
    "init_asset_vals = np.random.uniform(low=val_min, high=val_max, size=num_assets)\n"
   ]
  },
  {
   "cell_type": "markdown",
   "metadata": {},
   "source": [
    "### Simulate realized returns and asset prices"
   ]
  },
  {
   "cell_type": "code",
   "execution_count": 106,
   "metadata": {},
   "outputs": [],
   "source": [
    "# make realized returns and realized asset values by simulating from a one-factor model \n",
    "# with time-dependent expected returns\n",
    "\n",
    "asset_returns = np.zeros((num_steps, num_assets))\n",
    "asset_vals = np.zeros((num_steps, num_assets))\n",
    "\n",
    "idiosync_vol = 0.02 # vol_market # \n",
    "\n",
    "for t in range(num_steps):\n",
    "    \n",
    "    rand_norm = np.random.randn(num_assets)\n",
    "        \n",
    "    # asset returns are simulated from a one-factor model\n",
    "    asset_returns[t,:] = (expected_returns[t,:] + beta_vals * (returns_market[t] - mu_market * dt) \n",
    "                         + idiosync_vol * np.sqrt(1 - beta_vals**2) * np.sqrt(dt) * rand_norm)\n",
    "        \n",
    "    # asset values\n",
    "    if t == 0:\n",
    "        asset_vals[t,:] = init_asset_vals\n",
    "    else:\n",
    "        asset_vals[t] = asset_vals[t-1] * (1 + asset_returns[t,:])\n",
    "   \n"
   ]
  },
  {
   "cell_type": "code",
   "execution_count": 107,
   "metadata": {},
   "outputs": [
    {
     "name": "stdout",
     "output_type": "stream",
     "text": [
      "[ 0.0075      0.01148008 -0.00574753  0.03416422  0.01584187  0.01967366]\n",
      "[0.00584006 0.01385213 0.00239318 0.00378777 0.0102757  0.01407854]\n",
      "[ 0.00461561 -0.00831734 -0.0172469  -0.00865006  0.00162863 -0.00142965]\n"
     ]
    }
   ],
   "source": [
    "t = 1\n",
    "print(expected_returns[t,0:6])\n",
    "print(beta_vals[0:6] * (returns_market[t] - mu_market*dt)) \n",
    "# print(beta_vals[0:6] * (returns_market[t])) \n",
    "print(idiosync_vol * (np.sqrt(1 - beta_vals[0:6]**2) * np.sqrt(dt) * rand_norm[0:6]))"
   ]
  },
  {
   "cell_type": "code",
   "execution_count": 108,
   "metadata": {},
   "outputs": [
    {
     "data": {
      "image/png": "[encoded data removed]",
      "text/plain": [
       "<Figure size 432x288 with 1 Axes>"
      ]
     },
     "metadata": {
      "needs_background": "light"
     },
     "output_type": "display_data"
    }
   ],
   "source": [
    "# compare the realized and expected returns\n",
    "# Note that they appear correlated - this is because we constructed them so\n",
    "\n",
    "# pick asset to show\n",
    "asset_idx =  4 # 8 # 6 # 5\n",
    "\n",
    "plt.plot(expected_returns[:,asset_idx],label='expected_return')\n",
    "plt.plot(asset_returns[:,asset_idx],label='realized_return',color='r')\n",
    "plt.legend()\n",
    "plt.xlabel('Time Steps')\n",
    "plt.title('Realized returns vs expected returns')\n",
    "plt.show()\n"
   ]
  },
  {
   "cell_type": "markdown",
   "metadata": {},
   "source": [
    "### Compute the empirical correlation matrix using realized returns"
   ]
  },
  {
   "cell_type": "code",
   "execution_count": 109,
   "metadata": {},
   "outputs": [
    {
     "name": "stdout",
     "output_type": "stream",
     "text": [
      "(100, 100)\n"
     ]
    }
   ],
   "source": [
    "cov_mat_r = np.cov(asset_returns.T) # + shrink_coeff*np.eye(num_assets)\n",
    "\n",
    "print(cov_mat_r.shape)\n",
    "\n",
    "D,v = np.linalg.eigh(cov_mat_r)\n",
    "# help(np.linalg.eigh)\n",
    "\n",
    "eigenvals = D[::-1]  # put them in a descended order"
   ]
  },
  {
   "cell_type": "code",
   "execution_count": 110,
   "metadata": {},
   "outputs": [
    {
     "data": {
      "text/plain": [
       "array([6.10586705e-01, 1.21634684e-03, 9.93564277e-04, 9.55523729e-04,\n",
       "       8.99331243e-04, 8.00826312e-04, 6.63271965e-04, 5.99972037e-04,\n",
       "       4.61206638e-04, 9.85217909e-17])"
      ]
     },
     "execution_count": 110,
     "metadata": {},
     "output_type": "execute_result"
    }
   ],
   "source": [
    "# the largest eigenvalue is the market factor \n",
    "eigenvals[0:10]"
   ]
  },
  {
   "cell_type": "code",
   "execution_count": 111,
   "metadata": {},
   "outputs": [
    {
     "data": {
      "image/png": "[encoded data removed]",
      "text/plain": [
       "<Figure size 432x288 with 1 Axes>"
      ]
     },
     "metadata": {
      "needs_background": "light"
     },
     "output_type": "display_data"
    }
   ],
   "source": [
    "# plot the histogram of eigenvalues\n",
    "\n",
    "n, bins, patches = plt.hist(x=eigenvals, bins=12, color='#0504aa',\n",
    "                            alpha=0.7, rwidth=0.85)\n",
    "# n, bins, patches = plt.hist(x=eigenvals, bins='auto', color='#0504aa',\n",
    "#                             alpha=0.7, rwidth=0.85)\n",
    "\n",
    "\n",
    "\n",
    "plt.grid(axis='y', alpha=0.75)\n",
    "\n",
    "# x = np.arange(1,len(eigenvals)+1)\n",
    "# y = eigenvals\n",
    "# plt.scatter(x,y)\n",
    "plt.xlabel('Eigenvalues')\n",
    "plt.ylabel('Counts')\n",
    "plt.title('Eigenvalues of the synthetic covariance matrix')\n",
    "plt.show()"
   ]
  },
  {
   "cell_type": "markdown",
   "metadata": {},
   "source": [
    "### Make the initial portfolio "
   ]
  },
  {
   "cell_type": "code",
   "execution_count": 141,
   "metadata": {},
   "outputs": [],
   "source": [
    "# consider here two choices: an equally-weighted and price-weighted portfolio\n",
    "\n",
    "init_port_choice = 'equally_weighted'  # 'equal'\n",
    "\n",
    "init_cash = 1000.0\n",
    "init_total_asset = np.sum(init_asset_vals)\n",
    "\n",
    "# first allocate a 2D array for holdings\n",
    "x_vals = np.zeros((num_steps, num_assets))\n",
    "\n",
    "if init_port_choice == 'equally_weighted':\n",
    "    amount_per_asset = init_cash/init_total_asset\n",
    "    x_vals[0,:] = amount_per_asset * init_asset_vals\n",
    "    \n",
    "elif init_port_choice == 'equal': # 'price_weighted':\n",
    "    # hold equal amounts in each asset\n",
    "    amount_per_asset = init_cash/num_assets\n",
    "    x_vals[0,:] = amount_per_asset * np.ones(num_assets)\n",
    "    "
   ]
  },
  {
   "cell_type": "markdown",
   "metadata": {},
   "source": [
    "### Make the target portfolio"
   ]
  },
  {
   "cell_type": "code",
   "execution_count": 160,
   "metadata": {},
   "outputs": [
    {
     "name": "stdout",
     "output_type": "stream",
     "text": [
      "900.0 1127.0904445726783\n"
     ]
    }
   ],
   "source": [
    "# make a target portfolio term structure by defining it as the initial portfolio growing at some fixed and high rate\n",
    "\n",
    "target_portfolio = [init_cash]\n",
    "\n",
    "target_return = 0.1 # 0.20\n",
    "\n",
    "for i in range(1,num_steps):\n",
    "    target_portfolio.append(target_portfolio[i-1]*np.exp(dt * target_return) )\n",
    "    \n",
    "target_portfolio = 0.9*np.array(target_portfolio)    \n",
    "print(target_portfolio[0], target_portfolio[-1])"
   ]
  },
  {
   "cell_type": "markdown",
   "metadata": {},
   "source": [
    "### Make asset holding data"
   ]
  },
  {
   "cell_type": "code",
   "execution_count": 161,
   "metadata": {},
   "outputs": [],
   "source": [
    " # use model parameters for this simulation\n",
    "lambd = 1.0\n",
    "eta = 10.0 # 2.0 # 0.5\n",
    "beta = 0.2\n",
    "gamma = 0.99 # 0.95\n",
    "\n",
    "Sigma_r = cov_mat_r"
   ]
  },
  {
   "cell_type": "code",
   "execution_count": 152,
   "metadata": {},
   "outputs": [
    {
     "name": "stdout",
     "output_type": "stream",
     "text": [
      "[13.76740026 12.99008784 14.24132744  5.04054902  6.52683013]\n"
     ]
    }
   ],
   "source": [
    "# Use the analytic expression for LQG (Linear-Quadratic-G-learning) to obtain the holdings\n",
    "\n",
    "optimal_actions = np.zeros((num_steps, num_assets))\n",
    "suboptimal_actions = np.zeros((num_steps, num_assets))\n",
    "\n",
    "# suboptimal actions will be obtained by a uniform randomization of optimal actions\n",
    "noise_coeff_a = 0.15\n",
    "\n",
    "# use the previously created array x_vals for values obtained with optimal actions, \n",
    "# and also create an array for values obtained with sub-optimal actions\n",
    "\n",
    "x_subopt_vals = np.zeros((num_steps, num_assets))\n",
    "\n",
    "# seed with the same initial value\n",
    "x_subopt_vals[0,:] = x_vals[0,:]\n",
    "\n",
    "# prev_x_vals = x_vals[0,:]\n",
    "# prev_x_subopt_vals = x_subopt_vals[0,:]\n",
    "\n",
    "# forward run to create two simulated sets of state variables\n",
    "for t in range(1, num_steps):\n",
    "    exp_ret_t = expected_returns[t,:]\n",
    "    exp_ret_t_v = exp_ret_t[:, np.newaxis]\n",
    "    one_plus_exp_ret = np.ones(num_assets)[:,np.newaxis] + exp_ret_t_v\n",
    "    #if use_for_WM:\n",
    "    Sigma_hat = Sigma_r + one_plus_exp_ret.dot(one_plus_exp_ret.T)\n",
    "    Sigma_tilde = Sigma_hat + (eta/lambd)*np.eye(num_assets)\n",
    "            \n",
    "    # P_tilde is a column vector\n",
    "    P_tilde = (target_portfolio[t]*one_plus_exp_ret - \n",
    "                            (1.0/(2*lambd))*np.ones(num_assets)[:,np.newaxis]\n",
    "                           )\n",
    "        \n",
    "    Sigma_tilde_inv = np.linalg.pinv(Sigma_tilde)\n",
    "            \n",
    "    # compute P_aux \\equiv P_tilde - Sigma_hat.dot(x)\n",
    "    \n",
    "    # here by 'x' we should mean the current time-t value, which is obtained as \n",
    "    # (1+r_t dt) * (x_{t-1} + a_{t-1})\n",
    "    \n",
    "    P_aux_1 = Sigma_hat.dot(x_vals[t-1,:])\n",
    "    # P_aux_1 = Sigma_hat.dot(x_vals[t,:])\n",
    "    \n",
    "    P_aux = P_tilde - P_aux_1[:,np.newaxis]\n",
    "            \n",
    "    # the locally optimal action\n",
    "    optimal_actions[t,:] = Sigma_tilde_inv.dot(P_aux.reshape(-1))\n",
    "    \n",
    "    # randomize the optimal action\n",
    "    noise_factors = np.random.uniform(low=1-noise_coeff_a, high=1+noise_coeff_a, size=num_assets)\n",
    "    suboptimal_actions[t,:] = noise_factors * optimal_actions[t,:]\n",
    "    \n",
    "    # new values at time t+0\n",
    "    x_vals[t,:] = x_vals[t-1,:] + optimal_actions[t,:]\n",
    "    x_subopt_vals[t,:] = x_subopt_vals[t-1,:] + suboptimal_actions[t,:]\n",
    "    \n",
    "    # grow both using realized returns\n",
    "    realized_rets = asset_returns[t,:]\n",
    "    \n",
    "    x_vals[t,:] = (np.ones(num_assets) + dt * realized_rets) * x_vals[t,:]\n",
    "    x_subopt_vals[t,:] = (np.ones(num_assets) + dt * realized_rets)* x_subopt_vals[t,:]\n",
    "    \n",
    "    #x_vals[t,:] = (np.ones(num_assets) +  realized_rets) * x_vals[t,:]\n",
    "    #x_subopt_vals[t,:] = (np.ones(num_assets) + realized_rets)* x_subopt_vals[t,:]\n",
    "    \n",
    "    # that would serve as 'prev_x_vals' for the next step\n",
    "#     prev_x_vals = x_vals[t-1,:] \n",
    "#     prev_x_subopt_vals = x_subopt_vals[t-1,:] + suboptimal_actions[t,:]\n",
    "    \n",
    "    # pass these values as initial values for step t+1\n",
    "    \n",
    "print(x_vals[0,0:5])    "
   ]
  },
  {
   "cell_type": "markdown",
   "metadata": {},
   "source": [
    "### Check the resulting holdings dynamics"
   ]
  },
  {
   "cell_type": "code",
   "execution_count": 153,
   "metadata": {},
   "outputs": [
    {
     "data": {
      "image/png": "[encoded data removed]",
      "text/plain": [
       "<Figure size 432x288 with 1 Axes>"
      ]
     },
     "metadata": {
      "needs_background": "light"
     },
     "output_type": "display_data"
    }
   ],
   "source": [
    "# two representative holding profiles\n",
    "idx_1 = 3\n",
    "idx_2 = 4\n",
    "\n",
    "plt.plot(x_vals[:,idx_1],label='asset %d' % idx_1)\n",
    "plt.plot(x_vals[:,idx_2],label='asset %d' % idx_2)\n",
    "# plt.plot(asset_returns[:,asset_idx],label='realized_return',color='r')\n",
    "plt.legend()\n",
    "plt.xlabel('Time Steps')\n",
    "plt.title('Position values in different assets')\n",
    "plt.show()\n"
   ]
  },
  {
   "cell_type": "code",
   "execution_count": 154,
   "metadata": {},
   "outputs": [
    {
     "data": {
      "image/png": "[encoded data removed]",
      "text/plain": [
       "<Figure size 432x288 with 1 Axes>"
      ]
     },
     "metadata": {
      "needs_background": "light"
     },
     "output_type": "display_data"
    }
   ],
   "source": [
    "# how the same position values look like for randomized actions?\n",
    "\n",
    "plt.plot(x_subopt_vals[:,idx_1],label='asset %d' % idx_1)\n",
    "plt.plot(x_subopt_vals[:,idx_2],label='asset %d' % idx_2)\n",
    "# plt.plot(asset_returns[:,asset_idx],label='realized_return',color='r')\n",
    "plt.legend()\n",
    "plt.xlabel('Time Steps')\n",
    "plt.title('Position values with randomized actions')\n",
    "plt.show()\n",
    "\n"
   ]
  },
  {
   "cell_type": "code",
   "execution_count": 155,
   "metadata": {},
   "outputs": [
    {
     "data": {
      "image/png": "[encoded data removed]",
      "text/plain": [
       "<Figure size 432x288 with 1 Axes>"
      ]
     },
     "metadata": {
      "needs_background": "light"
     },
     "output_type": "display_data"
    }
   ],
   "source": [
    "idx_1 = 1 #0 #3\n",
    "idx_2 = 7 # 1 #4\n",
    "\n",
    "plt.plot(x_vals[:,idx_1],label='asset %d' % idx_1)\n",
    "plt.plot(x_vals[:,idx_2],label='asset %d' % idx_2)\n",
    "# plt.plot(asset_returns[:,asset_idx],label='realized_return',color='r')\n",
    "plt.legend()\n",
    "plt.xlabel('Time Steps')\n",
    "plt.title('Position values in different assets')\n",
    "plt.show()"
   ]
  },
  {
   "cell_type": "markdown",
   "metadata": {},
   "source": [
    "## Train G-learning on simulated portfolio data"
   ]
  },
  {
   "cell_type": "code",
   "execution_count": 156,
   "metadata": {},
   "outputs": [],
   "source": [
    "# np.random.seed(42)\n",
    "# exp_returns = np.random.randn(num_steps,num_assets)\n",
    "# Sigma_r = np.cov(exp_returns.T)\n",
    "\n",
    "# asset_holdings = np.random.random_integers(low=1, high=10, size=(num_steps,num_assets))\n",
    "# target_portf = np.linspace(start=1,stop=2, num = num_steps)\n",
    "\n",
    "# create a G-learner\n",
    "G_learner = G_learning_portfolio_opt(num_steps,\n",
    "                 lambd, \n",
    "                 eta,\n",
    "                 beta,\n",
    "                 gamma,                    \n",
    "                 expected_returns, # array of shape num_steps x num_stocks\n",
    "                 Sigma_r,     # covariance matrix of returns\n",
    "                 x_vals, # array of shape num_steps x num_stocks\n",
    "                 use_for_WM = True, # use for wealth management tasks\n",
    "                 target_portf=target_portfolio)\n"
   ]
  },
  {
   "cell_type": "code",
   "execution_count": 157,
   "metadata": {},
   "outputs": [
    {
     "name": "stdout",
     "output_type": "stream",
     "text": [
      "Done in 31.884035 sec\n"
     ]
    }
   ],
   "source": [
    "# Do G-learning\n",
    "\n",
    "err_tol=1.e-4 # 5.0e-5 # 1.0e-4\n",
    "max_iter=500\n",
    "\n",
    "t_0 = time.time()\n",
    "\n",
    "# G_learner.step(t=num_steps-2,err_tol=1.0e-4, max_iter=50)\n",
    "G_learner.G_learning(err_tol=err_tol, max_iter=max_iter)\n",
    "\n",
    "# print('Done in %d iterations'% G_learner.iter_count)\n",
    "print('Done in %f sec'% (time.time() - t_0))"
   ]
  },
  {
   "cell_type": "code",
   "execution_count": 158,
   "metadata": {},
   "outputs": [
    {
     "data": {
      "text/plain": [
       "array([500., 500., 500., 500., 500., 500., 500., 500., 500.,   0.])"
      ]
     },
     "execution_count": 158,
     "metadata": {},
     "output_type": "execute_result"
    }
   ],
   "source": [
    "G_learner.iter_counts"
   ]
  },
  {
   "cell_type": "code",
   "execution_count": 159,
   "metadata": {},
   "outputs": [
    {
     "data": {
      "text/plain": [
       "[<matplotlib.lines.Line2D at 0x1184e0d68>]"
      ]
     },
     "execution_count": 159,
     "metadata": {},
     "output_type": "execute_result"
    },
    {
     "data": {
      "image/png": "[encoded data removed]",
      "text/plain": [
       "<Figure size 432x288 with 1 Axes>"
      ]
     },
     "metadata": {
      "needs_background": "light"
     },
     "output_type": "display_data"
    }
   ],
   "source": [
    "# compute predicted cash installments for all steps\n",
    "\n",
    "c_t = np.zeros(num_steps)\n",
    "for t in range(num_steps):\n",
    "    c_t[t] = np.sum(G_learner.u_bar_prior[t,:] + G_learner.v_bar_prior[t,:,:].dot(x_vals[t,:]))\n",
    "\n",
    "plt.plot(c_t)"
   ]
  },
  {
   "cell_type": "code",
   "execution_count": 83,
   "metadata": {},
   "outputs": [],
   "source": [
    "# make array of expected returns of shape num_steps x num_assets\n",
    "\n",
    "num_steps = 10 \n",
    "num_assets = 12\n",
    "\n",
    "# np.random.seed(42)\n",
    "mu_last = 0.1 *np.random.rand(num_assets)\n",
    "\n",
    "# trim the data to avoid possibe outliers\n",
    "mu_min = - 0.20\n",
    "mu_max = 0.20\n",
    "\n",
    "idx_min = np.where(mu_last < mu_min)\n",
    "idx_max = np.where(mu_last > mu_max)\n",
    "\n",
    "if len(idx_min) > 0:\n",
    "    mu_last[idx_min] = mu_min\n",
    "if len(idx_max) > 0:\n",
    "    mu_last[idx_max] = mu_max\n",
    "    \n",
    "# now make a time series of expected returns by randomizing around these values across times\n",
    "\n",
    "mu_vals = np.zeros((num_steps, num_assets))\n",
    "for t in range(num_steps):\n",
    "    mu_vals[t,:] = mu_last*(np.ones(num_assets) + np.random.rand(num_assets))\n",
    "    \n",
    "# similarly trim the resulting values to trim possible outliers\n",
    "idx_min = np.where(mu_vals < mu_min)\n",
    "idx_max = np.where(mu_vals > mu_max)\n",
    "\n",
    "if len(idx_min) > 0:\n",
    "    mu_vals[idx_min] = mu_min\n",
    "if len(idx_max) > 0:\n",
    "    mu_vals[idx_max] = mu_max\n"
   ]
  },
  {
   "cell_type": "code",
   "execution_count": 84,
   "metadata": {},
   "outputs": [
    {
     "data": {
      "text/plain": [
       "array([[0.1545789 , 0.01829537],\n",
       "       [0.13645602, 0.01513566],\n",
       "       [0.08966023, 0.01659375],\n",
       "       [0.13510861, 0.01202324],\n",
       "       [0.16516362, 0.01561039],\n",
       "       [0.14719501, 0.01578467],\n",
       "       [0.11223932, 0.01425752],\n",
       "       [0.09782181, 0.01355788],\n",
       "       [0.12738013, 0.01005542],\n",
       "       [0.08728345, 0.01255997]])"
      ]
     },
     "execution_count": 84,
     "metadata": {},
     "output_type": "execute_result"
    }
   ],
   "source": [
    "mu_vals[:,0:2]"
   ]
  },
  {
   "cell_type": "code",
   "execution_count": 85,
   "metadata": {},
   "outputs": [
    {
     "data": {
      "text/plain": [
       "(10, 12)"
      ]
     },
     "execution_count": 85,
     "metadata": {},
     "output_type": "execute_result"
    }
   ],
   "source": [
    "mu_vals.shape"
   ]
  },
  {
   "cell_type": "code",
   "execution_count": 86,
   "metadata": {},
   "outputs": [
    {
     "data": {
      "text/plain": [
       "(12, 12)"
      ]
     },
     "execution_count": 86,
     "metadata": {},
     "output_type": "execute_result"
    }
   ],
   "source": [
    "# now make a covariance matrix of asset returns\n",
    "# make it by taking cov of realized values of mu\n",
    "\n",
    "# cov_mat = np.cov((0.1* np.ones((num_steps, num_assets)) + mu_vals).T)\n",
    "\n",
    "# shrink the covariance matrix of mu to a unit matrix to make it better conditioned\n",
    "shrink_coeff = 0.1\n",
    "\n",
    "cov_mat = (1 - shrink_coeff) * np.cov(mu_vals.T) + shrink_coeff*np.eye(num_assets)\n",
    "cov_mat.shape"
   ]
  },
  {
   "cell_type": "code",
   "execution_count": 87,
   "metadata": {},
   "outputs": [
    {
     "data": {
      "text/plain": [
       "1.0361343044833327e-12"
      ]
     },
     "execution_count": 87,
     "metadata": {},
     "output_type": "execute_result"
    }
   ],
   "source": [
    "np.linalg.det(cov_mat)"
   ]
  },
  {
   "cell_type": "code",
   "execution_count": 88,
   "metadata": {},
   "outputs": [
    {
     "data": {
      "text/plain": [
       "array([0.10130617, 0.10106483, 0.10069567, 0.10025606, 0.10013889,\n",
       "       0.10006991, 0.10002851, 0.10000533, 0.10000126, 0.1       ,\n",
       "       0.1       , 0.1       ])"
      ]
     },
     "execution_count": 88,
     "metadata": {},
     "output_type": "execute_result"
    }
   ],
   "source": [
    "D,v = np.linalg.eigh(cov_mat)\n",
    "# help(np.linalg.eigh)\n",
    "\n",
    "eigenvals = D[::-1]  \n",
    "eigenvals"
   ]
  },
  {
   "cell_type": "code",
   "execution_count": 89,
   "metadata": {},
   "outputs": [
    {
     "data": {
      "image/png": "[encoded data removed]",
      "text/plain": [
       "<Figure size 432x288 with 1 Axes>"
      ]
     },
     "metadata": {
      "needs_background": "light"
     },
     "output_type": "display_data"
    }
   ],
   "source": [
    "D,v = np.linalg.eigh(cov_mat)\n",
    "# help(np.linalg.eigh)\n",
    "\n",
    "eigenvals = D[::-1]  # put them in a descended order\n",
    "\n",
    "# plot\n",
    "n, bins, patches = plt.hist(x=eigenvals, bins='auto', color='#0504aa',\n",
    "                            alpha=0.7, rwidth=0.85)\n",
    "plt.grid(axis='y', alpha=0.75)\n",
    "\n",
    "# x = np.arange(1,len(eigenvals)+1)\n",
    "# y = eigenvals\n",
    "# plt.scatter(x,y)\n",
    "plt.xlabel('Eigenvalues')\n",
    "plt.ylabel('Counts')\n",
    "plt.title('Eigenvalues of the synthetic covariance matrix')\n",
    "plt.show()"
   ]
  },
  {
   "cell_type": "code",
   "execution_count": 91,
   "metadata": {},
   "outputs": [],
   "source": [
    "# from my old code:\n",
    "def GenerateNdLognormal(timeLine,\n",
    "                        numPaths,\n",
    "                        numFactors,\n",
    "                        initValues,\n",
    "                        vols,\n",
    "                        meanVals,\n",
    "                        corrMat):\n",
    "    \"\"\"\n",
    "    Simulate multivariate lognormal process\n",
    "    \"\"\"\n",
    "    \n",
    "    # First generate independent normal variates\n",
    "    # then mix them using Choleski decomposition\n",
    "    # then use these values to construct increments of individual components\n",
    "\n",
    "    numSteps = len(timeLine)\n",
    "    \n",
    "    aMat = sp.linalg.cholesky(corrMat)\n",
    "\n",
    "    sVals = sp.zeros((numSteps+1,numPaths,numFactors),'float')  # matrix of stock values\n",
    "    sVals[0,:,:] = tile(initValues.reshape(-1,1),(numPaths,1))        \n",
    "\n",
    "    #seed(500000)\n",
    "    randNorm = np.random.randn((numSteps,numPaths,numFactors)) # random numbers\n",
    "        \n",
    "    for i in range(1,numSteps):\n",
    "        thisRandNorm = np.dot(aMat,randNorm[i,:,:])\n",
    "        sVals[i,:,:] = sVals[i-1,:,:] * np.exp((self.mu - 0.5*self.vol**2)*self.dt + \n",
    "                                                         self.vol*np.sqrt(self.dt)*thisRandNorm[i,:])"
   ]
  },
  {
   "cell_type": "code",
   "execution_count": 25,
   "metadata": {},
   "outputs": [],
   "source": [
    "# copy from Matthew's cell\n",
    "from scipy import random, linalg\n",
    "import numpy as np\n",
    "\n",
    "# n_assets = 10 \n",
    "# nt = 10 # number of time steps\n",
    "N = 100 # Number of scenarios\n",
    "vol = 0.2\n",
    "\n",
    "# use the covariance matrix we constructed to simulate correlated returns\n",
    "L = np.linalg.cholesky(cov_mat)\n",
    "\n",
    "# A = np.eye(num_assets) + 0.3*random.rand(num_assets ,num_assets)\n",
    "# B = np.dot(A,A.transpose())\n",
    "# L = np.linalg.cholesky(B)\n",
    "\n",
    "# use random initial values of assets\n",
    "S0 = 50*np.ones(num_assets) + 100.0 * np.random.rand(num_assets)\n",
    "\n",
    "# override values that are too small or negative\n",
    "min_S0 = 5\n",
    "bad_idx = np.where(S0 < min_S0)[0]\n",
    "if len(bad_idx) > 0:\n",
    "    S0[bad_idx] = S0\n",
    "\n",
    "# allocate matrix of realized returns    \n",
    "rets = np.array([0]*num_assets * N * num_steps, dtype='float64').reshape(num_steps, num_assets, N)\n",
    "\n",
    "for t in range(num_steps-1):\n",
    "    Z = np.random.randn(num_assets,N)\n",
    "    rets[t,:,:] = 0.1*(np.kron(mu_vals[t,:],np.ones(N)).reshape(num_assets, N) + vol * np.inner(L,Z.T))\n",
    "\n"
   ]
  },
  {
   "cell_type": "code",
   "execution_count": 26,
   "metadata": {},
   "outputs": [
    {
     "data": {
      "image/png": "[encoded data removed]",
      "text/plain": [
       "<Figure size 432x288 with 1 Axes>"
      ]
     },
     "metadata": {
      "needs_background": "light"
     },
     "output_type": "display_data"
    }
   ],
   "source": [
    "plt.plot(rets[:,0:10,0])\n",
    "plt.show()"
   ]
  },
  {
   "cell_type": "code",
   "execution_count": null,
   "metadata": {},
   "outputs": [],
   "source": []
  }
 ],
 "metadata": {
  "kernelspec": {
   "display_name": "Python 3",
   "language": "python",
   "name": "python3"
  },
  "language_info": {
   "codemirror_mode": {
    "name": "ipython",
    "version": 3
   },
   "file_extension": ".py",
   "mimetype": "text/x-python",
   "name": "python",
   "nbconvert_exporter": "python",
   "pygments_lexer": "ipython3",
   "version": "3.6.8"
  }
 },
 "nbformat": 4,
 "nbformat_minor": 2
}
