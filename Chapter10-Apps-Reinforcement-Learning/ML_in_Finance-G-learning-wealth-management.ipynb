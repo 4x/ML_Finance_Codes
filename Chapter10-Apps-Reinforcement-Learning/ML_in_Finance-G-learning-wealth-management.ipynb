{
 "cells": [
  {
   "cell_type": "code",
   "execution_count": null,
   "metadata": {},
   "outputs": [],
   "source": [
    "# ML_in_Finance-G-learning-wealth-management\n",
    "# Author: Igor Halperin\n",
    "# Version: 1.0 (12.8.2019)\n",
    "# License: MIT\n",
    "# Email: ighalp@gmail.com\n",
    "# Notes: tested on Mac OS X with Python 3.6 and Tensorflow 1.3.0\n",
    "# Citation: Please cite the following reference if this notebook is used for research purposes:\n",
    "# Bilokon P., Dixon M.F. and I. Halperin, Machine Learning in Finance: From Theory to Practice, Springer Graduate textbook Series, 2020. "
   ]
  },
  {
   "cell_type": "markdown",
   "metadata": {},
   "source": [
    "## G-learning for wealth optimization\n",
    "\n",
    "Using G-learning with quadratic rewards for optimization of defined contribution retirement plan"
   ]
  },
  {
   "cell_type": "code",
   "execution_count": 1,
   "metadata": {},
   "outputs": [],
   "source": [
    "import numpy as np\n",
    "import matplotlib\n",
    "matplotlib.use('Agg')\n",
    "import matplotlib.pyplot as plt \n",
    "%matplotlib inline\n",
    "\n",
    "import numpy as np\n",
    "import time\n",
    "\n",
    "#To ignore warnings that are annoying.\n",
    "import warnings\n",
    "warnings.filterwarnings('ignore')"
   ]
  },
  {
   "cell_type": "code",
   "execution_count": 2,
   "metadata": {},
   "outputs": [],
   "source": [
    "class G_learning_portfolio_opt:\n",
    "    \n",
    "    def __init__(self, \n",
    "                 num_steps,\n",
    "                 lambd, \n",
    "                 Omega_mat, # of shape (num_risky_assets + 1)x(num_risky_assets + 1) \n",
    "                 beta,\n",
    "                 gamma, \n",
    "                 num_risky_assets,\n",
    "                 riskfree_rate,\n",
    "                 exp_returns, # array of shape num_steps x num_stocks\n",
    "                 Sigma_r,     # covariance matrix of returns of risky assets\n",
    "                 init_x_vals, # array of initial asset position values (num_risky_assets + 1)\n",
    "                 use_for_WM = True, # use for wealth management tasks\n",
    "                 target_portf=None):\n",
    "        \n",
    "        \n",
    "        self.num_steps = num_steps\n",
    "        self.lambd = lambd\n",
    "        \n",
    "        #self.eta = eta\n",
    "        self.Omega_mat = Omega_mat\n",
    "        \n",
    "        self.beta = beta\n",
    "        self.gamma = gamma\n",
    "        self.use_for_WM = use_for_WM\n",
    "        \n",
    "        self.num_risky_assets = num_risky_assets\n",
    "        self.r_f = riskfree_rate\n",
    "        \n",
    "        self.num_assets = num_risky_assets + 1 # exp_returns.shape[1]\n",
    "        \n",
    "        assert exp_returns.shape[0] == self.num_steps\n",
    "        assert Sigma_r.shape[0] == Sigma_r.shape[1]\n",
    "        assert Sigma_r.shape[0] == num_risky_assets # self.num_assets\n",
    "        \n",
    "        self.Sigma_r = Sigma_r # array of shape num_stocks x num_stocks\n",
    "        \n",
    "        # arrays of returns for all assets including the risk-free asset\n",
    "        # array of shape num_steps x (num_stocks + 1) \n",
    "        self.exp_returns = np.hstack((self.r_f * np.ones(self.num_steps).reshape((-1,1)), exp_returns))\n",
    "                                      \n",
    "        # make block-matrix Sigma_r_tilde with Sigma_r_tilde[0,0] = 0, and equity correlation matrix inside\n",
    "        self.Sigma_r_tilde = np.zeros((self.num_assets, self.num_assets))\n",
    "        self.Sigma_r_tilde[1:,1:] = self.Sigma_r\n",
    "        \n",
    "        # asset holding values for all times. Initialize with initial values, \n",
    "        # values for the future times will be expected values \n",
    "        self.x_vals = np.zeros((self.num_steps, self.num_assets))\n",
    "        self.x_vals[0,:] = init_x_vals \n",
    "        \n",
    "        if self.use_for_WM:\n",
    "                self.target_portf = target_portf\n",
    "                assert len(self.target_portf) == self.num_steps\n",
    "#       else:\n",
    "#           raise (RuntimeError, \"A target portfolio profile is required\")\n",
    "                \n",
    "        # allocate memory for coefficients of F- and G-functions\n",
    "        self.F_xx = np.zeros((self.num_steps, self.num_assets, self.num_assets))\n",
    "        self.F_x = np.zeros((self.num_steps, self.num_assets))\n",
    "        self.F_0 = np.zeros(self.num_steps)\n",
    "        \n",
    "        self.Q_xx = np.zeros((self.num_steps, self.num_assets, self.num_assets))\n",
    "        self.Q_uu = np.zeros((self.num_steps, self.num_assets, self.num_assets))\n",
    "        self.Q_ux = np.zeros((self.num_steps, self.num_assets, self.num_assets))\n",
    "        self.Q_x = np.zeros((self.num_steps, self.num_assets))\n",
    "        self.Q_u = np.zeros((self.num_steps, self.num_assets))\n",
    "        self.Q_0 = np.zeros(self.num_steps)\n",
    "        \n",
    "        # optimal actions for all assets (only used for the final step)\n",
    "#         self.opt_action = np.zeros((self.num_steps,self.num_assets))\n",
    "        \n",
    "        # initialize time-dependent parameters of prior policy \n",
    "        self.u_bar_prior = np.zeros((self.num_steps,self.num_assets))\n",
    "        self.v_bar_prior =  np.zeros((self.num_steps, self.num_assets, self.num_assets))\n",
    "        self.Sigma_prior =  np.zeros((self.num_steps, self.num_assets, self.num_assets))\n",
    "        self.Sigma_prior_inv = np.zeros((self.num_steps, self.num_assets, self.num_assets))\n",
    "        \n",
    "        # make each time elements of v_bar_prior and Sigma_prior proportional to the unit matrix\n",
    "        for t in range(self.num_steps):\n",
    "            self.v_bar_prior[t,:,:] = 0.1 * np.eye(self.num_assets)\n",
    "            self.Sigma_prior[t,:,:] = 0.1 * np.eye(self.num_assets)\n",
    "            self.Sigma_prior_inv[t,:,:] = np.linalg.inv(self.Sigma_prior[t,:,:])\n",
    "            \n",
    "        # expected cash installment for all steps\n",
    "        self.expected_c_t = np.zeros(self.num_steps)\n",
    "        \n",
    "        # expected portfolio values for all times\n",
    "        self.expected_portf_val = np.zeros(self.num_steps)\n",
    "        \n",
    "        # the first value is the sum of initial position values\n",
    "        self.expected_portf_val[0] = np.sum(self.x_vals[0,:])\n",
    "    \n",
    "    def reward_fun(self, t, x_vals, u_vals, exp_rets, lambd, Sigma_hat):\n",
    "        \"\"\"\n",
    "        The reward function \n",
    "        \"\"\"\n",
    "        x_plus = x_vals + u_vals\n",
    "        aux_1 = - self.lambd * self.target_portf[t]**2\n",
    "        aux_2 = - np.sum(u_vals)\n",
    "        aux_3 = 2*self.lambd * self.target_portf[t] * x_plus.dot(np.ones(num_assets) + exp_rets)\n",
    "        aux_4 = - self.lambd * x_plus.dot(Sigma_hat.dot(x_plus))\n",
    "        aux_5 = - u.dot(self.Omega_mat.dot(u))\n",
    "        \n",
    "        return aux_1 + aux_2 + aux_3 + aux_4 + aux_5  \n",
    "    \n",
    "    def project_cash_injections(self):\n",
    "        \"\"\"\n",
    "        Compute the expected values of future asset positions, and the expected cash injection for future steps\n",
    "        \"\"\"\n",
    "        \n",
    "        # this assumes that the policy is trained\n",
    "        for t in range(1, self.num_steps):  # the initial value is fixed \n",
    "            \n",
    "            # increment the previous x_t\n",
    "            \n",
    "            delta_x_t = self.u_bar_prior[t,:] + self.v_bar_prior[t,:,:].dot(self.x_vals[t-1,:])\n",
    "            self.x_vals[t,:] = self.x_vals[t-1,:] + delta_x_t\n",
    "            \n",
    "            # grow using the expected return\n",
    "            self.x_vals[t,:] = (np.ones(self.num_assets)+ self.exp_returns[t,:])*self.x_vals[t,:]\n",
    "            \n",
    "            # compute c_t\n",
    "            self.expected_c_t[t] = np.sum(delta_x_t)\n",
    "            \n",
    "            # expected portfolio value for this step\n",
    "            self.expected_portf_val[t] = np.sum(self.x_vals[t,:])\n",
    "            \n",
    "                                                                                      \n",
    "    def set_terminal_conditions(self):\n",
    "        \"\"\"\n",
    "        set the terminal condition for the F-function\n",
    "        \"\"\"\n",
    "        \n",
    "        # auxiliary quantities to perform matrix calculations\n",
    "        exp_ret_T = self.exp_returns[-1,:]\n",
    "        exp_ret_T_v = exp_ret_T[:, np.newaxis]\n",
    "        one_plus_exp_ret = np.ones(self.num_assets)[:,np.newaxis] + exp_ret_T_v\n",
    "        \n",
    "        if self.use_for_WM:\n",
    "            # Sigma_hat = self.Sigma_r + one_plus_exp_ret.dot(one_plus_exp_ret.T)\n",
    "            Sigma_hat = self.Sigma_r_tilde + one_plus_exp_ret.dot(one_plus_exp_ret.T)\n",
    "            \n",
    "            Sigma_hat_inv = np.linalg.pinv(Sigma_hat)\n",
    "            \n",
    "            #Sigma_tilde = Sigma_hat + (self.eta/self.lambd)*np.eye(self.num_assets)\n",
    "            Sigma_tilde = Sigma_hat + (1/self.lambd)*self.Omega_mat\n",
    "            \n",
    "            Sigma_tilde_inv = np.linalg.pinv(Sigma_tilde)\n",
    "            \n",
    "            Sigma_hat_sigma_tilde = Sigma_hat.dot(Sigma_tilde)\n",
    "            Sigma_tilde_inv_sig_hat = Sigma_tilde_inv.dot(Sigma_hat)\n",
    "            \n",
    "            Sigma_tilde_sigma_hat = Sigma_tilde.dot(Sigma_hat)\n",
    "            \n",
    "            Theta_m = np.eye(self.num_assets) - Sigma_tilde_inv.dot(Sigma_hat) \n",
    "            \n",
    "            P_T = self.target_portf[-1]\n",
    "    \n",
    "            # P_tilde is a column vector\n",
    "            P_tilde = P_T * one_plus_exp_ret - (1.0/(2*self.lambd))*np.ones(self.num_assets)[:,np.newaxis]\n",
    "                           \n",
    "            # compute P_aux \\equiv P_tilde - Sigma_hat.dot(x)\n",
    "            #P_aux_1 = Sigma_hat.dot(self.x_vals[-1,:])\n",
    "            #P_aux = P_tilde - P_aux_1[:,np.newaxis]\n",
    "            \n",
    "            # the last action\n",
    "            #self.opt_action[-1,:] = Sigma_tilde_inv.dot(P_aux.reshape(-1))\n",
    "            \n",
    "            # though the action at the last step is deterministic, we can feed \n",
    "            # parameters of the prior with these values\n",
    "            self.u_bar_prior[-1,:] = Sigma_tilde_inv.dot(P_tilde.reshape(-1))\n",
    "            self.v_bar_prior[-1,:,:] = - Sigma_tilde_inv.dot(Sigma_hat)\n",
    "            \n",
    "            #self.c_t[-1] = np.sum(self.opt_action[-1,:])\n",
    "            \n",
    "            # the coefficients of F-function for the last step\n",
    "            \n",
    "            # F_xx\n",
    "#             self.F_xx[-1,:,:] = (- self.lambd*Sigma_hat.dot(np.eye(self.num_assets)\n",
    "#                                                            - Sigma_tilde_inv.dot(Sigma_hat)))\n",
    "            self.F_xx[-1,:,:] = (- self.lambd * Theta_m.T.dot(Sigma_hat.dot(Theta_m))\n",
    "                                 - Sigma_tilde_inv_sig_hat.T.dot(self.Omega_mat.dot(Sigma_tilde_inv_sig_hat))\n",
    "                                 )\n",
    "                                 \n",
    "                                 \n",
    "            \n",
    "            # F_x\n",
    "            Sigma_hat_Sigma_tilde_inv = Sigma_hat.dot(Sigma_tilde_inv)\n",
    "            \n",
    "            #One_minus_Sigma_hat_til = np.eye(self.num_assets) - Sigma_hat_Sigma_til # Use Theta_m\n",
    "            \n",
    "#             self.F_x[-1,:] =  (Sigma_hat_Sigma_til.dot(np.ones(self.num_assets))+ \n",
    "#                                2*self.lambd*self.target_portf[-1]*\n",
    "#                                One_minus_Sigma_hat_til.dot(one_plus_exp_ret.reshape(-1)))\n",
    "            \n",
    "            aux_1x = Sigma_hat_Sigma_tilde_inv.dot(np.ones(self.num_assets))\n",
    "            aux_2x = 2*self.lambd * P_T * Theta_m.T.dot(one_plus_exp_ret.reshape(-1))\n",
    "            aux_3x = - 2*self.lambd * (Theta_m.T.dot(Sigma_hat_Sigma_tilde_inv.dot(P_tilde))).reshape(-1)\n",
    "            aux_4x = 2 * (Sigma_hat_Sigma_tilde_inv.dot(self.Omega_mat.dot(Sigma_tilde_inv.dot(P_tilde)))).reshape(-1)\n",
    "            #print('In  set_terminal_conditions: aux_1x etc shapes:')\n",
    "            #print(aux_1x.shape,aux_2x.shape, aux_3x.shape,aux_4x.shape)\n",
    "    \n",
    "    \n",
    "            self.F_x[-1,:] = aux_1x + aux_2x + aux_3x + aux_4x\n",
    "        \n",
    "#             self.F_x[-1,:] =  (Sigma_hat_Sigma_tilde_inv.dot(np.ones(self.num_assets))\n",
    "#                                + 2*self.lambd * P_T * Theta_m.T.dot(one_plus_exp_ret.reshape(-1)).reshape(-1)\n",
    "#                                - 2*self.lambd * Theta_m.T.dot(Sigma_hat_Sigma_tilde_inv.dot(P_tilde)).reshape(-1)\n",
    "#                                + 2*Sigma_hat_Sigma_tilde_inv.dot(self.Omega_mat.dot(Sigma_tilde_inv.dot(P_tilde)))\n",
    "#                               )\n",
    "        \n",
    "\n",
    "            #print('self.F_x[-1,:].shape = ', self.F_x[-1,:].shape) \n",
    "            \n",
    "            # F_0\n",
    "            P_tilde_Sigma_aux = P_tilde.reshape(-1).dot(Sigma_tilde_inv)\n",
    "            Sigma_P_tilde_aux =  Sigma_tilde_inv.dot(P_tilde.reshape(-1)) # P_tilde_Sigma_aux.T #\n",
    "            \n",
    "            \n",
    "#             self.F_0[-1] = (P_tilde_Sigma_aux.dot(np.ones(self.num_assets))\n",
    "#                             - self.lambd * P_tilde_Sigma_aux.dot(self.P_tilde.reshape(-1))\n",
    "#                             + 2*self.lambd * one_plus_exp_ret.reshape(-1).dot(Sigma_P_tilde_aux)\n",
    "#                             - self.lambd * P_T**2)\n",
    " \n",
    "            aux_0 = - self.lambd * P_T**2\n",
    "            aux_1 =  - P_tilde.T.dot(Sigma_tilde_inv.dot(np.ones(self.num_assets)))[0] # this is a matrix of size 1x1        \n",
    "            aux_2 = 2*self.lambd * P_T * one_plus_exp_ret.reshape(-1).dot(Sigma_P_tilde_aux)\n",
    "            aux_3 = - self.lambd * P_tilde_Sigma_aux.dot(Sigma_hat.dot(Sigma_P_tilde_aux))\n",
    "            aux_4 =  -  P_tilde_Sigma_aux.dot(self.Omega_mat.dot(Sigma_P_tilde_aux))\n",
    "    \n",
    "            #print('In set_terminal_conditions: shapes')\n",
    "            #print(aux_1.shape, aux_2.shape, aux_3.shape, aux_4.shape)\n",
    "            #print('aux_1 = ', aux_1)\n",
    "        \n",
    "            self.F_0[-1] =  aux_0 + aux_1 + aux_2 + aux_3 + aux_4\n",
    "            \n",
    "            #print('self.F_0[-1]: done')\n",
    "\n",
    "#             self.F_0[-1] = (- self.lambd * P_T**2 \n",
    "#                             - P_tilde.T.dot(Sigma_tilde_inv.dot(np.ones(self.num_assets)))\n",
    "#                             + 2*self.lambd * P_T * one_plus_exp_ret.reshape(-1).dot(\n",
    "#                                                     Sigma_P_tilde_aux.dot(P_tilde.reshape(-1)))\n",
    "#                             - self.lambd * P_tilde_Sigma_aux.dot(Sigma_hat.dot(Sigma_P_tilde_aux)) \n",
    "#                             -  P_tilde_Sigma_aux.dot(self.Omega_mat.dot(Sigma_P_tilde_aux))\n",
    "                           \n",
    "#                             )\n",
    "\n",
    "            \n",
    "            \n",
    "    \n",
    "    \n",
    "    def G_learning(self, err_tol, max_iter):\n",
    "        \"\"\"\n",
    "        find the optimal policy for the time dependent policy\n",
    "        \n",
    "        \"\"\"\n",
    "        \n",
    "        print('Doing G-learning, it may take a few seconds...')\n",
    "        \n",
    "        # set terminal conditions\n",
    "        self.set_terminal_conditions()\n",
    "        \n",
    "        # allocate iteration numbers for all steps\n",
    "        self.iter_counts = np.zeros(self.num_steps)\n",
    "        \n",
    "        # iterate over time steps backward\n",
    "        for t in range(self.num_steps-2,-1,-1):\n",
    "            self.step_G_learning(t, err_tol, max_iter)\n",
    "            \n",
    "    def step_G_learning(self, t, err_tol, max_iter):\n",
    "        \"\"\"\n",
    "        Perform one step of backward iteration for G-learning self-consistent equations\n",
    "        This should start from step t = num_steps - 2 (i.e. from a step that is before the last one)\n",
    "        \"\"\"\n",
    "            \n",
    "        # local variables\n",
    "        F_xx_tp1 = self.F_xx[t+1,:,:]\n",
    "        F_x_tp1 = self.F_x[t+1,:]\n",
    "        F_0_tp1 = self.F_0[t+1]\n",
    "            \n",
    "        # make matrix Sigma_hat_t\n",
    "        exp_ret_T = self.exp_returns[t,:]  \n",
    "        exp_ret_T_v = exp_ret_T[:, np.newaxis]\n",
    "        one_plus_exp_ret = np.ones(self.num_assets)[:,np.newaxis] + exp_ret_T_v\n",
    "        \n",
    "        # Sigma_hat_t = self.Sigma_r + one_plus_exp_ret.dot(one_plus_exp_ret.T)\n",
    "        Sigma_hat_t = self.Sigma_r_tilde + one_plus_exp_ret.dot(one_plus_exp_ret.T)\n",
    "        \n",
    "        # matrix A_t = diag(1 + r_bar_t)\n",
    "        A_t = np.diag(np.ones(self.num_assets) + exp_ret_T)\n",
    "                    \n",
    "        # update parameters of Q_function using next-step F-function values\n",
    "        self.update_Q_params(t, A_t,Sigma_hat_t)\n",
    "             \n",
    "        # iterate between policy evaluation and policy improvement  \n",
    "        while self.iter_counts[t] < max_iter:\n",
    "                \n",
    "            curr_u_bar_prior = self.u_bar_prior[t,:].copy() \n",
    "            curr_v_bar_prior = self.v_bar_prior[t,:,:].copy()    \n",
    "                \n",
    "            # compute parameters of F-function for this step from parameters of Q-function\n",
    "            self.update_F_params(t) \n",
    "              \n",
    "            # Policy iteration step: update parameters of the prior policy distribution\n",
    "            # with given Q- and F-function parameters\n",
    "            self.update_policy_params(t)    \n",
    "            \n",
    "            # difference between the current value of u_bar_prior and the previous one\n",
    "            err_u_bar = np.sum((curr_u_bar_prior - self.u_bar_prior[t,:])**2)\n",
    "            \n",
    "            # divide by num_assets in err_v_bar to get both errors on a comparable scale\n",
    "            err_v_bar = (1/self.num_assets)*np.sum((curr_v_bar_prior - self.v_bar_prior[t,:,:])**2)\n",
    "            \n",
    "            # choose the difference from the previous iteration as the maximum of the two errors\n",
    "#             tol = np.minimum(err_u_bar, err_v_bar)\n",
    "#             tol = np.maximum(err_u_bar, err_v_bar)\n",
    "            tol = 0.5*(err_u_bar + err_v_bar)\n",
    "            \n",
    "            #print('err_u_bar, err_v_bar, tol', err_u_bar, err_v_bar, tol)\n",
    "            \n",
    "            self.iter_counts[t] += 1\n",
    "            # Repeat the calculation of Q- and F-values\n",
    "            if tol <= err_tol:\n",
    "                break\n",
    "                \n",
    "        #self.c_t[t] = np.sum(self.u_bar_prior[t,:] + self.v_bar_prior[t,:,:].dot(self.x_vals[t,:]))\n",
    "\n",
    "            \n",
    "    def update_Q_params(self,t, A_t,Sigma_hat_t):\n",
    "        \"\"\"\n",
    "        update the current (time-t) parameters of Q-function from (t+1)-parameters of F-function\n",
    "        \"\"\" \n",
    "        \n",
    "#         self.Q_xx[t,:,:] = ( - self.lambd * Sigma_hat_t \n",
    "#                             + self.gamma*( (A_t.dot(self.F_xx[t+1,:,:])).dot(A_t)  \n",
    "#                                            + self.Sigma_r * self.F_xx[t+1,:,:] ) )\n",
    "        \n",
    "        self.Q_xx[t,:,:] = ( - self.lambd * Sigma_hat_t \n",
    "                            + self.gamma*( (A_t.dot(self.F_xx[t+1,:,:])).dot(A_t)  \n",
    "                                           + self.Sigma_r_tilde * self.F_xx[t+1,:,:] ) )\n",
    "        \n",
    "        \n",
    "        self.Q_ux[t,:,:] = 2 * self.Q_xx[t,:,:]\n",
    "        \n",
    "        #self.Q_uu[t,:,:] = self.Q_xx[t,:,:] - self.eta * np.eye(self.num_assets)\n",
    "        self.Q_uu[t,:,:] = self.Q_xx[t,:,:] - self.Omega_mat \n",
    "        \n",
    "        self.Q_x[t,:] = (self.lambd * self.target_portf[t] * A_t.dot(np.ones(self.num_assets))\n",
    "                             + self.gamma * A_t.T.dot(self.F_x[t+1,:]) )\n",
    "        \n",
    "        self.Q_u[t,:] = self.Q_x[t,:] - np.ones(self.num_assets)\n",
    "        \n",
    "        self.Q_0[t] = self.gamma * self.F_0[t+1] - self.lambd * self.target_portf[t]**2\n",
    "        \n",
    "        \n",
    "    def update_F_params(self,t):\n",
    "        \"\"\"\n",
    "        update the current (time-t) parameters of F-function from t-parameters of G-function\n",
    "        This is a policy evaluation step: it uses the current estimations of the mean parameters of the policy\n",
    "        \n",
    "        \"\"\"\n",
    "        \n",
    "        # produce auxiliary parameters U_t, W_t, Sigma_tilde_t\n",
    "        U_t = self.beta * self.Q_ux[t,:,:] + self.Sigma_prior_inv[t,:,:].dot(self.v_bar_prior[t,:,:])\n",
    "        W_t = self.beta * self.Q_u[t,:] +  self.Sigma_prior_inv[t,:,:].dot(self.u_bar_prior[t,:])\n",
    "        Sigma_p_bar =  self.Sigma_prior_inv[t,:,:] - 2 * self.beta * self.Q_uu[t,:,:]\n",
    "        Sigma_p_bar_inv = np.linalg.pinv(Sigma_p_bar)\n",
    "        \n",
    "        # update parameters of F-function\n",
    "        self.F_xx[t,:,:] = self.Q_xx[t,:,:] + (1/(2*self.beta))*(U_t.T.dot(Sigma_p_bar_inv.dot(U_t))\n",
    "                                    - self.v_bar_prior[t,:,:].T.dot(\n",
    "                                        self.Sigma_prior_inv[t,:,:].dot(self.v_bar_prior[t,:,:])))\n",
    "        \n",
    "        \n",
    "        self.F_x[t,:] = self.Q_x[t,:] + (1/self.beta)*(U_t.T.dot(Sigma_p_bar_inv.dot(W_t))\n",
    "                                    - self.v_bar_prior[t,:,:].T.dot(\n",
    "                                        self.Sigma_prior_inv[t,:,:].dot(self.u_bar_prior[t,:])))\n",
    "        \n",
    "        \n",
    "        self.F_0[t] = self.Q_0[t] + ( (1/(2*self.beta))*(W_t.dot(Sigma_p_bar_inv.dot(W_t))\n",
    "                                    - self.u_bar_prior[t,:].dot(\n",
    "                                        self.Sigma_prior_inv[t,:,:].dot(self.u_bar_prior[t,:])))\n",
    "                                    - (1/(2*self.beta)) * (np.log(np.linalg.det(self.Sigma_prior[t,:,:]))\n",
    "                                                       + np.log(np.linalg.det(Sigma_p_bar))) )\n",
    "        \n",
    "    def update_policy_params(self,t):\n",
    "        \"\"\"\n",
    "        update parameters of the Gaussian policy using current coefficients of the F- and G-functions\n",
    "        \"\"\"\n",
    "        \n",
    "        new_Sigma_prior_inv = self.Sigma_prior_inv[t,:,:] - 2 * self.beta * self.Q_uu[t,:,:]\n",
    "        Sigma_prior_new = np.linalg.pinv(new_Sigma_prior_inv)\n",
    "        \n",
    "        \n",
    "        # update parameters using the previous value of Sigma_prior_inv\n",
    "        self.u_bar_prior[t,:] = Sigma_prior_new.dot(self.Sigma_prior_inv[t,:,:].dot(self.u_bar_prior[t,:])\n",
    "                                              + self.beta * self.Q_u[t,:])\n",
    "        \n",
    "        \n",
    "        self.v_bar_prior[t,:,:] = Sigma_prior_new.dot(self.Sigma_prior_inv[t,:,:].dot(self.v_bar_prior[t,:,:])\n",
    "                                              + self.beta * self.Q_ux[t,:,:])\n",
    "        \n",
    "        # and then assign the new inverse covariance for the prior for the next iteration\n",
    "        self.Sigma_prior[t,:,:] = Sigma_prior_new\n",
    "        self.Sigma_prior_inv[t,:,:] = new_Sigma_prior_inv\n",
    "        \n",
    "        # also assign the same values for the previous time step\n",
    "        if t > 0:\n",
    "            self.Sigma_prior[t-1,:,:] = self.Sigma_prior[t,:,:]\n",
    "            self.u_bar_prior[t-1,:] = self.u_bar_prior[t,:]\n",
    "            self.v_bar_prior[t-1,:,:] = self.v_bar_prior[t,:,:]\n",
    "        \n",
    "\n"
   ]
  },
  {
   "cell_type": "markdown",
   "metadata": {},
   "source": [
    "## Simulate portfolio data"
   ]
  },
  {
   "cell_type": "markdown",
   "metadata": {},
   "source": [
    "### Simulate the market factor as a lognormal with a fixed drift and vol"
   ]
  },
  {
   "cell_type": "code",
   "execution_count": 5,
   "metadata": {},
   "outputs": [],
   "source": [
    "mu_market = 0.05\n",
    "vol_market = 0.25\n",
    "init_market_val = 100.0\n",
    "\n",
    "r_rf = 0.02  # risk-free rate - the first asset will be cash\n",
    "\n",
    "num_steps = 10 \n",
    "dt = 0.25 # quarterly time steps\n",
    "\n",
    "num_risky_assets = 99 # 100\n",
    "\n",
    "returns_market = np.zeros(num_steps)\n",
    "market_vals = np.zeros(num_steps)\n",
    "market_vals[0] = 100.0  # initial value\n",
    "\n",
    "\n",
    "        \n",
    "for t in range(1,num_steps):\n",
    "\n",
    "        rand_norm = np.random.randn()\n",
    "        \n",
    "        # use log-returns of market as 'returns_market'\n",
    "        returns_market[t] = mu_market * dt + vol_market * np.sqrt(dt) * rand_norm\n",
    "        \n",
    "        market_vals[t] = market_vals[t-1] * np.exp((mu_market - 0.5*vol_market**2)*dt + \n",
    "                                                         vol_market*np.sqrt(dt)*rand_norm)\n",
    "        "
   ]
  },
  {
   "cell_type": "code",
   "execution_count": 6,
   "metadata": {},
   "outputs": [
    {
     "data": {
      "text/plain": [
       "[<matplotlib.lines.Line2D at 0x10f7e4a58>]"
      ]
     },
     "execution_count": 6,
     "metadata": {},
     "output_type": "execute_result"
    },
    {
     "data": {
      "image/png": "[encoded data removed]",
      "text/plain": [
       "<Figure size 432x288 with 1 Axes>"
      ]
     },
     "metadata": {
      "needs_background": "light"
     },
     "output_type": "display_data"
    }
   ],
   "source": [
    "plt.plot(market_vals)"
   ]
  },
  {
   "cell_type": "markdown",
   "metadata": {},
   "source": [
    "### Simulate market betas and idiosyncratic alphas within pre-defined ranges"
   ]
  },
  {
   "cell_type": "code",
   "execution_count": 7,
   "metadata": {},
   "outputs": [
    {
     "name": "stdout",
     "output_type": "stream",
     "text": [
      "[0.11937829 0.1386877  0.34480733 0.68116194 0.81281243 0.1683684\n",
      " 0.69977955 0.47880461 0.66277377 0.4520171 ]\n",
      "[ 0.10505256  0.12190615  0.03944898  0.01193468 -0.04484332  0.09187051\n",
      " -0.00174146  0.1299544   0.12674252  0.10638753]\n"
     ]
    }
   ],
   "source": [
    "beta_min = 0.05\n",
    "beta_max = 0.85\n",
    "beta_vals = np.random.uniform(low=beta_min, high=beta_max, size=num_risky_assets)\n",
    "\n",
    "alpha_min = - 0.05\n",
    "alpha_max = 0.15\n",
    "alpha_vals = np.random.uniform(low=alpha_min, high=alpha_max, size=num_risky_assets)\n",
    "\n",
    "print(beta_vals[0:10])\n",
    "print(alpha_vals[0:10])"
   ]
  },
  {
   "cell_type": "markdown",
   "metadata": {},
   "source": [
    "### Simulate time-dependent expected returns"
   ]
  },
  {
   "cell_type": "code",
   "execution_count": 8,
   "metadata": {},
   "outputs": [],
   "source": [
    "# time-independent expected returns would be equal to alpha + beta * expected_market_return \n",
    "# make them time-dependent (and correlated with actual returns) as alpha + beta * oracle_market_returns\n",
    "# oracle expected returns pick into the future! \n",
    "\n",
    "oracle_coeff = 0.2\n",
    "mu_vec = mu_market * np.ones(num_steps)\n",
    "oracle_market_returns = mu_vec * dt + oracle_coeff*(returns_market - mu_vec) \n",
    "\n",
    "expected_risky_returns = np.zeros((num_steps, num_risky_assets))\n",
    "\n",
    "for t in range(num_steps):\n",
    "    expected_risky_returns[t,:] = alpha_vals * dt + beta_vals * oracle_market_returns[t]"
   ]
  },
  {
   "cell_type": "markdown",
   "metadata": {},
   "source": [
    "### Initial values of all assets "
   ]
  },
  {
   "cell_type": "code",
   "execution_count": 9,
   "metadata": {},
   "outputs": [],
   "source": [
    "val_min = 20.0\n",
    "val_max = 120.0\n",
    "\n",
    "init_risky_asset_vals = np.random.uniform(low=val_min, high=val_max, size=num_risky_assets)"
   ]
  },
  {
   "cell_type": "markdown",
   "metadata": {},
   "source": [
    "### Simulate realized returns and asset prices"
   ]
  },
  {
   "cell_type": "code",
   "execution_count": 15,
   "metadata": {},
   "outputs": [],
   "source": [
    "# make realized returns and realized asset values by simulating from a one-factor model \n",
    "# with time-dependent expected returns\n",
    "\n",
    "risky_asset_returns = np.zeros((num_steps, num_risky_assets))\n",
    "risky_asset_vals = np.zeros((num_steps, num_risky_assets))\n",
    "\n",
    "idiosync_vol =  0.05 # vol_market #  \n",
    "\n",
    "for t in range(num_steps):\n",
    "    \n",
    "    rand_norm = np.random.randn(num_risky_assets)\n",
    "        \n",
    "    # asset returns are simulated from a one-factor model\n",
    "    risky_asset_returns[t,:] = (expected_risky_returns[t,:] + beta_vals * (returns_market[t] - mu_market * dt) \n",
    "                         + idiosync_vol * np.sqrt(1 - beta_vals**2) * np.sqrt(dt) * rand_norm)\n",
    "        \n",
    "    # asset values\n",
    "    if t == 0:\n",
    "        risky_asset_vals[t,:] = init_risky_asset_vals\n",
    "    else:\n",
    "        risky_asset_vals[t] = risky_asset_vals[t-1] * (1 + risky_asset_returns[t,:])\n",
    "   "
   ]
  },
  {
   "cell_type": "code",
   "execution_count": 16,
   "metadata": {},
   "outputs": [
    {
     "data": {
      "image/png": "[encoded data removed]",
      "text/plain": [
       "<Figure size 432x288 with 1 Axes>"
      ]
     },
     "metadata": {
      "needs_background": "light"
     },
     "output_type": "display_data"
    }
   ],
   "source": [
    "# compare the realized and expected returns\n",
    "# Note that they appear correlated - this is because we constructed them so!\n",
    "\n",
    "# pick a random asset to show\n",
    "asset_idx =  4 # 8 # 6 # 5\n",
    "\n",
    "plt.plot(expected_risky_returns[:,asset_idx],label='expected_return')\n",
    "plt.plot(risky_asset_returns[:,asset_idx],label='realized_return',color='r')\n",
    "plt.legend()\n",
    "plt.xlabel('Time Steps')\n",
    "plt.title('Realized returns vs expected returns')\n",
    "plt.show()\n"
   ]
  },
  {
   "cell_type": "markdown",
   "metadata": {},
   "source": [
    "### Compute the empirical correlation matrix using realized returns"
   ]
  },
  {
   "cell_type": "code",
   "execution_count": 17,
   "metadata": {},
   "outputs": [
    {
     "name": "stdout",
     "output_type": "stream",
     "text": [
      "(99, 99)\n"
     ]
    }
   ],
   "source": [
    "cov_mat_r = np.cov(risky_asset_returns.T) \n",
    "\n",
    "print(cov_mat_r.shape)\n",
    "\n",
    "D,v = np.linalg.eigh(cov_mat_r)\n",
    "\n",
    "eigenvals = D[::-1]  # put them in a descended order"
   ]
  },
  {
   "cell_type": "code",
   "execution_count": 18,
   "metadata": {},
   "outputs": [
    {
     "data": {
      "text/plain": [
       "array([9.53754430e-01, 9.02297632e-03, 8.05099890e-03, 6.98606594e-03,\n",
       "       5.78881463e-03, 4.53857041e-03, 3.68265608e-03, 3.46803333e-03,\n",
       "       3.22563501e-03, 2.21095048e-16])"
      ]
     },
     "execution_count": 18,
     "metadata": {},
     "output_type": "execute_result"
    }
   ],
   "source": [
    "# eigenvalues: the largest one is the market factor!\n",
    "# the largest eigenvalue is the market factor \n",
    "eigenvals[0:10]"
   ]
  },
  {
   "cell_type": "markdown",
   "metadata": {},
   "source": [
    "### Add a riskless bond as one more asset"
   ]
  },
  {
   "cell_type": "code",
   "execution_count": 19,
   "metadata": {},
   "outputs": [],
   "source": [
    "num_assets = num_risky_assets + 1\n",
    "\n",
    "bond_val = 100.0\n",
    "\n",
    "# add the bond to initial assets\n",
    "init_asset_vals = np.hstack((np.array([bond_val]),\n",
    "                            init_risky_asset_vals))"
   ]
  },
  {
   "cell_type": "markdown",
   "metadata": {},
   "source": [
    "### Make the initial portfolio "
   ]
  },
  {
   "cell_type": "code",
   "execution_count": 20,
   "metadata": {},
   "outputs": [],
   "source": [
    "# consider here two choices: equal or equally-weighted \n",
    "\n",
    "init_port_choice =  'equal' # 'equally_weighted'  #\n",
    "\n",
    "init_cash = 1000.0\n",
    "init_total_asset = np.sum(init_asset_vals)\n",
    "\n",
    "x_vals_init = np.zeros(num_assets)\n",
    "\n",
    "if init_port_choice == 'equal': \n",
    "    # hold equal amounts in each asset\n",
    "    amount_per_asset = init_cash/num_assets\n",
    "    x_vals_init = amount_per_asset * np.ones(num_assets)\n",
    "\n",
    "elif init_port_choice == 'equally_weighted':\n",
    "    amount_per_asset = init_cash/init_total_asset\n",
    "    x_vals_init = amount_per_asset * init_asset_vals\n",
    "    \n"
   ]
  },
  {
   "cell_type": "markdown",
   "metadata": {},
   "source": [
    "### Make the target portfolio"
   ]
  },
  {
   "cell_type": "code",
   "execution_count": 21,
   "metadata": {},
   "outputs": [
    {
     "name": "stdout",
     "output_type": "stream",
     "text": [
      "1100.0 1541.5835692311712\n"
     ]
    }
   ],
   "source": [
    "# make a target portfolio term structure by defining it as the initial portfolio growing at some fixed and high rate\n",
    "\n",
    "target_portfolio = [init_cash]\n",
    "\n",
    "target_return = 0.15 # 0.20\n",
    "coeff_target = 1.1 # 1.2 # 1.0\n",
    "\n",
    "for i in range(1,num_steps):\n",
    "    target_portfolio.append(target_portfolio[i-1]*np.exp(dt * target_return) )\n",
    "    \n",
    "target_portfolio = coeff_target*np.array(target_portfolio)    \n",
    "print(target_portfolio[0], target_portfolio[-1])"
   ]
  },
  {
   "cell_type": "markdown",
   "metadata": {},
   "source": [
    "## Train G-learning on simulated data"
   ]
  },
  {
   "cell_type": "code",
   "execution_count": 25,
   "metadata": {},
   "outputs": [],
   "source": [
    "riskfree_rate = 0.02\n",
    "fee_bond = 0.05 # 0.01 # \n",
    "fee_stock = 0.1 # 0.05 # 20.0 # 0.1 # 1.0 # 100 # 1.0 # 0.5 \n",
    "\n",
    "# noticed much worse convergence for fee_stock = 0.2\n",
    "# it converges for fee_stock = 0.5, but it converges faster for fee_stock=1\n",
    "\n",
    "all_fees = np.zeros(num_risky_assets + 1)\n",
    "all_fees[0] = fee_bond\n",
    "all_fees[1:] = fee_stock\n",
    "Omega_mat = np.diag(all_fees)\n",
    "\n",
    "\n",
    "# model parameters\n",
    "lambd = 1.0 # 0.02 # 0.05 # 0.07 # 0.1 # 0.15 # 0.1 # 0.15 # 0.1 # 0.1 # 50 # 10.0\n",
    "beta = 0.5 # 1.0 # 50 # 50.0 # 1.0 # 10 # 10.0 # 0.2\n",
    "gamma = 0.99 # 0.95\n",
    "\n",
    "lambd = 2000 # 2000 # 2000 # 5000 # 10000 # 2000 # 0.01 # 0.05 # 0.5 # 0.1 # 1.0\n",
    "beta = 350 # 300 # 200 # 100 # 10 # 1.0 # 0.2 # 0.1 # 0.2\n",
    "gamma = 0.99 # 0.95\n",
    "\n",
    "\n",
    "Sigma_r = cov_mat_r\n",
    "\n",
    "\n",
    "# create a G-learner\n",
    "G_learner = G_learning_portfolio_opt(num_steps,\n",
    "                 lambd, \n",
    "                 Omega_mat, # eta,\n",
    "                 beta,\n",
    "                 gamma, \n",
    "                 num_risky_assets,\n",
    "                 riskfree_rate,\n",
    "                 expected_risky_returns, # array of shape num_steps x num_stocks\n",
    "                 Sigma_r,     # covariance matrix of returns of risky matrix                    \n",
    "                 x_vals_init, # array of initial values of len (num_stocks+1)\n",
    "                 use_for_WM = True, # use for wealth management tasks\n",
    "                 target_portf=target_portfolio)\n",
    "\n"
   ]
  },
  {
   "cell_type": "code",
   "execution_count": 26,
   "metadata": {},
   "outputs": [
    {
     "name": "stdout",
     "output_type": "stream",
     "text": [
      "Doing G-learning, it may take a few seconds...\n",
      "Done in 1.313348 sec\n"
     ]
    }
   ],
   "source": [
    "# Do G-learning\n",
    "\n",
    "err_tol=1.e-5 # 5.0e-5 # 1.0e-4\n",
    "max_iter=500\n",
    "\n",
    "t_0 = time.time()\n",
    "\n",
    "# G_learner.step(t=num_steps-2,err_tol=1.0e-4, max_iter=50)\n",
    "G_learner.G_learning(err_tol=err_tol, max_iter=max_iter)\n",
    "\n",
    "# print('Done in %d iterations'% G_learner.iter_count)\n",
    "print('Done in %f sec'% (time.time() - t_0))"
   ]
  },
  {
   "cell_type": "code",
   "execution_count": 27,
   "metadata": {},
   "outputs": [
    {
     "data": {
      "text/plain": [
       "array([53., 32., 26.,  9.,  8.,  8.,  8.,  8., 42.,  0.])"
      ]
     },
     "execution_count": 27,
     "metadata": {},
     "output_type": "execute_result"
    }
   ],
   "source": [
    "G_learner.iter_counts"
   ]
  },
  {
   "cell_type": "markdown",
   "metadata": {},
   "source": [
    "## Results of G-learning"
   ]
  },
  {
   "cell_type": "code",
   "execution_count": 28,
   "metadata": {},
   "outputs": [
    {
     "data": {
      "image/png": "[encoded data removed]",
      "text/plain": [
       "<Figure size 432x288 with 1 Axes>"
      ]
     },
     "metadata": {
      "needs_background": "light"
     },
     "output_type": "display_data"
    }
   ],
   "source": [
    "G_learner.project_cash_injections()\n",
    "\n",
    "\n",
    "plt.plot(G_learner.expected_c_t, label='optimal cash installments')\n",
    "plt.plot(G_learner.expected_portf_val, label='expected portfolio value')\n",
    "plt.plot(G_learner.target_portf,label='target portfolio',color='r')\n",
    "\n",
    "plt.legend()\n",
    "plt.ylim(-500,2000)\n",
    "plt.xlabel('Time Steps')\n",
    "plt.title('Optimal cash installment and portfolio value')\n",
    "plt.savefig('G_learning_wealth_unconstrained.png')\n",
    "plt.show()"
   ]
  },
  {
   "cell_type": "code",
   "execution_count": null,
   "metadata": {},
   "outputs": [],
   "source": []
  }
 ],
 "metadata": {
  "kernelspec": {
   "display_name": "Python 3",
   "language": "python",
   "name": "python3"
  },
  "language_info": {
   "codemirror_mode": {
    "name": "ipython",
    "version": 3
   },
   "file_extension": ".py",
   "mimetype": "text/x-python",
   "name": "python",
   "nbconvert_exporter": "python",
   "pygments_lexer": "ipython3",
   "version": "3.7.3"
  }
 },
 "nbformat": 4,
 "nbformat_minor": 2
}
