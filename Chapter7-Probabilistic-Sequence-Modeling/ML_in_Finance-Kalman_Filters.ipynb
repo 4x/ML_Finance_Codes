{
 "cells": [
  {
   "cell_type": "raw",
   "metadata": {},
   "source": [
    "# ML_in_Finance-Kalman_Filters\n",
    "# Version: 1.0 (28.4.2020)\n",
    "# License: MIT\n",
    "# Email: paul@thalesians.co.uk and matthew.dixon@iit.edu\n",
    "# Notes: tested on Mac OS X running Python 3.6.9 with the following packages:\n",
    "# scipy, numpy=1.18.1, matplotlib=3.1.3, pandas=1.0.3\n",
    "# Citation: Please cite the following reference if this notebook is used for research purposes:\n",
    "# Dixon M.F., Halperin I. and P. Bilokon, Machine Learning in Finance: From Theory to Practice, Springer Graduate # Textbook Series, 2020."
   ]
  },
  {
   "cell_type": "code",
   "execution_count": 1,
   "metadata": {},
   "outputs": [],
   "source": [
    "import numpy as np\n",
    "import scipy.stats\n",
    "import matplotlib.pyplot as plt\n",
    "import pandas as pd\n",
    "import pymc3 as pm\n",
    "import theano.tensor as tt\n",
    "%matplotlib inline"
   ]
  },
  {
   "cell_type": "markdown",
   "metadata": {},
   "source": [
    "# Overview\n",
    "The purpose of this notebook is to demonstrate the application of particle filtering to stochastic volatility modeling. The insight gained from Chapter 2, namely a **sequential** or **iterative** application of Bayes's theorem, referred to as \"sequential Bayesian updates\", is the foundation of real-time **Bayesian filtering**. Kalman filtering is well known example of Bayesian filtering and we begin by reviewing it here."
   ]
  },
  {
   "cell_type": "markdown",
   "metadata": {},
   "source": [
    "## Kalman filtering"
   ]
  },
  {
   "cell_type": "markdown",
   "metadata": {},
   "source": [
    "### Question: the autoregressive moving average $\\text{ARMA}(p, q)$ model"
   ]
  },
  {
   "cell_type": "markdown",
   "metadata": {},
   "source": [
    "The **autoregressive moving average $\\text{ARMA}(p, q)$** model can be written as\n",
    "$$y_t = \\phi_1 y_{t-1} + \\ldots + \\phi_p y_{t-p} + \\eta_t + \\theta_1 \\eta_{t-1} + \\ldots + \\theta_q \\eta_{t-q},$$\n",
    "where $\\eta_t \\sim \\mathcal{N}(0, \\sigma^2)$, and includes as special casses all $\\text{AR}(p)$ and $\\text{MA}(q)$ models. Such models are often fitted to financial time series. Suppose that we would like to filter this time series using a Kalman filter. Write down suitable process and observation models."
   ]
  },
  {
   "cell_type": "markdown",
   "metadata": {},
   "source": [
    "### Solution"
   ]
  },
  {
   "cell_type": "markdown",
   "metadata": {},
   "source": [
    "Set $m := \\max(p, q + 1)$, $\\phi_i := 0$ for $i > p$, $\\theta_i := 0$ for $i > q$. Then we obtain our process model as\n",
    "$$\\mathbf{X}_t = \\mathbf{F}_t \\mathbf{X}_{t-1} + \\mathbf{a}_t + \\mathbf{W}_t \\mathbf{w}_t,$$\n",
    "and the observation model as\n",
    "$$\\mathbf{Y}_t = \\mathbf{H}_t \\mathbf{X}_t + \\mathbf{b}_t + \\mathbf{V}_t \\mathbf{v}_t,$$\n",
    "where\n",
    "\\begin{equation*}\n",
    "\\mathbf{X}_t =\n",
    "\\begin{pmatrix}\n",
    "y_t \\\\\n",
    "\\phi_2 y_{t-1} + \\ldots + \\phi_p y_{t-m+1} + \\theta_1 \\eta_t + \\ldots + \\theta_{m-1} \\eta_{t-m+2} \\\\\n",
    "\\phi_3 y_{t-1} + \\ldots + \\phi_p y_{t-m+2} + \\theta_2 \\eta_t + \\ldots + \\theta_{m-1} \\eta_{t-m+3} \\\\\n",
    "\\vdots \\\\\n",
    "\\phi_m y_{t-1} + \\theta_{m-1} \\eta_t\n",
    "\\end{pmatrix}\n",
    "\\in \\mathbb{R}^{m \\times 1},\n",
    "\\end{equation*}\n",
    "\\begin{equation*}\n",
    "\\mathbf{F} =\n",
    "\\begin{pmatrix}\n",
    "\\phi_1     & 1      & 0      & \\cdots & 0      \\\\\n",
    "\\phi_2     & 0      & 1      &        & 0      \\\\\n",
    "\\vdots     & \\vdots & \\ddots & \\ddots & \\vdots \\\\\n",
    "\\phi_{m-1} & 0      & 0      &        & 1      \\\\\n",
    "\\phi_m     & 0      & 0      & \\cdots & 0\n",
    "\\end{pmatrix}\n",
    "\\in \\mathbb{R}^{m \\times m},\n",
    "\\end{equation*}\n",
    "\\begin{equation*}\n",
    "\\mathbf{W} =\n",
    "\\begin{pmatrix}\n",
    "1            &\n",
    "\\theta_1     &\n",
    "\\cdots       &\n",
    "\\theta_{m-1}\n",
    "\\end{pmatrix}^{\\intercal}\n",
    "\\in \\mathbb{R}^{m \\times 1},\n",
    "\\end{equation*}\n",
    "\\begin{equation*}\n",
    "w_t = \\eta_t, \\quad Q_t = \\sigma^2, \\quad\n",
    "\\mathbf{H} =\n",
    "\\begin{pmatrix}\n",
    "1 & 0 & \\ldots & 0\n",
    "\\end{pmatrix}\n",
    "\\in 1 \\times m, \\quad b_t = 0, \\quad V_t = 0.\n",
    "\\end{equation*}\n",
    "\n",
    "If $y_t$ is stationary, then $\\mathbf{X}_t \\sim \\mathcal{N}(\\mathbf{0}, \\mathbf{P})$ with $\\mathbf{P}$ given by the equation $\\mathbf{P} = \\mathbf{F} \\mathbf{P} \\mathbf{F}^{\\intercal} + \\sigma^2 \\mathbf{W} \\mathbf{W}^{\\intercal}$, so we can set the initial state and error covariance to $\\mathbf{0}$ and $\\mathbf{P}$, respectively. For a detailed discussion of applying the Kalman filter in this particular case, see **[dJP00]**, **[ZW06]**. There are other ways to express $\\text{ARMA}(p, q)$ as a state-space model and filter it. See **[BD87]**, **[BJR94]**, **[Ham94]**, **[Har89]**, and **[Pea80]** for details."
   ]
  },
  {
   "cell_type": "markdown",
   "metadata": {},
   "source": [
    "### Question: the Ornstein-Uhlenbeck process"
   ]
  },
  {
   "cell_type": "markdown",
   "metadata": {},
   "source": [
    "Consider the one-dimensional Ornstein-Uhlenbeck (OU) process, the stationary Gauss-Markov process given by the SDE\n",
    "$$dX_t = \\theta(\\mu - X_t) \\, dt + \\sigma \\, dW_t,$$\n",
    "where $X_t \\in \\mathbb{R}$, $X_0 = x_0$, and $\\theta > 0$, $\\mu$, and $\\sigma > 0$ are constants. Formulate the Kalman process model for this process."
   ]
  },
  {
   "cell_type": "markdown",
   "metadata": {},
   "source": [
    "### Solution"
   ]
  },
  {
   "cell_type": "markdown",
   "metadata": {},
   "source": [
    "The solution to the SDE is given by\n",
    "$$X_t = x_0 e^{-\\theta t} + \\mu (1 - e^{-\\theta t}) + \\int_0^t \\sigma e^{-\\theta (t - u)} \\, dW_u.$$"
   ]
  },
  {
   "cell_type": "markdown",
   "metadata": {},
   "source": [
    "An Ito integral, $\\int_s^t f(u) \\, dW_u$, of a deterministic integrand, $f(u)$, is a Gaussian random variable with mean 0 and variance $\\int_0^t f^2(u) \\, du$. In our case, $f(u) = \\sigma e^{-\\theta (t - u)}$, and $\\int_0^t f^2(u) \\, du = \\frac{\\sigma^2}{2\\theta} (1 - e^{-2\\theta t})$.\n",
    "\n",
    "Since this Markov process is homogeneous, its transition density depends only upon the time difference. Setting, for $s \\leq t$, $h_k := t - s$ as the time interval between the time ticks $k - 1$ and $k$, we obtain a discretised process model\n",
    "$$X_k = F_k X_{k-1} + a_k + w_k,$$\n",
    "with $F_k = e^{-\\theta h_k}$, $a_k = \\mu(1 - e^{-\\theta h_k})$, $w_k \\sim \\left(0, \\frac{\\sigma^2}{2 \\theta}(1 - e^{-2\\theta h_k})\\right)$.\n",
    "\n",
    "As a further exercise, consider extending this to a multivariate OU process."
   ]
  },
  {
   "cell_type": "markdown",
   "metadata": {},
   "source": [
    "## Particle filtering"
   ]
  },
  {
   "cell_type": "markdown",
   "metadata": {},
   "source": [
    "Kalman filter maintains its state as moments of the multivatiate normal (Gaussian) distribution, $\\mathcal{N}(\\mathbf{m}, \\mathbf{P})$. This works when the state is truly Gaussian, or when the true distribution can be closely approximated by the Gaussian. What if the distribution is, for example, bimodal?"
   ]
  },
  {
   "cell_type": "code",
   "execution_count": 2,
   "metadata": {},
   "outputs": [
    {
     "data": {
      "image/png": "[encoded data removed]",
      "text/plain": [
       "<Figure size 432x288 with 1 Axes>"
      ]
     },
     "metadata": {
      "needs_background": "light"
     },
     "output_type": "display_data"
    }
   ],
   "source": [
    "xs = np.linspace(-8., 12., 100)\n",
    "plt.plot(xs, \\\n",
    "    .2 * scipy.stats.norm.pdf(xs, loc=-3., scale=np.sqrt(2.)) + \\\n",
    "    .8 * scipy.stats.norm.pdf(xs, loc=3., scale=np.sqrt(5.)));"
   ]
  },
  {
   "cell_type": "markdown",
   "metadata": {},
   "source": [
    "Arguably the simplest way to approximate more or less any distribution, including bimodal, is by data points sampled from that distribution. We call those data points **particles**."
   ]
  },
  {
   "cell_type": "code",
   "execution_count": 3,
   "metadata": {},
   "outputs": [],
   "source": [
    "particles = []\n",
    "for i in range(5000):\n",
    "    if scipy.stats.uniform.rvs() <= .2:\n",
    "        particles.append(scipy.stats.norm.rvs(loc=-3., scale=np.sqrt(2.)))\n",
    "    else:\n",
    "        particles.append(scipy.stats.norm.rvs(loc=3., scale=np.sqrt(5.)))"
   ]
  },
  {
   "cell_type": "code",
   "execution_count": 4,
   "metadata": {},
   "outputs": [
    {
     "data": {
      "image/png": "[encoded data removed]",
      "text/plain": [
       "<Figure size 432x288 with 1 Axes>"
      ]
     },
     "metadata": {
      "needs_background": "light"
     },
     "output_type": "display_data"
    }
   ],
   "source": [
    "xs = np.linspace(-8., 12., 100)\n",
    "plt.plot(xs, \\\n",
    "    .2 * scipy.stats.norm.pdf(xs, loc=-3., scale=np.sqrt(2.)) + \\\n",
    "    .8 * scipy.stats.norm.pdf(xs, loc=3., scale=np.sqrt(5.)))\n",
    "plt.hist(particles, density=True, bins=100);\n",
    "plt.plot(particles, [0 for p in particles], '+', markersize=10);"
   ]
  },
  {
   "cell_type": "markdown",
   "metadata": {},
   "source": [
    "The more particles we have, the more closely can we approximate the target distribution. The approximate, empirical distribution is then given by the histogram. The particles don't have to be univariate, as in our example. They may be multivariate if we are approximating a multivariate distribution. Also, in our example the particles all have the same weight. More generally, we may consider weighted particles, whose weights are not all the same."
   ]
  },
  {
   "cell_type": "markdown",
   "metadata": {},
   "source": [
    "This gives rise to the family of algorithms known as **particle filtering** algorithms **[GSS93]**, **[Kit93]**. One of the most common of them is the **sequential importance resampling (SIR)** algorithm:"
   ]
  },
  {
   "cell_type": "markdown",
   "metadata": {},
   "source": [
    "#### Sequential importance resampling (SIR)\n",
    "\n",
    "1. **Initialisation step**: At time $t = 0$, draw $M$ i.i.d. samples (called **particles**) from the initial distribution $\\tau_0$. Also, initialise $M$ normalised (to 1) weights to an identical value $\\frac{1}{M}$. For $i = 1, 2, \\ldots, M$, the samples will be denoted $\\hat{\\textbf{x}}_{0 \\,|\\, 0}^{(i)}$ and the normalised weights $\\lambda_0^{(i)}$.\n",
    "1. **Recursive step**: At time $t = 1, 2, 3, \\ldots$, let $(\\hat{\\textbf{x}}_{t-1 \\,|\\, t-1}^{(i)})_{i=1,\\ldots,M}$ be the particles generated at time $t - 1$.\n",
    " 1. **Importance sampling**: For $i = 1, \\ldots M$, sample $\\hat{\\mathbf{x}}_{t \\,|\\, t-1}^{(i)}$ from the Markov transition kernel $\\tau_t(\\cdot \\,|\\, \\hat{\\textbf{x}}_{t-1 \\,|\\, t-1}^{(i)})$. For $i = 1, \\ldots, M$, use the observation density to compute the non-normalised weights\n",
    " $$\\omega_t^{(i)} := \\lambda_{t-1}^{(i)} \\cdot p(\\mathbf{y}_t \\,|\\, \\hat{\\mathbf{x}}_{t \\,|\\, t-1}^{(i)})$$\n",
    " and the values of the normalised weights before resampling (\"br\")\n",
    " $$^{\\text{br}}\\lambda_t^{(i)} := \\frac{\\omega_t^{(i)}}{\\sum_{k=1}^M \\omega_t^{(k)}}.$$\n",
    " 1. **Resampling** (or **selection**): For $i = 1, \\ldots, M$, use an appropriate resampling algorithm (such as **multinomial resampling** &mdash; see below) to sample $\\mathbf{x}_{t \\,|\\, t}^{(i)}$ from the mixture\n",
    " $$\\sum_{k=1}^M {^{\\text{br}}} \\lambda_t^{(k)} \\delta(\\mathbf{x}_t - \\mathbf{x}_{t \\,|\\, t-1}^{(k)}),$$\n",
    " where $\\delta(\\cdot)$ denotes the Dirac delta generalised function, and set the normalised weights after resampling, $\\lambda_t^{(i)}$, appropriately (for most common resampling algorithms this means $\\lambda_t^{(i)} := \\frac{1}{M}$). $\\blacksquare$"
   ]
  },
  {
   "cell_type": "markdown",
   "metadata": {},
   "source": [
    "In some sense, SIR resembles genetic algorithms. Based on the likelihoods $p(\\mathbf{y}_t \\,|\\, \\hat{\\mathbf{x}}_{t \\,|\\, t-1}^{(i)})$, we increase the weights of the more \"successful\" particles, allowing them to \"thrive\" at the resampling step."
   ]
  },
  {
   "cell_type": "markdown",
   "metadata": {},
   "source": [
    "The resampling step was introduced to avoid the degeneration of the particles, with all the weight concentrating on a single point."
   ]
  },
  {
   "cell_type": "markdown",
   "metadata": {},
   "source": [
    "The most common resampling scheme is the so-called **multinomial resampling**:"
   ]
  },
  {
   "cell_type": "markdown",
   "metadata": {},
   "source": [
    "#### Multinomial resampling\n",
    "\n",
    "Notice that we are working with the *normalised* weights computed before reampling, ${^{\\text{br}}}\\lambda_t^{(1)}, {^{\\text{br}}}\\lambda_t^{(2)}, \\ldots, {^{\\text{br}}}\\lambda_t^{(M)}$.\n",
    "\n",
    "1. For $i = 1, 2, \\ldots, M$, compute the cumulative sums\n",
    "$${^{\\text{br}}}\\Lambda_t^{(i)} = \\sum_{k=1}^i {^{\\text{br}}}\\lambda_t^{(k)},$$\n",
    "so that, by construction, ${^{\\text{br}}}\\Lambda_t^{(M)} = 1$.\n",
    "1. Generate $M$ random samples from $\\mathcal{U}(0, 1)$, $u_1, u_2, \\ldots, u_M$.\n",
    "1. For each $i = 1, \\ldots, M$, choose the particle $\\hat{\\mathbf{x}}_{t \\,|\\, t}^{(i)} = \\hat{\\mathbf{x}}_{t \\,|\\, t-1}^{(j)}$ with $j \\in \\{1, 2, \\ldots, M - 1\\}$ such that $u_i \\in \\left[{^{\\text{br}}}\\Lambda_t^{(j)}, {^{\\text{br}}}\\Lambda_t^{(j+1)}\\right]$.\n",
    "\n",
    "Thus we end up with $M$ new particles (**children**), $\\mathbf{x}_{t \\,|\\, t}^{(1)}, \\ldots, \\mathbf{x}_{t \\,|\\, t}^{(M)}$ sampled from the existing set $\\mathbf{x}_{t \\,|\\, t-1}^{(1)}, \\ldots, \\mathbf{x}_{t \\,|\\, t-1}^{(M)}$, so that some of the existing particles may disappear, while others may appear multiple times. For each $i = 1, \\ldots, M$ the number of times $\\mathbf{x}_{t \\,|\\, t-1}^{(i)}$ appears in the resampled set of particles is known as the particle's **replication factor**, $N_t^{(i)}$.\n",
    "\n",
    "Set the normalised weights after resampling: $\\lambda_t^{(i)} := \\frac{1}{M}$.\n",
    "\n",
    "We could view this algorithm as the sampling of the replication factors $N_t^{(1)}, \\ldots N_t^{(M)}$ from the multinomial distribution with probabilities ${^{\\text{br}}}\\lambda_t^{(1)}, \\ldots, {^{\\text{br}}}\\lambda_t^{(M)}$, respectively. Hence the name of the method. $\\blacksquare$"
   ]
  },
  {
   "cell_type": "markdown",
   "metadata": {},
   "source": [
    "## An application: stochastic volatility models"
   ]
  },
  {
   "cell_type": "markdown",
   "metadata": {},
   "source": [
    "**Stochastic Volatility (SV)** models have been studied extensively in the literature, often as applications of **particle filtering** and **Markov chain Monte Carlo (MCMC)**."
   ]
  },
  {
   "cell_type": "markdown",
   "metadata": {},
   "source": [
    "In particular, Pitt, Malik, and Doucet apply the particle filter to the **stochastic volatility with leverage and jumps (SVLJ)** **[MP09]**, **[MP11a]**, **[MP11b]**, **[PMD14]**. The model has the general form of Taylor's **[Tay82]** with two modifications. For $t \\in \\mathbb{N}^0$, let $y_t$ denote the log-return on an asset and $x_t$ denote the log-variance of that return. Then\n",
    "\\begin{align}\n",
    "y_t &= \\epsilon_t e^{x_t/2} + J_t \\varpi_t, \\label{eq:svlj-log-return} \\\\\n",
    "x_{t+1} &= \\mu (1 - \\phi) + \\phi x_t + \\sigma_v \\eta_t, \\label{eq:svlj-log-variance}\n",
    "\\end{align}\n",
    "where $\\mu$ is the mean log-variance, $\\phi$ the persistence parameter, $\\sigma_v$ the volatility of log-variance."
   ]
  },
  {
   "cell_type": "markdown",
   "metadata": {},
   "source": [
    "The first modification to Taylor's model is the introduction of correlation between $\\epsilon_t$ and $\\eta_t$:\n",
    "\\begin{equation*}\n",
    "\\left(\n",
    " \\begin{array}{c}\n",
    "   \\epsilon_t \\\\\n",
    "   \\eta_t \\\\\n",
    " \\end{array}\n",
    "\\right)\n",
    "\\sim \\mathcal{N}(0, \\Sigma),\n",
    "\\quad\n",
    "\\Sigma =\n",
    "\\left(\n",
    "  \\begin{array}{cc}\n",
    "    1 & \\rho \\\\\n",
    "    \\rho & 1 \\\\\n",
    "  \\end{array}\n",
    "\\right).\n",
    "\\end{equation*}"
   ]
  },
  {
   "cell_type": "markdown",
   "metadata": {},
   "source": [
    "The correlation $\\rho$ is the **leverage** parameter. In general, $\\rho < 0$, due to the stylised fact known as the **leverage effect** **[Bla76]**."
   ]
  },
  {
   "cell_type": "markdown",
   "metadata": {},
   "source": [
    "The second change is the introduction of jumps. $J_t \\in \\{0, 1\\}$ is a Bernoulli counter with intensity $p$ (thus $p$ is the jump intensity parameter), $\\varpi_t \\sim \\mathcal{N}(0, \\sigma_J^2)$ determines the jump size (thus $\\sigma_J$ is the jump volatility parameter)."
   ]
  },
  {
   "cell_type": "markdown",
   "metadata": {},
   "source": [
    "We obtain a **stochastic volatility with leverage (SVL)**, but no jumps, if we delete the $J_t \\varpi_t$ term or, equivalently, set $p$ to zero. Taylor's original model is a special case of SVLJ with $p = 0$, $\\rho = 0$."
   ]
  },
  {
   "cell_type": "markdown",
   "metadata": {},
   "source": [
    "### Particle filter for SVLJ"
   ]
  },
  {
   "cell_type": "markdown",
   "metadata": {},
   "source": [
    "This, then, leads to the following adaptation of SIR, developed by Doucet, Malik, and Pitt, for this special case with nonadditive, correlated noises. The initial distribution of $x_0$ is taken to be $\\mathcal{N}\\left(0, \\sigma_v^2 / (1 - \\phi^2)\\right)$.\n",
    "1. **Initialisation step**: At time $t = 0$, draw $M$ i.i.d. particles from the initial distribution $\\mathcal{N}(0, \\sigma_v^2 / (1 - \\phi^2))$. Also, initialise $M$ normalised (to 1) weights to an identical value of $\\frac{1}{M}$. For $i = 1, 2, \\ldots, M$, the samples will be denoted $\\hat{x}^{(i)}_{0 \\ | \\  0}$ and the normalised weights $\\lambda^{(i)}_0$.\n",
    "1. **Recursive step**: At time $t \\in \\mathbb{N}^*$, let $(\\hat{x}^{(i)}_{t-1 \\ | \\  t-1})_{i = 1, \\ldots, M}$ be the particles generated at time $t - 1$.\n",
    "    1. **Importance sampling**:\n",
    "        - First,\n",
    "            - For $i = 1, \\ldots, M$, sample $\\hat{\\epsilon}^{(i)}_{t-1}$ from $p(\\epsilon_{t-1} \\ | \\  x_{t-1} = \\hat{x}^{(i)}_{t-1 \\ | \\  t-1}, y_{t-1})$. (If no $y_{t-1}$ is available, as at $t = 1$, sample from $p(\\epsilon_{t-1} \\ | \\  x_{t-1} = \\hat{x}^{(i)}_{t-1 \\ | \\  t-1})$).\n",
    "            - For $i = 1, \\ldots, M$, sample $\\hat{x}^{(i)}_{t \\ | \\  t-1}$ from $p(x_t \\ | \\  x_{t-1} = \\hat{x}^{(i)}_{t-1 \\ | \\  t-1}, y_{t-1}, \\hat{\\epsilon}^{(i)}_{t-1})$.\n",
    "        - For $i = 1, \\ldots, M$, compute the non-normalised weights\n",
    "            \\begin{equation}\n",
    "            \\omega^{(i)}_t := \\lambda^{(i)}_{t-1} \\cdot p_{\\gamma_t}(y_{t} \\ | \\  \\hat{x}^{(i)}_{t \\ | \\  t-1}),\n",
    "            \\end{equation}\n",
    "            using the observation density\n",
    "            \\begin{gather*}\n",
    "            p(y_t \\ | \\  \\hat{x}^{(i)}_{t \\ | \\  t-1}, p, \\sigma_J^2) = (1 - p) \\left[ \\left( 2\\pi e^{\\hat{x}^{(i)}_{t \\ | \\  t-1}} \\right)^{-1/2} \\exp\\left(-y_t^2 / (2 e^{\\hat{x}^{(i)}_{t \\ | \\  t-1}})\\right) \\right] + \\\\\n",
    "            p \\left[ \\left( 2\\pi ( e^{\\hat{x}^{(i)}_{t \\ | \\  t-1}} + \\sigma_J^2 ) \\right)^{-1/2} \\exp\\left(-y_t^2 / (2 e^{\\hat{x}^{(i)}_{t \\ | \\  t-1}} + 2\\sigma_J^2)\\right) \\right],\n",
    "            \\end{gather*}\n",
    "            and the values of the normalised weights before resampling (`br')\n",
    "            \\begin{equation*}\n",
    "            {^\\text{br}\\lambda^{(i)}_t} := \\frac{\\omega^{(i)}_t}{\\sum_{k=1}^M \\omega^{(k)}_t}.\n",
    "            \\end{equation*}\n",
    "    1. **Resampling** (or **selection**): For $i = 1, \\ldots, M$, use an appropriate resampling algorithm (such as multinomial resampling) sample $\\hat{x}^{(i)}_{t \\ | \\  t}$ from the mixture\n",
    "        \\begin{equation*}\n",
    "        \\sum_{k=1}^M {^\\text{br}\\lambda^{(k)}_t} \\delta(x_t - \\hat{x}^{(k)}_{t \\ | \\  t-1}),\n",
    "        \\end{equation*}\n",
    "        where $\\delta(\\cdot)$ denotes the Dirac delta generalised function, and set the normalised weights after resampling, $\\lambda^{(i)}_t$, according to the resampling algorithm."
   ]
  },
  {
   "cell_type": "markdown",
   "metadata": {},
   "source": [
    "### Calibrating stochastic filters: the frequentist approach"
   ]
  },
  {
   "cell_type": "markdown",
   "metadata": {},
   "source": [
    "We have seen in the example of the stochastic volatility model with leverage and jumps (SVLJ) that the state-space model may be parameterised by a parameter vector, $\\mathbf{\\theta} \\in \\mathbb{R}^{d_{\\theta}}$, $d_{\\theta} \\in \\mathbb{N}^*$. In that particular case,\n",
    "\\begin{equation*}\n",
    "\\mathbf{\\theta} = \\left(\n",
    "           \\begin{array}{c}\n",
    "             \\mu \\\\\n",
    "             \\phi \\\\\n",
    "             \\sigma_{\\eta}^2 \\\\\n",
    "             \\rho \\\\\n",
    "             \\sigma_J^2 \\\\\n",
    "             p \\\\\n",
    "           \\end{array}\n",
    "         \\right).\n",
    "\\end{equation*}"
   ]
  },
  {
   "cell_type": "markdown",
   "metadata": {},
   "source": [
    "We may not know the true value of this parameter. How do we estimate it? In other words, how do we **calibrate** the model, given a time series of either historical or generated observations, $\\mathbf{y}_1, \\mathbf{y}_2, \\ldots, \\mathbf{y}_T$, $T \\in \\mathbb{T} = \\mathbb{N}^*$."
   ]
  },
  {
   "cell_type": "markdown",
   "metadata": {},
   "source": [
    "The frequentist approach relies on the (joint) probability density function of the observations, which depends on the parameters, $p(\\mathbf{y}_1, \\mathbf{y}_2, \\ldots, \\mathbf{y}_T \\,|\\, \\mathbf{\\theta})$. We can regard this as a function of $\\mathbf{\\theta}$ with $\\mathbf{y}_1, \\mathbf{y}_2, \\ldots, \\mathbf{y}_T$ fixed, $p(\\mathbf{y}_1, \\mathbf{y}_2, \\ldots, \\mathbf{y}_T \\,|\\, \\mathbf{\\theta}) =: \\mathcal{L}(\\mathbf{\\theta})$ &mdash; the **likelihood function**."
   ]
  },
  {
   "cell_type": "markdown",
   "metadata": {},
   "source": [
    "It is sometimes referred to as **marginal** likelihood, since the hidden states, $\\mathbf{x}_1, \\mathbf{x}_2, \\ldots, \\mathbf{x}_T$, are margined out. We seek a **maximum likelihood estimator (MLE)**, $\\hat{\\mathbf{\\theta}}_{ML}$, the value of $\\mathbf{\\theta}$ that maximises the likelihood function."
   ]
  },
  {
   "cell_type": "markdown",
   "metadata": {},
   "source": [
    "Each evaluation of the objective function, $\\mathcal{L}(\\mathbf{\\theta})$, constitutes a run the stochastic filter over the observations $\\mathbf{y}_1, \\mathbf{y}_2, \\ldots, \\mathbf{y}_T$. By the chain rule (i), and since we are dealing with a Markov chain (ii),\n",
    "\\begin{equation*}\n",
    "p(\\mathbf{y}_1, \\ldots, \\mathbf{y}_T) \\overset{\\text{(i)}}{=} \\prod_{t=1}^T p(\\mathbf{y}_t \\ | \\  \\mathbf{y}_0, \\ldots, \\mathbf{y}_{t-1}) \\overset{\\text{(ii)}}{=} \\prod_{t=1}^T \\int p(\\mathbf{y}_t \\ | \\  \\mathbf{x}_t) p(\\mathbf{x}_t \\ | \\  \\mathbf{y}_0, \\ldots, \\mathbf{y}_{t-1}) \\, d\\mathbf{x}_t.\n",
    "\\end{equation*}\n",
    "Here we have omitted the dependence of all the probability densities on $\\mathbf{\\theta}$, e.g. we should have really written $p(\\mathbf{y}_1, \\ldots, \\mathbf{y}_T; \\mathbf{\\theta})$."
   ]
  },
  {
   "cell_type": "markdown",
   "metadata": {},
   "source": [
    "For the particle filter, we can estimate the log-likelihood function from the non-normalised weights:\n",
    "\\begin{equation*}\n",
    "p(\\mathbf{y}_1, \\ldots, \\mathbf{y}_T) = \\prod_{t=1}^T \\int p(\\mathbf{y}_t \\ | \\  \\mathbf{x}_t) p(\\mathbf{x}_t \\ | \\  \\mathbf{y}_0, \\ldots, \\mathbf{y}_{t-1}) \\, d\\mathbf{x}_t \\approx \\prod_{t=1}^T \\left( \\frac{1}{M} \\sum_{k=1}^M \\omega^{(k)}_t \\right),\n",
    "\\end{equation*}\n",
    "whence\n",
    "\\begin{equation}\n",
    "\\ln(\\mathcal{L}(\\mathbf{\\theta})) = \\ln \\left\\{ \\prod_{t=1}^T \\left( \\frac{1}{M} \\sum_{k=1}^M \\omega^{(k)}_t \\right) \\right\\} = \\sum_{t=1}^T \\ln\\left( \\frac{1}{M} \\sum_{k=1}^M \\omega^{(k)}_t \\right).\n",
    "\\label{eq:particle-filter-log-likelihood}\n",
    "\\end{equation}"
   ]
  },
  {
   "cell_type": "markdown",
   "metadata": {},
   "source": [
    "This was first proposed by Kitagawa **[Kit93]**, **[Kit96]** for the purposes of approximating $\\hat{\\mathbf{\\theta}}_{ML}$."
   ]
  },
  {
   "cell_type": "markdown",
   "metadata": {},
   "source": [
    "In most practical applications one needs to resort to numerical methods, perhaps quasi-Newton methods, such as **Broyden-Fletcher-Goldfarb-Shanno (BFGS)** **[GMW82]**, to find $\\hat{\\mathbf{\\theta}}_{ML}$."
   ]
  },
  {
   "cell_type": "markdown",
   "metadata": {},
   "source": [
    "Malik, Pitt, and Doucet **[PMD14]** point out the practical difficulties which result when using the above as an objective function in an optimiser. In the resampling (or selection) step of the particle filter, we are sampling from a discontinuous empirical distribution function. Therefore $\\ln(\\mathcal{L}(\\mathbf{\\theta}))$ will not be continuous as a function of $\\mathbf{\\theta}$. To remedy this, they rely on an alternative, continuous, resampling procedure described in. A quasi-Newton method is then used to find $\\hat{\\mathbf{\\theta}}_{ML}$ for the parameters $\\mathbf{\\theta} = (\\mu, \\phi, \\sigma_v^2, \\rho, p, \\sigma_J^2)^{\\intercal}$ of the SVLJ model."
   ]
  },
  {
   "cell_type": "markdown",
   "metadata": {},
   "source": [
    "Kalman filters can also be calibrated using a similar maximum likelihood approach."
   ]
  },
  {
   "cell_type": "markdown",
   "metadata": {},
   "source": [
    "### Calibrating stochastic filters: the Bayesian approach"
   ]
  },
  {
   "cell_type": "markdown",
   "metadata": {},
   "source": [
    "Let us briefly discuss how filtering methods relate to **Markov chain Monte Carlo methods (MCMC)** --- a vast subject in its own right, therefore our discussion will be cursory at best. The technique takes its origin from **[MRRT53]**."
   ]
  },
  {
   "cell_type": "markdown",
   "metadata": {},
   "source": [
    "Proceeding along the lines of **[KSC98]**, Meyer and Yu **[MY00]**, **[Yu05]** demonstrate how MCMC techniques can be used to estimate the parameters of the SVL model. They calibrate the parameters to the time series of observations of daily mean-adjusted log-returns, $y_1, \\ldots, y_T$. They obtain the joint prior density\n",
    "\\begin{equation*}\n",
    "p(\\mathbf{\\theta}, x_0, \\ldots, x_T) = p(\\mathbf{\\theta}) p(x_0 \\ | \\  \\mathbf{\\theta}) \\prod_{t=1}^T p(x_t \\ | \\  x_{t-1}, \\mathbf{\\theta})\n",
    "\\end{equation*}\n",
    "by successive conditioning. Here $\\mathbf{\\theta} = (\\mu, \\phi, \\sigma_v^2, \\rho)^{\\intercal}$ is, as before, the vector of the model's parameters. They assume prior independence of the parameters and choose the same priors as in **[KSC98]** for $\\mu$, $\\phi$, and $\\sigma_v^2$, and a uniform prior for $\\rho$. The observation model and the conditional independence assumption give the likelihood\n",
    "\\begin{equation*}\n",
    "p(y_1, \\ldots, y_T \\ | \\  \\mathbf{\\theta}, x_0, \\ldots, x_T) = \\prod_{t=1}^T p(y_t \\ | \\  x_t),\n",
    "\\end{equation*}\n",
    "and the joint posterior distribution of the **unobservables** (the parameters $\\mathbf{\\theta}$ and the hidden states $x_0, \\ldots, x_T$; in the Bayesian perspective these are treated identically and estimated in a similar manner) follows from Bayes's theorem; for the SVL model, this posterior satisfies\n",
    "\\begin{equation*}\n",
    "p(\\mathbf{\\theta}, x_0, \\ldots, x_T \\ | \\  y_1, \\ldots, y_T) \\propto p(\\mu) p(\\phi) p(\\sigma_v^2) p(\\rho) \\prod_{t=1}^T p(x_{t+1} \\ | \\  x_t, \\mu, \\phi, \\sigma_v^2) \\prod_{t=1}^T p(y_t \\ | \\  x_{t+1}, x_t, \\mu, \\phi, \\sigma_v^2, \\rho),\n",
    "\\end{equation*}\n",
    "where $p(\\mu)$, $p(\\phi)$, $p(\\sigma_v^2)$, $p(\\rho)$ are the appropriately chosen priors,\n",
    "\\begin{align*}\n",
    "x_{t+1} \\ | \\  x_t, \\mu, \\phi, \\sigma_v^2 &\\sim \\mathcal{N}\\left(\\mu (1 - \\phi) + \\phi x_t, \\sigma_v^2\\right), \\\\\n",
    "y_t \\ | \\  x_{t+1}, x_t, \\mu, \\phi, \\sigma_v^2, \\rho &\\sim \\mathcal{N}\\left(\\frac{\\rho}{\\sigma_v} e^{x_t/2} \\left( x_{t+1} - \\mu (1 - \\phi) - \\phi x_t \\right), e^{x_t} (1 - \\rho^2)\\right).\n",
    "\\end{align*}"
   ]
  },
  {
   "cell_type": "markdown",
   "metadata": {},
   "source": [
    "Meyer and Yu use the software package \\textsf{BUGS}\\footnote{An acronym for Bayesian inference Using Gibbs Sampling.}~\\cite{spiegelhalter-1996, lunn-2000} to represent the resulting Bayesian model as a \\emph{directed acyclic graph (DAG)}, where the nodes are either constants (denoted by rectangles), stochastic nodes (variables that are given a distribution, denoted by ellipses), or deterministic nodes (logical functions of other nodes); the arrows either indicate stochastic dependence (solid arrows) or logical functions (hollow arrows). This graph helps visualise the conditional (in)dependence assumptions and is used by \\textsf{BUGS} to construct full univariate conditional posterior distributions for all unobservables. It then uses Markov chain Monte Carlo algorithms to sample from these distributions."
   ]
  },
  {
   "cell_type": "markdown",
   "metadata": {},
   "source": [
    "The algorithm based on the original work~\\cite{metropolis-1953} is now known as the \\emph{Metropolis algorithm}. It has been generalised by Hastings~(1930--2016) to obtain the \\emph{Metropolis-Hastings algorithm}~\\cite{hastings-1970} and further by Green to obtain what is known as the \\emph{Metropolis-Hastings-Green algorithm}~\\cite{green-1995}. A popular algorithm based on a special case of the Metropolis-Hastings algorithm, known as the \\emph{Gibbs sampler}, was developed by the brothers Geman \\cite{geman-1984} and, independently, Tanner and Wong \\cite{tanner-1987}\\footnote{Sometimes the Gibbs sampler is referred to as \\emph{data augmentation} following this paper.}. It was further popularised by Gelfand and Smith~\\cite{gelfand-1990}. Gibbs sampling and related algorithms \\cite{gilks-1992, ritter-1992} are used by \\textsf{BUGS} to sample from the univariate conditional posterior distributions for all unobservables."
   ]
  },
  {
   "cell_type": "markdown",
   "metadata": {},
   "source": [
    "As a result we perform Bayesian estimation --- obtain estimates of the \\emph{distributions} of the parameters $\\mu$, $\\phi$, $\\sigma_v^2$, $\\rho$ --- rather than frequentist estimation, where a single value of the parameters vector, which maximises the likelihood, $\\hat{\\mathbf{\\theta}}_{ML}$, is produced, as we saw in Section~\\ref{sec:filtering_parameter-estimation}. Stochastic filtering, sometimes in combination with MCMC, can be used for both frequentist and Bayesian parameter estimation~\\cite{chen-2003}. Filtering methods that update estimates of the parameters online, while processing observations in real-time, are referred to as \\emph{adaptive filtering} (see~\\cite{sayed-2008, reyvega-2013, crisan-2013-1, naesseth-2015} and references therein)."
   ]
  },
  {
   "cell_type": "code",
   "execution_count": 5,
   "metadata": {},
   "outputs": [],
   "source": [
    "df1 = pd.read_csv('../data/dataset-1.csv')\n",
    "y1 = df1['daily_log_return'].values"
   ]
  },
  {
   "cell_type": "code",
   "execution_count": 6,
   "metadata": {},
   "outputs": [],
   "source": [
    "df2 = pd.read_csv('../data/dataset-2.csv')\n",
    "y2 = df2['daily_log_return'].values"
   ]
  },
  {
   "cell_type": "markdown",
   "metadata": {},
   "source": [
    "To use Dataset 1:"
   ]
  },
  {
   "cell_type": "code",
   "execution_count": 7,
   "metadata": {},
   "outputs": [],
   "source": [
    "# log_returns = y1"
   ]
  },
  {
   "cell_type": "markdown",
   "metadata": {},
   "source": [
    "To use Dataset 2:"
   ]
  },
  {
   "cell_type": "code",
   "execution_count": 8,
   "metadata": {},
   "outputs": [],
   "source": [
    "log_returns = y2"
   ]
  },
  {
   "cell_type": "markdown",
   "metadata": {},
   "source": [
    "#### Implementation of the stochastic volatility model with leverage in PyMC3"
   ]
  },
  {
   "cell_type": "code",
   "execution_count": 9,
   "metadata": {},
   "outputs": [],
   "source": [
    "class StochasticVolatilityProcess(pm.distributions.distribution.Continuous):\n",
    "    def __init__(self, mu=None, phi=None, sigmav=None,\n",
    "                 *args, **kwargs):\n",
    "        super(StochasticVolatilityProcess, self).__init__(*args, **kwargs)\n",
    "        self.alpha = pm.Deterministic('alpha', (1. - phi) * mu)\n",
    "        self.phi = phi\n",
    "        self.sigmav = sigmav\n",
    "        self.init = pm.Normal.dist(mu=mu, sd=sigmav)\n",
    "        self.mean = tt.as_tensor_variable(0.)\n",
    "\n",
    "    def logp(self, x):\n",
    "        alpha = self.alpha\n",
    "        phi = self.phi\n",
    "        sigmav = self.sigmav\n",
    "        init = self.init\n",
    "\n",
    "        x_im1 = x[:-1]\n",
    "        x_i = x[1:]\n",
    "\n",
    "        innov_like = pm.Normal.dist(mu=alpha + phi * x_im1, sd=sigmav).logp(x_i)\n",
    "        return init.logp(x[0]) + tt.sum(innov_like)\n",
    "\n",
    "    def _repr_latex_(self, name=None, dist=None):\n",
    "        if dist is None:\n",
    "            dist = self\n",
    "        mu = dist.mu\n",
    "        sd = dist.sd\n",
    "        name = r'\\text{%s}' % name\n",
    "        return r'${} \\sim \\text{{StochasticVolatilityProcess}}(\\mathit{{mu}}={},~\\mathit{{sd}}={})$'.format(name,\n",
    "                get_variable_name(mu), get_variable_name(sd))"
   ]
  },
  {
   "cell_type": "code",
   "execution_count": 10,
   "metadata": {},
   "outputs": [],
   "source": [
    "def make_stochastic_volatility_model(model, log_returns):\n",
    "    mu = pm.Normal(name='mu', mu=0., sd=np.sqrt(25.))\n",
    "    phistar = pm.Beta(name='phistar', alpha=20., beta=1.5)\n",
    "    recsigmav2 = pm.Gamma(name='recsigmav2', alpha=2.5, beta=.25)\n",
    "    beta = pm.math.exp(pm.Deterministic('beta', .5 * mu))\n",
    "    phi = pm.Deterministic('phi', 2. * phistar - 1.)\n",
    "    sigmav = pm.Deterministic('sigmav', pm.math.sqrt(1. / recsigmav2))\n",
    "    x = StochasticVolatilityProcess('x', mu, phi, sigmav, shape=len(log_returns) + 1)\n",
    "    y = pm.Normal(name='y', mu=0., sd=pm.math.sqrt(pm.math.exp(x[1:])), observed=log_returns)"
   ]
  },
  {
   "cell_type": "code",
   "execution_count": 11,
   "metadata": {},
   "outputs": [],
   "source": [
    "def make_stochastic_volatility_model_with_leverage(model, log_returns):\n",
    "    mu = pm.Normal(name='mu', mu=0., sd=np.sqrt(25.))\n",
    "    phistar = pm.Beta(name='phistar', alpha=20., beta=1.5)\n",
    "    recsigmav2 = pm.Gamma(name='recsigmav2', alpha=2.5, beta=.25)\n",
    "    beta = pm.math.exp(pm.Deterministic('beta', .5 * mu))\n",
    "    phi = pm.Deterministic('phi', 2. * phistar - 1.)\n",
    "    sigmav = pm.Deterministic('sigmav', pm.math.sqrt(1. / recsigmav2))\n",
    "    rho = pm.Uniform(name='rho', lower=-1., upper=1.)\n",
    "    x = StochasticVolatilityProcess('x', mu, phi, sigmav, shape=len(log_returns) + 2)\n",
    "    y = pm.Normal(name='y',\n",
    "                  mu=rho / sigmav * pm.math.exp(.5 * x[1:-1]) * (x[2:] - (1. - phi) * mu - phi * x[1:-1]),\n",
    "                  sd=pm.math.sqrt(pm.math.exp(x[1:-1]) * (1 - rho * rho)),\n",
    "                  observed=log_returns)"
   ]
  },
  {
   "cell_type": "markdown",
   "metadata": {},
   "source": [
    "#### Playing with the model"
   ]
  },
  {
   "cell_type": "markdown",
   "metadata": {},
   "source": [
    "Let's apply the stochastic volatility model, no leverage:"
   ]
  },
  {
   "cell_type": "code",
   "execution_count": 12,
   "metadata": {},
   "outputs": [
    {
     "name": "stdout",
     "output_type": "stream",
     "text": [
      "Making model...\n",
      "\n",
      "You can find the C code in this temporary file: /var/folders/5h/814jwv2d3xs4m0hwpncyv4w00000gn/T/theano_compilation_error_4bkzszi1\n"
     ]
    },
    {
     "ename": "Exception",
     "evalue": "(\"Compilation failed (return status=1): In file included from /Users/dez/.theano/compiledir_Darwin-19.4.0-x86_64-i386-64bit-i386-3.6.10-64/tmpgh6yuq7k/mod.cpp:1:. In file included from /Users/dez/miniconda3/envs/MLFenv/include/python3.6m/Python.h:25:. /Users/dez/miniconda3/envs/MLFenv/bin/../include/c++/v1/stdio.h:107:15: fatal error: 'stdio.h' file not found. #include_next <stdio.h>.               ^~~~~~~~~. 1 error generated.. \", '[Elemwise{true_div,no_inplace}(TensorConstant{1.0}, TensorConstant{0.04})]')",
     "output_type": "error",
     "traceback": [
      "\u001b[0;31m---------------------------------------------------------------------------\u001b[0m",
      "\u001b[0;31mException\u001b[0m                                 Traceback (most recent call last)",
      "\u001b[0;32m<ipython-input-12-782c8f7e0170>\u001b[0m in \u001b[0;36m<module>\u001b[0;34m\u001b[0m\n\u001b[1;32m      1\u001b[0m \u001b[0;32mwith\u001b[0m \u001b[0mpm\u001b[0m\u001b[0;34m.\u001b[0m\u001b[0mModel\u001b[0m\u001b[0;34m(\u001b[0m\u001b[0;34m)\u001b[0m \u001b[0;32mas\u001b[0m \u001b[0mmodel\u001b[0m\u001b[0;34m:\u001b[0m\u001b[0;34m\u001b[0m\u001b[0;34m\u001b[0m\u001b[0m\n\u001b[1;32m      2\u001b[0m     \u001b[0mprint\u001b[0m\u001b[0;34m(\u001b[0m\u001b[0;34m'Making model...'\u001b[0m\u001b[0;34m)\u001b[0m\u001b[0;34m\u001b[0m\u001b[0;34m\u001b[0m\u001b[0m\n\u001b[0;32m----> 3\u001b[0;31m     \u001b[0mmake_stochastic_volatility_model\u001b[0m\u001b[0;34m(\u001b[0m\u001b[0mmodel\u001b[0m\u001b[0;34m,\u001b[0m \u001b[0mlog_returns\u001b[0m\u001b[0;34m)\u001b[0m\u001b[0;34m\u001b[0m\u001b[0;34m\u001b[0m\u001b[0m\n\u001b[0m\u001b[1;32m      4\u001b[0m     \u001b[0mprint\u001b[0m\u001b[0;34m(\u001b[0m\u001b[0;34m'Sampling...'\u001b[0m\u001b[0;34m)\u001b[0m\u001b[0;34m\u001b[0m\u001b[0;34m\u001b[0m\u001b[0m\n\u001b[1;32m      5\u001b[0m     \u001b[0mtrace\u001b[0m \u001b[0;34m=\u001b[0m \u001b[0mpm\u001b[0m\u001b[0;34m.\u001b[0m\u001b[0msample\u001b[0m\u001b[0;34m(\u001b[0m\u001b[0mtune\u001b[0m\u001b[0;34m=\u001b[0m\u001b[0;36m1000\u001b[0m\u001b[0;34m,\u001b[0m \u001b[0mdraws\u001b[0m\u001b[0;34m=\u001b[0m\u001b[0;36m10000\u001b[0m\u001b[0;34m,\u001b[0m \u001b[0mnuts_kwargs\u001b[0m\u001b[0;34m=\u001b[0m\u001b[0mdict\u001b[0m\u001b[0;34m(\u001b[0m\u001b[0mtarget_accept\u001b[0m\u001b[0;34m=\u001b[0m\u001b[0;36m.9\u001b[0m\u001b[0;34m)\u001b[0m\u001b[0;34m,\u001b[0m \u001b[0mchains\u001b[0m\u001b[0;34m=\u001b[0m\u001b[0;36m1\u001b[0m\u001b[0;34m)\u001b[0m\u001b[0;34m\u001b[0m\u001b[0;34m\u001b[0m\u001b[0m\n",
      "\u001b[0;32m<ipython-input-10-8deb0e76d875>\u001b[0m in \u001b[0;36mmake_stochastic_volatility_model\u001b[0;34m(model, log_returns)\u001b[0m\n\u001b[1;32m      1\u001b[0m \u001b[0;32mdef\u001b[0m \u001b[0mmake_stochastic_volatility_model\u001b[0m\u001b[0;34m(\u001b[0m\u001b[0mmodel\u001b[0m\u001b[0;34m,\u001b[0m \u001b[0mlog_returns\u001b[0m\u001b[0;34m)\u001b[0m\u001b[0;34m:\u001b[0m\u001b[0;34m\u001b[0m\u001b[0;34m\u001b[0m\u001b[0m\n\u001b[0;32m----> 2\u001b[0;31m     \u001b[0mmu\u001b[0m \u001b[0;34m=\u001b[0m \u001b[0mpm\u001b[0m\u001b[0;34m.\u001b[0m\u001b[0mNormal\u001b[0m\u001b[0;34m(\u001b[0m\u001b[0mname\u001b[0m\u001b[0;34m=\u001b[0m\u001b[0;34m'mu'\u001b[0m\u001b[0;34m,\u001b[0m \u001b[0mmu\u001b[0m\u001b[0;34m=\u001b[0m\u001b[0;36m0.\u001b[0m\u001b[0;34m,\u001b[0m \u001b[0msd\u001b[0m\u001b[0;34m=\u001b[0m\u001b[0mnp\u001b[0m\u001b[0;34m.\u001b[0m\u001b[0msqrt\u001b[0m\u001b[0;34m(\u001b[0m\u001b[0;36m25.\u001b[0m\u001b[0;34m)\u001b[0m\u001b[0;34m)\u001b[0m\u001b[0;34m\u001b[0m\u001b[0;34m\u001b[0m\u001b[0m\n\u001b[0m\u001b[1;32m      3\u001b[0m     \u001b[0mphistar\u001b[0m \u001b[0;34m=\u001b[0m \u001b[0mpm\u001b[0m\u001b[0;34m.\u001b[0m\u001b[0mBeta\u001b[0m\u001b[0;34m(\u001b[0m\u001b[0mname\u001b[0m\u001b[0;34m=\u001b[0m\u001b[0;34m'phistar'\u001b[0m\u001b[0;34m,\u001b[0m \u001b[0malpha\u001b[0m\u001b[0;34m=\u001b[0m\u001b[0;36m20.\u001b[0m\u001b[0;34m,\u001b[0m \u001b[0mbeta\u001b[0m\u001b[0;34m=\u001b[0m\u001b[0;36m1.5\u001b[0m\u001b[0;34m)\u001b[0m\u001b[0;34m\u001b[0m\u001b[0;34m\u001b[0m\u001b[0m\n\u001b[1;32m      4\u001b[0m     \u001b[0mrecsigmav2\u001b[0m \u001b[0;34m=\u001b[0m \u001b[0mpm\u001b[0m\u001b[0;34m.\u001b[0m\u001b[0mGamma\u001b[0m\u001b[0;34m(\u001b[0m\u001b[0mname\u001b[0m\u001b[0;34m=\u001b[0m\u001b[0;34m'recsigmav2'\u001b[0m\u001b[0;34m,\u001b[0m \u001b[0malpha\u001b[0m\u001b[0;34m=\u001b[0m\u001b[0;36m2.5\u001b[0m\u001b[0;34m,\u001b[0m \u001b[0mbeta\u001b[0m\u001b[0;34m=\u001b[0m\u001b[0;36m.25\u001b[0m\u001b[0;34m)\u001b[0m\u001b[0;34m\u001b[0m\u001b[0;34m\u001b[0m\u001b[0m\n\u001b[1;32m      5\u001b[0m     \u001b[0mbeta\u001b[0m \u001b[0;34m=\u001b[0m \u001b[0mpm\u001b[0m\u001b[0;34m.\u001b[0m\u001b[0mmath\u001b[0m\u001b[0;34m.\u001b[0m\u001b[0mexp\u001b[0m\u001b[0;34m(\u001b[0m\u001b[0mpm\u001b[0m\u001b[0;34m.\u001b[0m\u001b[0mDeterministic\u001b[0m\u001b[0;34m(\u001b[0m\u001b[0;34m'beta'\u001b[0m\u001b[0;34m,\u001b[0m \u001b[0;36m.5\u001b[0m \u001b[0;34m*\u001b[0m \u001b[0mmu\u001b[0m\u001b[0;34m)\u001b[0m\u001b[0;34m)\u001b[0m\u001b[0;34m\u001b[0m\u001b[0;34m\u001b[0m\u001b[0m\n",
      "\u001b[0;32m~/miniconda3/envs/MLFenv/lib/python3.6/site-packages/pymc3/distributions/distribution.py\u001b[0m in \u001b[0;36m__new__\u001b[0;34m(cls, name, *args, **kwargs)\u001b[0m\n\u001b[1;32m     44\u001b[0m                 \u001b[0;32mraise\u001b[0m \u001b[0mTypeError\u001b[0m\u001b[0;34m(\u001b[0m\u001b[0;34m\"observed needs to be data but got: {}\"\u001b[0m\u001b[0;34m.\u001b[0m\u001b[0mformat\u001b[0m\u001b[0;34m(\u001b[0m\u001b[0mtype\u001b[0m\u001b[0;34m(\u001b[0m\u001b[0mdata\u001b[0m\u001b[0;34m)\u001b[0m\u001b[0;34m)\u001b[0m\u001b[0;34m)\u001b[0m\u001b[0;34m\u001b[0m\u001b[0;34m\u001b[0m\u001b[0m\n\u001b[1;32m     45\u001b[0m             \u001b[0mtotal_size\u001b[0m \u001b[0;34m=\u001b[0m \u001b[0mkwargs\u001b[0m\u001b[0;34m.\u001b[0m\u001b[0mpop\u001b[0m\u001b[0;34m(\u001b[0m\u001b[0;34m'total_size'\u001b[0m\u001b[0;34m,\u001b[0m \u001b[0;32mNone\u001b[0m\u001b[0;34m)\u001b[0m\u001b[0;34m\u001b[0m\u001b[0;34m\u001b[0m\u001b[0m\n\u001b[0;32m---> 46\u001b[0;31m             \u001b[0mdist\u001b[0m \u001b[0;34m=\u001b[0m \u001b[0mcls\u001b[0m\u001b[0;34m.\u001b[0m\u001b[0mdist\u001b[0m\u001b[0;34m(\u001b[0m\u001b[0;34m*\u001b[0m\u001b[0margs\u001b[0m\u001b[0;34m,\u001b[0m \u001b[0;34m**\u001b[0m\u001b[0mkwargs\u001b[0m\u001b[0;34m)\u001b[0m\u001b[0;34m\u001b[0m\u001b[0;34m\u001b[0m\u001b[0m\n\u001b[0m\u001b[1;32m     47\u001b[0m             \u001b[0;32mreturn\u001b[0m \u001b[0mmodel\u001b[0m\u001b[0;34m.\u001b[0m\u001b[0mVar\u001b[0m\u001b[0;34m(\u001b[0m\u001b[0mname\u001b[0m\u001b[0;34m,\u001b[0m \u001b[0mdist\u001b[0m\u001b[0;34m,\u001b[0m \u001b[0mdata\u001b[0m\u001b[0;34m,\u001b[0m \u001b[0mtotal_size\u001b[0m\u001b[0;34m)\u001b[0m\u001b[0;34m\u001b[0m\u001b[0;34m\u001b[0m\u001b[0m\n\u001b[1;32m     48\u001b[0m         \u001b[0;32melse\u001b[0m\u001b[0;34m:\u001b[0m\u001b[0;34m\u001b[0m\u001b[0;34m\u001b[0m\u001b[0m\n",
      "\u001b[0;32m~/miniconda3/envs/MLFenv/lib/python3.6/site-packages/pymc3/distributions/distribution.py\u001b[0m in \u001b[0;36mdist\u001b[0;34m(cls, *args, **kwargs)\u001b[0m\n\u001b[1;32m     55\u001b[0m     \u001b[0;32mdef\u001b[0m \u001b[0mdist\u001b[0m\u001b[0;34m(\u001b[0m\u001b[0mcls\u001b[0m\u001b[0;34m,\u001b[0m \u001b[0;34m*\u001b[0m\u001b[0margs\u001b[0m\u001b[0;34m,\u001b[0m \u001b[0;34m**\u001b[0m\u001b[0mkwargs\u001b[0m\u001b[0;34m)\u001b[0m\u001b[0;34m:\u001b[0m\u001b[0;34m\u001b[0m\u001b[0;34m\u001b[0m\u001b[0m\n\u001b[1;32m     56\u001b[0m         \u001b[0mdist\u001b[0m \u001b[0;34m=\u001b[0m \u001b[0mobject\u001b[0m\u001b[0;34m.\u001b[0m\u001b[0m__new__\u001b[0m\u001b[0;34m(\u001b[0m\u001b[0mcls\u001b[0m\u001b[0;34m)\u001b[0m\u001b[0;34m\u001b[0m\u001b[0;34m\u001b[0m\u001b[0m\n\u001b[0;32m---> 57\u001b[0;31m         \u001b[0mdist\u001b[0m\u001b[0;34m.\u001b[0m\u001b[0m__init__\u001b[0m\u001b[0;34m(\u001b[0m\u001b[0;34m*\u001b[0m\u001b[0margs\u001b[0m\u001b[0;34m,\u001b[0m \u001b[0;34m**\u001b[0m\u001b[0mkwargs\u001b[0m\u001b[0;34m)\u001b[0m\u001b[0;34m\u001b[0m\u001b[0;34m\u001b[0m\u001b[0m\n\u001b[0m\u001b[1;32m     58\u001b[0m         \u001b[0;32mreturn\u001b[0m \u001b[0mdist\u001b[0m\u001b[0;34m\u001b[0m\u001b[0;34m\u001b[0m\u001b[0m\n\u001b[1;32m     59\u001b[0m \u001b[0;34m\u001b[0m\u001b[0m\n",
      "\u001b[0;32m~/miniconda3/envs/MLFenv/lib/python3.6/site-packages/pymc3/distributions/continuous.py\u001b[0m in \u001b[0;36m__init__\u001b[0;34m(self, mu, sigma, tau, sd, **kwargs)\u001b[0m\n\u001b[1;32m    468\u001b[0m \u001b[0;34m\u001b[0m\u001b[0m\n\u001b[1;32m    469\u001b[0m         \u001b[0mself\u001b[0m\u001b[0;34m.\u001b[0m\u001b[0mmean\u001b[0m \u001b[0;34m=\u001b[0m \u001b[0mself\u001b[0m\u001b[0;34m.\u001b[0m\u001b[0mmedian\u001b[0m \u001b[0;34m=\u001b[0m \u001b[0mself\u001b[0m\u001b[0;34m.\u001b[0m\u001b[0mmode\u001b[0m \u001b[0;34m=\u001b[0m \u001b[0mself\u001b[0m\u001b[0;34m.\u001b[0m\u001b[0mmu\u001b[0m \u001b[0;34m=\u001b[0m \u001b[0mmu\u001b[0m \u001b[0;34m=\u001b[0m \u001b[0mtt\u001b[0m\u001b[0;34m.\u001b[0m\u001b[0mas_tensor_variable\u001b[0m\u001b[0;34m(\u001b[0m\u001b[0mfloatX\u001b[0m\u001b[0;34m(\u001b[0m\u001b[0mmu\u001b[0m\u001b[0;34m)\u001b[0m\u001b[0;34m)\u001b[0m\u001b[0;34m\u001b[0m\u001b[0;34m\u001b[0m\u001b[0m\n\u001b[0;32m--> 470\u001b[0;31m         \u001b[0mself\u001b[0m\u001b[0;34m.\u001b[0m\u001b[0mvariance\u001b[0m \u001b[0;34m=\u001b[0m \u001b[0;36m1.\u001b[0m \u001b[0;34m/\u001b[0m \u001b[0mself\u001b[0m\u001b[0;34m.\u001b[0m\u001b[0mtau\u001b[0m\u001b[0;34m\u001b[0m\u001b[0;34m\u001b[0m\u001b[0m\n\u001b[0m\u001b[1;32m    471\u001b[0m \u001b[0;34m\u001b[0m\u001b[0m\n\u001b[1;32m    472\u001b[0m         \u001b[0massert_negative_support\u001b[0m\u001b[0;34m(\u001b[0m\u001b[0msigma\u001b[0m\u001b[0;34m,\u001b[0m \u001b[0;34m'sigma'\u001b[0m\u001b[0;34m,\u001b[0m \u001b[0;34m'Normal'\u001b[0m\u001b[0;34m)\u001b[0m\u001b[0;34m\u001b[0m\u001b[0;34m\u001b[0m\u001b[0m\n",
      "\u001b[0;32m~/miniconda3/envs/MLFenv/lib/python3.6/site-packages/theano/tensor/var.py\u001b[0m in \u001b[0;36m__rtruediv__\u001b[0;34m(self, other)\u001b[0m\n\u001b[1;32m    201\u001b[0m \u001b[0;34m\u001b[0m\u001b[0m\n\u001b[1;32m    202\u001b[0m     \u001b[0;32mdef\u001b[0m \u001b[0m__rtruediv__\u001b[0m\u001b[0;34m(\u001b[0m\u001b[0mself\u001b[0m\u001b[0;34m,\u001b[0m \u001b[0mother\u001b[0m\u001b[0;34m)\u001b[0m\u001b[0;34m:\u001b[0m\u001b[0;34m\u001b[0m\u001b[0;34m\u001b[0m\u001b[0m\n\u001b[0;32m--> 203\u001b[0;31m         \u001b[0;32mreturn\u001b[0m \u001b[0mtheano\u001b[0m\u001b[0;34m.\u001b[0m\u001b[0mtensor\u001b[0m\u001b[0;34m.\u001b[0m\u001b[0mbasic\u001b[0m\u001b[0;34m.\u001b[0m\u001b[0mtrue_div\u001b[0m\u001b[0;34m(\u001b[0m\u001b[0mother\u001b[0m\u001b[0;34m,\u001b[0m \u001b[0mself\u001b[0m\u001b[0;34m)\u001b[0m\u001b[0;34m\u001b[0m\u001b[0;34m\u001b[0m\u001b[0m\n\u001b[0m\u001b[1;32m    204\u001b[0m \u001b[0;34m\u001b[0m\u001b[0m\n\u001b[1;32m    205\u001b[0m     \u001b[0;32mdef\u001b[0m \u001b[0m__rfloordiv__\u001b[0m\u001b[0;34m(\u001b[0m\u001b[0mself\u001b[0m\u001b[0;34m,\u001b[0m \u001b[0mother\u001b[0m\u001b[0;34m)\u001b[0m\u001b[0;34m:\u001b[0m\u001b[0;34m\u001b[0m\u001b[0;34m\u001b[0m\u001b[0m\n",
      "\u001b[0;32m~/miniconda3/envs/MLFenv/lib/python3.6/site-packages/theano/gof/op.py\u001b[0m in \u001b[0;36m__call__\u001b[0;34m(self, *inputs, **kwargs)\u001b[0m\n\u001b[1;32m    668\u001b[0m                 \u001b[0;31m# compute output value once with test inputs to validate graph\u001b[0m\u001b[0;34m\u001b[0m\u001b[0;34m\u001b[0m\u001b[0;34m\u001b[0m\u001b[0m\n\u001b[1;32m    669\u001b[0m                 thunk = node.op.make_thunk(node, storage_map, compute_map,\n\u001b[0;32m--> 670\u001b[0;31m                                            no_recycling=[])\n\u001b[0m\u001b[1;32m    671\u001b[0m                 \u001b[0mthunk\u001b[0m\u001b[0;34m.\u001b[0m\u001b[0minputs\u001b[0m \u001b[0;34m=\u001b[0m \u001b[0;34m[\u001b[0m\u001b[0mstorage_map\u001b[0m\u001b[0;34m[\u001b[0m\u001b[0mv\u001b[0m\u001b[0;34m]\u001b[0m \u001b[0;32mfor\u001b[0m \u001b[0mv\u001b[0m \u001b[0;32min\u001b[0m \u001b[0mnode\u001b[0m\u001b[0;34m.\u001b[0m\u001b[0minputs\u001b[0m\u001b[0;34m]\u001b[0m\u001b[0;34m\u001b[0m\u001b[0;34m\u001b[0m\u001b[0m\n\u001b[1;32m    672\u001b[0m                 \u001b[0mthunk\u001b[0m\u001b[0;34m.\u001b[0m\u001b[0moutputs\u001b[0m \u001b[0;34m=\u001b[0m \u001b[0;34m[\u001b[0m\u001b[0mstorage_map\u001b[0m\u001b[0;34m[\u001b[0m\u001b[0mv\u001b[0m\u001b[0;34m]\u001b[0m \u001b[0;32mfor\u001b[0m \u001b[0mv\u001b[0m \u001b[0;32min\u001b[0m \u001b[0mnode\u001b[0m\u001b[0;34m.\u001b[0m\u001b[0moutputs\u001b[0m\u001b[0;34m]\u001b[0m\u001b[0;34m\u001b[0m\u001b[0;34m\u001b[0m\u001b[0m\n",
      "\u001b[0;32m~/miniconda3/envs/MLFenv/lib/python3.6/site-packages/theano/gof/op.py\u001b[0m in \u001b[0;36mmake_thunk\u001b[0;34m(self, node, storage_map, compute_map, no_recycling, impl)\u001b[0m\n\u001b[1;32m    953\u001b[0m             \u001b[0;32mtry\u001b[0m\u001b[0;34m:\u001b[0m\u001b[0;34m\u001b[0m\u001b[0;34m\u001b[0m\u001b[0m\n\u001b[1;32m    954\u001b[0m                 return self.make_c_thunk(node, storage_map, compute_map,\n\u001b[0;32m--> 955\u001b[0;31m                                          no_recycling)\n\u001b[0m\u001b[1;32m    956\u001b[0m             \u001b[0;32mexcept\u001b[0m \u001b[0;34m(\u001b[0m\u001b[0mNotImplementedError\u001b[0m\u001b[0;34m,\u001b[0m \u001b[0mutils\u001b[0m\u001b[0;34m.\u001b[0m\u001b[0mMethodNotDefined\u001b[0m\u001b[0;34m)\u001b[0m\u001b[0;34m:\u001b[0m\u001b[0;34m\u001b[0m\u001b[0;34m\u001b[0m\u001b[0m\n\u001b[1;32m    957\u001b[0m                 \u001b[0;31m# We requested the c code, so don't catch the error.\u001b[0m\u001b[0;34m\u001b[0m\u001b[0;34m\u001b[0m\u001b[0;34m\u001b[0m\u001b[0m\n",
      "\u001b[0;32m~/miniconda3/envs/MLFenv/lib/python3.6/site-packages/theano/gof/op.py\u001b[0m in \u001b[0;36mmake_c_thunk\u001b[0;34m(self, node, storage_map, compute_map, no_recycling)\u001b[0m\n\u001b[1;32m    856\u001b[0m         \u001b[0m_logger\u001b[0m\u001b[0;34m.\u001b[0m\u001b[0mdebug\u001b[0m\u001b[0;34m(\u001b[0m\u001b[0;34m'Trying CLinker.make_thunk'\u001b[0m\u001b[0;34m)\u001b[0m\u001b[0;34m\u001b[0m\u001b[0;34m\u001b[0m\u001b[0m\n\u001b[1;32m    857\u001b[0m         outputs = cl.make_thunk(input_storage=node_input_storage,\n\u001b[0;32m--> 858\u001b[0;31m                                 output_storage=node_output_storage)\n\u001b[0m\u001b[1;32m    859\u001b[0m         \u001b[0mthunk\u001b[0m\u001b[0;34m,\u001b[0m \u001b[0mnode_input_filters\u001b[0m\u001b[0;34m,\u001b[0m \u001b[0mnode_output_filters\u001b[0m \u001b[0;34m=\u001b[0m \u001b[0moutputs\u001b[0m\u001b[0;34m\u001b[0m\u001b[0;34m\u001b[0m\u001b[0m\n\u001b[1;32m    860\u001b[0m \u001b[0;34m\u001b[0m\u001b[0m\n",
      "\u001b[0;32m~/miniconda3/envs/MLFenv/lib/python3.6/site-packages/theano/gof/cc.py\u001b[0m in \u001b[0;36mmake_thunk\u001b[0;34m(self, input_storage, output_storage, storage_map, keep_lock)\u001b[0m\n\u001b[1;32m   1215\u001b[0m         cthunk, module, in_storage, out_storage, error_storage = self.__compile__(\n\u001b[1;32m   1216\u001b[0m             \u001b[0minput_storage\u001b[0m\u001b[0;34m,\u001b[0m \u001b[0moutput_storage\u001b[0m\u001b[0;34m,\u001b[0m \u001b[0mstorage_map\u001b[0m\u001b[0;34m,\u001b[0m\u001b[0;34m\u001b[0m\u001b[0;34m\u001b[0m\u001b[0m\n\u001b[0;32m-> 1217\u001b[0;31m             keep_lock=keep_lock)\n\u001b[0m\u001b[1;32m   1218\u001b[0m \u001b[0;34m\u001b[0m\u001b[0m\n\u001b[1;32m   1219\u001b[0m         \u001b[0mres\u001b[0m \u001b[0;34m=\u001b[0m \u001b[0m_CThunk\u001b[0m\u001b[0;34m(\u001b[0m\u001b[0mcthunk\u001b[0m\u001b[0;34m,\u001b[0m \u001b[0minit_tasks\u001b[0m\u001b[0;34m,\u001b[0m \u001b[0mtasks\u001b[0m\u001b[0;34m,\u001b[0m \u001b[0merror_storage\u001b[0m\u001b[0;34m,\u001b[0m \u001b[0mmodule\u001b[0m\u001b[0;34m)\u001b[0m\u001b[0;34m\u001b[0m\u001b[0;34m\u001b[0m\u001b[0m\n",
      "\u001b[0;32m~/miniconda3/envs/MLFenv/lib/python3.6/site-packages/theano/gof/cc.py\u001b[0m in \u001b[0;36m__compile__\u001b[0;34m(self, input_storage, output_storage, storage_map, keep_lock)\u001b[0m\n\u001b[1;32m   1155\u001b[0m                                             \u001b[0moutput_storage\u001b[0m\u001b[0;34m,\u001b[0m\u001b[0;34m\u001b[0m\u001b[0;34m\u001b[0m\u001b[0m\n\u001b[1;32m   1156\u001b[0m                                             \u001b[0mstorage_map\u001b[0m\u001b[0;34m,\u001b[0m\u001b[0;34m\u001b[0m\u001b[0;34m\u001b[0m\u001b[0m\n\u001b[0;32m-> 1157\u001b[0;31m                                             keep_lock=keep_lock)\n\u001b[0m\u001b[1;32m   1158\u001b[0m         return (thunk,\n\u001b[1;32m   1159\u001b[0m                 \u001b[0mmodule\u001b[0m\u001b[0;34m,\u001b[0m\u001b[0;34m\u001b[0m\u001b[0;34m\u001b[0m\u001b[0m\n",
      "\u001b[0;32m~/miniconda3/envs/MLFenv/lib/python3.6/site-packages/theano/gof/cc.py\u001b[0m in \u001b[0;36mcthunk_factory\u001b[0;34m(self, error_storage, in_storage, out_storage, storage_map, keep_lock)\u001b[0m\n\u001b[1;32m   1622\u001b[0m                 \u001b[0mnode\u001b[0m\u001b[0;34m.\u001b[0m\u001b[0mop\u001b[0m\u001b[0;34m.\u001b[0m\u001b[0mprepare_node\u001b[0m\u001b[0;34m(\u001b[0m\u001b[0mnode\u001b[0m\u001b[0;34m,\u001b[0m \u001b[0mstorage_map\u001b[0m\u001b[0;34m,\u001b[0m \u001b[0;32mNone\u001b[0m\u001b[0;34m,\u001b[0m \u001b[0;34m'c'\u001b[0m\u001b[0;34m)\u001b[0m\u001b[0;34m\u001b[0m\u001b[0;34m\u001b[0m\u001b[0m\n\u001b[1;32m   1623\u001b[0m             module = get_module_cache().module_from_key(\n\u001b[0;32m-> 1624\u001b[0;31m                 key=key, lnk=self, keep_lock=keep_lock)\n\u001b[0m\u001b[1;32m   1625\u001b[0m \u001b[0;34m\u001b[0m\u001b[0m\n\u001b[1;32m   1626\u001b[0m         \u001b[0mvars\u001b[0m \u001b[0;34m=\u001b[0m \u001b[0mself\u001b[0m\u001b[0;34m.\u001b[0m\u001b[0minputs\u001b[0m \u001b[0;34m+\u001b[0m \u001b[0mself\u001b[0m\u001b[0;34m.\u001b[0m\u001b[0moutputs\u001b[0m \u001b[0;34m+\u001b[0m \u001b[0mself\u001b[0m\u001b[0;34m.\u001b[0m\u001b[0morphans\u001b[0m\u001b[0;34m\u001b[0m\u001b[0;34m\u001b[0m\u001b[0m\n",
      "\u001b[0;32m~/miniconda3/envs/MLFenv/lib/python3.6/site-packages/theano/gof/cmodule.py\u001b[0m in \u001b[0;36mmodule_from_key\u001b[0;34m(self, key, lnk, keep_lock)\u001b[0m\n\u001b[1;32m   1187\u001b[0m             \u001b[0;32mtry\u001b[0m\u001b[0;34m:\u001b[0m\u001b[0;34m\u001b[0m\u001b[0;34m\u001b[0m\u001b[0m\n\u001b[1;32m   1188\u001b[0m                 \u001b[0mlocation\u001b[0m \u001b[0;34m=\u001b[0m \u001b[0mdlimport_workdir\u001b[0m\u001b[0;34m(\u001b[0m\u001b[0mself\u001b[0m\u001b[0;34m.\u001b[0m\u001b[0mdirname\u001b[0m\u001b[0;34m)\u001b[0m\u001b[0;34m\u001b[0m\u001b[0;34m\u001b[0m\u001b[0m\n\u001b[0;32m-> 1189\u001b[0;31m                 \u001b[0mmodule\u001b[0m \u001b[0;34m=\u001b[0m \u001b[0mlnk\u001b[0m\u001b[0;34m.\u001b[0m\u001b[0mcompile_cmodule\u001b[0m\u001b[0;34m(\u001b[0m\u001b[0mlocation\u001b[0m\u001b[0;34m)\u001b[0m\u001b[0;34m\u001b[0m\u001b[0;34m\u001b[0m\u001b[0m\n\u001b[0m\u001b[1;32m   1190\u001b[0m                 \u001b[0mname\u001b[0m \u001b[0;34m=\u001b[0m \u001b[0mmodule\u001b[0m\u001b[0;34m.\u001b[0m\u001b[0m__file__\u001b[0m\u001b[0;34m\u001b[0m\u001b[0;34m\u001b[0m\u001b[0m\n\u001b[1;32m   1191\u001b[0m                 \u001b[0;32massert\u001b[0m \u001b[0mname\u001b[0m\u001b[0;34m.\u001b[0m\u001b[0mstartswith\u001b[0m\u001b[0;34m(\u001b[0m\u001b[0mlocation\u001b[0m\u001b[0;34m)\u001b[0m\u001b[0;34m\u001b[0m\u001b[0;34m\u001b[0m\u001b[0m\n",
      "\u001b[0;32m~/miniconda3/envs/MLFenv/lib/python3.6/site-packages/theano/gof/cc.py\u001b[0m in \u001b[0;36mcompile_cmodule\u001b[0;34m(self, location)\u001b[0m\n\u001b[1;32m   1525\u001b[0m                 \u001b[0mlib_dirs\u001b[0m\u001b[0;34m=\u001b[0m\u001b[0mself\u001b[0m\u001b[0;34m.\u001b[0m\u001b[0mlib_dirs\u001b[0m\u001b[0;34m(\u001b[0m\u001b[0;34m)\u001b[0m\u001b[0;34m,\u001b[0m\u001b[0;34m\u001b[0m\u001b[0;34m\u001b[0m\u001b[0m\n\u001b[1;32m   1526\u001b[0m                 \u001b[0mlibs\u001b[0m\u001b[0;34m=\u001b[0m\u001b[0mlibs\u001b[0m\u001b[0;34m,\u001b[0m\u001b[0;34m\u001b[0m\u001b[0;34m\u001b[0m\u001b[0m\n\u001b[0;32m-> 1527\u001b[0;31m                 preargs=preargs)\n\u001b[0m\u001b[1;32m   1528\u001b[0m         \u001b[0;32mexcept\u001b[0m \u001b[0mException\u001b[0m \u001b[0;32mas\u001b[0m \u001b[0me\u001b[0m\u001b[0;34m:\u001b[0m\u001b[0;34m\u001b[0m\u001b[0;34m\u001b[0m\u001b[0m\n\u001b[1;32m   1529\u001b[0m             \u001b[0me\u001b[0m\u001b[0;34m.\u001b[0m\u001b[0margs\u001b[0m \u001b[0;34m+=\u001b[0m \u001b[0;34m(\u001b[0m\u001b[0mstr\u001b[0m\u001b[0;34m(\u001b[0m\u001b[0mself\u001b[0m\u001b[0;34m.\u001b[0m\u001b[0mfgraph\u001b[0m\u001b[0;34m)\u001b[0m\u001b[0;34m,\u001b[0m\u001b[0;34m)\u001b[0m\u001b[0;34m\u001b[0m\u001b[0;34m\u001b[0m\u001b[0m\n",
      "\u001b[0;32m~/miniconda3/envs/MLFenv/lib/python3.6/site-packages/theano/gof/cmodule.py\u001b[0m in \u001b[0;36mcompile_str\u001b[0;34m(module_name, src_code, location, include_dirs, lib_dirs, libs, preargs, py_module, hide_symbols)\u001b[0m\n\u001b[1;32m   2397\u001b[0m             \u001b[0;31m# difficult to read.\u001b[0m\u001b[0;34m\u001b[0m\u001b[0;34m\u001b[0m\u001b[0;34m\u001b[0m\u001b[0m\n\u001b[1;32m   2398\u001b[0m             raise Exception('Compilation failed (return status=%s): %s' %\n\u001b[0;32m-> 2399\u001b[0;31m                             (status, compile_stderr.replace('\\n', '. ')))\n\u001b[0m\u001b[1;32m   2400\u001b[0m         \u001b[0;32melif\u001b[0m \u001b[0mconfig\u001b[0m\u001b[0;34m.\u001b[0m\u001b[0mcmodule\u001b[0m\u001b[0;34m.\u001b[0m\u001b[0mcompilation_warning\u001b[0m \u001b[0;32mand\u001b[0m \u001b[0mcompile_stderr\u001b[0m\u001b[0;34m:\u001b[0m\u001b[0;34m\u001b[0m\u001b[0;34m\u001b[0m\u001b[0m\n\u001b[1;32m   2401\u001b[0m             \u001b[0;31m# Print errors just below the command line.\u001b[0m\u001b[0;34m\u001b[0m\u001b[0;34m\u001b[0m\u001b[0;34m\u001b[0m\u001b[0m\n",
      "\u001b[0;31mException\u001b[0m: (\"Compilation failed (return status=1): In file included from /Users/dez/.theano/compiledir_Darwin-19.4.0-x86_64-i386-64bit-i386-3.6.10-64/tmpgh6yuq7k/mod.cpp:1:. In file included from /Users/dez/miniconda3/envs/MLFenv/include/python3.6m/Python.h:25:. /Users/dez/miniconda3/envs/MLFenv/bin/../include/c++/v1/stdio.h:107:15: fatal error: 'stdio.h' file not found. #include_next <stdio.h>.               ^~~~~~~~~. 1 error generated.. \", '[Elemwise{true_div,no_inplace}(TensorConstant{1.0}, TensorConstant{0.04})]')"
     ]
    }
   ],
   "source": [
    "with pm.Model() as model:\n",
    "    print('Making model...')\n",
    "    make_stochastic_volatility_model(model, log_returns)\n",
    "    print('Sampling...')\n",
    "    trace = pm.sample(tune=1000, draws=10000, nuts_kwargs=dict(target_accept=.9), chains=1)\n",
    "    print('Producing trace plot...')\n",
    "    pm.traceplot(trace);"
   ]
  },
  {
   "cell_type": "markdown",
   "metadata": {},
   "source": [
    "Let's apply the stochastic volatility model with leverage:"
   ]
  },
  {
   "cell_type": "code",
   "execution_count": null,
   "metadata": {},
   "outputs": [],
   "source": [
    "with pm.Model() as model:\n",
    "    print('Making model...')\n",
    "    make_stochastic_volatility_model_with_leverage(model, log_returns)\n",
    "    print('Sampling...')\n",
    "    trace = pm.sample(tune=1000, draws=10000, nuts_kwargs=dict(target_accept=.9), chains=1)\n",
    "    print('Producing trace plot...')\n",
    "    pm.traceplot(trace);"
   ]
  },
  {
   "cell_type": "markdown",
   "metadata": {},
   "source": [
    "## Further reading"
   ]
  },
  {
   "cell_type": "markdown",
   "metadata": {},
   "source": [
    "For more information on filtering we refer the reader to **[Hay01]**, **[May79]**, **[Sim06]**, **[BC09]**, **[Sar13]**.\n",
    "\n",
    "For more information on MCMC, the reader may wish to consult **[Gey11]**."
   ]
  },
  {
   "cell_type": "markdown",
   "metadata": {},
   "source": [
    "## Bibliography"
   ]
  },
  {
   "cell_type": "markdown",
   "metadata": {},
   "source": [
    "**[BC09]** Alan Bain and Dan Crisan. *Fundamentals of Stochastic Filtering (Stochastic Modelling and Applied Probability Book 60).* Springer, 2009.\n",
    "\n",
    "**[BD87]** Peter J. Brockwell and Richard A. Davis. *Time Series: Theory and Methods.* Springer-Verlag, 1987.\n",
    "\n",
    "**[Bil16]** Paul Bilokon. Bayesian methods for solving estimation and forecasting problems in the high-frequency trading environment. MSc thesis, University of Oxford, 2016.\n",
    "\n",
    "**[BJR94]** George E. P. Box, Gwilym M. Jenkins, and Gregory C. Reinsel. *Time Series Analysis.* Prentice-Hall, 1994.\n",
    "\n",
    "**[Bla76]** Fisher Black, 1976. Studies of Stock Price Volatility Changes. *Proceedings of the Business and Economics Section of the American Statistical Association*, 177-181.\n",
    "\n",
    "**[dJP00]** Piet de Jong and Jeremy Penzer. The ARIMA model in state space form. Research Report 40, Department of Statistics, London School of Economics, Houghton Street, London, WC2A 2AE, UK, August 2000. http://www.lse.ac.uk/statistics/documents/researchreport40.pdf.\n",
    "\n",
    "**[DK00]** James Durbin and Siem Jan Koopman. Time series analysis of non-Gaussian observations based on state space models from both classical and Bayesian perspectives (with discussion). *Journal of the Royal Statistical Society, Series B*, 62:3-56, 2000.\n",
    "\n",
    "**[Gey11]** Charles J. Geyer. *Handbook of Markov Chain Monte Carlo*, chapter Introduction to Markov Chain Monte Carlo, pages 3-49. Handbooks of Modern Statistical Methods. CRC Press, 2011.\n",
    "\n",
    "**[GG84]** Stuart Jay Geman and Donald Geman. Stochastic relaxation, Gibbs distributions, and the Bayesian restoration of images. *IEEE Transactions on Pattern Analysis and Machine Intelligence*, 6:721-741, 1984.\n",
    "\n",
    "**[GMW82]** Philip E. Gill, Walter Murray and Margaret H. Wright. *Practical Optimization*. Academic Press, 1982.\n",
    "\n",
    "**[GSS93]** N.J. Gordon, D.J. Salmond, and A.F.M. Smith. Novel approach to nonlinear/non-Gaussian Bayesian state estimation. In *IEE Proceedings F (Radar and Signal Processing)*, 1993.\n",
    "\n",
    "**[Ham94]** James Douglas Hamilton. *Time Series Analysis.* Princeton University Press, 1994.\n",
    "\n",
    "**[Har89]** Andrew C. Harvey. *Forecasting, structural time series models and the Kalman filter.* Cambridge\n",
    "University Press, 1989.\n",
    "\n",
    "**[Hay01]** Simon Haykin, editor. *Kalman Filtering and Neural Networks.* John Wiley and Sons, Inc., 2001.\n",
    "\n",
    "**[HRS94]** Andrew C. Harvey, Esther Ruiz, and Neil Shephard. Multivariate stochastic variance models. *Review of Economic Studies*, 61:247-264, 1994.\n",
    "\n",
    "**[Kal60]** Rudolf Emil Kalman. A new approach to linear filtering and prediction problems. *Transactions of the ASME - Journal of Basic Engineering, Series D*, 82:35-45, 1960.\n",
    "\n",
    "**[Kit93]** Genshiro Kitagawa. A Monte Carlo filtering and smoothing method for non-Gaussian nonlinear state space models. In *Proceedings of the 2nd U.S.-Japan Joint Seminar on Statistical Time Series Analysis*, pages 110-131, 1993.\n",
    "\n",
    "**[Kit96]** Genshiro Kitagawa. Monte Carlo filter and smoother for non-Gaussian nonlinear state space models. *Journal of Computational and Graphical Statistics*, 5(1):1-25, 1996.\n",
    "\n",
    "**[KSC98]** Sangjoon Kim, Neil Shephard, and Siddhartha Chib. Stochastic volatility: Likelihood inference and comparison with ARCH models. *The Review of Economic Studies*, 65(3):361-393, July 1998.\n",
    "\n",
    "**[May79]** Peter S. Maybeck. *Stochastic Models, Estimation and Control, Volume 1.* Academic Press, 1979.\n",
    "\n",
    "**[MP09]** Sheheryar Malik and Michael K. Pitt. Modelling stochastic volatility with leverage and jumps: A simulated maximum likelihood approach via particle filtering. Warwick Economic Research Papers 897, The University of Warwick, Department of Economics, Coventry CV4 7AL, April 2009.\n",
    "\n",
    "**[MP11a]** Sheheryar Malik and Michael K. Pitt. Modelling stochastic volatility with leverage and jumps: A simulated maximum likelihood approach via particle filtering. document de travail 318, Banque de France Eurosysteme, February 2011.\n",
    "\n",
    "**[MP11b]** Sheheryar Malik and Michael K. Pitt. Particle filters for continuous likelihood evaluation and maximisation. *Journal of Econometrics*, 165:190–209, 2011.\n",
    "\n",
    "**[MRRT53]** Nicholas Metropolis, Arianna W. Rosenbluth, Marshall N. Rosenbluth, Augusta H. Teller, and Edward Teller. Equation of state calculations by fast computing machines. *Journal of Chemical Physics*, 21, 1953.\n",
    "\n",
    "**[MY00]** Renate Meyer and Jun Yu. BUGS for a Bayesian analysis of stochastic volatility models. *Econometrics Journal*, 3:198-215, 2000.\n",
    "\n",
    "**[Pea80]** J. G. Pearlman. An algorithm for the exact likelihood of a high-order autoregressive-moving average\n",
    "process. *Biometrika*, 67(1):232–233, 1980.\n",
    "\n",
    "**[PMD14]** Michael K. Pitt, Sheheryar Malik, and Adnaud Doucet. Simulated likelhood inference for stochastic volatility models using continuous particle filtering. *Annals of the Institute of Statistical Mathematics*, 66:527–552, 2014.\n",
    "\n",
    "**[Sar13]** Simo Sarkka. *Bayesian filtering and smoothing (Institute of Mathematical Statistics Textbooks).* Cambridge University Press, 2013.\n",
    "\n",
    "**[Sim06]** Dan Simon. *Optimal State Estimation: Kalman, H-infinity, and Nonlinear approaches.* Wiley, 2006.\n",
    "\n",
    "**[SP97]** Neil Shephard and Michael K. Pitt. Likelihood analysis of non-Gaussian measurement time series. *Biometrika*, 84:653-667, 1997.\n",
    "\n",
    "**[Tay82]** Stephen J. Taylor. *Time Series Analysis: Theory and Practice*, chapter Financial returns modelled by\n",
    "the product of two stochastic processes, a study of daily sugar prices, pages 203–226. North-Holland,\n",
    "1982.\n",
    "\n",
    "**[Yu05]** Jun Yu. On leverage in a statistical volatility model. *Journal of Econometrics*, 127:165-178, 2005.\n",
    "\n",
    "**[ZW06]** Eric Zivot and Jiahui Wang. *Modeling Financial Time Series with S-PLUS.* Springer, 2006."
   ]
  }
 ],
 "metadata": {
  "kernelspec": {
   "display_name": "Python 3",
   "language": "python",
   "name": "python3"
  },
  "language_info": {
   "codemirror_mode": {
    "name": "ipython",
    "version": 3
   },
   "file_extension": ".py",
   "mimetype": "text/x-python",
   "name": "python",
   "nbconvert_exporter": "python",
   "pygments_lexer": "ipython3",
   "version": "3.6.10"
  }
 },
 "nbformat": 4,
 "nbformat_minor": 2
}
