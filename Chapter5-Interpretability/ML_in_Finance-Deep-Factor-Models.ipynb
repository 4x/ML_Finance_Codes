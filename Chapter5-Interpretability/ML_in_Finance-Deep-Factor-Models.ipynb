{
 "cells": [
  {
   "cell_type": "code",
   "execution_count": 1,
   "metadata": {},
   "outputs": [],
   "source": [
    "# ML_in_Finance-Deep-Factor-Models\n",
    "# Author: Matthew Dixon\n",
    "# Version: 1.0 (24.7.2019)\n",
    "# License: MIT\n",
    "# Email: matthew.dixon@iit.edu\n",
    "# Notes: tested on Mac OS X with Python 3.6 and Tensorflow 1.3.0\n",
    "# Citation: Please cite the following reference if this notebook is used for research purposes:\n",
    "# Dixon M.F., I. Halperin and P. Bilokon, Machine Learning in Finance: From Theory to Practice, Springer Graduate textbook Series, 2020. "
   ]
  },
  {
   "cell_type": "markdown",
   "metadata": {},
   "source": [
    "# Overview"
   ]
  },
  {
   "cell_type": "raw",
   "metadata": {},
   "source": [
    "The purpose of this notebook is to demonstrate the application of deep learning to fundamental factor modeling. The outputs are monthly excess returns, the inputs are fundamental factor loadings (BARRA style). The data provided has already been normalized. \n",
    "\n",
    "The notebook describes the data loading, training using walk-forward optimization, performance evaluation and comparison with OLS regression. The toy dataset consists of 6 fundamental factors for 218 stocks over a 100 month period starting in February 2008. See the description of the smaller dataset described in Section 6.2 of Chpt 5. See Table 5.4 for a description of the factors."
   ]
  },
  {
   "cell_type": "code",
   "execution_count": 20,
   "metadata": {},
   "outputs": [
    {
     "name": "stdout",
     "output_type": "stream",
     "text": [
      "The autoreload extension is already loaded. To reload it, use:\n",
      "  %reload_ext autoreload\n"
     ]
    }
   ],
   "source": [
    "import pandas as pd\n",
    "import numpy as np\n",
    "from keras.models import Sequential\n",
    "from keras.layers import Dense, Dropout\n",
    "from keras.utils import to_categorical\n",
    "from keras.regularizers import l1,l2\n",
    "from keras.wrappers.scikit_learn import KerasRegressor, KerasClassifier\n",
    "from sklearn.model_selection import KFold, StratifiedKFold, GridSearchCV, cross_val_score\n",
    "from sklearn.preprocessing import LabelEncoder\n",
    "import matplotlib.pyplot as plt\n",
    "from sklearn.metrics import mean_squared_error\n",
    "from keras.callbacks import EarlyStopping\n",
    "#from utilities import *\n",
    "#from view import *\n",
    "import timeit\n",
    "import statsmodels.api as sm\n",
    "import datetime as dt\n",
    "#from dateutil.relativedelta import *\n",
    "\n",
    "# comment these if running python instead of ipython\n",
    "%load_ext autoreload\n",
    "%matplotlib inline \n",
    "%autoreload 1"
   ]
  },
  {
   "cell_type": "markdown",
   "metadata": {},
   "source": [
    "### Define a deep neural network (with L-1 hidden layers) model in Keras"
   ]
  },
  {
   "cell_type": "code",
   "execution_count": 7,
   "metadata": {},
   "outputs": [],
   "source": [
    "def NN(n_inputs, n_units=10, dropout=0.1, l1_reg=0.001, activation='relu', L=2):\n",
    "    # L>0 is the number of hidden layers\n",
    "    \n",
    "    model = Sequential()\n",
    "    model.add(Dense(units=n_units, input_dim=n_inputs, kernel_regularizer=l1(l1_reg), kernel_initializer='normal', activation=activation))\n",
    "    model.add(Dropout(dropout))\n",
    "    for i in range (0, L-1):\n",
    "        model.add(Dense(units=n_units, kernel_regularizer=l1(l1_reg), kernel_initializer='normal', activation=activation))\n",
    "        model.add(Dropout(dropout))\n",
    "    model.add(Dense(1, kernel_initializer='normal')) \n",
    "    model.compile(loss='mean_squared_error', optimizer='adam', metrics=['mae'])\n",
    "    return(model)"
   ]
  },
  {
   "cell_type": "code",
   "execution_count": 8,
   "metadata": {},
   "outputs": [],
   "source": [
    "es = EarlyStopping(monitor='loss', mode='min', verbose=1, patience=3)"
   ]
  },
  {
   "cell_type": "code",
   "execution_count": 9,
   "metadata": {},
   "outputs": [],
   "source": [
    "def parameter_tuning(X, y, cv=3, n_epoches=100, n_batch=10, seed=7):\n",
    "    param_grid = dict(n_inputs=[X.shape[1]], n_units=[10, 20, 50], \n",
    "                      l1_reg = [0, 0.0001, 0.001], activation=['relu','tanh']) \n",
    "    estimator = KerasRegressor(build_fn=NN, epochs=n_epoches, batch_size=n_batch, verbose=0)   \n",
    "    grid = GridSearchCV(estimator=estimator, param_grid=param_grid, \n",
    "                        cv=cv, fit_params=dict(callbacks=[es]))\n",
    "    grid_result = grid.fit(X, y)\n",
    "  \n",
    "    print(\"Best: %f using %s\" % (grid_result.best_score_, grid_result.best_params_))\n",
    "    means = grid_result.cv_results_['mean_test_score']\n",
    "    stds = grid_result.cv_results_['std_test_score']\n",
    "    params = grid_result.cv_results_['params']\n",
    "    for mean, stdev, param in zip(means, stds, params):\n",
    "        print(\"%f (%f) with: %r\" % (mean, stdev, param))"
   ]
  },
  {
   "cell_type": "code",
   "execution_count": 10,
   "metadata": {},
   "outputs": [],
   "source": [
    "def training(X, Y, training_dates, L, tune=False):\n",
    " \n",
    "    n_epoches = 100  # maximum number of epoches (to be used with early stopping)\n",
    "    n_batch = 10     # mini-batch size\n",
    "    drop_out = 0.0   # level of dropout (set between 0 and 1)\n",
    "    n_units = 10\n",
    "    l1_reg = 0.001   # L_1 regularization parameter\n",
    "    activation ='tanh'\n",
    "    models = {}\n",
    "    xs = {}\n",
    "    ys = {}\n",
    "    \n",
    "    models = {}\n",
    "    models['linear'] = []\n",
    "    models['NN'] = []\n",
    "    xs = {}\n",
    "    ys = {}\n",
    "\n",
    "    xs['train'] = []\n",
    "    xs['test'] = []\n",
    "    ys['train'] = []\n",
    "    ys['test'] = []\n",
    "    \n",
    "    betas = {}\n",
    "    betas['NN'] = []\n",
    "    betas['linear'] = []\n",
    "\n",
    "    i = 0\n",
    "    for date in training_dates:\n",
    "        start_time = timeit.default_timer()  \n",
    "        print(i, date)\n",
    "        train_index = X[X['date'] == date].index\n",
    "        \n",
    "        if len(train_index) == 0:\n",
    "            next\n",
    "        date_next = pd.Timestamp(np.datetime64(date)).to_pydatetime() + relativedelta(months=+1)\n",
    "        date_next = date_next.strftime('%Y-%m-%d')\n",
    "        test_index  = X[X['date'] == date_next].index\n",
    "        if len(test_index) == 0:\n",
    "            next\n",
    "\n",
    "        x_train = X.loc[train_index]\n",
    "        x_train = x_train.drop(\"date\", axis=1)\n",
    "        y_train = Y.loc[train_index]\n",
    "        y_train= y_train.drop(\"date\", axis=1)\n",
    "        x_test = X.loc[test_index]\n",
    "        x_test = x_test.drop(\"date\", axis=1)\n",
    "        y_test = Y.loc[test_index]\n",
    "        y_test = y_test.drop(\"date\", axis=1)\n",
    "        \n",
    "\n",
    "        n_inputs = x_train.shape[1]\n",
    "        if n_inputs == 0:\n",
    "            next\n",
    "       \n",
    "        if tune: # just perform parameter tuning once\n",
    "            print(\"Parameter tuning with X-validation...\")      \n",
    "            parameter_tuning(x_train, y_train, 3)\n",
    "            tune = False\n",
    "\n",
    "        model = NN(n_units=n_units, n_inputs=n_inputs, dropout=drop_out, l1_reg=l1_reg, activation=activation, L=L)\n",
    "        model.fit(x_train.values, y_train.values, epochs=n_epoches, batch_size=n_batch, verbose=0, callbacks=[es])   \n",
    "        beta=sensitivities(model, x_train.values, L, activation)   \n",
    "        models['NN'].append(model)\n",
    "        betas['NN'].append(beta)\n",
    "        x = sm.add_constant(x_train)\n",
    "        model = sm.OLS(y_train, x).fit()   \n",
    "        betas['linear'].append(model.params)\n",
    "        models['linear'].append(model)\n",
    "        xs['train'].append(x_train)\n",
    "        xs['test'].append(x_test)\n",
    "        ys['train'].append(y_train)\n",
    "        ys['test'].append(y_test)\n",
    "\n",
    "        elapsed = timeit.default_timer() - start_time\n",
    "        print(\"Elapsed time:\" + str(elapsed) + \" (s)\")\n",
    "        i += 1\n",
    "        \n",
    "    return models, betas, xs, ys"
   ]
  },
  {
   "cell_type": "code",
   "execution_count": 14,
   "metadata": {},
   "outputs": [],
   "source": [
    "# Compute the feature sensitivities in the deep network. Assume that the activation function is either tanh or relu.\n",
    "def sensitivities(lm, X, L, activation='tanh'):\n",
    "    \n",
    "    W = lm.get_weights()\n",
    "    M = np.shape(X)[0]\n",
    "    p = np.shape(X)[1]\n",
    "    beta = np.array([0]*M*(p+1), dtype='float32').reshape(M, p+1)\n",
    "    B_0 = W[1]\n",
    "    for i in range (0, L):\n",
    "        if activation == 'tanh':  \n",
    "            B_0 = (np.dot(np.transpose(W[2*(i+1)]),np.tanh(B_0)) + W[2*(i+1)+1])\n",
    "        elif activation == 'relu':\n",
    "            B_0 = (np.dot(np.transpose(W[2*(i+1)]),np.maximum(B_0, 0)) + W[2*(i+1)+1])\n",
    "    beta[:,0]= B_0 # intercept \\beta_0 = F_{W,b}(0)\n",
    "    for i in range(M):\n",
    "        I1 = np.dot(np.transpose(W[0]), np.transpose(X[i,])) + W[1]\n",
    "        if activation == 'tanh':\n",
    "            Z= np.tanh(I1)  \n",
    "            D = np.diag(1-Z**2)\n",
    "        elif activation == 'relu':\n",
    "            Z=np.maximum(I1, 0)\n",
    "            D = np.diag(np.sign(Z)) \n",
    "                 \n",
    "        for j in range(p):\n",
    "            J = np.dot(D,W[0][j])       \n",
    "            for a in range (1, L):\n",
    "                I= np.dot(np.transpose(W[2*a]),Z) + W[2*a+1] \n",
    "                if activation == 'tanh':  \n",
    "                    Z = np.tanh(I)\n",
    "                    D = np.diag(1-Z**2)\n",
    "                elif activation == 'relu':    \n",
    "                    Z = np.maximum(I,0)\n",
    "                    D = np.diag(np.sign(Z)) \n",
    "                J = np.dot(np.dot(D,np.transpose(W[a*2])), J)\n",
    "            beta[i, j+1]=np.dot(np.transpose(W[2*L]), J)\n",
    "    return(beta)"
   ]
  },
  {
   "cell_type": "code",
   "execution_count": 15,
   "metadata": {},
   "outputs": [],
   "source": [
    "# Load the data\n",
    "X = pd.read_csv('../data/X_small.csv') # factor exposures\n",
    "Y = pd.read_csv('../data/Y_small.csv') # asset returns"
   ]
  },
  {
   "cell_type": "markdown",
   "metadata": {},
   "source": [
    "## Training of models \n",
    "A new cross-sectional neural network model is fitted in each period. To evalute the performance of strategies, we need to train a model for each time step over an historical period. "
   ]
  },
  {
   "cell_type": "code",
   "execution_count": 21,
   "metadata": {},
   "outputs": [
    {
     "name": "stdout",
     "output_type": "stream",
     "text": [
      "0 2008-02-01\n",
      "Epoch 00010: early stopping\n",
      "Elapsed time:2.9870083590012655 (s)\n",
      "1 2008-03-01\n",
      "Epoch 00014: early stopping\n",
      "Elapsed time:2.9381871950008644 (s)\n",
      "2 2008-04-01\n",
      "Epoch 00020: early stopping\n",
      "Elapsed time:3.079695902999447 (s)\n",
      "3 2008-05-01\n",
      "Epoch 00013: early stopping\n",
      "Elapsed time:3.3978081839995866 (s)\n",
      "4 2008-06-01\n",
      "Epoch 00012: early stopping\n",
      "Elapsed time:2.616081137999572 (s)\n",
      "5 2008-07-01\n",
      "Epoch 00015: early stopping\n",
      "Elapsed time:3.5207968300001085 (s)\n",
      "6 2008-08-01\n",
      "Epoch 00013: early stopping\n",
      "Elapsed time:3.433424308001122 (s)\n",
      "7 2008-09-01\n",
      "Epoch 00014: early stopping\n",
      "Elapsed time:3.352003722000518 (s)\n",
      "8 2008-10-01\n",
      "Epoch 00032: early stopping\n",
      "Elapsed time:4.782347235999623 (s)\n",
      "9 2008-11-01\n",
      "Epoch 00051: early stopping\n",
      "Elapsed time:5.810526877001394 (s)\n",
      "10 2008-12-01\n",
      "Epoch 00037: early stopping\n",
      "Elapsed time:4.8374149369992665 (s)\n",
      "11 2009-01-01\n",
      "Epoch 00037: early stopping\n",
      "Elapsed time:5.118614552000508 (s)\n",
      "12 2009-02-01\n",
      "Epoch 00014: early stopping\n",
      "Elapsed time:3.320735957000579 (s)\n",
      "13 2009-03-01\n",
      "Epoch 00043: early stopping\n",
      "Elapsed time:6.167158759000813 (s)\n",
      "14 2009-04-01\n",
      "Epoch 00031: early stopping\n",
      "Elapsed time:4.4400713150007505 (s)\n",
      "15 2009-05-01\n",
      "Epoch 00014: early stopping\n",
      "Elapsed time:3.4060935079996852 (s)\n",
      "16 2009-06-01\n",
      "Epoch 00012: early stopping\n",
      "Elapsed time:3.2079606099996454 (s)\n",
      "17 2009-07-01\n",
      "Epoch 00014: early stopping\n",
      "Elapsed time:3.400185495000187 (s)\n",
      "18 2009-08-01\n",
      "Epoch 00014: early stopping\n",
      "Elapsed time:3.266359074999855 (s)\n",
      "19 2009-09-01\n",
      "Epoch 00020: early stopping\n",
      "Elapsed time:3.421150973999829 (s)\n",
      "20 2009-10-01\n",
      "Epoch 00014: early stopping\n",
      "Elapsed time:3.54788542300048 (s)\n",
      "21 2009-11-01\n",
      "Epoch 00020: early stopping\n",
      "Elapsed time:3.6714380490011536 (s)\n",
      "22 2009-12-01\n",
      "Epoch 00015: early stopping\n",
      "Elapsed time:3.4176060980007605 (s)\n",
      "23 2010-01-01\n",
      "Epoch 00015: early stopping\n",
      "Elapsed time:3.396170742000322 (s)\n",
      "24 2010-02-01\n",
      "Epoch 00014: early stopping\n",
      "Elapsed time:3.282700579999073 (s)\n",
      "25 2010-03-01\n",
      "Epoch 00017: early stopping\n",
      "Elapsed time:3.6516463039988594 (s)\n",
      "26 2010-04-01\n",
      "Epoch 00015: early stopping\n",
      "Elapsed time:3.10854988400024 (s)\n",
      "27 2010-05-01\n",
      "Epoch 00013: early stopping\n",
      "Elapsed time:3.379738132000057 (s)\n",
      "28 2010-06-01\n",
      "Epoch 00011: early stopping\n",
      "Elapsed time:3.205923368001095 (s)\n",
      "29 2010-07-01\n",
      "Epoch 00016: early stopping\n",
      "Elapsed time:3.392907217999891 (s)\n",
      "30 2010-08-01\n",
      "Epoch 00012: early stopping\n",
      "Elapsed time:3.1994717870002205 (s)\n",
      "31 2010-09-01\n",
      "Epoch 00012: early stopping\n",
      "Elapsed time:2.893215357000372 (s)\n",
      "32 2010-10-01\n",
      "Epoch 00018: early stopping\n",
      "Elapsed time:3.48996302300111 (s)\n",
      "33 2010-11-01\n",
      "Epoch 00014: early stopping\n",
      "Elapsed time:3.11557471299966 (s)\n",
      "34 2010-12-01\n",
      "Epoch 00013: early stopping\n",
      "Elapsed time:3.5971432970000023 (s)\n",
      "35 2011-01-01\n",
      "Epoch 00013: early stopping\n",
      "Elapsed time:3.3069976730002963 (s)\n",
      "36 2011-02-01\n",
      "Epoch 00016: early stopping\n",
      "Elapsed time:3.175475058998927 (s)\n",
      "37 2011-03-01\n",
      "Epoch 00013: early stopping\n",
      "Elapsed time:2.7111349399983737 (s)\n",
      "38 2011-04-01\n",
      "Epoch 00014: early stopping\n",
      "Elapsed time:2.8008365999994567 (s)\n",
      "39 2011-05-01\n",
      "Epoch 00014: early stopping\n",
      "Elapsed time:3.001682402998995 (s)\n",
      "40 2011-06-01\n",
      "Epoch 00017: early stopping\n",
      "Elapsed time:3.057217565999963 (s)\n",
      "41 2011-07-01\n",
      "Epoch 00016: early stopping\n",
      "Elapsed time:2.9173111119998794 (s)\n",
      "42 2011-08-01\n",
      "Epoch 00015: early stopping\n",
      "Elapsed time:2.864519417000338 (s)\n",
      "43 2011-09-01\n",
      "Epoch 00011: early stopping\n",
      "Elapsed time:2.6439859149995755 (s)\n",
      "44 2011-10-01\n",
      "Epoch 00013: early stopping\n",
      "Elapsed time:3.4263005099983275 (s)\n",
      "45 2011-11-01\n",
      "Epoch 00014: early stopping\n",
      "Elapsed time:2.7761196749997907 (s)\n",
      "46 2011-12-01\n",
      "Epoch 00012: early stopping\n",
      "Elapsed time:2.667828522999116 (s)\n",
      "47 2012-01-01\n",
      "Epoch 00011: early stopping\n",
      "Elapsed time:2.60433938999995 (s)\n",
      "48 2012-02-01\n",
      "Epoch 00018: early stopping\n",
      "Elapsed time:3.054924617001234 (s)\n",
      "49 2012-03-01\n",
      "Epoch 00011: early stopping\n",
      "Elapsed time:2.771578761001365 (s)\n",
      "50 2012-04-01\n",
      "Epoch 00012: early stopping\n",
      "Elapsed time:3.1571551819997694 (s)\n",
      "51 2012-05-01\n",
      "Epoch 00016: early stopping\n",
      "Elapsed time:3.133134310000969 (s)\n",
      "52 2012-06-01\n",
      "Epoch 00012: early stopping\n",
      "Elapsed time:2.7048422819989355 (s)\n",
      "53 2012-07-01\n",
      "Epoch 00011: early stopping\n",
      "Elapsed time:2.6442405199995846 (s)\n",
      "54 2012-08-01\n",
      "Epoch 00015: early stopping\n",
      "Elapsed time:2.8934487030001037 (s)\n",
      "55 2012-09-01\n",
      "Epoch 00014: early stopping\n",
      "Elapsed time:3.405734500000108 (s)\n",
      "56 2012-10-01\n",
      "Epoch 00011: early stopping\n",
      "Elapsed time:2.6385495719987375 (s)\n",
      "57 2012-11-01\n",
      "Epoch 00012: early stopping\n",
      "Elapsed time:2.678819451999516 (s)\n",
      "58 2012-12-01\n",
      "Epoch 00011: early stopping\n",
      "Elapsed time:2.6239256379994913 (s)\n",
      "59 2013-01-01\n",
      "Epoch 00015: early stopping\n",
      "Elapsed time:2.8573466849993565 (s)\n",
      "60 2013-02-01\n",
      "Epoch 00011: early stopping\n",
      "Elapsed time:2.99384708999969 (s)\n",
      "61 2013-03-01\n",
      "Epoch 00011: early stopping\n",
      "Elapsed time:3.4853083070011053 (s)\n",
      "62 2013-04-01\n",
      "Epoch 00012: early stopping\n",
      "Elapsed time:3.3155080679989624 (s)\n",
      "63 2013-05-01\n",
      "Epoch 00016: early stopping\n",
      "Elapsed time:3.5595335719990544 (s)\n",
      "64 2013-06-01\n",
      "Epoch 00018: early stopping\n",
      "Elapsed time:3.370105936000982 (s)\n",
      "65 2013-07-01\n",
      "Epoch 00012: early stopping\n",
      "Elapsed time:3.110689695999099 (s)\n",
      "66 2013-08-01\n",
      "Epoch 00015: early stopping\n",
      "Elapsed time:3.223556868999367 (s)\n",
      "67 2013-09-01\n",
      "Epoch 00013: early stopping\n",
      "Elapsed time:3.092230923999523 (s)\n",
      "68 2013-10-01\n",
      "Epoch 00011: early stopping\n",
      "Elapsed time:3.000705152999217 (s)\n",
      "69 2013-11-01\n",
      "Epoch 00013: early stopping\n",
      "Elapsed time:4.602216662999126 (s)\n",
      "70 2013-12-01\n",
      "Epoch 00016: early stopping\n",
      "Elapsed time:3.5611106470005325 (s)\n",
      "71 2014-01-01\n",
      "Epoch 00013: early stopping\n",
      "Elapsed time:3.2869789119995403 (s)\n",
      "72 2014-02-01\n",
      "Epoch 00014: early stopping\n",
      "Elapsed time:3.0187289750010677 (s)\n",
      "73 2014-03-01\n",
      "Epoch 00013: early stopping\n",
      "Elapsed time:3.1976141939994704 (s)\n",
      "74 2014-04-01\n",
      "Epoch 00014: early stopping\n",
      "Elapsed time:3.0878332869997394 (s)\n",
      "75 2014-05-01\n",
      "Epoch 00014: early stopping\n",
      "Elapsed time:3.1119438470013847 (s)\n",
      "76 2014-06-01\n",
      "Epoch 00017: early stopping\n",
      "Elapsed time:3.1218353969998134 (s)\n",
      "77 2014-07-01\n",
      "Epoch 00012: early stopping\n",
      "Elapsed time:3.4091399059998366 (s)\n",
      "78 2014-08-01\n",
      "Epoch 00013: early stopping\n",
      "Elapsed time:3.203613663001306 (s)\n",
      "79 2014-09-01\n",
      "Epoch 00015: early stopping\n",
      "Elapsed time:3.197799515999577 (s)\n",
      "80 2014-10-01\n",
      "Epoch 00013: early stopping\n",
      "Elapsed time:3.1852207470001304 (s)\n",
      "81 2014-11-01\n",
      "Epoch 00017: early stopping\n",
      "Elapsed time:3.3698822450005537 (s)\n",
      "82 2014-12-01\n",
      "Epoch 00014: early stopping\n",
      "Elapsed time:5.721998447999795 (s)\n",
      "83 2015-01-01\n",
      "Epoch 00011: early stopping\n",
      "Elapsed time:3.721918330000335 (s)\n",
      "84 2015-02-01\n",
      "Epoch 00016: early stopping\n",
      "Elapsed time:3.7290487330010365 (s)\n",
      "85 2015-03-01\n",
      "Epoch 00013: early stopping\n",
      "Elapsed time:6.401201750000837 (s)\n",
      "86 2015-04-01\n",
      "Epoch 00015: early stopping\n",
      "Elapsed time:4.171489861999362 (s)\n",
      "87 2015-05-01\n",
      "Epoch 00015: early stopping\n",
      "Elapsed time:2.857538080001177 (s)\n",
      "88 2015-06-01\n",
      "Epoch 00012: early stopping\n",
      "Elapsed time:2.8471989370009396 (s)\n",
      "89 2015-07-01\n",
      "Epoch 00010: early stopping\n",
      "Elapsed time:3.1911398979991645 (s)\n",
      "90 2015-08-01\n",
      "Epoch 00014: early stopping\n",
      "Elapsed time:3.241367052998612 (s)\n",
      "91 2015-09-01\n",
      "Epoch 00011: early stopping\n",
      "Elapsed time:3.142350649999571 (s)\n",
      "92 2015-10-01\n",
      "Epoch 00014: early stopping\n",
      "Elapsed time:3.472108518000823 (s)\n",
      "93 2015-11-01\n",
      "Epoch 00012: early stopping\n",
      "Elapsed time:3.2770212270006596 (s)\n",
      "94 2015-12-01\n",
      "Epoch 00014: early stopping\n",
      "Elapsed time:3.1677558129995305 (s)\n",
      "95 2016-01-01\n",
      "Epoch 00015: early stopping\n",
      "Elapsed time:3.021950950000246 (s)\n",
      "96 2016-02-01\n",
      "Epoch 00015: early stopping\n",
      "Elapsed time:2.9123400320004293 (s)\n",
      "97 2016-03-01\n",
      "Epoch 00012: early stopping\n",
      "Elapsed time:2.816112890999648 (s)\n",
      "98 2016-04-01\n",
      "Epoch 00013: early stopping\n",
      "Elapsed time:2.797320044001026 (s)\n",
      "99 2016-05-01\n",
      "Epoch 00014: early stopping\n",
      "Elapsed time:3.0660006170000997 (s)\n"
     ]
    }
   ],
   "source": [
    "training_periods = 100\n",
    "L = 2 # number of hidden and output layers\n",
    "dates = np.unique(X['date'])[0:training_periods] \n",
    "models, betas, xs, ys = training(X, Y, dates, L, False) # Set last argument to True to perform cross-validation for parameter tuning"
   ]
  },
  {
   "cell_type": "markdown",
   "metadata": {},
   "source": [
    "# Performance evaluation\n",
    "\n",
    "We note, for this small dataset, that the difference in the MSEs between OLS and neural networks is marginal, however, the L_inf norms are substantially different, indicating the superior ability of the neural network to capture outliers. "
   ]
  },
  {
   "cell_type": "code",
   "execution_count": 25,
   "metadata": {
    "scrolled": true
   },
   "outputs": [
    {
     "name": "stdout",
     "output_type": "stream",
     "text": [
      "MSE:0.017511483871247034\n"
     ]
    }
   ],
   "source": [
    "# Evaluate MSE of OLS out-of-sample\n",
    "MSE = 0\n",
    "y_hat_linear = []\n",
    "MSE_array_linear = np.array([0]*training_periods, dtype='float64')\n",
    "for i in range(training_periods):\n",
    "    x = sm.add_constant(xs['test'][i].values)\n",
    "    y_hat_linear.append(models['linear'][i].predict(x))\n",
    "    MSE_test_linear = mean_squared_error(y_hat_linear[-1], ys['test'][i].values)\n",
    "    MSE_array_linear[i]=MSE_test_linear\n",
    "    MSE += MSE_test_linear\n",
    "print(\"MSE: \" + str(MSE / training_periods))    "
   ]
  },
  {
   "cell_type": "code",
   "execution_count": 26,
   "metadata": {},
   "outputs": [
    {
     "name": "stdout",
     "output_type": "stream",
     "text": [
      "MSE:0.004573922402548681\n"
     ]
    }
   ],
   "source": [
    "# Evaluate MSE of OLS in-sample\n",
    "MSE = 0\n",
    "MSE_array_linear_in = np.array([0]*training_periods, dtype='float64')\n",
    "y_hat_linear_is = []\n",
    "for i in range(training_periods):\n",
    "    x = sm.add_constant(xs['train'][i].values)\n",
    "    y_hat_linear_is.append(models['linear'][i].predict(x))\n",
    "    MSE_test_linear = mean_squared_error(y_hat_linear_is[-1], ys['train'][i].values)\n",
    "    #print(i,MSE_test_linear)\n",
    "    MSE_array_linear_in[i] = MSE_test_linear\n",
    "    MSE += MSE_test_linear\n",
    "print(\"MSE: \" + str(MSE / training_periods))    "
   ]
  },
  {
   "cell_type": "code",
   "execution_count": 27,
   "metadata": {},
   "outputs": [
    {
     "name": "stdout",
     "output_type": "stream",
     "text": [
      "inf-norm:0.5148467207968435\n"
     ]
    }
   ],
   "source": [
    "# Evaluate L_inf norm of OLS out-of-sample\n",
    "inf_norm = 0\n",
    "y_hat_linear = []\n",
    "inf_norm_linear_out = np.array([0]*training_periods, dtype='float64')\n",
    "for i in range(training_periods):\n",
    "    x = sm.add_constant(xs['test'][i].values)\n",
    "    y_hat_linear.append(models['linear'][i].predict(x))\n",
    "    inf_norm_linear = np.max(np.abs(y_hat_linear[-1] - ys['test'][i].values))\n",
    "    inf_norm_linear_out[i] = inf_norm_linear\n",
    "    inf_norm += inf_norm_linear\n",
    "print(\"inf-norm: \" + str(inf_norm / training_periods))   "
   ]
  },
  {
   "cell_type": "code",
   "execution_count": 29,
   "metadata": {},
   "outputs": [
    {
     "name": "stdout",
     "output_type": "stream",
     "text": [
      "inf-norm:0.4225199869563092\n"
     ]
    }
   ],
   "source": [
    "# Evaluate L_inf norm of OLS in-sample\n",
    "inf_norm = 0\n",
    "y_hat_linear = []\n",
    "inf_norm_linear_in = np.array([0]*training_periods, dtype='float64')\n",
    "for i in range(training_periods):\n",
    "    x = sm.add_constant(xs['train'][i].values)\n",
    "    y_hat_linear.append(models['linear'][i].predict(x))\n",
    "    inf_norm_linear = np.max(np.abs(y_hat_linear[-1] - ys['train'][i].values))\n",
    "    inf_norm_linear_in[i] = inf_norm_linear\n",
    "    inf_norm += inf_norm_linear\n",
    "print(\"inf-norm: \" + str(inf_norm/training_periods)) "
   ]
  },
  {
   "cell_type": "code",
   "execution_count": 31,
   "metadata": {},
   "outputs": [
    {
     "name": "stdout",
     "output_type": "stream",
     "text": [
      "MSE: 0.01686421947031692\n"
     ]
    }
   ],
   "source": [
    "# Evaluate MSE of NN out-of-sample\n",
    "MSE = 0\n",
    "MSE_array_NN = np.array([0]*training_periods, dtype='float64')\n",
    "y_hat_NN=[]\n",
    "for i in range(training_periods):\n",
    "    y_hat_NN.append(models['NN'][i].predict(xs['test'][i].values))\n",
    "    MSE_test_NN = mean_squared_error(y_hat_NN[-1], ys['test'][i].values)\n",
    "    MSE_array_NN[i] = MSE_test_NN\n",
    "    MSE += MSE_test_NN\n",
    "print(\"MSE: \" + str(MSE / training_periods))  "
   ]
  },
  {
   "cell_type": "code",
   "execution_count": 32,
   "metadata": {},
   "outputs": [
    {
     "name": "stdout",
     "output_type": "stream",
     "text": [
      "MSE: 0.0050663190305687104\n"
     ]
    }
   ],
   "source": [
    "# Evaluate MSE of NN in-sample\n",
    "MSE = 0\n",
    "MSE_array_NN_in = np.array([0]*training_periods, dtype='float64')\n",
    "y_hat_NN_is = []\n",
    "for i in range(training_periods):\n",
    "    y_hat_NN_is.append(models['NN'][i].predict(xs['train'][i].values))\n",
    "    MSE_test_NN = mean_squared_error(y_hat_NN_is[-1], ys['train'][i].values)\n",
    "    MSE_array_NN_in[i] = MSE_test_NN\n",
    "    MSE += MSE_test_NN\n",
    "print(\"MSE: \" + str(MSE / training_periods)) "
   ]
  },
  {
   "cell_type": "code",
   "execution_count": 33,
   "metadata": {},
   "outputs": [
    {
     "name": "stdout",
     "output_type": "stream",
     "text": [
      "inf-norm: 0.3842394744561835\n"
     ]
    }
   ],
   "source": [
    "# Evaluate L_\\inf norm of NN out-of-sample\n",
    "inf_norm = 0\n",
    "inf_norm_test_NN = np.array([0]*training_periods, dtype='float64')\n",
    "y_hat_NN = []\n",
    "for i in range(training_periods):\n",
    "    y_hat_NN.append(models['NN'][i].predict(xs['test'][i].values))\n",
    "    inf_norm_NN = np.max(np.abs(y_hat_NN[-1] - ys['test'][i].values))\n",
    "    inf_norm_test_NN[i] = inf_norm_NN\n",
    "    inf_norm += inf_norm_NN\n",
    "print(\"inf-norm: \" + str(inf_norm/training_periods))  "
   ]
  },
  {
   "cell_type": "code",
   "execution_count": 34,
   "metadata": {},
   "outputs": [
    {
     "name": "stdout",
     "output_type": "stream",
     "text": [
      "inf-norm: 0.3307378804108776\n"
     ]
    }
   ],
   "source": [
    "# Evaluate L_\\inf norm of NN in-sample\n",
    "inf_norm = 0\n",
    "inf_norm_train_NN = np.array([0]*training_periods, dtype='float64')\n",
    "y_hat_NN_is = []\n",
    "for i in range(training_periods):\n",
    "    y_hat_NN_is.append(models['NN'][i].predict(xs['train'][i].values))\n",
    "    inf_norm_NN = np.max(np.abs(y_hat_NN_is[-1]- ys['train'][i].values))\n",
    "    inf_norm_train_NN[i] = inf_norm_NN\n",
    "    inf_norm += inf_norm_NN\n",
    "print(\"inf-norm: \" + str(inf_norm/training_periods))  "
   ]
  },
  {
   "cell_type": "markdown",
   "metadata": {},
   "source": [
    "### L_2 norms"
   ]
  },
  {
   "cell_type": "code",
   "execution_count": 35,
   "metadata": {},
   "outputs": [
    {
     "data": {
      "image/png": "[encoded data removed]",
      "text/plain": [
       "<Figure size 432x288 with 1 Axes>"
      ]
     },
     "metadata": {
      "needs_background": "light"
     },
     "output_type": "display_data"
    }
   ],
   "source": [
    "plt.plot(MSE_array_NN_in, color='red', label='NN')\n",
    "#plt.yscale('log')\n",
    "plt.plot(MSE_array_linear_in, color='blue', label='OLS')\n",
    "plt.ylabel('MSE (in-sample)')\n",
    "plt.xlabel('t')\n",
    "plt.legend();"
   ]
  },
  {
   "cell_type": "code",
   "execution_count": 36,
   "metadata": {},
   "outputs": [
    {
     "data": {
      "image/png": "[encoded data removed]",
      "text/plain": [
       "<Figure size 432x288 with 1 Axes>"
      ]
     },
     "metadata": {
      "needs_background": "light"
     },
     "output_type": "display_data"
    }
   ],
   "source": [
    "plt.plot(MSE_array_NN, color='red', label='NN')\n",
    "#plt.yscale('log')\n",
    "plt.plot(MSE_array_linear, color='blue', label='OLS')\n",
    "plt.ylabel('MSE (out-of-sample)')\n",
    "plt.xlabel('t')\n",
    "plt.legend();"
   ]
  },
  {
   "cell_type": "markdown",
   "metadata": {},
   "source": [
    "### L-inf norms "
   ]
  },
  {
   "cell_type": "code",
   "execution_count": 37,
   "metadata": {},
   "outputs": [
    {
     "data": {
      "image/png": "[encoded data removed]",
      "text/plain": [
       "<Figure size 432x288 with 1 Axes>"
      ]
     },
     "metadata": {
      "needs_background": "light"
     },
     "output_type": "display_data"
    }
   ],
   "source": [
    "plt.plot(inf_norm_train_NN, color='red', label='NN')\n",
    "#plt.yscale('log')\n",
    "plt.plot(inf_norm_linear_in, color='blue', label='OLS')\n",
    "plt.ylabel('$L_{\\inf}$-norm (in-sample)')\n",
    "plt.xlabel('t')\n",
    "plt.legend();"
   ]
  },
  {
   "cell_type": "code",
   "execution_count": 38,
   "metadata": {},
   "outputs": [
    {
     "data": {
      "image/png": "[encoded data removed]",
      "text/plain": [
       "<Figure size 432x288 with 1 Axes>"
      ]
     },
     "metadata": {
      "needs_background": "light"
     },
     "output_type": "display_data"
    }
   ],
   "source": [
    "plt.plot(inf_norm_test_NN, color='red', label='NN')\n",
    "#plt.yscale('log')\n",
    "plt.plot(inf_norm_linear_out, color='blue', label='OLS')\n",
    "plt.ylabel('$L_\\inf$-norm (out-of-sample)')\n",
    "plt.xlabel('t')\n",
    "plt.legend();"
   ]
  },
  {
   "cell_type": "markdown",
   "metadata": {},
   "source": [
    "# Sensitivities\n",
    "Plot the sensitivies of the neural network to the input factors and compare with OLS regression."
   ]
  },
  {
   "cell_type": "code",
   "execution_count": 39,
   "metadata": {},
   "outputs": [
    {
     "data": {
      "text/plain": [
       "array([ 5.6658482e-09, -1.2416294e-09,  1.5227359e-08,  7.3150965e-09,\n",
       "        1.4794617e-09,  1.0066771e-08], dtype=float32)"
      ]
     },
     "execution_count": 39,
     "metadata": {},
     "output_type": "execute_result"
    }
   ],
   "source": [
    "betas['NN'][i][0][1:]"
   ]
  },
  {
   "cell_type": "code",
   "execution_count": 40,
   "metadata": {},
   "outputs": [
    {
     "name": "stdout",
     "output_type": "stream",
     "text": [
      "6\n"
     ]
    }
   ],
   "source": [
    "n_var = np.shape(betas['NN'][1])[1] - 1\n",
    "print(n_var)\n",
    "\n",
    "mu = np.array([0]*training_periods*n_var, dtype='float32').reshape(training_periods, n_var)\n",
    "sd = np.array([0]*training_periods*n_var, dtype='float32').reshape(training_periods, n_var)\n",
    "mu_ols = np.array([0]*training_periods*n_var, dtype='float32').reshape(training_periods, n_var)\n",
    "\n",
    "for i in range(training_periods):\n",
    "    mu[i,:] = np.median(betas['NN'][i], axis=0)[1:]\n",
    "    sd[i,:] = np.std(betas['NN'][i], axis=0) [1:]\n",
    "    mu_ols[i,:] = betas['linear'][i][1:]"
   ]
  },
  {
   "cell_type": "code",
   "execution_count": 42,
   "metadata": {},
   "outputs": [],
   "source": [
    "names = ['EV', 'P/B', 'EV/T12M EBITDA', 'P/S' , 'P/E','Log CAP']"
   ]
  },
  {
   "cell_type": "code",
   "execution_count": 43,
   "metadata": {},
   "outputs": [
    {
     "data": {
      "image/png": "[encoded data removed]",
      "text/plain": [
       "<Figure size 1440x720 with 2 Axes>"
      ]
     },
     "metadata": {
      "needs_background": "light"
     },
     "output_type": "display_data"
    }
   ],
   "source": [
    "fig, axes = plt.subplots(2, 1, figsize=(20, 10))\n",
    "fig.subplots_adjust(hspace=.5)\n",
    "fig.subplots_adjust(wspace=.7)\n",
    "%sc = 10000\n",
    "idx=np.argsort(np.median(mu[:, 0:n_var], axis=0))\n",
    "axes[0].boxplot(mu[:, idx])       # make your boxplot\n",
    "axes[0].set_xticklabels(np.array(names)[idx],rotation=45)  \n",
    "axes[0].set_ylim([-0.1, 0.1])\n",
    "axes[0].set_ylabel('Sensitivity (NN)')\n",
    "axes[0].set_xlabel('Factor')\n",
    "idx=np.argsort(np.median(mu_ols[:, 0:n_var], axis=0))\n",
    "axes[1].boxplot(mu_ols[:, idx]) \n",
    "axes[1].set_ylim([-0.1, 0.1])\n",
    "axes[1].set_xticklabels(np.array(names)[idx], rotation=45) \n",
    "\n",
    "axes[1].set_ylabel('Sensitivity (OLS)')\n",
    "axes[1].set_xlabel('Factor');"
   ]
  },
  {
   "cell_type": "markdown",
   "metadata": {},
   "source": [
    "The above sensitivities are sorted in ascending order from left to right. We observe that the OLS regression is much more sensitive to the factors than the NN."
   ]
  }
 ],
 "metadata": {
  "kernelspec": {
   "display_name": "Python 3",
   "language": "python",
   "name": "python3"
  },
  "language_info": {
   "codemirror_mode": {
    "name": "ipython",
    "version": 3
   },
   "file_extension": ".py",
   "mimetype": "text/x-python",
   "name": "python",
   "nbconvert_exporter": "python",
   "pygments_lexer": "ipython3",
   "version": "3.6.9"
  }
 },
 "nbformat": 4,
 "nbformat_minor": 2
}
