{
 "cells": [
  {
   "cell_type": "code",
   "execution_count": 1,
   "metadata": {},
   "outputs": [],
   "source": [
    "# ML_in_Finance_Market_Impact\n",
    "# Author: Matthew Dixon and Igor Halperin\n",
    "# Version: 1.0 (14.10.2019)\n",
    "# License: MIT\n",
    "# Email: matthew.dixon@iit.edu\n",
    "# Notes: tested on Mac OS X with Python 3.6.9 with the following packages:\n",
    "# numpy=#¢#, matplotlib=#¢#, tqdm=#¢#\n",
    "# Citation: Please cite the following reference if this notebook is used for research purposes:\n",
    "# Bilokon P., Dixon M.F. and I. Halperin, Machine Learning in Finance: From Theory to Practice, Springer Graduate textbook Series, 2020. "
   ]
  },
  {
   "cell_type": "markdown",
   "metadata": {},
   "source": [
    "# The Market Making Problem"
   ]
  },
  {
   "cell_type": "markdown",
   "metadata": {},
   "source": [
    "We can build on the previous two examples by considering the problem of high frequency market making. Unlike the previous example, we shall learn a time independent optimal policy.\n",
    "\n",
    "Assume that a market maker seeks to capture the bid-ask spread by placing one lot best bid and ask limit orders. They are required to strictly keep their inventory between -1 and 1. The problem is when to optimally quote either a bid or ask, or simply wait, each time there is a limit order book update. For example, sometimes it may be more advantageous to quote a bid to close out a short position if it will almost surely give an instantaneous net reward, other times it may be better to wait and capture a larger spread.\n",
    "\n",
    "In this toy example, the agent uses the liquidity imbalance in the top of the order book as a proxy for price movement and, hence, fill probabilities. The example does not use market orders, knowledge of queue positions, cancellations and limit order placement at different levels of the ladder. These are left to later material and exercises.\n",
    "\n",
    "At each non-uniform time update, $t$, the market feed provides best prices and depths $\\{p^a_t, p^b_t, q^a_t, q^b_t\\}$. The state space is the product of the inventory, $X_t\\in\\{-1,0,1\\}$, and gridded liquidity ratio $\\hat{R}_t= \\lfloor{\\frac{q^a_t}{q^a_t+q^b_t}N\\rfloor}\\in [0,1]$, where $N$ is the number of grid points and $q^a_t$ and $q^b_t$ are the depths of the best ask and bid. $\\hat{R}_t \\rightarrow 0$ is the regime where the mid-price will go up and an ask is filled. Vice versa for $\\hat{R}_t \\rightarrow 1$. The dimension of the state space is chosen to be $ 3 \\cdot 5 = 15$.\n",
    "\n",
    "A bid is filled with probability $\\epsilon_t:=\\hat{R}_t$ and an ask is filled with probability $1-\\epsilon_t$. The rewards are chosen to be the expected total P\\&L. If a bid is filled to close out a short holding, then the expected reward $r_t=-\\epsilon_t (\\Delta p_t+c)$, where $\\Delta p_t$ is the difference between the exit and entry price and $c$ is the transaction cost. For example, if the agent entered a short position at time $s<t$ with a filled ask at $p^a_s=100$ and closed out the position with a filled bid at $p^b_t=99$, then $\\Delta p_t=1$. The agent is penalized for quoting an ask or bid when the position is already short or long respectively.\n",
    "\n",
    "We can now apply SARSA or Q-learning to learn optimal market making in such a simplified setting. For exploration needed for on-line learning, one can use a\n",
    "$\\varepsilon $-greedy policy."
   ]
  },
  {
   "cell_type": "markdown",
   "metadata": {},
   "source": [
    "### Import some libraries"
   ]
  },
  {
   "cell_type": "code",
   "execution_count": 13,
   "metadata": {},
   "outputs": [
    {
     "name": "stdout",
     "output_type": "stream",
     "text": [
      "use_tgym = False\n"
     ]
    }
   ],
   "source": [
    "import time\n",
    "import copy\n",
    "import random\n",
    "import sys\n",
    "sys.path.append('.\\dqMM')\n",
    "\n",
    "import numpy as np\n",
    "import matplotlib.pyplot as plt\n",
    "from matplotlib.gridspec import GridSpec\n",
    "from tqdm import tqdm \n",
    "\n",
    "try:#¢#\n",
    "    use_tgym = True\n",
    "    from tgym.gens import CSVStreamer\n",
    "except ImportError:\n",
    "    use_tgym = False\n",
    "    print('use_tgym = False')"
   ]
  },
  {
   "cell_type": "code",
   "execution_count": 30,
   "metadata": {},
   "outputs": [
    {
     "name": "stdout",
     "output_type": "stream",
     "text": [
      "The autoreload extension is already loaded. To reload it, use:\n",
      "  %reload_ext autoreload\n"
     ]
    }
   ],
   "source": [
    "%matplotlib inline\n",
    "%load_ext autoreload\n",
    "%autoreload 2"
   ]
  },
  {
   "cell_type": "markdown",
   "metadata": {},
   "source": [
    "### Setting up  \n",
    "#### Setting some global parameters  \n"
   ]
  },
  {
   "cell_type": "code",
   "execution_count": 14,
   "metadata": {},
   "outputs": [],
   "source": [
    "# Probability for exploration - epsilon\n",
    "EPSILON = 0.5 \n",
    "# Step size\n",
    "ALPHA = 0.05\n",
    "# Gamma for Q-Learning and Sarsa\n",
    "GAMMA = 1"
   ]
  },
  {
   "cell_type": "code",
   "execution_count": 15,
   "metadata": {},
   "outputs": [],
   "source": [
    "EPSILON = 0.5 # Probability for exploration\n",
    "\n",
    "ALPHA = 0.05 # Step size\n",
    "\n",
    "GAMMA = 1 # Discount factor for Q-Learning and Sarsa"
   ]
  },
  {
   "cell_type": "code",
   "execution_count": 16,
   "metadata": {},
   "outputs": [],
   "source": [
    "ACTIONS = [0, 1, 2] # Possible actions\n",
    "NUM_INV_STEPS = 3 # Number of inventory states: long, short, flat\n",
    "NUM_PROB_STEPS = 10 # Number of probabilities\n",
    "FILL_PROBS = np.linspace(0, 1, 10) # Possible probability values\n",
    "c = 0 # Transaction cost\n",
    "MAX_ITER = 50000 # Number of iterations in one episode"
   ]
  },
  {
   "cell_type": "code",
   "execution_count": 17,
   "metadata": {},
   "outputs": [
    {
     "data": {
      "text/plain": [
       "array([0.        , 0.11111111, 0.22222222, 0.33333333, 0.44444444,\n",
       "       0.55555556, 0.66666667, 0.77777778, 0.88888889, 1.        ])"
      ]
     },
     "execution_count": 17,
     "metadata": {},
     "output_type": "execute_result"
    }
   ],
   "source": [
    "FILL_PROBS"
   ]
  },
  {
   "cell_type": "markdown",
   "metadata": {},
   "source": [
    "#### The data generator\n",
    "The data generator yields the next Limit Order Book update from CSV"
   ]
  },
  {
   "cell_type": "code",
   "execution_count": 19,
   "metadata": {},
   "outputs": [],
   "source": [
    "#¢# fine for small files\n",
    "class DatGen(object):\n",
    "    def __init__(self, data_RA):\n",
    "        self.data_RA = data_RA\n",
    "        self.rewind()\n",
    "    def next(self):\n",
    "        try:\n",
    "            return self.__gen.__next__()\n",
    "        except StopIteration as e:\n",
    "            self.rewind()\n",
    "            raise e\n",
    "    def rewind(self):\n",
    "        self.__gen = (row for row in self.data_RA)\n",
    "        \n",
    "csv_path = 'dqMM/data/AMZN-L1.csv'#¢#path\n",
    "data_RA = np.genfromtxt(csv_path, delimiter=',', dtype=float)\n",
    "\n",
    "if use_tgym == True:\n",
    "        data_generator = CSVStreamer(filename='dqMM/data/AMZN-L1.csv') #¢#path\n",
    "else:        \n",
    "        data_generator = DatGen(data_RA)"
   ]
  },
  {
   "cell_type": "markdown",
   "metadata": {},
   "source": [
    "#### State\n",
    "- The state has four elements: \n",
    " - position (flat, long, short); \n",
    " - probability of ask fill (index in the array of probabilities)\n",
    " - prices (a dictionary of bid and ask)\n",
    " - entry price\n",
    "- We note, however, that the q-value function is dependent only on the first three of these"
   ]
  },
  {
   "cell_type": "code",
   "execution_count": 20,
   "metadata": {},
   "outputs": [],
   "source": [
    "# Initial state\n",
    "price = {'bid': 2237.5, 'ask': 2239.5}\n",
    "START = [0, 3, price, 0] # the initial state\n",
    "actions = {'buy': 2, 'sell': 0, 'hold': 1}\n",
    "positions = {'flat': 0, 'long': 2, 'short': 1}"
   ]
  },
  {
   "cell_type": "markdown",
   "metadata": {},
   "source": [
    "#### Setting up the environment"
   ]
  },
  {
   "cell_type": "markdown",
   "metadata": {},
   "source": [
    "The step function that describes how the next state is obtained from the current state and the action taken. \n",
    "\n",
    "The function returns the next state and the reward obtained from the action taken. It also returns a boolean `done` indicating whether the episode is over."
   ]
  },
  {
   "cell_type": "code",
   "execution_count": 21,
   "metadata": {},
   "outputs": [],
   "source": [
    "def step(state, action):\n",
    "        \"\"\"Take an action (buy/sell/hold) and computes the immediate reward.\n",
    "\n",
    "        Args:\n",
    "            action (numpy.array): Action to be taken.\n",
    "\n",
    "        Returns:\n",
    "            tuple:\n",
    "                - observation (numpy.array): Agent's observation of the current environment.\n",
    "                - reward (float) : Amount of reward returned after previous action.\n",
    " \n",
    "        \"\"\"\n",
    "        position, q, price, entry_price = state\n",
    "        reward = 0 \n",
    "        instant_pnl = 0 \n",
    "        done = False\n",
    "        \n",
    "        # The fill ask and bid probabilities always sum to 1, meaning that\n",
    "        # either bid or ask orders can always be executed \n",
    "        if np.random.rand() >= FILL_PROBS[q]:\n",
    "            fill_bid = True\n",
    "            fill_ask = False\n",
    "        else:\n",
    "            fill_bid = False\n",
    "            fill_ask = True\n",
    "        \n",
    "        # Calculate the result of taking the selected action\n",
    "        if (action == actions['buy']) and (fill_bid):\n",
    "            reward = -c\n",
    "            if (position == positions['flat']):         \n",
    "                position = positions['long']\n",
    "                entry_price = price['bid'] \n",
    "            elif(position == positions['short']): # closing out a short position          \n",
    "                position = positions['flat']\n",
    "                exit_price =  price['bid']\n",
    "                instant_pnl = entry_price - exit_price\n",
    "                entry_price = 0\n",
    "\n",
    "        elif (action == actions['sell']) and (fill_ask):\n",
    "            reward = -c\n",
    "            if (position == positions['flat']):\n",
    "                position = positions['short']\n",
    "                entry_price = price['ask']\n",
    "            elif (position == positions['long']): # closing out a long position   \n",
    "                exit_price = price['ask']\n",
    "                position = positions['flat']\n",
    "                instant_pnl = exit_price - entry_price\n",
    "                entry_price = 0\n",
    "        \n",
    "        reward += instant_pnl\n",
    "        \n",
    "        try:\n",
    "            # Get the next limit order book update\n",
    "            gen = np.array(data_generator.next())\n",
    "            \n",
    "            # Calculate the \n",
    "            price = {'bid': gen[2]/1000.0, 'ask': gen[0]/1000.0}    \n",
    "            depth = {'bid': gen[3], 'ask': gen[1]}\n",
    "            q = np.float(depth['bid']) / (depth['bid'] + depth['ask'])\n",
    "\n",
    "            # Quantise q. This is done to discretise the continuous probability\n",
    "            # qq is an index in the vector of the fill probabilities\n",
    "            qq = np.int(np.floor(q * NUM_PROB_STEPS)) \n",
    "       \n",
    "        except StopIteration:\n",
    "            qq = 0\n",
    "            done = True\n",
    "        next_state = position, qq, price, entry_price\n",
    "        return next_state, reward, done"
   ]
  },
  {
   "cell_type": "code",
   "execution_count": 22,
   "metadata": {},
   "outputs": [
    {
     "name": "stdout",
     "output_type": "stream",
     "text": [
      "((0, 5, {'bid': 2231.8, 'ask': 2239.5}, 0), 0, False)\n",
      "((0, 1, {'bid': 2238.1, 'ask': 2239.5}, 0), 0, False)\n"
     ]
    }
   ],
   "source": [
    "# Check START state, action pairs and the associated reward\n",
    "print(step(START, 0))\n",
    "print(step(START, 1))"
   ]
  },
  {
   "cell_type": "markdown",
   "metadata": {},
   "source": [
    "### Set up the agent's action policy\n",
    "Given $S_t$ and $Q_t\\left( s_t, a_t\\right)$, this function chooses an action based on the epsilon-greedy algorithm"
   ]
  },
  {
   "cell_type": "code",
   "execution_count": 23,
   "metadata": {},
   "outputs": [],
   "source": [
    "# Choose an action based on epsilon greedy algorithm\n",
    "def choose_action(state, q_value, eps=EPSILON):\n",
    "    position, q, price, entry_price = state\n",
    "    \n",
    "    # With probability eps we choose randomly among allowed actions\n",
    "    if np.random.binomial(1, eps) == 1: \n",
    "        if position == positions['long']:\n",
    "              action = np.random.choice([actions['hold'], actions['sell']])\n",
    "        elif position == positions['short']:\n",
    "              action = np.random.choice([actions['hold'], actions['buy']])\n",
    "        else:\n",
    "              action = np.random.choice([actions['hold'], actions['buy'], actions['sell']])  \n",
    "    # Otherwise the best available action is selected\n",
    "    else:\n",
    "        if position == positions['long']:\n",
    "            actions_ = [actions['hold'], actions['sell']]        \n",
    "        elif position == positions['short']:\n",
    "            actions_ = [actions['hold'], actions['buy']]\n",
    "        else:\n",
    "            actions_ = [actions['hold'], actions['buy'], actions['sell']]\n",
    "        \n",
    "        values_ = q_value[state[0], state[1], actions_]\n",
    "        \n",
    "        action = np.random.choice([actions_[action_] for action_, value_ in enumerate(values_) \n",
    "                                 if value_ == np.max(values_)])\n",
    "    return action"
   ]
  },
  {
   "cell_type": "code",
   "execution_count": 24,
   "metadata": {},
   "outputs": [
    {
     "data": {
      "text/plain": [
       "1"
      ]
     },
     "execution_count": 24,
     "metadata": {},
     "output_type": "execute_result"
    }
   ],
   "source": [
    "q_value = np.zeros((NUM_INV_STEPS, NUM_PROB_STEPS, len(ACTIONS))) \n",
    "state = [0, 4, price, 0]\n",
    "choose_action(state, q_value, EPSILON)"
   ]
  },
  {
   "cell_type": "markdown",
   "metadata": {},
   "source": [
    "### Set up the learning algorithms"
   ]
  },
  {
   "cell_type": "markdown",
   "metadata": {},
   "source": [
    "#### Sarsa and Expected Sarsa"
   ]
  },
  {
   "cell_type": "markdown",
   "metadata": {},
   "source": [
    "This function simulates an episode with Sarsa. It takes the state-action value array `q_value` as an argument, initialises the state to `START`, defined above, and updates `q_value` according to the Sarsa algorithm, until either the maximum number of iterations has passed or the step function returns `done == True`. The cumulative reward earned is returned."
   ]
  },
  {
   "cell_type": "code",
   "execution_count": 25,
   "metadata": {},
   "outputs": [],
   "source": [
    "def sarsa(q_value, expected=False, step_size=ALPHA, eps=EPSILON):\n",
    "    state = START\n",
    "    action = choose_action(state, q_value, eps)\n",
    "    rewards = 0.0\n",
    "    done  = False\n",
    "    iteration = 0\n",
    "    \n",
    "    while (iteration < MAX_ITER) and not done:\n",
    "        next_state, reward, done = step(state, action)\n",
    "        next_action = choose_action(next_state, q_value, eps)\n",
    "        rewards += reward\n",
    "        if not expected:\n",
    "            target = q_value[next_state[0], next_state[1], next_action]\n",
    "        else:\n",
    "            # calculate the expected value of new state\n",
    "            target = 0.0\n",
    "            q_next = q_value[next_state[0], next_state[1], :]\n",
    "            best_actions = np.argwhere(q_next == np.max(q_next))\n",
    "            for action_ in ACTIONS: \n",
    "                if action_ in best_actions:\n",
    "                    target += ((1.0 -  eps) / len(best_actions) \n",
    "                               +  eps / len(ACTIONS)) * q_value[next_state[0], next_state[1], action_]\n",
    "                else:\n",
    "                    target +=  eps / len(ACTIONS) * q_value[next_state[0], next_state[1], action_]\n",
    "        target *= GAMMA\n",
    "        q_value[state[0], state[1], action] += step_size * (\n",
    "                reward + target - q_value[state[0], state[1], action])\n",
    "        state = next_state\n",
    "        action = next_action\n",
    "        iteration += 1\n",
    "    return rewards"
   ]
  },
  {
   "cell_type": "markdown",
   "metadata": {},
   "source": [
    "#### Q-learning"
   ]
  },
  {
   "cell_type": "markdown",
   "metadata": {},
   "source": [
    "This function simulates an episode with Q-learning. It takes the state-action value array `q_value` as an argument, initialises the state to `START`, defined above, and updates `q_value` according to the Q-learning algorithm, until the $T$ time steps have passed, or the stocks have all been sold. The cumulative reward earned is returned."
   ]
  },
  {
   "cell_type": "code",
   "execution_count": 26,
   "metadata": {},
   "outputs": [],
   "source": [
    "def q_learning(q_value, step_size=ALPHA, eps=EPSILON):\n",
    "    state = START\n",
    "    rewards = 0.0\n",
    "    done  = False\n",
    "    iteration = 0\n",
    "    \n",
    "    while (iteration < MAX_ITER) and not done:\n",
    "        action = choose_action(state, q_value, eps)\n",
    "        next_state, reward, done = step(state, action)\n",
    "        rewards += reward\n",
    "        # Q-Learning update\n",
    "        q_value[state[0], state[1], action] += step_size * (\n",
    "                reward + GAMMA * np.max(q_value[next_state[0], next_state[1], :]) -\n",
    "                q_value[state[0], state[1], action])\n",
    "        state = next_state\n",
    "        iteration +=1\n",
    "    return rewards"
   ]
  },
  {
   "cell_type": "markdown",
   "metadata": {},
   "source": [
    "##### Printing output of the learned policy"
   ]
  },
  {
   "cell_type": "code",
   "execution_count": 27,
   "metadata": {},
   "outputs": [],
   "source": [
    "# Print optimal policy\n",
    "def print_optimal_policy(q_value):\n",
    "    optimal_policy = np.zeros((NUM_INV_STEPS, NUM_PROB_STEPS))\n",
    "    for i in range(0, NUM_INV_STEPS):\n",
    "        for j in range(0, NUM_PROB_STEPS):\n",
    "                optimal_policy[i,j] = np.argmax(q_value[i, j, :])\n",
    "            \n",
    "    print(\"ask fill prob:\", FILL_PROBS)\n",
    "    for i in range(0, NUM_INV_STEPS):\n",
    "        \n",
    "        #positions ={'flat': 0, 'long': 2, 'short':1}\n",
    "        str_=\"\"\n",
    "        if (i==0):\n",
    "            str_+= 'flat: '\n",
    "        elif(i==1):\n",
    "            str_+= 'short: '\n",
    "        else:\n",
    "            str_+= 'long: '\n",
    "            \n",
    "        for j in range(0, NUM_PROB_STEPS): \n",
    "            a = np.int(optimal_policy[i,j])\n",
    "            #actions = {'buy':2, 'sell':0, 'hold': 1}\n",
    "            if a == 0:\n",
    "                str_+='s' + ','\n",
    "            elif a ==1:\n",
    "                str_+='h' + ',' \n",
    "            else:\n",
    "                str_+='b' + ','  \n",
    "        print(str_)  "
   ]
  },
  {
   "cell_type": "markdown",
   "metadata": {},
   "source": [
    "#### Set up the epsilon decay\n",
    "- We will use the decreasing epsison when increasing episode\n",
    "- The epsilon should strives to zero in order for the q-value function to converge to the optimal q-value function in SARSA algorithm\n",
    "- The following figure demonstrates the exponetial decay we are going to use"
   ]
  },
  {
   "cell_type": "code",
   "execution_count": 28,
   "metadata": {},
   "outputs": [
    {
     "data": {
      "image/png": "[encoded data removed]",
      "text/plain": [
       "<Figure size 432x288 with 1 Axes>"
      ]
     },
     "metadata": {
      "needs_background": "light"
     },
     "output_type": "display_data"
    }
   ],
   "source": [
    "eps = 0.5\n",
    "epis = 150\n",
    "epoch = 15\n",
    "\n",
    "plt.plot([eps*((1-eps)**(i//epoch)) for i in range(epis)])\n",
    "plt.xlabel('Episode')\n",
    "plt.ylabel('Epsilon');"
   ]
  },
  {
   "cell_type": "markdown",
   "metadata": {},
   "source": [
    "### Running Sarsa and Q-learning "
   ]
  },
  {
   "cell_type": "code",
   "execution_count": 29,
   "metadata": {},
   "outputs": [
    {
     "name": "stderr",
     "output_type": "stream",
     "text": [
      "\r",
      "  0%|          | 0/1 [00:00<?, ?it/s]"
     ]
    },
    {
     "name": "stdout",
     "output_type": "stream",
     "text": [
      "we have reached the end\n",
      "we have reached the end\n",
      "we have reached the end\n",
      "we have reached the end\n",
      "we have reached the end\n",
      "we have reached the end\n",
      "we have reached the end\n",
      "we have reached the end\n",
      "we have reached the end\n",
      "we have reached the end\n",
      "we have reached the end\n",
      "we have reached the end\n",
      "we have reached the end\n",
      "we have reached the end\n",
      "we have reached the end\n",
      "we have reached the end\n",
      "we have reached the end\n",
      "we have reached the end\n",
      "we have reached the end\n",
      "we have reached the end\n",
      "we have reached the end\n",
      "we have reached the end\n",
      "we have reached the end\n",
      "we have reached the end\n",
      "we have reached the end\n",
      "we have reached the end\n",
      "we have reached the end\n",
      "we have reached the end\n",
      "we have reached the end\n",
      "we have reached the end\n",
      "we have reached the end\n",
      "we have reached the end\n",
      "we have reached the end\n",
      "we have reached the end\n",
      "we have reached the end\n",
      "we have reached the end\n",
      "we have reached the end\n",
      "we have reached the end\n",
      "we have reached the end\n",
      "we have reached the end\n",
      "we have reached the end\n",
      "we have reached the end\n",
      "we have reached the end\n",
      "we have reached the end\n",
      "we have reached the end\n",
      "we have reached the end\n",
      "we have reached the end\n",
      "we have reached the end\n",
      "we have reached the end\n",
      "we have reached the end\n",
      "we have reached the end\n",
      "we have reached the end\n",
      "we have reached the end\n",
      "we have reached the end\n",
      "we have reached the end\n",
      "we have reached the end\n",
      "we have reached the end\n",
      "we have reached the end\n",
      "we have reached the end\n",
      "we have reached the end\n",
      "we have reached the end\n",
      "we have reached the end\n",
      "we have reached the end\n",
      "we have reached the end\n",
      "we have reached the end\n",
      "we have reached the end\n",
      "we have reached the end\n",
      "we have reached the end\n",
      "we have reached the end\n",
      "we have reached the end\n",
      "we have reached the end\n",
      "we have reached the end\n",
      "we have reached the end\n",
      "we have reached the end\n"
     ]
    },
    {
     "name": "stderr",
     "output_type": "stream",
     "text": [
      "100%|██████████| 1/1 [05:14<00:00, 314.25s/it]"
     ]
    },
    {
     "name": "stdout",
     "output_type": "stream",
     "text": [
      "we have reached the end\n",
      "[10731.    888.4 10780.5   884.7 10876.1   905.3 10812.5   917.7 10955.6\n",
      "   936. ]\n"
     ]
    },
    {
     "name": "stderr",
     "output_type": "stream",
     "text": [
      "\n"
     ]
    }
   ],
   "source": [
    "# Sarsa converges to the safe path, while Q-Learning converges to the optimal path\n",
    "# episodes of each run\n",
    "\n",
    "policy='sarsa'\n",
    "episodes = 150#0\n",
    "EPOCH = 15\n",
    "\n",
    "runs = 1\n",
    "\n",
    "rewards_sarsa = np.zeros(episodes)\n",
    "rewards_q_learning = np.zeros(episodes)\n",
    "for r in tqdm(range(runs)):\n",
    "    q_sarsa = np.zeros((NUM_INV_STEPS, NUM_PROB_STEPS, len(ACTIONS)))\n",
    "    q_q_learning = np.copy(q_sarsa)\n",
    "    data_generator.rewind()\n",
    "    for i in range(0, episodes):\n",
    "        eps = EPSILON*((1-EPSILON)**(i//EPOCH))\n",
    "        if policy == 'sarsa':\n",
    "            rewards_sarsa[i] += sarsa(q_sarsa, eps=eps)\n",
    "        else:\n",
    "            rewards_q_learning[i] += q_learning(q_q_learning, eps=eps)\n",
    "\n",
    "# Averaging over independent runs\n",
    "rewards_sarsa /= runs\n",
    "rewards_q_learning /= runs\n",
    "print(rewards_sarsa[:10])"
   ]
  },
  {
   "cell_type": "code",
   "execution_count": 50,
   "metadata": {},
   "outputs": [
    {
     "data": {
      "image/png": "[encoded data removed]",
      "text/plain": [
       "<Figure size 432x288 with 1 Axes>"
      ]
     },
     "metadata": {
      "needs_background": "light"
     },
     "output_type": "display_data"
    }
   ],
   "source": [
    "plt.plot(rewards_sarsa, label='Sarsa');"
   ]
  },
  {
   "cell_type": "code",
   "execution_count": 48,
   "metadata": {
    "scrolled": true
   },
   "outputs": [
    {
     "data": {
      "image/png": "[encoded data removed]",
      "text/plain": [
       "<Figure size 1440x360 with 1 Axes>"
      ]
     },
     "metadata": {
      "needs_background": "light"
     },
     "output_type": "display_data"
    }
   ],
   "source": [
    "plt.figure(figsize=(20,5))\n",
    "plt.plot(rewards_sarsa[-20:], label='Sarsa');"
   ]
  },
  {
   "cell_type": "code",
   "execution_count": 32,
   "metadata": {},
   "outputs": [
    {
     "name": "stdout",
     "output_type": "stream",
     "text": [
      "Sarsa Optimal Policy:\n",
      "ask fill prob: [0.         0.11111111 0.22222222 0.33333333 0.44444444 0.55555556\n",
      " 0.66666667 0.77777778 0.88888889 1.        ]\n",
      "flat: b,b,b,b,b,s,s,s,s,s,\n",
      "short: b,b,b,b,b,b,b,b,b,h,\n",
      "long: s,s,s,s,s,s,s,s,s,s,\n"
     ]
    },
    {
     "data": {
      "image/png": "[encoded data removed]",
      "text/plain": [
       "<Figure size 432x288 with 1 Axes>"
      ]
     },
     "metadata": {
      "needs_background": "light"
     },
     "output_type": "display_data"
    }
   ],
   "source": [
    "# Draw reward curves\n",
    "if policy=='sarsa':\n",
    "    plt.plot(rewards_sarsa, label='Sarsa')\n",
    "    plt.xlabel('Episodes')\n",
    "    plt.ylabel('Sum of rewards during episode')\n",
    "    plt.legend()\n",
    "\n",
    "    print('Sarsa Optimal Policy:')\n",
    "    print_optimal_policy(q_sarsa)\n",
    "\n",
    "else:\n",
    "    plt.plot(rewards_q_learning, label='Q-Learning')\n",
    "    plt.xlabel('Episodes')\n",
    "    plt.ylabel('Sum of rewards during episode')\n",
    "    plt.legend()\n",
    "\n",
    "    print('Q-Learning Optimal Policy:')\n",
    "    print_optimal_policy(q_q_learning)\n"
   ]
  },
  {
   "cell_type": "code",
   "execution_count": 24,
   "metadata": {},
   "outputs": [],
   "source": [
    "# Sarsa converges to the safe path, while Q-Learning converges to the optimal path\n",
    "def figure_6_4(policy):\n",
    "    if policy not in ['sarsa', 'q-learning']:\n",
    "        raise ValueError(\"choose 'sarsa' or 'q-learning'\")\n",
    "    \n",
    "    # episodes of each run\n",
    "    episodes = 15#0\n",
    "    EPOCH = 15\n",
    "\n",
    "    runs = 1\n",
    "\n",
    "    rewards_sarsa = np.zeros(episodes)\n",
    "    rewards_q_learning = np.zeros(episodes)\n",
    "    for r in tqdm(range(runs)):\n",
    "        q_sarsa = np.zeros((NUM_INV_STEPS, NUM_PROB_STEPS, len(ACTIONS)))\n",
    "        q_q_learning = np.copy(q_sarsa)\n",
    "        data_generator.rewind()\n",
    "        for i in range(0, episodes):\n",
    "            eps = EPSILON*((1-EPSILON)**(i//EPOCH))\n",
    "            if policy=='sarsa':\n",
    "                rewards_sarsa[i] += sarsa(q_sarsa, eps=eps)\n",
    "            else:\n",
    "                rewards_q_learning[i] += q_learning(q_q_learning, eps=eps)\n",
    "\n",
    "    # Averaging over independent runs\n",
    "    rewards_sarsa /= runs\n",
    "    rewards_q_learning /= runs\n",
    "    print(rewards_sarsa[:10])\n",
    "    \n",
    "    # Draw reward curves\n",
    "    if policy=='sarsa':\n",
    "        plt.plot(rewards_sarsa, label='Sarsa')\n",
    "        plt.xlabel('Episodes')\n",
    "        plt.ylabel('Sum of rewards during episode')\n",
    "        plt.legend()\n",
    "        print('Sarsa Optimal Policy:')\n",
    "        print_optimal_policy(q_sarsa)\n",
    "        return q_sarsa\n",
    "        \n",
    "    else:\n",
    "        plt.plot(rewards_q_learning, label='Q-Learning')\n",
    "        plt.xlabel('Episodes')\n",
    "        plt.ylabel('Sum of rewards during episode')\n",
    "        plt.legend()\n",
    "\n",
    "        print('Q-Learning Optimal Policy:')\n",
    "        print_optimal_policy(q_q_learning)\n",
    "        return q_q_learning\n",
    "    plt.show()\n"
   ]
  },
  {
   "cell_type": "code",
   "execution_count": 40,
   "metadata": {
    "scrolled": false
   },
   "outputs": [
    {
     "name": "stderr",
     "output_type": "stream",
     "text": [
      "100%|██████████| 1/1 [00:57<00:00, 57.08s/it]\n",
      "  0%|          | 0/1 [00:00<?, ?it/s]"
     ]
    },
    {
     "name": "stdout",
     "output_type": "stream",
     "text": [
      "[11461.2 11546.  11652.6 11655.5 11906.7 11683.4 11707.9 11780.6 11648.2\n",
      " 11568.2]\n",
      "Sarsa Optimal Policy:\n",
      "ask fill prob: [0.  0.1 0.2 0.3 0.4 0.5 0.6 0.7 0.8 0.9]\n",
      "flat: b,b,b,b,b,b,b,b,s,s,\n",
      "short: b,b,b,b,b,b,b,b,b,b,\n",
      "long: h,s,s,s,s,s,s,s,s,s,\n"
     ]
    },
    {
     "name": "stderr",
     "output_type": "stream",
     "text": [
      "100%|██████████| 1/1 [01:02<00:00, 62.37s/it]"
     ]
    },
    {
     "name": "stdout",
     "output_type": "stream",
     "text": [
      "[0. 0. 0. 0. 0. 0. 0. 0. 0. 0.]\n",
      "Q-Learning Optimal Policy:\n",
      "ask fill prob: [0.  0.1 0.2 0.3 0.4 0.5 0.6 0.7 0.8 0.9]\n",
      "flat: b,b,b,b,b,s,s,s,s,s,\n",
      "short: b,b,b,b,b,b,b,b,b,b,\n",
      "long: h,s,s,s,s,s,s,s,s,s,\n"
     ]
    },
    {
     "name": "stderr",
     "output_type": "stream",
     "text": [
      "\n"
     ]
    }
   ],
   "source": [
    "q_sarsa= figure_6_4('sarsa')\n",
    "q_q_learning = figure_6_4('q-learning')"
   ]
  },
  {
   "cell_type": "markdown",
   "metadata": {},
   "source": [
    "### Running Sarsa, Expected Sarsa and Q-learning to compare their asymptotic behavior"
   ]
  },
  {
   "cell_type": "code",
   "execution_count": 33,
   "metadata": {},
   "outputs": [],
   "source": [
    "# Due to limited capacity of calculation of my machine, I can't complete this experiment\n",
    "# with 100,000 episodes and 50,000 runs to get the fully averaged performance\n",
    "# However even I only play for 500 episodes and 1000 steps per episode, the curves looks still good.\n",
    "# MFD: not finished yet.\n",
    "def figure_6_6():\n",
    "    step_sizes = np.arange(0.01, 0.2, 0.04)\n",
    "    episodes = 10#0\n",
    "    runs = 1\n",
    "\n",
    "    ASY_SARSA = 0\n",
    "    ASY_EXPECTED_SARSA = 1\n",
    "    ASY_QLEARNING = 2\n",
    "    INT_SARSA = 3\n",
    "    INT_EXPECTED_SARSA = 4\n",
    "    INT_QLEARNING = 5\n",
    "    methods = range(0, 6)\n",
    "\n",
    "    performace = np.zeros((6, len(step_sizes)))\n",
    "    for run in range(runs):\n",
    "        for ind, step_size in tqdm(list(enumerate(step_sizes))):\n",
    "            q_sarsa = np.zeros((NUM_INV_STEPS, NUM_PROB_STEPS, len(ACTIONS)))\n",
    "            q_expected_sarsa = np.copy(q_sarsa)\n",
    "            q_q_learning = np.copy(q_sarsa)\n",
    "            for ep in range(episodes):\n",
    "                sarsa_reward = sarsa(q_sarsa, expected=False, step_size=step_size, eps=0.1)\n",
    "                expected_sarsa_reward = sarsa(q_expected_sarsa, expected=True, step_size=step_size, eps=0.1)\n",
    "                q_learning_reward = q_learning(q_q_learning, step_size=step_size, eps=0.1)\n",
    "                performace[ASY_SARSA, ind] += sarsa_reward\n",
    "                performace[ASY_EXPECTED_SARSA, ind] += expected_sarsa_reward\n",
    "                performace[ASY_QLEARNING, ind] += q_learning_reward\n",
    "\n",
    "                if ep < 100:\n",
    "                    performace[INT_SARSA, ind] += sarsa_reward\n",
    "                    performace[INT_EXPECTED_SARSA, ind] += expected_sarsa_reward\n",
    "                    performace[INT_QLEARNING, ind] += q_learning_reward\n",
    "\n",
    "    performace[:3, :] /= episodes * runs\n",
    "    performace[3:, :] /= 100 * runs\n",
    "    labels = ['Asymptotic Sarsa', 'Asymptotic Expected Sarsa', 'Asymptotic Q-Learning',\n",
    "              'Interim Sarsa', 'Interim Expected Sarsa', 'Interim Q-Learning']\n",
    "\n",
    "    for method, label in zip(methods, labels):\n",
    "        plt.plot(step_sizes, performace[method, :], label=label)\n",
    "    plt.xlabel('alpha')\n",
    "    plt.ylabel('reward per episode')\n",
    "    plt.legend()"
   ]
  },
  {
   "cell_type": "code",
   "execution_count": 34,
   "metadata": {},
   "outputs": [
    {
     "name": "stderr",
     "output_type": "stream",
     "text": [
      "\r",
      "  0%|          | 0/5 [00:00<?, ?it/s]"
     ]
    },
    {
     "name": "stdout",
     "output_type": "stream",
     "text": [
      "we have reached the end\n"
     ]
    },
    {
     "name": "stderr",
     "output_type": "stream",
     "text": [
      "\r",
      " 20%|██        | 1/5 [00:09<00:37,  9.33s/it]"
     ]
    },
    {
     "name": "stdout",
     "output_type": "stream",
     "text": [
      "we have reached the end\n"
     ]
    },
    {
     "name": "stderr",
     "output_type": "stream",
     "text": [
      "\r",
      " 40%|████      | 2/5 [00:18<00:27,  9.26s/it]"
     ]
    },
    {
     "name": "stdout",
     "output_type": "stream",
     "text": [
      "we have reached the end\n"
     ]
    },
    {
     "name": "stderr",
     "output_type": "stream",
     "text": [
      "\r",
      " 60%|██████    | 3/5 [00:27<00:18,  9.07s/it]"
     ]
    },
    {
     "name": "stdout",
     "output_type": "stream",
     "text": [
      "we have reached the end\n"
     ]
    },
    {
     "name": "stderr",
     "output_type": "stream",
     "text": [
      "\r",
      " 80%|████████  | 4/5 [00:36<00:09,  9.20s/it]"
     ]
    },
    {
     "name": "stdout",
     "output_type": "stream",
     "text": [
      "we have reached the end\n"
     ]
    },
    {
     "name": "stderr",
     "output_type": "stream",
     "text": [
      "100%|██████████| 5/5 [00:47<00:00,  9.46s/it]\n"
     ]
    },
    {
     "data": {
      "image/png": "[encoded data removed]",
      "text/plain": [
       "<Figure size 432x288 with 1 Axes>"
      ]
     },
     "metadata": {
      "needs_background": "light"
     },
     "output_type": "display_data"
    }
   ],
   "source": [
    "figure_6_6()"
   ]
  },
  {
   "cell_type": "markdown",
   "metadata": {},
   "source": [
    "### Run animation of the market-making according to the learned policies for one episode"
   ]
  },
  {
   "cell_type": "code",
   "execution_count": 59,
   "metadata": {},
   "outputs": [],
   "source": [
    "%matplotlib inline"
   ]
  },
  {
   "cell_type": "code",
   "execution_count": null,
   "metadata": {
    "scrolled": false
   },
   "outputs": [],
   "source": [
    "fig = plt.figure(figsize=(12, 8))\n",
    "\n",
    "gs = GridSpec(2,2) # 2 rows, 2 columns\n",
    "\n",
    "ax1 = fig.add_subplot(gs[0,0]) # First row, first column\n",
    "ax2 = fig.add_subplot(gs[0,1]) # First row, second column\n",
    "ax3 = fig.add_subplot(gs[1,0]) # Second row, first column\n",
    "\n",
    "t = 20\n",
    "bids = []\n",
    "asks = []\n",
    "bid_fills = []\n",
    "xdata = []\n",
    "pnl = []\n",
    "\n",
    "objects = ['bid','ask']\n",
    "y_pos = range(len(objects))\n",
    "\n",
    "\n",
    "done = False\n",
    "state = START\n",
    "rewards = 0.0\n",
    "iteration = 0\n",
    "\n",
    "# Run one episode for SARSA\n",
    "while iteration < MAX_ITER and not done:\n",
    "    \n",
    "    action = np.argmax(q_sarsa[state[0], state[1], :]) #this is SARSA, change to q_learning to check out Q-learning algorithm\n",
    "    \n",
    "    state, reward, done = step(state, action)\n",
    "    iteration += 1\n",
    "    \n",
    "    position_name = [name for name, pos in positions.items() if pos == state[0]][0] \n",
    "    action_name = [name for name, act in actions.items() if act == action][0]                    \n",
    "    prices = state[2]\n",
    "    \n",
    "    # Cumulative PnL\n",
    "    if len(pnl)==0:\n",
    "        pnl.append(reward)\n",
    "    else: \n",
    "        pnl.append(pnl[-1]+reward)\n",
    "        \n",
    "    # Prices\n",
    "    bids.append(prices['bid'])\n",
    "    asks.append(prices['ask'])\n",
    "    xdata.append(iteration)\n",
    "    ax1.clear()\n",
    "    ax1.plot(xdata, bids, color = 'black')\n",
    "    ax1.plot(xdata, asks, color = 'black')\n",
    "    ax1.set_ylabel('Prices')\n",
    "    ax1.set_xlabel('Iteration')\n",
    "    ax1.set_title('Cumulated PnL: ' + \"%.2f\" % pnl[-1] + ' ~ ' +\n",
    "                 'Position: ' + position_name + ' ~ ' +\n",
    "                 'Entry Price: ' + \"%.2f\" % state[-1])\n",
    "    ax1.set_xlim([max(0, iteration - 80.5), iteration + 0.5])\n",
    "    \n",
    "    # Plotting actions according to the Policy\n",
    "    if (action == actions['sell']):\n",
    "        ax1.scatter(iteration, prices['bid']+0.03, color='orangered', marker='v',  s=50)\n",
    "    elif (action == actions['buy']).all():\n",
    "        ax1.scatter(iteration, prices['ask']-0.03, color='lawngreen', marker='^', s=50)\n",
    "    \n",
    "    # Ploting PnL\n",
    "    ax2.clear()\n",
    "    ax2.plot(xdata, pnl)\n",
    "    ax2.set_ylabel('Total PnL')\n",
    "    ax2.set_xlabel('Iteration')\n",
    "    \n",
    "    # Plotting current probabilities to fill\n",
    "    q_a = FILL_PROBS[state[1]]\n",
    "    q_b = 1 - q_a\n",
    "    performance = [q_b, q_a]\n",
    "    \n",
    "    ax3.clear()\n",
    "    ax3.bar(y_pos, performance, align='center', alpha=0.5, color=['orangered','lawngreen'])\n",
    "    ax3.set_xticks(y_pos)\n",
    "    ax3.set_xticklabels(objects)\n",
    "    ax3.set_title('Probability of fill')\n",
    "    ax3.set_ylim([0, 1])\n",
    "    fig.tight_layout()\n",
    "    time.sleep(0.5)"
   ]
  },
  {
   "cell_type": "code",
   "execution_count": null,
   "metadata": {},
   "outputs": [],
   "source": []
  },
  {
   "cell_type": "code",
   "execution_count": null,
   "metadata": {},
   "outputs": [],
   "source": []
  }
 ],
 "metadata": {
  "kernelspec": {
   "display_name": "Python 3",
   "language": "python",
   "name": "python3"
  },
  "language_info": {
   "codemirror_mode": {
    "name": "ipython",
    "version": 3
   },
   "file_extension": ".py",
   "mimetype": "text/x-python",
   "name": "python",
   "nbconvert_exporter": "python",
   "pygments_lexer": "ipython3",
   "version": "3.6.9"
  }
 },
 "nbformat": 4,
 "nbformat_minor": 2
}
