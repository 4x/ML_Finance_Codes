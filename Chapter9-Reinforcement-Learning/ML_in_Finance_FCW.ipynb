{
 "cells": [
  {
   "cell_type": "code",
   "execution_count": 1,
   "metadata": {},
   "outputs": [],
   "source": [
    "# ML_in_Finance_FCW\n",
    "# Author: Matthew Dixon\n",
    "# Version: 1.0 (06.05.2020)\n",
    "# License: MIT\n",
    "# Email: matthew.dixon@iit.edu\n",
    "# Notes: tested on Mac OS X with Python 3.6.9 and the following packages:\n",
    "# matplotlib=3.1.3, numpy=1.18.1, tqdm=4.46.0\n",
    "# Citation: Please cite the following reference if this notebook is used for research purposes:\n",
    "# Bilokon P., Dixon M.F. and Halperin I., Machine Learning in Finance: From Theory to Practice, Springer Graduate textbook Series, 2020. "
   ]
  },
  {
   "cell_type": "code",
   "execution_count": 2,
   "metadata": {},
   "outputs": [],
   "source": [
    "# Adapted from the code referenced here:\n",
    "# https://github.com/ShangtongZhang/reinforcement-learning-an-introduction\n",
    "#######################################################################\n",
    "# Copyright (C)                                                       #\n",
    "# 2016-2018 Shangtong Zhang(zhangshangtong.cpp@gmail.com)             #\n",
    "# 2016 Kenta Shimada(hyperkentakun@gmail.com)                         #\n",
    "# Permission given to modify the code as long as you keep this        #\n",
    "# declaration at the top                                              #\n",
    "#######################################################################"
   ]
  },
  {
   "cell_type": "markdown",
   "metadata": {},
   "source": [
    "# Financial Cliff Walking Problem"
   ]
  },
  {
   "cell_type": "markdown",
   "metadata": {},
   "source": [
    "Consider an over-simplified model of a household's finances. Let $S_t$ be the amount of money the household has at time $t$. We assume for simplicity that $S_t$ can only take values in a discrete set $\\{S^{(i)}\\}_{i=0}^{N-1}$. \n",
    "\n",
    "The account has to be maintained for $T$ time steps, after which it should be closed - $T$ is the planning horizon. The zero-level $S^{(0)}=0$ is a bankruptcy level - it has to be avoided, as reaching it means inability to pay on household liabilities. \n",
    "\n",
    "At each step, the agent can deposit to the account $S^{(i)} \\rightarrow S^{(i+1)}$ (action $a_+$), withdraw from the account $S^{(i)} \\rightarrow S^{(i-1)}$, (action $a_-$), or keep the same amount $S^{(i)} \\rightarrow S^{(i)}$, (action $a_0$). The initial amount in the account is zero. \n",
    "\n",
    "For any step before the final step $T$, if the agent moves to the zero level  $S_0 = 0$, it gets a negative reward of $-100$, and the episode terminates. Otherwise, it continues for all $T$ steps. Any action not leading to the zero level gets a negative reward of $-1$. At $T$, if the final state is $S_T>0$, the reward is $-10$, but if the account goes back to zero exactly at time $T$, i.e. $S_T=0$, then the last action gets a positive reward of $+10$. \n",
    "\n",
    "The learning task is to maximize the total reward over $T$ time steps. The RL agent has to learn the optimal depository policy online by trying different actions during a training episode. Note that while this is a time-dependent problem, we can map it on to a stationary problem with an episodic task and a target state, such as the original cliff walking problem in Sutton-Barto."
   ]
  },
  {
   "cell_type": "markdown",
   "metadata": {},
   "source": [
    "<img src=\"The-cliff-walking-task.jpg\">"
   ]
  },
  {
   "cell_type": "markdown",
   "metadata": {},
   "source": [
    "### Import the necessary libraries"
   ]
  },
  {
   "cell_type": "code",
   "execution_count": 4,
   "metadata": {},
   "outputs": [],
   "source": [
    "import numpy as np\n",
    "import matplotlib\n",
    "matplotlib.use('Agg')\n",
    "import matplotlib.pyplot as plt \n",
    "%matplotlib inline\n",
    "\n",
    "# tqdm is used to show nice progress bars while the RL agent is going through its learning process.\n",
    "from tqdm import tqdm \n",
    "\n",
    "# To silence warnings which are unnecessary\n",
    "import warnings\n",
    "warnings.filterwarnings('ignore')"
   ]
  },
  {
   "cell_type": "markdown",
   "metadata": {},
   "source": [
    "## Setting Up"
   ]
  },
  {
   "cell_type": "markdown",
   "metadata": {},
   "source": [
    "We assume $N=4$ values of possible funds in the account, and assume $T=12$ time steps. All combinations of state and time can then be represented as a two-dimensional grid of size $N\\times T = 4\\times 12$. A time dependent action value function $Q_t\\left( s_t, a_t\\right)$ with three possible actions, $a_t = \\left\\{a_+, a_-, a_0\\right\\}$, can then be stored as a rank three tensor of dimension $4\\times 12 \\times 3$."
   ]
  },
  {
   "cell_type": "markdown",
   "metadata": {},
   "source": [
    "### Setting some global parameters"
   ]
  },
  {
   "cell_type": "code",
   "execution_count": 5,
   "metadata": {},
   "outputs": [],
   "source": [
    "WORLD_HEIGHT = 4\n",
    "WORLD_WIDTH = 12"
   ]
  },
  {
   "cell_type": "code",
   "execution_count": 6,
   "metadata": {},
   "outputs": [],
   "source": [
    "EPSILON = 0.1 # Probability for exploration\n",
    "\n",
    "ALPHA = 0.001 # Step size\n",
    "\n",
    "GAMMA = 1 # Discount factor for Q-Learning, Sarsa and Expected Sarsa"
   ]
  },
  {
   "cell_type": "markdown",
   "metadata": {},
   "source": [
    "We assign an integer value representing each action to a variable: `ACTION_UP` is $a_+$ (adding a deposit), `ACTION_DOWN` is $a_-$ (redeeming a deposit) and `ACTION_ZERO` is $a_0$ (leaving the account as it is)."
   ]
  },
  {
   "cell_type": "code",
   "execution_count": 7,
   "metadata": {},
   "outputs": [],
   "source": [
    "ACTION_UP = 1\n",
    "ACTION_DOWN = 2\n",
    "ACTION_ZERO = 0\n",
    "ACTIONS = [ACTION_UP, ACTION_DOWN, ACTION_ZERO]"
   ]
  },
  {
   "cell_type": "markdown",
   "metadata": {},
   "source": [
    "We define the state vectors for the initial and goal states"
   ]
  },
  {
   "cell_type": "code",
   "execution_count": 8,
   "metadata": {},
   "outputs": [],
   "source": [
    "START = [0, 0]\n",
    "GOAL = [0, WORLD_WIDTH-1]"
   ]
  },
  {
   "cell_type": "markdown",
   "metadata": {},
   "source": [
    "### Setting up the environment"
   ]
  },
  {
   "cell_type": "code",
   "execution_count": 73,
   "metadata": {},
   "outputs": [],
   "source": [
    "# Step function that describes how the next state is obtained from the current state \n",
    "# and the action taken. The function returns the next state and the reward obtained.\n",
    "def step(state, action):\n",
    "    i, j = state\n",
    "\n",
    "    if action == ACTION_UP:\n",
    "        next_state = [min(i + 1, WORLD_HEIGHT-1), min(j + 1, WORLD_WIDTH - 1)]\n",
    "    elif action == ACTION_DOWN:\n",
    "        next_state = [max(i - 1, 0), min(j + 1, WORLD_WIDTH - 1)]\n",
    "    elif action == ACTION_ZERO:\n",
    "        next_state = [i, min(j + 1, WORLD_WIDTH - 1)]\n",
    "    else:\n",
    "        raise ValueError(\"action not recognised\")\n",
    "    \n",
    "    # The reward is -1 for actions ACTION_UP and ACTION_DOWN. \n",
    "    # This is done to keep transactions to a minimum.\n",
    "    reward = -1\n",
    "    \n",
    "    # ACTION_ZERO gets a zero reward since we want to minimize the number of transactions\n",
    "    if action == ACTION_ZERO:\n",
    "        reward = 0\n",
    "    \n",
    "    # Exceptions are \n",
    "    # i) If bankruptcy happens before WORLD_WIDTH time steps\n",
    "    # ii) No deposit at initial state\n",
    "    # iii) Redemption at initial state!\n",
    "    # iv) Any action carried out from a bankrupt state\n",
    "    if ((action == ACTION_DOWN and i == 1 and 1 <= j < 10) or (\n",
    "        action == ACTION_ZERO and state == START) or (\n",
    "        action == ACTION_DOWN and state == START )) or (\n",
    "        i == 0 and 1 <= j <= 10):    \n",
    "            reward = -100\n",
    "        \n",
    "    # Next exception is when we get to the final time step.\n",
    "    if (next_state[1] == WORLD_WIDTH - 1): \n",
    "        if (next_state[0] == 0): # Action resulted in ending with zero balance in final time step\n",
    "            reward = 10\n",
    "        else:\n",
    "            reward = -10   \n",
    "        \n",
    "    return next_state, reward"
   ]
  },
  {
   "cell_type": "code",
   "execution_count": 247,
   "metadata": {},
   "outputs": [
    {
     "name": "stdout",
     "output_type": "stream",
     "text": [
      "([1, 1], -1)\n",
      "([1, 4], -1)\n",
      "([0, 6], -100)\n"
     ]
    }
   ],
   "source": [
    "# Check some state, action pairs and the associated reward\n",
    "print(step([0, 0], ACTION_UP))\n",
    "print(step([2, 3], ACTION_DOWN))\n",
    "print(step([1, 5], ACTION_DOWN))"
   ]
  },
  {
   "cell_type": "markdown",
   "metadata": {},
   "source": [
    "### Set up the agent's action"
   ]
  },
  {
   "cell_type": "code",
   "execution_count": 101,
   "metadata": {},
   "outputs": [],
   "source": [
    "# Choose an action based on epsilon greedy algorithm\n",
    "def choose_action(state, q_value, eps=EPSILON):\n",
    "    # With probability `eps', simply choose a random action - 'Exploration'\n",
    "    if np.random.binomial(1, eps) == 1:\n",
    "        action = np.random.choice(ACTIONS)\n",
    "    # Otherwise, choose from the actions with the highest\n",
    "    #  q-value for the given state - 'Exploitation'\n",
    "    else:\n",
    "        values_ = q_value[state[0], state[1], :]\n",
    "        action = np.random.choice([action_ for action_, value_ in enumerate(values_) \n",
    "                                 if value_ == np.max(values_)])\n",
    "    # From the bankrupt state there is no meaningful action, \n",
    "    # so we will assign ACTION_ZERO by convention.\n",
    "    if state[0] == 0 and state[1] > 0:\n",
    "        action = ACTION_ZERO\n",
    "    return action\n",
    "    "
   ]
  },
  {
   "cell_type": "code",
   "execution_count": 242,
   "metadata": {
    "scrolled": true
   },
   "outputs": [
    {
     "name": "stdout",
     "output_type": "stream",
     "text": [
      "0\n"
     ]
    }
   ],
   "source": [
    "# Check some of the actions\n",
    "q_value = np.zeros((WORLD_HEIGHT, WORLD_WIDTH, len(ACTIONS)))\n",
    "print(choose_action([0, 2], q_value, EPSILON))"
   ]
  },
  {
   "cell_type": "markdown",
   "metadata": {},
   "source": [
    "Observe the effect of $Q_t\\left( s_t, a_t\\right)$ & $\\epsilon$ on the distribution of actions taken from a given state: "
   ]
  },
  {
   "cell_type": "code",
   "execution_count": 289,
   "metadata": {},
   "outputs": [
    {
     "name": "stdout",
     "output_type": "stream",
     "text": [
      "action with highest q for state=[1, 4]: 2\n",
      "choices (eps=0): 2 2 2 2 2 2 2 2 2 2\n",
      "choices (eps=1): 0 0 0 1 1 0 1 1 1 0\n",
      "\n",
      "action with highest q for state=[2, 7]: 0\n",
      "choices (eps=0):   0 0 0 0 0 0 0 0 0 0\n",
      "choices (eps=0.3): 1 0 0 0 0 1 0 0 0 0\n"
     ]
    }
   ],
   "source": [
    "q_value[1, 4, 2] = 1\n",
    "print('action with highest q for state=[1, 4]:', np.argmax(q_value[1, 4]))\n",
    "print('choices (eps=0):', *[choose_action([1, 4], q_value, 0) for i in range(10)])\n",
    "print('choices (eps=1):', *[choose_action([1, 4], q_value, 1) for i in range(10)])\n",
    "\n",
    "q_value[2, 7, 0] = 1\n",
    "print('\\naction with highest q for state=[2, 7]:', np.argmax(q_value[2, 7]))\n",
    "print('choices (eps=0):  ', *[choose_action([2, 7], q_value, 0) for i in range(10)])\n",
    "print('choices (eps=0.3):', *[choose_action([2, 7], q_value, 0.3) for i in range(10)])"
   ]
  },
  {
   "cell_type": "markdown",
   "metadata": {},
   "source": [
    "### Set up the learning algorithms"
   ]
  },
  {
   "cell_type": "markdown",
   "metadata": {},
   "source": [
    "##### Sarsa and Expected Sarsa"
   ]
  },
  {
   "cell_type": "code",
   "execution_count": 13,
   "metadata": {},
   "outputs": [],
   "source": [
    "# An episode with Sarsa\n",
    "# @q_value: values for state action pair, will be updated\n",
    "# @expected: if True, will use expected Sarsa algorithm\n",
    "# @step_size: step size for updating\n",
    "# @return: total rewards within this episode\n",
    "def sarsa(q_value, expected=False, step_size=ALPHA, eps=EPSILON):\n",
    "    state = START\n",
    "    action = choose_action(state, q_value,eps)\n",
    "    rewards = 0.0\n",
    "#     print('In sarsa: action = ', action)\n",
    "    while (state[1] != WORLD_WIDTH-1) and not(1 <= state[1] <= 10 and state[0]==0): #why not start with one\n",
    "        next_state, reward = step(state, action)\n",
    "        next_action = choose_action(next_state, q_value, eps)\n",
    "        rewards += reward\n",
    "        if not expected:\n",
    "            target = q_value[next_state[0], next_state[1], next_action]\n",
    "        else:\n",
    "            # calculate the expected value of new state\n",
    "            target = 0.0\n",
    "            q_next = q_value[next_state[0], next_state[1], :]\n",
    "            best_actions = np.argwhere(q_next == np.max(q_next))\n",
    "            for action_ in ACTIONS:\n",
    "                if action_ in best_actions:\n",
    "                    target += ((1.0 - eps) / len(best_actions) \n",
    "                               + eps / len(ACTIONS)) * q_value[next_state[0], next_state[1], action_]\n",
    "                else:\n",
    "                    target += eps / len(ACTIONS) * q_value[next_state[0], next_state[1], action_]\n",
    "        target *= GAMMA\n",
    "        q_value[state[0], state[1], action] += step_size * (\n",
    "                reward + target - q_value[state[0], state[1], action])\n",
    "        state = next_state\n",
    "        action = next_action\n",
    "    return rewards"
   ]
  },
  {
   "cell_type": "markdown",
   "metadata": {},
   "source": [
    "##### Q-learning"
   ]
  },
  {
   "cell_type": "code",
   "execution_count": 14,
   "metadata": {},
   "outputs": [],
   "source": [
    "# An episode with Q-Learning\n",
    "# @q_value: values for state action pair, will be updated\n",
    "# @step_size: step size for updating\n",
    "# @return: total rewards within this episode\n",
    "def q_learning(q_value, step_size=ALPHA, eps=EPSILON):\n",
    "    state = START\n",
    "    rewards = 0.0\n",
    "    while state[1] != WORLD_WIDTH-1 and not(1 <= state[1] <= 10 and state[0]==0):\n",
    "        action = choose_action(state, q_value, eps)\n",
    "        next_state, reward = step(state, action)\n",
    "        rewards += reward\n",
    "        # Q-Learning update\n",
    "        q_value[state[0], state[1], action] += step_size * (\n",
    "                reward + GAMMA * np.max(q_value[next_state[0], next_state[1], :]) -\n",
    "                q_value[state[0], state[1], action])\n",
    "        state = next_state\n",
    "    return rewards\n"
   ]
  },
  {
   "cell_type": "markdown",
   "metadata": {},
   "source": [
    "##### Printing output of the learned policy"
   ]
  },
  {
   "cell_type": "code",
   "execution_count": 15,
   "metadata": {},
   "outputs": [],
   "source": [
    "# Print optimal policy\n",
    "def print_optimal_policy(q_value):\n",
    "    optimal_policy = []\n",
    "    for i in range(WORLD_HEIGHT-1, -1, -1):\n",
    "        optimal_policy.append([])\n",
    "        for j in range(0, WORLD_WIDTH):\n",
    "            if [i, j] == GOAL:\n",
    "                optimal_policy[-1].append('G')\n",
    "                continue\n",
    "            bestAction = np.argmax(q_value[i, j, :])\n",
    "            \n",
    "            # Action in bankrupt state has been set as Z\n",
    "            if i == 0 and j > 0 and j < WORLD_WIDTH-1:\n",
    "                optimal_policy[-1].append('Z')\n",
    "            elif bestAction == ACTION_UP:\n",
    "                # When i = WORLDHEIGHT - 1, U and Z are identical, so we will use Z\n",
    "                if i == WORLD_HEIGHT-1:\n",
    "                    optimal_policy[-1].append('Z')\n",
    "                else:\n",
    "                    optimal_policy[-1].append('U')\n",
    "            elif bestAction == ACTION_DOWN:\n",
    "                optimal_policy[-1].append('D')\n",
    "            elif bestAction == ACTION_ZERO:\n",
    "                optimal_policy[-1].append('Z')\n",
    "    \n",
    "    for row in optimal_policy:\n",
    "        print(row)"
   ]
  },
  {
   "cell_type": "markdown",
   "metadata": {},
   "source": [
    "#### Set up the epsilon decay"
   ]
  },
  {
   "cell_type": "markdown",
   "metadata": {},
   "source": [
    "We decrease the value of epsilon with each epoch - epsilon must approach zero as the number of episodes increases in order to ensure that the q-value function converges to the optimum with the SARSA algorithm\n",
    "\n",
    "The following figure demonstrates the exponential decay we are going to use."
   ]
  },
  {
   "cell_type": "code",
   "execution_count": 290,
   "metadata": {},
   "outputs": [
    {
     "data": {
      "image/png": "[encoded data removed]",
      "text/plain": [
       "<Figure size 432x288 with 1 Axes>"
      ]
     },
     "metadata": {
      "needs_background": "light"
     },
     "output_type": "display_data"
    }
   ],
   "source": [
    "plt.plot([ EPSILON*((1-EPSILON)**(i//40)) for i in range(2000)])\n",
    "plt.xlabel('Episode')\n",
    "plt.ylabel('Epsilon');"
   ]
  },
  {
   "cell_type": "markdown",
   "metadata": {},
   "source": [
    "### Running Sarsa and Q-learning "
   ]
  },
  {
   "cell_type": "code",
   "execution_count": 246,
   "metadata": {},
   "outputs": [],
   "source": [
    "# Use multiple runs instead of a single run and a sliding window\n",
    "# With a single run the resulting curve is very noisy\n",
    "# However, the optimal policy converges well with a single run\n",
    "# Sarsa converges to the safe path, while Q-Learning converges to the optimal path\n",
    "def figure_6_4():\n",
    "    # Number of episodes in each run\n",
    "    episodes = 2000\n",
    "    EPOCH = 40\n",
    "\n",
    "    # Perform 100 independent runs\n",
    "    runs = 100\n",
    "    \n",
    "    # Initialise the rewards arrays\n",
    "    rewards_sarsa = np.zeros(episodes)\n",
    "    rewards_q_learning = np.zeros(episodes)\n",
    "    for r in tqdm(range(runs)):\n",
    "         # Initialise the state-action arrays \n",
    "        q_sarsa = np.zeros((WORLD_HEIGHT, WORLD_WIDTH, len(ACTIONS)))\n",
    "        q_q_learning = np.copy(q_sarsa)\n",
    "        \n",
    "        # Update the rewards and action value arrays with each episode\n",
    "        for i in range(0, episodes):\n",
    "            # The value of epsilon is decremented exponentially\n",
    "            #  after every EPOCH episodes\n",
    "            eps = EPSILON*((1-EPSILON)**(i//EPOCH))\n",
    "            rewards_sarsa[i] += sarsa(q_sarsa, eps=eps)\n",
    "            rewards_q_learning[i] += q_learning(q_q_learning, eps=eps)\n",
    "\n",
    "    # Averaging over independent runs\n",
    "    rewards_sarsa /= runs\n",
    "    rewards_q_learning /= runs\n",
    "\n",
    "    # Draw reward curves\n",
    "    plt.figure(figsize=(15,7))\n",
    "    plt.plot(rewards_sarsa, label='Sarsa')\n",
    "    plt.plot(rewards_q_learning, label='Q-Learning')\n",
    "    plt.xlabel('Episodes')\n",
    "    plt.ylabel('Sum of rewards during episode')\n",
    "    plt.ylim([-100, 11])\n",
    "    plt.legend()\n",
    "\n",
    "    # Uncomment to save the figures:\n",
    "#    plt.savefig('../images/figure_6_4.png')\n",
    "#    plt.close()\n",
    "\n",
    "    # display optimal policy\n",
    "    print('Sarsa Optimal Policy:')\n",
    "    print_optimal_policy(q_sarsa)\n",
    "    print('Q-Learning Optimal Policy:')\n",
    "    print_optimal_policy(q_q_learning)\n",
    "    return q_sarsa, q_q_learning"
   ]
  },
  {
   "cell_type": "markdown",
   "metadata": {},
   "source": [
    "### Running Sarsa, Expected Sarsa and Q-learning to compare their asymptotic behavior"
   ]
  },
  {
   "cell_type": "markdown",
   "metadata": {},
   "source": [
    "#### Start the runs"
   ]
  },
  {
   "cell_type": "code",
   "execution_count": 107,
   "metadata": {
    "scrolled": false
   },
   "outputs": [
    {
     "name": "stderr",
     "output_type": "stream",
     "text": [
      "100%|██████████| 10/10 [00:32<00:00,  3.21s/it]\n"
     ]
    },
    {
     "name": "stdout",
     "output_type": "stream",
     "text": [
      "Sarsa Optimal Policy:\n",
      "['Z', 'Z', 'Z', 'Z', 'Z', 'Z', 'Z', 'Z', 'Z', 'Z', 'Z', 'Z']\n",
      "['Z', 'Z', 'Z', 'Z', 'Z', 'Z', 'Z', 'Z', 'Z', 'D', 'U', 'Z']\n",
      "['Z', 'Z', 'Z', 'Z', 'Z', 'Z', 'Z', 'Z', 'Z', 'Z', 'D', 'Z']\n",
      "['U', 'Z', 'Z', 'Z', 'Z', 'Z', 'Z', 'Z', 'Z', 'Z', 'Z', 'G']\n",
      "Q-Learning Optimal Policy:\n",
      "['Z', 'Z', 'Z', 'Z', 'Z', 'Z', 'Z', 'Z', 'Z', 'Z', 'Z', 'Z']\n",
      "['Z', 'Z', 'Z', 'Z', 'Z', 'Z', 'Z', 'Z', 'Z', 'D', 'U', 'Z']\n",
      "['Z', 'Z', 'Z', 'Z', 'Z', 'Z', 'Z', 'Z', 'Z', 'Z', 'D', 'Z']\n",
      "['U', 'Z', 'Z', 'Z', 'Z', 'Z', 'Z', 'Z', 'Z', 'Z', 'Z', 'G']\n"
     ]
    },
    {
     "data": {
      "image/png": "[encoded data removed]",
      "text/plain": [
       "<Figure size 1080x504 with 1 Axes>"
      ]
     },
     "metadata": {
      "needs_background": "light"
     },
     "output_type": "display_data"
    }
   ],
   "source": [
    "figure_6_4()"
   ]
  },
  {
   "cell_type": "code",
   "execution_count": null,
   "metadata": {},
   "outputs": [],
   "source": []
  }
 ],
 "metadata": {
  "kernelspec": {
   "display_name": "Python 3",
   "language": "python",
   "name": "python3"
  },
  "language_info": {
   "codemirror_mode": {
    "name": "ipython",
    "version": 3
   },
   "file_extension": ".py",
   "mimetype": "text/x-python",
   "name": "python",
   "nbconvert_exporter": "python",
   "pygments_lexer": "ipython3",
   "version": "3.6.9"
  }
 },
 "nbformat": 4,
 "nbformat_minor": 2
}
